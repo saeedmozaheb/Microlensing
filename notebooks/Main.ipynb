{
 "cells": [
  {
   "cell_type": "markdown",
   "id": "c569d2dc",
   "metadata": {},
   "source": [
    "##### MAIN CODE"
   ]
  },
  {
   "cell_type": "code",
   "execution_count": null,
   "id": "0295cf0f",
   "metadata": {},
   "outputs": [
    {
     "name": "stderr",
     "output_type": "stream",
     "text": [
      "INFO: Downloading photometry: https://www.astrouw.edu.pl/ogle/ogle3/ews/2002/blg-001/phot.dat\n"
     ]
    },
    {
     "name": "stdout",
     "output_type": "stream",
     "text": [
      "2002 started\n",
      "OGLE 2002 BLG 1 started\n"
     ]
    },
    {
     "name": "stderr",
     "output_type": "stream",
     "text": [
      "INFO: Fetching OGLE guesses: https://ogle.astrouw.edu.pl/ogle3/ews/2002/blg-001.html\n",
      "C:\\Users\\Saeed\\AppData\\Local\\Temp\\ipykernel_14856\\3667917964.py:85: FutureWarning: Passing literal html to 'read_html' is deprecated and will be removed in a future version. To read from a literal string, wrap it in a 'StringIO' object.\n",
      "  dfs = pd.read_html(r.text)\n",
      "WARNING: Too few points to create valid contours\n",
      "WARNING: Too few points to create valid contours\n",
      "WARNING: Too few points to create valid contours\n",
      "WARNING: Too few points to create valid contours\n",
      "WARNING: Too few points to create valid contours\n",
      "WARNING: Too few points to create valid contours\n",
      "WARNING: Too few points to create valid contours\n",
      "WARNING: Too few points to create valid contours\n",
      "WARNING: Too few points to create valid contours\n",
      "WARNING: Too few points to create valid contours\n",
      "INFO: Downloading photometry: https://www.astrouw.edu.pl/ogle/ogle3/ews/2002/blg-002/phot.dat\n"
     ]
    },
    {
     "name": "stdout",
     "output_type": "stream",
     "text": [
      "2002 - 1 done\n",
      "OGLE 2002 BLG 1 Done\n",
      "OGLE 2002 BLG 2 started\n"
     ]
    },
    {
     "name": "stderr",
     "output_type": "stream",
     "text": [
      "INFO: Fetching OGLE guesses: https://ogle.astrouw.edu.pl/ogle3/ews/2002/blg-002.html\n",
      "C:\\Users\\Saeed\\AppData\\Local\\Temp\\ipykernel_14856\\3667917964.py:85: FutureWarning: Passing literal html to 'read_html' is deprecated and will be removed in a future version. To read from a literal string, wrap it in a 'StringIO' object.\n",
      "  dfs = pd.read_html(r.text)\n",
      "INFO: Downloading photometry: https://www.astrouw.edu.pl/ogle/ogle3/ews/2002/blg-003/phot.dat\n"
     ]
    },
    {
     "name": "stdout",
     "output_type": "stream",
     "text": [
      "2002 - 2 done\n",
      "OGLE 2002 BLG 2 Done\n",
      "OGLE 2002 BLG 3 started\n"
     ]
    },
    {
     "name": "stderr",
     "output_type": "stream",
     "text": [
      "INFO: Fetching OGLE guesses: https://ogle.astrouw.edu.pl/ogle3/ews/2002/blg-003.html\n",
      "C:\\Users\\Saeed\\AppData\\Local\\Temp\\ipykernel_14856\\3667917964.py:85: FutureWarning: Passing literal html to 'read_html' is deprecated and will be removed in a future version. To read from a literal string, wrap it in a 'StringIO' object.\n",
      "  dfs = pd.read_html(r.text)\n",
      "WARNING: Too few points to create valid contours\n",
      "WARNING: corner plot failed: [Errno 28] No space left on device\n",
      "INFO: Downloading photometry: https://www.astrouw.edu.pl/ogle/ogle3/ews/2002/blg-004/phot.dat\n"
     ]
    },
    {
     "name": "stdout",
     "output_type": "stream",
     "text": [
      "2002 - 3 done\n",
      "OGLE 2002 BLG 3 Done\n",
      "OGLE 2002 BLG 4 started\n"
     ]
    },
    {
     "name": "stderr",
     "output_type": "stream",
     "text": [
      "INFO: Fetching OGLE guesses: https://ogle.astrouw.edu.pl/ogle3/ews/2002/blg-004.html\n",
      "C:\\Users\\Saeed\\AppData\\Local\\Temp\\ipykernel_14856\\3667917964.py:85: FutureWarning: Passing literal html to 'read_html' is deprecated and will be removed in a future version. To read from a literal string, wrap it in a 'StringIO' object.\n",
      "  dfs = pd.read_html(r.text)\n",
      "WARNING: Too few points to create valid contours\n",
      "INFO: Downloading photometry: https://www.astrouw.edu.pl/ogle/ogle3/ews/2002/blg-005/phot.dat\n"
     ]
    },
    {
     "name": "stdout",
     "output_type": "stream",
     "text": [
      "2002 - 4 done\n",
      "OGLE 2002 BLG 4 Done\n",
      "OGLE 2002 BLG 5 started\n"
     ]
    },
    {
     "name": "stderr",
     "output_type": "stream",
     "text": [
      "INFO: Fetching OGLE guesses: https://ogle.astrouw.edu.pl/ogle3/ews/2002/blg-005.html\n",
      "C:\\Users\\Saeed\\AppData\\Local\\Temp\\ipykernel_14856\\3667917964.py:85: FutureWarning: Passing literal html to 'read_html' is deprecated and will be removed in a future version. To read from a literal string, wrap it in a 'StringIO' object.\n",
      "  dfs = pd.read_html(r.text)\n",
      "INFO: Downloading photometry: https://www.astrouw.edu.pl/ogle/ogle3/ews/2002/blg-001/phot.dat\n"
     ]
    },
    {
     "name": "stdout",
     "output_type": "stream",
     "text": [
      "2002 - 5 done\n",
      "OGLE 2002 BLG 5 Done\n",
      "2002 started\n",
      "OGLE 2002 BLG 1 started\n"
     ]
    },
    {
     "name": "stderr",
     "output_type": "stream",
     "text": [
      "INFO: Fetching OGLE guesses: https://ogle.astrouw.edu.pl/ogle3/ews/2002/blg-001.html\n",
      "C:\\Users\\Saeed\\AppData\\Local\\Temp\\ipykernel_14856\\3667917964.py:85: FutureWarning: Passing literal html to 'read_html' is deprecated and will be removed in a future version. To read from a literal string, wrap it in a 'StringIO' object.\n",
      "  dfs = pd.read_html(r.text)\n",
      "WARNING: Too few points to create valid contours\n",
      "WARNING: Too few points to create valid contours\n",
      "WARNING: Too few points to create valid contours\n",
      "WARNING: Too few points to create valid contours\n",
      "WARNING: Too few points to create valid contours\n",
      "WARNING: Too few points to create valid contours\n",
      "WARNING: Too few points to create valid contours\n",
      "WARNING: Too few points to create valid contours\n",
      "WARNING: Too few points to create valid contours\n",
      "WARNING: Too few points to create valid contours\n",
      "INFO: Downloading photometry: https://www.astrouw.edu.pl/ogle/ogle3/ews/2002/blg-002/phot.dat\n"
     ]
    },
    {
     "name": "stdout",
     "output_type": "stream",
     "text": [
      "2002 - 1 done\n",
      "OGLE 2002 BLG 1 Done\n",
      "OGLE 2002 BLG 2 started\n"
     ]
    },
    {
     "name": "stderr",
     "output_type": "stream",
     "text": [
      "INFO: Fetching OGLE guesses: https://ogle.astrouw.edu.pl/ogle3/ews/2002/blg-002.html\n",
      "C:\\Users\\Saeed\\AppData\\Local\\Temp\\ipykernel_14856\\3667917964.py:85: FutureWarning: Passing literal html to 'read_html' is deprecated and will be removed in a future version. To read from a literal string, wrap it in a 'StringIO' object.\n",
      "  dfs = pd.read_html(r.text)\n",
      "INFO: Downloading photometry: https://www.astrouw.edu.pl/ogle/ogle3/ews/2002/blg-003/phot.dat\n"
     ]
    },
    {
     "name": "stdout",
     "output_type": "stream",
     "text": [
      "2002 - 2 done\n",
      "OGLE 2002 BLG 2 Done\n",
      "OGLE 2002 BLG 3 started\n"
     ]
    },
    {
     "name": "stderr",
     "output_type": "stream",
     "text": [
      "INFO: Fetching OGLE guesses: https://ogle.astrouw.edu.pl/ogle3/ews/2002/blg-003.html\n",
      "C:\\Users\\Saeed\\AppData\\Local\\Temp\\ipykernel_14856\\3667917964.py:85: FutureWarning: Passing literal html to 'read_html' is deprecated and will be removed in a future version. To read from a literal string, wrap it in a 'StringIO' object.\n",
      "  dfs = pd.read_html(r.text)\n",
      "WARNING: Too few points to create valid contours\n",
      "INFO: Downloading photometry: https://www.astrouw.edu.pl/ogle/ogle3/ews/2002/blg-004/phot.dat\n"
     ]
    },
    {
     "name": "stdout",
     "output_type": "stream",
     "text": [
      "2002 - 3 done\n",
      "OGLE 2002 BLG 3 Done\n",
      "OGLE 2002 BLG 4 started\n"
     ]
    },
    {
     "name": "stderr",
     "output_type": "stream",
     "text": [
      "INFO: Fetching OGLE guesses: https://ogle.astrouw.edu.pl/ogle3/ews/2002/blg-004.html\n",
      "C:\\Users\\Saeed\\AppData\\Local\\Temp\\ipykernel_14856\\3667917964.py:85: FutureWarning: Passing literal html to 'read_html' is deprecated and will be removed in a future version. To read from a literal string, wrap it in a 'StringIO' object.\n",
      "  dfs = pd.read_html(r.text)\n",
      "WARNING: Too few points to create valid contours\n",
      "INFO: Downloading photometry: https://www.astrouw.edu.pl/ogle/ogle3/ews/2002/blg-005/phot.dat\n"
     ]
    },
    {
     "name": "stdout",
     "output_type": "stream",
     "text": [
      "2002 - 4 done\n",
      "OGLE 2002 BLG 4 Done\n",
      "OGLE 2002 BLG 5 started\n"
     ]
    },
    {
     "name": "stderr",
     "output_type": "stream",
     "text": [
      "INFO: Fetching OGLE guesses: https://ogle.astrouw.edu.pl/ogle3/ews/2002/blg-005.html\n",
      "C:\\Users\\Saeed\\AppData\\Local\\Temp\\ipykernel_14856\\3667917964.py:85: FutureWarning: Passing literal html to 'read_html' is deprecated and will be removed in a future version. To read from a literal string, wrap it in a 'StringIO' object.\n",
      "  dfs = pd.read_html(r.text)\n",
      "INFO: Downloading photometry: https://www.astrouw.edu.pl/ogle/ogle3/ews/2002/blg-006/phot.dat\n"
     ]
    },
    {
     "name": "stdout",
     "output_type": "stream",
     "text": [
      "2002 - 5 done\n",
      "OGLE 2002 BLG 5 Done\n",
      "OGLE 2002 BLG 6 started\n"
     ]
    },
    {
     "name": "stderr",
     "output_type": "stream",
     "text": [
      "INFO: Fetching OGLE guesses: https://ogle.astrouw.edu.pl/ogle3/ews/2002/blg-006.html\n",
      "C:\\Users\\Saeed\\AppData\\Local\\Temp\\ipykernel_14856\\3667917964.py:85: FutureWarning: Passing literal html to 'read_html' is deprecated and will be removed in a future version. To read from a literal string, wrap it in a 'StringIO' object.\n",
      "  dfs = pd.read_html(r.text)\n",
      "INFO: Downloading photometry: https://www.astrouw.edu.pl/ogle/ogle3/ews/2002/blg-007/phot.dat\n"
     ]
    },
    {
     "name": "stdout",
     "output_type": "stream",
     "text": [
      "2002 - 6 done\n",
      "OGLE 2002 BLG 6 Done\n",
      "OGLE 2002 BLG 7 started\n"
     ]
    },
    {
     "name": "stderr",
     "output_type": "stream",
     "text": [
      "INFO: Fetching OGLE guesses: https://ogle.astrouw.edu.pl/ogle3/ews/2002/blg-007.html\n",
      "C:\\Users\\Saeed\\AppData\\Local\\Temp\\ipykernel_14856\\3667917964.py:85: FutureWarning: Passing literal html to 'read_html' is deprecated and will be removed in a future version. To read from a literal string, wrap it in a 'StringIO' object.\n",
      "  dfs = pd.read_html(r.text)\n",
      "INFO: Downloading photometry: https://www.astrouw.edu.pl/ogle/ogle3/ews/2002/blg-008/phot.dat\n"
     ]
    },
    {
     "name": "stdout",
     "output_type": "stream",
     "text": [
      "2002 - 7 done\n",
      "OGLE 2002 BLG 7 Done\n",
      "OGLE 2002 BLG 8 started\n"
     ]
    },
    {
     "name": "stderr",
     "output_type": "stream",
     "text": [
      "INFO: Fetching OGLE guesses: https://ogle.astrouw.edu.pl/ogle3/ews/2002/blg-008.html\n",
      "C:\\Users\\Saeed\\AppData\\Local\\Temp\\ipykernel_14856\\3667917964.py:85: FutureWarning: Passing literal html to 'read_html' is deprecated and will be removed in a future version. To read from a literal string, wrap it in a 'StringIO' object.\n",
      "  dfs = pd.read_html(r.text)\n",
      "WARNING: Too few points to create valid contours\n",
      "WARNING: Too few points to create valid contours\n",
      "WARNING: Too few points to create valid contours\n",
      "WARNING: Too few points to create valid contours\n",
      "WARNING: Too few points to create valid contours\n",
      "WARNING: Too few points to create valid contours\n",
      "WARNING: Too few points to create valid contours\n",
      "WARNING: Too few points to create valid contours\n",
      "WARNING: Too few points to create valid contours\n",
      "WARNING: Too few points to create valid contours\n",
      "INFO: Downloading photometry: https://www.astrouw.edu.pl/ogle/ogle3/ews/2002/blg-009/phot.dat\n"
     ]
    },
    {
     "name": "stdout",
     "output_type": "stream",
     "text": [
      "2002 - 8 done\n",
      "OGLE 2002 BLG 8 Done\n",
      "OGLE 2002 BLG 9 started\n"
     ]
    },
    {
     "name": "stderr",
     "output_type": "stream",
     "text": [
      "INFO: Fetching OGLE guesses: https://ogle.astrouw.edu.pl/ogle3/ews/2002/blg-009.html\n",
      "C:\\Users\\Saeed\\AppData\\Local\\Temp\\ipykernel_14856\\3667917964.py:85: FutureWarning: Passing literal html to 'read_html' is deprecated and will be removed in a future version. To read from a literal string, wrap it in a 'StringIO' object.\n",
      "  dfs = pd.read_html(r.text)\n",
      "WARNING: Too few points to create valid contours\n",
      "WARNING: Too few points to create valid contours\n",
      "WARNING: Too few points to create valid contours\n",
      "INFO: Downloading photometry: https://www.astrouw.edu.pl/ogle/ogle3/ews/2002/blg-010/phot.dat\n"
     ]
    },
    {
     "name": "stdout",
     "output_type": "stream",
     "text": [
      "2002 - 9 done\n",
      "OGLE 2002 BLG 9 Done\n",
      "OGLE 2002 BLG 10 started\n"
     ]
    },
    {
     "name": "stderr",
     "output_type": "stream",
     "text": [
      "INFO: Fetching OGLE guesses: https://ogle.astrouw.edu.pl/ogle3/ews/2002/blg-010.html\n",
      "C:\\Users\\Saeed\\AppData\\Local\\Temp\\ipykernel_14856\\3667917964.py:85: FutureWarning: Passing literal html to 'read_html' is deprecated and will be removed in a future version. To read from a literal string, wrap it in a 'StringIO' object.\n",
      "  dfs = pd.read_html(r.text)\n",
      "WARNING: Too few points to create valid contours\n",
      "WARNING: Too few points to create valid contours\n",
      "WARNING: Too few points to create valid contours\n",
      "WARNING: Too few points to create valid contours\n",
      "WARNING: Too few points to create valid contours\n",
      "WARNING: Too few points to create valid contours\n",
      "WARNING: Too few points to create valid contours\n",
      "WARNING: Too few points to create valid contours\n",
      "INFO: Downloading photometry: https://www.astrouw.edu.pl/ogle/ogle3/ews/2002/blg-011/phot.dat\n"
     ]
    },
    {
     "name": "stdout",
     "output_type": "stream",
     "text": [
      "2002 - 10 done\n",
      "OGLE 2002 BLG 10 Done\n",
      "OGLE 2002 BLG 11 started\n"
     ]
    },
    {
     "name": "stderr",
     "output_type": "stream",
     "text": [
      "INFO: Fetching OGLE guesses: https://ogle.astrouw.edu.pl/ogle3/ews/2002/blg-011.html\n",
      "C:\\Users\\Saeed\\AppData\\Local\\Temp\\ipykernel_14856\\3667917964.py:85: FutureWarning: Passing literal html to 'read_html' is deprecated and will be removed in a future version. To read from a literal string, wrap it in a 'StringIO' object.\n",
      "  dfs = pd.read_html(r.text)\n",
      "INFO: Downloading photometry: https://www.astrouw.edu.pl/ogle/ogle3/ews/2002/blg-012/phot.dat\n"
     ]
    },
    {
     "name": "stdout",
     "output_type": "stream",
     "text": [
      "2002 - 11 done\n",
      "OGLE 2002 BLG 11 Done\n",
      "OGLE 2002 BLG 12 started\n"
     ]
    },
    {
     "name": "stderr",
     "output_type": "stream",
     "text": [
      "INFO: Fetching OGLE guesses: https://ogle.astrouw.edu.pl/ogle3/ews/2002/blg-012.html\n",
      "C:\\Users\\Saeed\\AppData\\Local\\Temp\\ipykernel_14856\\3667917964.py:85: FutureWarning: Passing literal html to 'read_html' is deprecated and will be removed in a future version. To read from a literal string, wrap it in a 'StringIO' object.\n",
      "  dfs = pd.read_html(r.text)\n",
      "INFO: Downloading photometry: https://www.astrouw.edu.pl/ogle/ogle3/ews/2002/blg-013/phot.dat\n"
     ]
    },
    {
     "name": "stdout",
     "output_type": "stream",
     "text": [
      "2002 - 12 done\n",
      "OGLE 2002 BLG 12 Done\n",
      "OGLE 2002 BLG 13 started\n"
     ]
    },
    {
     "name": "stderr",
     "output_type": "stream",
     "text": [
      "INFO: Fetching OGLE guesses: https://ogle.astrouw.edu.pl/ogle3/ews/2002/blg-013.html\n",
      "C:\\Users\\Saeed\\AppData\\Local\\Temp\\ipykernel_14856\\3667917964.py:85: FutureWarning: Passing literal html to 'read_html' is deprecated and will be removed in a future version. To read from a literal string, wrap it in a 'StringIO' object.\n",
      "  dfs = pd.read_html(r.text)\n",
      "WARNING: Too few points to create valid contours\n",
      "WARNING: Too few points to create valid contours\n",
      "WARNING: Too few points to create valid contours\n",
      "WARNING: Too few points to create valid contours\n",
      "WARNING: Too few points to create valid contours\n",
      "WARNING: Too few points to create valid contours\n",
      "WARNING: Too few points to create valid contours\n",
      "WARNING: Too few points to create valid contours\n",
      "INFO: Downloading photometry: https://www.astrouw.edu.pl/ogle/ogle3/ews/2002/blg-014/phot.dat\n"
     ]
    },
    {
     "name": "stdout",
     "output_type": "stream",
     "text": [
      "2002 - 13 done\n",
      "OGLE 2002 BLG 13 Done\n",
      "OGLE 2002 BLG 14 started\n"
     ]
    },
    {
     "name": "stderr",
     "output_type": "stream",
     "text": [
      "INFO: Fetching OGLE guesses: https://ogle.astrouw.edu.pl/ogle3/ews/2002/blg-014.html\n",
      "C:\\Users\\Saeed\\AppData\\Local\\Temp\\ipykernel_14856\\3667917964.py:85: FutureWarning: Passing literal html to 'read_html' is deprecated and will be removed in a future version. To read from a literal string, wrap it in a 'StringIO' object.\n",
      "  dfs = pd.read_html(r.text)\n",
      "WARNING: Too few points to create valid contours\n",
      "WARNING: Too few points to create valid contours\n",
      "INFO: Downloading photometry: https://www.astrouw.edu.pl/ogle/ogle3/ews/2002/blg-015/phot.dat\n"
     ]
    },
    {
     "name": "stdout",
     "output_type": "stream",
     "text": [
      "2002 - 14 done\n",
      "OGLE 2002 BLG 14 Done\n",
      "OGLE 2002 BLG 15 started\n"
     ]
    },
    {
     "name": "stderr",
     "output_type": "stream",
     "text": [
      "INFO: Fetching OGLE guesses: https://ogle.astrouw.edu.pl/ogle3/ews/2002/blg-015.html\n",
      "C:\\Users\\Saeed\\AppData\\Local\\Temp\\ipykernel_14856\\3667917964.py:85: FutureWarning: Passing literal html to 'read_html' is deprecated and will be removed in a future version. To read from a literal string, wrap it in a 'StringIO' object.\n",
      "  dfs = pd.read_html(r.text)\n",
      "WARNING: Too few points to create valid contours\n",
      "WARNING: Too few points to create valid contours\n",
      "WARNING: corner plot failed: [Errno 28] No space left on device\n",
      "INFO: Downloading photometry: https://www.astrouw.edu.pl/ogle/ogle3/ews/2002/blg-016/phot.dat\n"
     ]
    },
    {
     "name": "stdout",
     "output_type": "stream",
     "text": [
      "2002 - 15 done\n",
      "OGLE 2002 BLG 15 Done\n",
      "OGLE 2002 BLG 16 started\n"
     ]
    },
    {
     "name": "stderr",
     "output_type": "stream",
     "text": [
      "INFO: Fetching OGLE guesses: https://ogle.astrouw.edu.pl/ogle3/ews/2002/blg-016.html\n",
      "C:\\Users\\Saeed\\AppData\\Local\\Temp\\ipykernel_14856\\3667917964.py:85: FutureWarning: Passing literal html to 'read_html' is deprecated and will be removed in a future version. To read from a literal string, wrap it in a 'StringIO' object.\n",
      "  dfs = pd.read_html(r.text)\n",
      "WARNING: Too few points to create valid contours\n",
      "WARNING: Too few points to create valid contours\n",
      "WARNING: Too few points to create valid contours\n",
      "WARNING: Too few points to create valid contours\n",
      "WARNING: Too few points to create valid contours\n",
      "WARNING: Too few points to create valid contours\n",
      "WARNING: Too few points to create valid contours\n",
      "WARNING: Too few points to create valid contours\n",
      "WARNING: Too few points to create valid contours\n",
      "WARNING: Too few points to create valid contours\n",
      "WARNING: corner plot failed: [Errno 28] No space left on device\n",
      "INFO: Downloading photometry: https://www.astrouw.edu.pl/ogle/ogle3/ews/2002/blg-017/phot.dat\n"
     ]
    },
    {
     "name": "stdout",
     "output_type": "stream",
     "text": [
      "2002 - 16 done\n",
      "OGLE 2002 BLG 16 Done\n",
      "OGLE 2002 BLG 17 started\n"
     ]
    },
    {
     "name": "stderr",
     "output_type": "stream",
     "text": [
      "INFO: Fetching OGLE guesses: https://ogle.astrouw.edu.pl/ogle3/ews/2002/blg-017.html\n",
      "C:\\Users\\Saeed\\AppData\\Local\\Temp\\ipykernel_14856\\3667917964.py:85: FutureWarning: Passing literal html to 'read_html' is deprecated and will be removed in a future version. To read from a literal string, wrap it in a 'StringIO' object.\n",
      "  dfs = pd.read_html(r.text)\n",
      "WARNING: Too few points to create valid contours\n",
      "WARNING: Too few points to create valid contours\n",
      "INFO: Downloading photometry: https://www.astrouw.edu.pl/ogle/ogle3/ews/2002/blg-018/phot.dat\n"
     ]
    },
    {
     "name": "stdout",
     "output_type": "stream",
     "text": [
      "2002 - 17 done\n",
      "OGLE 2002 BLG 17 Done\n",
      "OGLE 2002 BLG 18 started\n"
     ]
    },
    {
     "name": "stderr",
     "output_type": "stream",
     "text": [
      "INFO: Fetching OGLE guesses: https://ogle.astrouw.edu.pl/ogle3/ews/2002/blg-018.html\n",
      "C:\\Users\\Saeed\\AppData\\Local\\Temp\\ipykernel_14856\\3667917964.py:85: FutureWarning: Passing literal html to 'read_html' is deprecated and will be removed in a future version. To read from a literal string, wrap it in a 'StringIO' object.\n",
      "  dfs = pd.read_html(r.text)\n",
      "WARNING: Too few points to create valid contours\n",
      "INFO: Downloading photometry: https://www.astrouw.edu.pl/ogle/ogle3/ews/2002/blg-019/phot.dat\n"
     ]
    },
    {
     "name": "stdout",
     "output_type": "stream",
     "text": [
      "2002 - 18 done\n",
      "OGLE 2002 BLG 18 Done\n",
      "OGLE 2002 BLG 19 started\n"
     ]
    },
    {
     "name": "stderr",
     "output_type": "stream",
     "text": [
      "INFO: Fetching OGLE guesses: https://ogle.astrouw.edu.pl/ogle3/ews/2002/blg-019.html\n",
      "C:\\Users\\Saeed\\AppData\\Local\\Temp\\ipykernel_14856\\3667917964.py:85: FutureWarning: Passing literal html to 'read_html' is deprecated and will be removed in a future version. To read from a literal string, wrap it in a 'StringIO' object.\n",
      "  dfs = pd.read_html(r.text)\n",
      "INFO: Downloading photometry: https://www.astrouw.edu.pl/ogle/ogle3/ews/2002/blg-020/phot.dat\n"
     ]
    },
    {
     "name": "stdout",
     "output_type": "stream",
     "text": [
      "2002 - 19 done\n",
      "OGLE 2002 BLG 19 Done\n",
      "OGLE 2002 BLG 20 started\n"
     ]
    },
    {
     "name": "stderr",
     "output_type": "stream",
     "text": [
      "INFO: Fetching OGLE guesses: https://ogle.astrouw.edu.pl/ogle3/ews/2002/blg-020.html\n",
      "C:\\Users\\Saeed\\AppData\\Local\\Temp\\ipykernel_14856\\3667917964.py:85: FutureWarning: Passing literal html to 'read_html' is deprecated and will be removed in a future version. To read from a literal string, wrap it in a 'StringIO' object.\n",
      "  dfs = pd.read_html(r.text)\n",
      "WARNING: Too few points to create valid contours\n",
      "INFO: Downloading photometry: https://www.astrouw.edu.pl/ogle/ogle3/ews/2002/blg-021/phot.dat\n"
     ]
    },
    {
     "name": "stdout",
     "output_type": "stream",
     "text": [
      "2002 - 20 done\n",
      "OGLE 2002 BLG 20 Done\n",
      "OGLE 2002 BLG 21 started\n"
     ]
    },
    {
     "name": "stderr",
     "output_type": "stream",
     "text": [
      "INFO: Fetching OGLE guesses: https://ogle.astrouw.edu.pl/ogle3/ews/2002/blg-021.html\n",
      "C:\\Users\\Saeed\\AppData\\Local\\Temp\\ipykernel_14856\\3667917964.py:85: FutureWarning: Passing literal html to 'read_html' is deprecated and will be removed in a future version. To read from a literal string, wrap it in a 'StringIO' object.\n",
      "  dfs = pd.read_html(r.text)\n",
      "WARNING: Too few points to create valid contours\n",
      "WARNING: Too few points to create valid contours\n",
      "WARNING: Too few points to create valid contours\n",
      "WARNING: Too few points to create valid contours\n",
      "WARNING: Too few points to create valid contours\n",
      "WARNING: Too few points to create valid contours\n",
      "WARNING: Too few points to create valid contours\n",
      "WARNING: Too few points to create valid contours\n",
      "WARNING: Too few points to create valid contours\n",
      "WARNING: Too few points to create valid contours\n",
      "INFO: Downloading photometry: https://www.astrouw.edu.pl/ogle/ogle3/ews/2002/blg-022/phot.dat\n"
     ]
    },
    {
     "name": "stdout",
     "output_type": "stream",
     "text": [
      "2002 - 21 done\n",
      "OGLE 2002 BLG 21 Done\n",
      "OGLE 2002 BLG 22 started\n"
     ]
    },
    {
     "name": "stderr",
     "output_type": "stream",
     "text": [
      "INFO: Fetching OGLE guesses: https://ogle.astrouw.edu.pl/ogle3/ews/2002/blg-022.html\n",
      "C:\\Users\\Saeed\\AppData\\Local\\Temp\\ipykernel_14856\\3667917964.py:85: FutureWarning: Passing literal html to 'read_html' is deprecated and will be removed in a future version. To read from a literal string, wrap it in a 'StringIO' object.\n",
      "  dfs = pd.read_html(r.text)\n",
      "WARNING: Too few points to create valid contours\n",
      "WARNING: Too few points to create valid contours\n",
      "WARNING: Too few points to create valid contours\n",
      "INFO: Downloading photometry: https://www.astrouw.edu.pl/ogle/ogle3/ews/2002/blg-023/phot.dat\n"
     ]
    },
    {
     "name": "stdout",
     "output_type": "stream",
     "text": [
      "2002 - 22 done\n",
      "OGLE 2002 BLG 22 Done\n",
      "OGLE 2002 BLG 23 started\n"
     ]
    },
    {
     "name": "stderr",
     "output_type": "stream",
     "text": [
      "INFO: Fetching OGLE guesses: https://ogle.astrouw.edu.pl/ogle3/ews/2002/blg-023.html\n",
      "C:\\Users\\Saeed\\AppData\\Local\\Temp\\ipykernel_14856\\3667917964.py:85: FutureWarning: Passing literal html to 'read_html' is deprecated and will be removed in a future version. To read from a literal string, wrap it in a 'StringIO' object.\n",
      "  dfs = pd.read_html(r.text)\n",
      "WARNING: Parsed HTML but couldn't extract expected cells: could not convert string to float: '-'\n",
      "INFO: Downloading photometry: https://www.astrouw.edu.pl/ogle/ogle3/ews/2002/blg-024/phot.dat\n"
     ]
    },
    {
     "name": "stdout",
     "output_type": "stream",
     "text": [
      "2002 - 23 done\n",
      "OGLE 2002 BLG 23 Done\n",
      "OGLE 2002 BLG 24 started\n"
     ]
    },
    {
     "name": "stderr",
     "output_type": "stream",
     "text": [
      "INFO: Fetching OGLE guesses: https://ogle.astrouw.edu.pl/ogle3/ews/2002/blg-024.html\n",
      "C:\\Users\\Saeed\\AppData\\Local\\Temp\\ipykernel_14856\\3667917964.py:85: FutureWarning: Passing literal html to 'read_html' is deprecated and will be removed in a future version. To read from a literal string, wrap it in a 'StringIO' object.\n",
      "  dfs = pd.read_html(r.text)\n",
      "WARNING: Too few points to create valid contours\n",
      "WARNING: Too few points to create valid contours\n",
      "WARNING: Too few points to create valid contours\n",
      "WARNING: Too few points to create valid contours\n",
      "WARNING: Too few points to create valid contours\n",
      "WARNING: Too few points to create valid contours\n",
      "INFO: Downloading photometry: https://www.astrouw.edu.pl/ogle/ogle3/ews/2002/blg-025/phot.dat\n"
     ]
    },
    {
     "name": "stdout",
     "output_type": "stream",
     "text": [
      "2002 - 24 done\n",
      "OGLE 2002 BLG 24 Done\n",
      "OGLE 2002 BLG 25 started\n"
     ]
    },
    {
     "name": "stderr",
     "output_type": "stream",
     "text": [
      "INFO: Fetching OGLE guesses: https://ogle.astrouw.edu.pl/ogle3/ews/2002/blg-025.html\n",
      "C:\\Users\\Saeed\\AppData\\Local\\Temp\\ipykernel_14856\\3667917964.py:85: FutureWarning: Passing literal html to 'read_html' is deprecated and will be removed in a future version. To read from a literal string, wrap it in a 'StringIO' object.\n",
      "  dfs = pd.read_html(r.text)\n",
      "WARNING: Too few points to create valid contours\n",
      "WARNING: Too few points to create valid contours\n",
      "WARNING: Too few points to create valid contours\n",
      "WARNING: Too few points to create valid contours\n",
      "WARNING: Too few points to create valid contours\n",
      "WARNING: Too few points to create valid contours\n",
      "WARNING: Too few points to create valid contours\n",
      "WARNING: Too few points to create valid contours\n",
      "WARNING: Too few points to create valid contours\n",
      "WARNING: Too few points to create valid contours\n",
      "INFO: Downloading photometry: https://www.astrouw.edu.pl/ogle/ogle3/ews/2002/blg-026/phot.dat\n"
     ]
    },
    {
     "name": "stdout",
     "output_type": "stream",
     "text": [
      "2002 - 25 done\n",
      "OGLE 2002 BLG 25 Done\n",
      "OGLE 2002 BLG 26 started\n"
     ]
    },
    {
     "name": "stderr",
     "output_type": "stream",
     "text": [
      "INFO: Fetching OGLE guesses: https://ogle.astrouw.edu.pl/ogle3/ews/2002/blg-026.html\n",
      "C:\\Users\\Saeed\\AppData\\Local\\Temp\\ipykernel_14856\\3667917964.py:85: FutureWarning: Passing literal html to 'read_html' is deprecated and will be removed in a future version. To read from a literal string, wrap it in a 'StringIO' object.\n",
      "  dfs = pd.read_html(r.text)\n",
      "WARNING: Too few points to create valid contours\n",
      "WARNING: Too few points to create valid contours\n",
      "WARNING: Too few points to create valid contours\n",
      "WARNING: Too few points to create valid contours\n",
      "WARNING: Too few points to create valid contours\n",
      "WARNING: Too few points to create valid contours\n",
      "WARNING: Too few points to create valid contours\n",
      "WARNING: Too few points to create valid contours\n",
      "WARNING: Too few points to create valid contours\n",
      "WARNING: Too few points to create valid contours\n",
      "INFO: Downloading photometry: https://www.astrouw.edu.pl/ogle/ogle3/ews/2002/blg-027/phot.dat\n"
     ]
    },
    {
     "name": "stdout",
     "output_type": "stream",
     "text": [
      "2002 - 26 done\n",
      "OGLE 2002 BLG 26 Done\n",
      "OGLE 2002 BLG 27 started\n"
     ]
    },
    {
     "name": "stderr",
     "output_type": "stream",
     "text": [
      "INFO: Fetching OGLE guesses: https://ogle.astrouw.edu.pl/ogle3/ews/2002/blg-027.html\n",
      "C:\\Users\\Saeed\\AppData\\Local\\Temp\\ipykernel_14856\\3667917964.py:85: FutureWarning: Passing literal html to 'read_html' is deprecated and will be removed in a future version. To read from a literal string, wrap it in a 'StringIO' object.\n",
      "  dfs = pd.read_html(r.text)\n",
      "WARNING: Too few points to create valid contours\n",
      "WARNING: Too few points to create valid contours\n",
      "WARNING: Too few points to create valid contours\n",
      "WARNING: Too few points to create valid contours\n",
      "WARNING: Too few points to create valid contours\n",
      "WARNING: Too few points to create valid contours\n",
      "WARNING: Too few points to create valid contours\n",
      "WARNING: Too few points to create valid contours\n",
      "WARNING: Too few points to create valid contours\n",
      "INFO: Downloading photometry: https://www.astrouw.edu.pl/ogle/ogle3/ews/2002/blg-028/phot.dat\n"
     ]
    },
    {
     "name": "stdout",
     "output_type": "stream",
     "text": [
      "2002 - 27 done\n",
      "OGLE 2002 BLG 27 Done\n",
      "OGLE 2002 BLG 28 started\n"
     ]
    },
    {
     "name": "stderr",
     "output_type": "stream",
     "text": [
      "INFO: Fetching OGLE guesses: https://ogle.astrouw.edu.pl/ogle3/ews/2002/blg-028.html\n",
      "C:\\Users\\Saeed\\AppData\\Local\\Temp\\ipykernel_14856\\3667917964.py:85: FutureWarning: Passing literal html to 'read_html' is deprecated and will be removed in a future version. To read from a literal string, wrap it in a 'StringIO' object.\n",
      "  dfs = pd.read_html(r.text)\n",
      "WARNING: Too few points to create valid contours\n",
      "WARNING: Too few points to create valid contours\n",
      "WARNING: Too few points to create valid contours\n",
      "WARNING: Too few points to create valid contours\n",
      "WARNING: Too few points to create valid contours\n",
      "WARNING: Too few points to create valid contours\n",
      "WARNING: Too few points to create valid contours\n",
      "WARNING: Too few points to create valid contours\n",
      "WARNING: Too few points to create valid contours\n",
      "WARNING: Too few points to create valid contours\n",
      "INFO: Downloading photometry: https://www.astrouw.edu.pl/ogle/ogle3/ews/2002/blg-029/phot.dat\n"
     ]
    },
    {
     "name": "stdout",
     "output_type": "stream",
     "text": [
      "2002 - 28 done\n",
      "OGLE 2002 BLG 28 Done\n",
      "OGLE 2002 BLG 29 started\n"
     ]
    },
    {
     "name": "stderr",
     "output_type": "stream",
     "text": [
      "INFO: Fetching OGLE guesses: https://ogle.astrouw.edu.pl/ogle3/ews/2002/blg-029.html\n",
      "C:\\Users\\Saeed\\AppData\\Local\\Temp\\ipykernel_14856\\3667917964.py:85: FutureWarning: Passing literal html to 'read_html' is deprecated and will be removed in a future version. To read from a literal string, wrap it in a 'StringIO' object.\n",
      "  dfs = pd.read_html(r.text)\n",
      "WARNING: Too few points to create valid contours\n",
      "WARNING: Too few points to create valid contours\n",
      "WARNING: Too few points to create valid contours\n",
      "WARNING: Too few points to create valid contours\n",
      "WARNING: Too few points to create valid contours\n",
      "WARNING: Too few points to create valid contours\n",
      "WARNING: Too few points to create valid contours\n",
      "WARNING: Too few points to create valid contours\n",
      "WARNING: Too few points to create valid contours\n",
      "WARNING: Too few points to create valid contours\n",
      "INFO: Downloading photometry: https://www.astrouw.edu.pl/ogle/ogle3/ews/2002/blg-030/phot.dat\n"
     ]
    },
    {
     "name": "stdout",
     "output_type": "stream",
     "text": [
      "2002 - 29 done\n",
      "OGLE 2002 BLG 29 Done\n",
      "OGLE 2002 BLG 30 started\n"
     ]
    },
    {
     "name": "stderr",
     "output_type": "stream",
     "text": [
      "INFO: Fetching OGLE guesses: https://ogle.astrouw.edu.pl/ogle3/ews/2002/blg-030.html\n",
      "C:\\Users\\Saeed\\AppData\\Local\\Temp\\ipykernel_14856\\3667917964.py:85: FutureWarning: Passing literal html to 'read_html' is deprecated and will be removed in a future version. To read from a literal string, wrap it in a 'StringIO' object.\n",
      "  dfs = pd.read_html(r.text)\n",
      "WARNING: Too few points to create valid contours\n",
      "WARNING: Too few points to create valid contours\n",
      "WARNING: Too few points to create valid contours\n",
      "WARNING: Too few points to create valid contours\n",
      "INFO: Downloading photometry: https://www.astrouw.edu.pl/ogle/ogle3/ews/2002/blg-031/phot.dat\n"
     ]
    },
    {
     "name": "stdout",
     "output_type": "stream",
     "text": [
      "2002 - 30 done\n",
      "OGLE 2002 BLG 30 Done\n",
      "OGLE 2002 BLG 31 started\n"
     ]
    },
    {
     "name": "stderr",
     "output_type": "stream",
     "text": [
      "INFO: Fetching OGLE guesses: https://ogle.astrouw.edu.pl/ogle3/ews/2002/blg-031.html\n",
      "C:\\Users\\Saeed\\AppData\\Local\\Temp\\ipykernel_14856\\3667917964.py:85: FutureWarning: Passing literal html to 'read_html' is deprecated and will be removed in a future version. To read from a literal string, wrap it in a 'StringIO' object.\n",
      "  dfs = pd.read_html(r.text)\n",
      "INFO: Downloading photometry: https://www.astrouw.edu.pl/ogle/ogle3/ews/2002/blg-032/phot.dat\n"
     ]
    },
    {
     "name": "stdout",
     "output_type": "stream",
     "text": [
      "2002 - 31 done\n",
      "OGLE 2002 BLG 31 Done\n",
      "OGLE 2002 BLG 32 started\n"
     ]
    },
    {
     "name": "stderr",
     "output_type": "stream",
     "text": [
      "INFO: Fetching OGLE guesses: https://ogle.astrouw.edu.pl/ogle3/ews/2002/blg-032.html\n",
      "C:\\Users\\Saeed\\AppData\\Local\\Temp\\ipykernel_14856\\3667917964.py:85: FutureWarning: Passing literal html to 'read_html' is deprecated and will be removed in a future version. To read from a literal string, wrap it in a 'StringIO' object.\n",
      "  dfs = pd.read_html(r.text)\n",
      "INFO: Downloading photometry: https://www.astrouw.edu.pl/ogle/ogle3/ews/2002/blg-033/phot.dat\n"
     ]
    },
    {
     "name": "stdout",
     "output_type": "stream",
     "text": [
      "2002 - 32 done\n",
      "OGLE 2002 BLG 32 Done\n",
      "OGLE 2002 BLG 33 started\n"
     ]
    },
    {
     "name": "stderr",
     "output_type": "stream",
     "text": [
      "INFO: Fetching OGLE guesses: https://ogle.astrouw.edu.pl/ogle3/ews/2002/blg-033.html\n",
      "C:\\Users\\Saeed\\AppData\\Local\\Temp\\ipykernel_14856\\3667917964.py:85: FutureWarning: Passing literal html to 'read_html' is deprecated and will be removed in a future version. To read from a literal string, wrap it in a 'StringIO' object.\n",
      "  dfs = pd.read_html(r.text)\n",
      "WARNING: Too few points to create valid contours\n",
      "WARNING: Too few points to create valid contours\n",
      "WARNING: Too few points to create valid contours\n",
      "WARNING: Too few points to create valid contours\n",
      "WARNING: Too few points to create valid contours\n",
      "WARNING: Too few points to create valid contours\n",
      "WARNING: Too few points to create valid contours\n",
      "WARNING: Too few points to create valid contours\n",
      "WARNING: Too few points to create valid contours\n",
      "WARNING: Too few points to create valid contours\n",
      "INFO: Downloading photometry: https://www.astrouw.edu.pl/ogle/ogle3/ews/2002/blg-034/phot.dat\n"
     ]
    },
    {
     "name": "stdout",
     "output_type": "stream",
     "text": [
      "2002 - 33 done\n",
      "OGLE 2002 BLG 33 Done\n",
      "OGLE 2002 BLG 34 started\n"
     ]
    },
    {
     "name": "stderr",
     "output_type": "stream",
     "text": [
      "INFO: Fetching OGLE guesses: https://ogle.astrouw.edu.pl/ogle3/ews/2002/blg-034.html\n",
      "C:\\Users\\Saeed\\AppData\\Local\\Temp\\ipykernel_14856\\3667917964.py:85: FutureWarning: Passing literal html to 'read_html' is deprecated and will be removed in a future version. To read from a literal string, wrap it in a 'StringIO' object.\n",
      "  dfs = pd.read_html(r.text)\n",
      "INFO: Downloading photometry: https://www.astrouw.edu.pl/ogle/ogle3/ews/2002/blg-035/phot.dat\n"
     ]
    },
    {
     "name": "stdout",
     "output_type": "stream",
     "text": [
      "2002 - 34 done\n",
      "OGLE 2002 BLG 34 Done\n",
      "OGLE 2002 BLG 35 started\n"
     ]
    },
    {
     "name": "stderr",
     "output_type": "stream",
     "text": [
      "INFO: Fetching OGLE guesses: https://ogle.astrouw.edu.pl/ogle3/ews/2002/blg-035.html\n",
      "C:\\Users\\Saeed\\AppData\\Local\\Temp\\ipykernel_14856\\3667917964.py:85: FutureWarning: Passing literal html to 'read_html' is deprecated and will be removed in a future version. To read from a literal string, wrap it in a 'StringIO' object.\n",
      "  dfs = pd.read_html(r.text)\n",
      "WARNING: Too few points to create valid contours\n",
      "WARNING: Too few points to create valid contours\n",
      "WARNING: Too few points to create valid contours\n",
      "WARNING: Too few points to create valid contours\n",
      "WARNING: Too few points to create valid contours\n",
      "WARNING: Too few points to create valid contours\n",
      "WARNING: Too few points to create valid contours\n",
      "WARNING: Too few points to create valid contours\n",
      "WARNING: Too few points to create valid contours\n",
      "WARNING: Too few points to create valid contours\n",
      "INFO: Downloading photometry: https://www.astrouw.edu.pl/ogle/ogle3/ews/2002/blg-036/phot.dat\n"
     ]
    },
    {
     "name": "stdout",
     "output_type": "stream",
     "text": [
      "2002 - 35 done\n",
      "OGLE 2002 BLG 35 Done\n",
      "OGLE 2002 BLG 36 started\n"
     ]
    },
    {
     "name": "stderr",
     "output_type": "stream",
     "text": [
      "INFO: Fetching OGLE guesses: https://ogle.astrouw.edu.pl/ogle3/ews/2002/blg-036.html\n",
      "C:\\Users\\Saeed\\AppData\\Local\\Temp\\ipykernel_14856\\3667917964.py:85: FutureWarning: Passing literal html to 'read_html' is deprecated and will be removed in a future version. To read from a literal string, wrap it in a 'StringIO' object.\n",
      "  dfs = pd.read_html(r.text)\n",
      "WARNING: Too few points to create valid contours\n",
      "INFO: Downloading photometry: https://www.astrouw.edu.pl/ogle/ogle3/ews/2002/blg-037/phot.dat\n"
     ]
    },
    {
     "name": "stdout",
     "output_type": "stream",
     "text": [
      "2002 - 36 done\n",
      "OGLE 2002 BLG 36 Done\n",
      "OGLE 2002 BLG 37 started\n"
     ]
    },
    {
     "name": "stderr",
     "output_type": "stream",
     "text": [
      "INFO: Fetching OGLE guesses: https://ogle.astrouw.edu.pl/ogle3/ews/2002/blg-037.html\n",
      "C:\\Users\\Saeed\\AppData\\Local\\Temp\\ipykernel_14856\\3667917964.py:85: FutureWarning: Passing literal html to 'read_html' is deprecated and will be removed in a future version. To read from a literal string, wrap it in a 'StringIO' object.\n",
      "  dfs = pd.read_html(r.text)\n",
      "WARNING: Too few points to create valid contours\n",
      "WARNING: Too few points to create valid contours\n",
      "WARNING: Too few points to create valid contours\n",
      "WARNING: Too few points to create valid contours\n",
      "WARNING: Too few points to create valid contours\n",
      "WARNING: Too few points to create valid contours\n",
      "INFO: Downloading photometry: https://www.astrouw.edu.pl/ogle/ogle3/ews/2002/blg-038/phot.dat\n"
     ]
    },
    {
     "name": "stdout",
     "output_type": "stream",
     "text": [
      "2002 - 37 done\n",
      "OGLE 2002 BLG 37 Done\n",
      "OGLE 2002 BLG 38 started\n"
     ]
    },
    {
     "name": "stderr",
     "output_type": "stream",
     "text": [
      "INFO: Fetching OGLE guesses: https://ogle.astrouw.edu.pl/ogle3/ews/2002/blg-038.html\n",
      "C:\\Users\\Saeed\\AppData\\Local\\Temp\\ipykernel_14856\\3667917964.py:85: FutureWarning: Passing literal html to 'read_html' is deprecated and will be removed in a future version. To read from a literal string, wrap it in a 'StringIO' object.\n",
      "  dfs = pd.read_html(r.text)\n",
      "INFO: Downloading photometry: https://www.astrouw.edu.pl/ogle/ogle3/ews/2002/blg-039/phot.dat\n"
     ]
    },
    {
     "name": "stdout",
     "output_type": "stream",
     "text": [
      "2002 - 38 done\n",
      "OGLE 2002 BLG 38 Done\n",
      "OGLE 2002 BLG 39 started\n"
     ]
    },
    {
     "name": "stderr",
     "output_type": "stream",
     "text": [
      "INFO: Fetching OGLE guesses: https://ogle.astrouw.edu.pl/ogle3/ews/2002/blg-039.html\n",
      "C:\\Users\\Saeed\\AppData\\Local\\Temp\\ipykernel_14856\\3667917964.py:85: FutureWarning: Passing literal html to 'read_html' is deprecated and will be removed in a future version. To read from a literal string, wrap it in a 'StringIO' object.\n",
      "  dfs = pd.read_html(r.text)\n",
      "INFO: Downloading photometry: https://www.astrouw.edu.pl/ogle/ogle3/ews/2002/blg-040/phot.dat\n"
     ]
    },
    {
     "name": "stdout",
     "output_type": "stream",
     "text": [
      "2002 - 39 done\n",
      "OGLE 2002 BLG 39 Done\n",
      "OGLE 2002 BLG 40 started\n"
     ]
    },
    {
     "name": "stderr",
     "output_type": "stream",
     "text": [
      "INFO: Fetching OGLE guesses: https://ogle.astrouw.edu.pl/ogle3/ews/2002/blg-040.html\n",
      "C:\\Users\\Saeed\\AppData\\Local\\Temp\\ipykernel_14856\\3667917964.py:85: FutureWarning: Passing literal html to 'read_html' is deprecated and will be removed in a future version. To read from a literal string, wrap it in a 'StringIO' object.\n",
      "  dfs = pd.read_html(r.text)\n",
      "INFO: Downloading photometry: https://www.astrouw.edu.pl/ogle/ogle3/ews/2002/blg-041/phot.dat\n"
     ]
    },
    {
     "name": "stdout",
     "output_type": "stream",
     "text": [
      "2002 - 40 done\n",
      "OGLE 2002 BLG 40 Done\n",
      "OGLE 2002 BLG 41 started\n"
     ]
    },
    {
     "name": "stderr",
     "output_type": "stream",
     "text": [
      "INFO: Fetching OGLE guesses: https://ogle.astrouw.edu.pl/ogle3/ews/2002/blg-041.html\n",
      "C:\\Users\\Saeed\\AppData\\Local\\Temp\\ipykernel_14856\\3667917964.py:85: FutureWarning: Passing literal html to 'read_html' is deprecated and will be removed in a future version. To read from a literal string, wrap it in a 'StringIO' object.\n",
      "  dfs = pd.read_html(r.text)\n",
      "WARNING: Too few points to create valid contours\n",
      "WARNING: Too few points to create valid contours\n",
      "WARNING: Too few points to create valid contours\n",
      "WARNING: Too few points to create valid contours\n",
      "WARNING: Too few points to create valid contours\n",
      "WARNING: Too few points to create valid contours\n",
      "WARNING: Too few points to create valid contours\n",
      "WARNING: Too few points to create valid contours\n",
      "WARNING: Too few points to create valid contours\n",
      "WARNING: Too few points to create valid contours\n",
      "INFO: Downloading photometry: https://www.astrouw.edu.pl/ogle/ogle3/ews/2002/blg-042/phot.dat\n"
     ]
    },
    {
     "name": "stdout",
     "output_type": "stream",
     "text": [
      "2002 - 41 done\n",
      "OGLE 2002 BLG 41 Done\n",
      "OGLE 2002 BLG 42 started\n"
     ]
    },
    {
     "name": "stderr",
     "output_type": "stream",
     "text": [
      "INFO: Fetching OGLE guesses: https://ogle.astrouw.edu.pl/ogle3/ews/2002/blg-042.html\n",
      "C:\\Users\\Saeed\\AppData\\Local\\Temp\\ipykernel_14856\\3667917964.py:85: FutureWarning: Passing literal html to 'read_html' is deprecated and will be removed in a future version. To read from a literal string, wrap it in a 'StringIO' object.\n",
      "  dfs = pd.read_html(r.text)\n",
      "WARNING: Too few points to create valid contours\n",
      "INFO: Downloading photometry: https://www.astrouw.edu.pl/ogle/ogle3/ews/2002/blg-043/phot.dat\n"
     ]
    },
    {
     "name": "stdout",
     "output_type": "stream",
     "text": [
      "2002 - 42 done\n",
      "OGLE 2002 BLG 42 Done\n",
      "OGLE 2002 BLG 43 started\n"
     ]
    },
    {
     "name": "stderr",
     "output_type": "stream",
     "text": [
      "INFO: Fetching OGLE guesses: https://ogle.astrouw.edu.pl/ogle3/ews/2002/blg-043.html\n",
      "C:\\Users\\Saeed\\AppData\\Local\\Temp\\ipykernel_14856\\3667917964.py:85: FutureWarning: Passing literal html to 'read_html' is deprecated and will be removed in a future version. To read from a literal string, wrap it in a 'StringIO' object.\n",
      "  dfs = pd.read_html(r.text)\n",
      "WARNING: Too few points to create valid contours\n",
      "WARNING: Too few points to create valid contours\n",
      "WARNING: Too few points to create valid contours\n",
      "WARNING: Too few points to create valid contours\n",
      "WARNING: Too few points to create valid contours\n",
      "WARNING: Too few points to create valid contours\n",
      "WARNING: Too few points to create valid contours\n",
      "WARNING: Too few points to create valid contours\n",
      "WARNING: Too few points to create valid contours\n",
      "WARNING: Too few points to create valid contours\n",
      "INFO: Downloading photometry: https://www.astrouw.edu.pl/ogle/ogle3/ews/2002/blg-044/phot.dat\n"
     ]
    },
    {
     "name": "stdout",
     "output_type": "stream",
     "text": [
      "2002 - 43 done\n",
      "OGLE 2002 BLG 43 Done\n",
      "OGLE 2002 BLG 44 started\n"
     ]
    },
    {
     "name": "stderr",
     "output_type": "stream",
     "text": [
      "INFO: Fetching OGLE guesses: https://ogle.astrouw.edu.pl/ogle3/ews/2002/blg-044.html\n",
      "C:\\Users\\Saeed\\AppData\\Local\\Temp\\ipykernel_14856\\3667917964.py:85: FutureWarning: Passing literal html to 'read_html' is deprecated and will be removed in a future version. To read from a literal string, wrap it in a 'StringIO' object.\n",
      "  dfs = pd.read_html(r.text)\n",
      "WARNING: Too few points to create valid contours\n",
      "WARNING: Too few points to create valid contours\n",
      "WARNING: Too few points to create valid contours\n",
      "WARNING: Too few points to create valid contours\n",
      "WARNING: Too few points to create valid contours\n",
      "WARNING: Too few points to create valid contours\n",
      "WARNING: Too few points to create valid contours\n",
      "WARNING: Too few points to create valid contours\n",
      "WARNING: Too few points to create valid contours\n",
      "WARNING: Too few points to create valid contours\n",
      "INFO: Downloading photometry: https://www.astrouw.edu.pl/ogle/ogle3/ews/2002/blg-045/phot.dat\n"
     ]
    },
    {
     "name": "stdout",
     "output_type": "stream",
     "text": [
      "2002 - 44 done\n",
      "OGLE 2002 BLG 44 Done\n",
      "OGLE 2002 BLG 45 started\n"
     ]
    },
    {
     "name": "stderr",
     "output_type": "stream",
     "text": [
      "INFO: Fetching OGLE guesses: https://ogle.astrouw.edu.pl/ogle3/ews/2002/blg-045.html\n",
      "C:\\Users\\Saeed\\AppData\\Local\\Temp\\ipykernel_14856\\3667917964.py:85: FutureWarning: Passing literal html to 'read_html' is deprecated and will be removed in a future version. To read from a literal string, wrap it in a 'StringIO' object.\n",
      "  dfs = pd.read_html(r.text)\n",
      "WARNING: Too few points to create valid contours\n",
      "WARNING: Too few points to create valid contours\n",
      "WARNING: Too few points to create valid contours\n",
      "WARNING: Too few points to create valid contours\n",
      "WARNING: Too few points to create valid contours\n",
      "WARNING: Too few points to create valid contours\n",
      "WARNING: Too few points to create valid contours\n",
      "WARNING: Too few points to create valid contours\n",
      "WARNING: Too few points to create valid contours\n",
      "INFO: Downloading photometry: https://www.astrouw.edu.pl/ogle/ogle3/ews/2002/blg-046/phot.dat\n"
     ]
    },
    {
     "name": "stdout",
     "output_type": "stream",
     "text": [
      "2002 - 45 done\n",
      "OGLE 2002 BLG 45 Done\n",
      "OGLE 2002 BLG 46 started\n"
     ]
    },
    {
     "name": "stderr",
     "output_type": "stream",
     "text": [
      "INFO: Fetching OGLE guesses: https://ogle.astrouw.edu.pl/ogle3/ews/2002/blg-046.html\n",
      "C:\\Users\\Saeed\\AppData\\Local\\Temp\\ipykernel_14856\\3667917964.py:85: FutureWarning: Passing literal html to 'read_html' is deprecated and will be removed in a future version. To read from a literal string, wrap it in a 'StringIO' object.\n",
      "  dfs = pd.read_html(r.text)\n",
      "WARNING: Too few points to create valid contours\n",
      "WARNING: Too few points to create valid contours\n",
      "WARNING: Too few points to create valid contours\n",
      "WARNING: Too few points to create valid contours\n",
      "WARNING: Too few points to create valid contours\n",
      "WARNING: Too few points to create valid contours\n",
      "WARNING: Too few points to create valid contours\n",
      "WARNING: Too few points to create valid contours\n",
      "WARNING: Too few points to create valid contours\n",
      "WARNING: Too few points to create valid contours\n",
      "INFO: Downloading photometry: https://www.astrouw.edu.pl/ogle/ogle3/ews/2002/blg-047/phot.dat\n"
     ]
    },
    {
     "name": "stdout",
     "output_type": "stream",
     "text": [
      "2002 - 46 done\n",
      "OGLE 2002 BLG 46 Done\n",
      "OGLE 2002 BLG 47 started\n"
     ]
    },
    {
     "name": "stderr",
     "output_type": "stream",
     "text": [
      "INFO: Fetching OGLE guesses: https://ogle.astrouw.edu.pl/ogle3/ews/2002/blg-047.html\n",
      "C:\\Users\\Saeed\\AppData\\Local\\Temp\\ipykernel_14856\\3667917964.py:85: FutureWarning: Passing literal html to 'read_html' is deprecated and will be removed in a future version. To read from a literal string, wrap it in a 'StringIO' object.\n",
      "  dfs = pd.read_html(r.text)\n",
      "WARNING: Too few points to create valid contours\n",
      "WARNING: Too few points to create valid contours\n",
      "WARNING: Too few points to create valid contours\n",
      "WARNING: Too few points to create valid contours\n",
      "WARNING: Too few points to create valid contours\n",
      "WARNING: Too few points to create valid contours\n",
      "WARNING: Too few points to create valid contours\n",
      "WARNING: Too few points to create valid contours\n",
      "WARNING: Too few points to create valid contours\n",
      "WARNING: Too few points to create valid contours\n",
      "INFO: Downloading photometry: https://www.astrouw.edu.pl/ogle/ogle3/ews/2002/blg-048/phot.dat\n"
     ]
    },
    {
     "name": "stdout",
     "output_type": "stream",
     "text": [
      "2002 - 47 done\n",
      "OGLE 2002 BLG 47 Done\n",
      "OGLE 2002 BLG 48 started\n"
     ]
    },
    {
     "name": "stderr",
     "output_type": "stream",
     "text": [
      "INFO: Fetching OGLE guesses: https://ogle.astrouw.edu.pl/ogle3/ews/2002/blg-048.html\n",
      "C:\\Users\\Saeed\\AppData\\Local\\Temp\\ipykernel_14856\\3667917964.py:85: FutureWarning: Passing literal html to 'read_html' is deprecated and will be removed in a future version. To read from a literal string, wrap it in a 'StringIO' object.\n",
      "  dfs = pd.read_html(r.text)\n",
      "WARNING: Too few points to create valid contours\n",
      "WARNING: Too few points to create valid contours\n",
      "WARNING: Too few points to create valid contours\n",
      "WARNING: Too few points to create valid contours\n",
      "WARNING: Too few points to create valid contours\n",
      "INFO: Downloading photometry: https://www.astrouw.edu.pl/ogle/ogle3/ews/2002/blg-049/phot.dat\n"
     ]
    },
    {
     "name": "stdout",
     "output_type": "stream",
     "text": [
      "2002 - 48 done\n",
      "OGLE 2002 BLG 48 Done\n",
      "OGLE 2002 BLG 49 started\n"
     ]
    },
    {
     "name": "stderr",
     "output_type": "stream",
     "text": [
      "INFO: Fetching OGLE guesses: https://ogle.astrouw.edu.pl/ogle3/ews/2002/blg-049.html\n",
      "C:\\Users\\Saeed\\AppData\\Local\\Temp\\ipykernel_14856\\3667917964.py:85: FutureWarning: Passing literal html to 'read_html' is deprecated and will be removed in a future version. To read from a literal string, wrap it in a 'StringIO' object.\n",
      "  dfs = pd.read_html(r.text)\n",
      "INFO: Downloading photometry: https://www.astrouw.edu.pl/ogle/ogle3/ews/2002/blg-050/phot.dat\n"
     ]
    },
    {
     "name": "stdout",
     "output_type": "stream",
     "text": [
      "2002 - 49 done\n",
      "OGLE 2002 BLG 49 Done\n",
      "OGLE 2002 BLG 50 started\n"
     ]
    },
    {
     "name": "stderr",
     "output_type": "stream",
     "text": [
      "INFO: Fetching OGLE guesses: https://ogle.astrouw.edu.pl/ogle3/ews/2002/blg-050.html\n",
      "C:\\Users\\Saeed\\AppData\\Local\\Temp\\ipykernel_14856\\3667917964.py:85: FutureWarning: Passing literal html to 'read_html' is deprecated and will be removed in a future version. To read from a literal string, wrap it in a 'StringIO' object.\n",
      "  dfs = pd.read_html(r.text)\n",
      "WARNING: Too few points to create valid contours\n",
      "WARNING: Too few points to create valid contours\n",
      "WARNING: Too few points to create valid contours\n",
      "WARNING: Too few points to create valid contours\n",
      "WARNING: Too few points to create valid contours\n",
      "WARNING: Too few points to create valid contours\n",
      "WARNING: Too few points to create valid contours\n",
      "WARNING: Too few points to create valid contours\n",
      "WARNING: Too few points to create valid contours\n",
      "WARNING: Too few points to create valid contours\n",
      "INFO: Downloading photometry: https://www.astrouw.edu.pl/ogle/ogle3/ews/2002/blg-051/phot.dat\n"
     ]
    },
    {
     "name": "stdout",
     "output_type": "stream",
     "text": [
      "2002 - 50 done\n",
      "OGLE 2002 BLG 50 Done\n",
      "OGLE 2002 BLG 51 started\n"
     ]
    },
    {
     "name": "stderr",
     "output_type": "stream",
     "text": [
      "INFO: Fetching OGLE guesses: https://ogle.astrouw.edu.pl/ogle3/ews/2002/blg-051.html\n",
      "C:\\Users\\Saeed\\AppData\\Local\\Temp\\ipykernel_14856\\3667917964.py:85: FutureWarning: Passing literal html to 'read_html' is deprecated and will be removed in a future version. To read from a literal string, wrap it in a 'StringIO' object.\n",
      "  dfs = pd.read_html(r.text)\n",
      "WARNING: Parsed HTML but couldn't extract expected cells: could not convert string to float: '-'\n",
      "WARNING: Too few points to create valid contours\n",
      "WARNING: Too few points to create valid contours\n",
      "WARNING: Too few points to create valid contours\n",
      "WARNING: Too few points to create valid contours\n",
      "WARNING: Too few points to create valid contours\n",
      "WARNING: Too few points to create valid contours\n",
      "INFO: Downloading photometry: https://www.astrouw.edu.pl/ogle/ogle3/ews/2002/blg-052/phot.dat\n"
     ]
    },
    {
     "name": "stdout",
     "output_type": "stream",
     "text": [
      "2002 - 51 done\n",
      "OGLE 2002 BLG 51 Done\n",
      "OGLE 2002 BLG 52 started\n"
     ]
    },
    {
     "name": "stderr",
     "output_type": "stream",
     "text": [
      "INFO: Fetching OGLE guesses: https://ogle.astrouw.edu.pl/ogle3/ews/2002/blg-052.html\n",
      "C:\\Users\\Saeed\\AppData\\Local\\Temp\\ipykernel_14856\\3667917964.py:85: FutureWarning: Passing literal html to 'read_html' is deprecated and will be removed in a future version. To read from a literal string, wrap it in a 'StringIO' object.\n",
      "  dfs = pd.read_html(r.text)\n",
      "WARNING: Too few points to create valid contours\n",
      "WARNING: Too few points to create valid contours\n",
      "WARNING: Too few points to create valid contours\n",
      "WARNING: Too few points to create valid contours\n",
      "WARNING: Too few points to create valid contours\n",
      "WARNING: Too few points to create valid contours\n",
      "WARNING: Too few points to create valid contours\n",
      "WARNING: Too few points to create valid contours\n",
      "WARNING: Too few points to create valid contours\n",
      "INFO: Downloading photometry: https://www.astrouw.edu.pl/ogle/ogle3/ews/2002/blg-053/phot.dat\n"
     ]
    },
    {
     "name": "stdout",
     "output_type": "stream",
     "text": [
      "2002 - 52 done\n",
      "OGLE 2002 BLG 52 Done\n",
      "OGLE 2002 BLG 53 started\n"
     ]
    },
    {
     "name": "stderr",
     "output_type": "stream",
     "text": [
      "INFO: Fetching OGLE guesses: https://ogle.astrouw.edu.pl/ogle3/ews/2002/blg-053.html\n",
      "C:\\Users\\Saeed\\AppData\\Local\\Temp\\ipykernel_14856\\3667917964.py:85: FutureWarning: Passing literal html to 'read_html' is deprecated and will be removed in a future version. To read from a literal string, wrap it in a 'StringIO' object.\n",
      "  dfs = pd.read_html(r.text)\n",
      "WARNING: Too few points to create valid contours\n",
      "INFO: Downloading photometry: https://www.astrouw.edu.pl/ogle/ogle3/ews/2002/blg-054/phot.dat\n"
     ]
    },
    {
     "name": "stdout",
     "output_type": "stream",
     "text": [
      "2002 - 53 done\n",
      "OGLE 2002 BLG 53 Done\n",
      "OGLE 2002 BLG 54 started\n"
     ]
    },
    {
     "name": "stderr",
     "output_type": "stream",
     "text": [
      "INFO: Fetching OGLE guesses: https://ogle.astrouw.edu.pl/ogle3/ews/2002/blg-054.html\n",
      "C:\\Users\\Saeed\\AppData\\Local\\Temp\\ipykernel_14856\\3667917964.py:85: FutureWarning: Passing literal html to 'read_html' is deprecated and will be removed in a future version. To read from a literal string, wrap it in a 'StringIO' object.\n",
      "  dfs = pd.read_html(r.text)\n",
      "WARNING: Too few points to create valid contours\n",
      "WARNING: Too few points to create valid contours\n",
      "WARNING: Too few points to create valid contours\n",
      "WARNING: Too few points to create valid contours\n",
      "WARNING: Too few points to create valid contours\n",
      "WARNING: Too few points to create valid contours\n",
      "WARNING: Too few points to create valid contours\n",
      "WARNING: Too few points to create valid contours\n",
      "WARNING: Too few points to create valid contours\n",
      "WARNING: Too few points to create valid contours\n",
      "INFO: Downloading photometry: https://www.astrouw.edu.pl/ogle/ogle3/ews/2002/blg-055/phot.dat\n"
     ]
    },
    {
     "name": "stdout",
     "output_type": "stream",
     "text": [
      "2002 - 54 done\n",
      "OGLE 2002 BLG 54 Done\n",
      "OGLE 2002 BLG 55 started\n"
     ]
    },
    {
     "name": "stderr",
     "output_type": "stream",
     "text": [
      "INFO: Fetching OGLE guesses: https://ogle.astrouw.edu.pl/ogle3/ews/2002/blg-055.html\n",
      "C:\\Users\\Saeed\\AppData\\Local\\Temp\\ipykernel_14856\\3667917964.py:85: FutureWarning: Passing literal html to 'read_html' is deprecated and will be removed in a future version. To read from a literal string, wrap it in a 'StringIO' object.\n",
      "  dfs = pd.read_html(r.text)\n",
      "WARNING: Too few points to create valid contours\n",
      "WARNING: Too few points to create valid contours\n",
      "WARNING: Too few points to create valid contours\n",
      "WARNING: Too few points to create valid contours\n",
      "WARNING: Too few points to create valid contours\n",
      "WARNING: Too few points to create valid contours\n",
      "WARNING: Too few points to create valid contours\n",
      "WARNING: Too few points to create valid contours\n",
      "WARNING: Too few points to create valid contours\n",
      "WARNING: Too few points to create valid contours\n",
      "INFO: Downloading photometry: https://www.astrouw.edu.pl/ogle/ogle3/ews/2002/blg-056/phot.dat\n"
     ]
    },
    {
     "name": "stdout",
     "output_type": "stream",
     "text": [
      "2002 - 55 done\n",
      "OGLE 2002 BLG 55 Done\n",
      "OGLE 2002 BLG 56 started\n"
     ]
    },
    {
     "name": "stderr",
     "output_type": "stream",
     "text": [
      "INFO: Fetching OGLE guesses: https://ogle.astrouw.edu.pl/ogle3/ews/2002/blg-056.html\n",
      "C:\\Users\\Saeed\\AppData\\Local\\Temp\\ipykernel_14856\\3667917964.py:85: FutureWarning: Passing literal html to 'read_html' is deprecated and will be removed in a future version. To read from a literal string, wrap it in a 'StringIO' object.\n",
      "  dfs = pd.read_html(r.text)\n",
      "WARNING: Too few points to create valid contours\n",
      "WARNING: Too few points to create valid contours\n",
      "WARNING: Too few points to create valid contours\n",
      "WARNING: Too few points to create valid contours\n",
      "WARNING: Too few points to create valid contours\n",
      "WARNING: Too few points to create valid contours\n",
      "WARNING: Too few points to create valid contours\n",
      "WARNING: Too few points to create valid contours\n",
      "WARNING: Too few points to create valid contours\n",
      "INFO: Downloading photometry: https://www.astrouw.edu.pl/ogle/ogle3/ews/2002/blg-057/phot.dat\n"
     ]
    },
    {
     "name": "stdout",
     "output_type": "stream",
     "text": [
      "2002 - 56 done\n",
      "OGLE 2002 BLG 56 Done\n",
      "OGLE 2002 BLG 57 started\n"
     ]
    },
    {
     "name": "stderr",
     "output_type": "stream",
     "text": [
      "INFO: Fetching OGLE guesses: https://ogle.astrouw.edu.pl/ogle3/ews/2002/blg-057.html\n",
      "C:\\Users\\Saeed\\AppData\\Local\\Temp\\ipykernel_14856\\3667917964.py:85: FutureWarning: Passing literal html to 'read_html' is deprecated and will be removed in a future version. To read from a literal string, wrap it in a 'StringIO' object.\n",
      "  dfs = pd.read_html(r.text)\n",
      "WARNING: Too few points to create valid contours\n",
      "WARNING: Too few points to create valid contours\n",
      "WARNING: Too few points to create valid contours\n",
      "WARNING: Too few points to create valid contours\n",
      "WARNING: Too few points to create valid contours\n",
      "INFO: Downloading photometry: https://www.astrouw.edu.pl/ogle/ogle3/ews/2002/blg-058/phot.dat\n"
     ]
    },
    {
     "name": "stdout",
     "output_type": "stream",
     "text": [
      "2002 - 57 done\n",
      "OGLE 2002 BLG 57 Done\n",
      "OGLE 2002 BLG 58 started\n"
     ]
    },
    {
     "name": "stderr",
     "output_type": "stream",
     "text": [
      "INFO: Fetching OGLE guesses: https://ogle.astrouw.edu.pl/ogle3/ews/2002/blg-058.html\n",
      "C:\\Users\\Saeed\\AppData\\Local\\Temp\\ipykernel_14856\\3667917964.py:85: FutureWarning: Passing literal html to 'read_html' is deprecated and will be removed in a future version. To read from a literal string, wrap it in a 'StringIO' object.\n",
      "  dfs = pd.read_html(r.text)\n",
      "WARNING: Too few points to create valid contours\n",
      "INFO: Downloading photometry: https://www.astrouw.edu.pl/ogle/ogle3/ews/2002/blg-059/phot.dat\n"
     ]
    },
    {
     "name": "stdout",
     "output_type": "stream",
     "text": [
      "2002 - 58 done\n",
      "OGLE 2002 BLG 58 Done\n",
      "OGLE 2002 BLG 59 started\n"
     ]
    },
    {
     "name": "stderr",
     "output_type": "stream",
     "text": [
      "INFO: Fetching OGLE guesses: https://ogle.astrouw.edu.pl/ogle3/ews/2002/blg-059.html\n",
      "C:\\Users\\Saeed\\AppData\\Local\\Temp\\ipykernel_14856\\3667917964.py:85: FutureWarning: Passing literal html to 'read_html' is deprecated and will be removed in a future version. To read from a literal string, wrap it in a 'StringIO' object.\n",
      "  dfs = pd.read_html(r.text)\n",
      "WARNING: Too few points to create valid contours\n",
      "INFO: Downloading photometry: https://www.astrouw.edu.pl/ogle/ogle3/ews/2002/blg-060/phot.dat\n"
     ]
    },
    {
     "name": "stdout",
     "output_type": "stream",
     "text": [
      "2002 - 59 done\n",
      "OGLE 2002 BLG 59 Done\n",
      "OGLE 2002 BLG 60 started\n"
     ]
    },
    {
     "name": "stderr",
     "output_type": "stream",
     "text": [
      "INFO: Fetching OGLE guesses: https://ogle.astrouw.edu.pl/ogle3/ews/2002/blg-060.html\n",
      "C:\\Users\\Saeed\\AppData\\Local\\Temp\\ipykernel_14856\\3667917964.py:85: FutureWarning: Passing literal html to 'read_html' is deprecated and will be removed in a future version. To read from a literal string, wrap it in a 'StringIO' object.\n",
      "  dfs = pd.read_html(r.text)\n",
      "WARNING: Too few points to create valid contours\n",
      "WARNING: Too few points to create valid contours\n",
      "WARNING: Too few points to create valid contours\n",
      "WARNING: Too few points to create valid contours\n",
      "WARNING: Too few points to create valid contours\n",
      "WARNING: Too few points to create valid contours\n",
      "INFO: Downloading photometry: https://www.astrouw.edu.pl/ogle/ogle3/ews/2002/blg-061/phot.dat\n"
     ]
    },
    {
     "name": "stdout",
     "output_type": "stream",
     "text": [
      "2002 - 60 done\n",
      "OGLE 2002 BLG 60 Done\n",
      "OGLE 2002 BLG 61 started\n"
     ]
    },
    {
     "name": "stderr",
     "output_type": "stream",
     "text": [
      "INFO: Fetching OGLE guesses: https://ogle.astrouw.edu.pl/ogle3/ews/2002/blg-061.html\n",
      "C:\\Users\\Saeed\\AppData\\Local\\Temp\\ipykernel_14856\\3667917964.py:85: FutureWarning: Passing literal html to 'read_html' is deprecated and will be removed in a future version. To read from a literal string, wrap it in a 'StringIO' object.\n",
      "  dfs = pd.read_html(r.text)\n",
      "WARNING: Too few points to create valid contours\n",
      "WARNING: Too few points to create valid contours\n",
      "WARNING: Too few points to create valid contours\n",
      "WARNING: Too few points to create valid contours\n",
      "WARNING: Too few points to create valid contours\n",
      "WARNING: Too few points to create valid contours\n",
      "WARNING: Too few points to create valid contours\n",
      "WARNING: Too few points to create valid contours\n",
      "WARNING: Too few points to create valid contours\n",
      "WARNING: Too few points to create valid contours\n",
      "INFO: Downloading photometry: https://www.astrouw.edu.pl/ogle/ogle3/ews/2002/blg-062/phot.dat\n"
     ]
    },
    {
     "name": "stdout",
     "output_type": "stream",
     "text": [
      "2002 - 61 done\n",
      "OGLE 2002 BLG 61 Done\n",
      "OGLE 2002 BLG 62 started\n"
     ]
    },
    {
     "name": "stderr",
     "output_type": "stream",
     "text": [
      "INFO: Fetching OGLE guesses: https://ogle.astrouw.edu.pl/ogle3/ews/2002/blg-062.html\n",
      "C:\\Users\\Saeed\\AppData\\Local\\Temp\\ipykernel_14856\\3667917964.py:85: FutureWarning: Passing literal html to 'read_html' is deprecated and will be removed in a future version. To read from a literal string, wrap it in a 'StringIO' object.\n",
      "  dfs = pd.read_html(r.text)\n",
      "INFO: Downloading photometry: https://www.astrouw.edu.pl/ogle/ogle3/ews/2002/blg-063/phot.dat\n"
     ]
    },
    {
     "name": "stdout",
     "output_type": "stream",
     "text": [
      "2002 - 62 done\n",
      "OGLE 2002 BLG 62 Done\n",
      "OGLE 2002 BLG 63 started\n"
     ]
    },
    {
     "name": "stderr",
     "output_type": "stream",
     "text": [
      "INFO: Fetching OGLE guesses: https://ogle.astrouw.edu.pl/ogle3/ews/2002/blg-063.html\n",
      "C:\\Users\\Saeed\\AppData\\Local\\Temp\\ipykernel_14856\\3667917964.py:85: FutureWarning: Passing literal html to 'read_html' is deprecated and will be removed in a future version. To read from a literal string, wrap it in a 'StringIO' object.\n",
      "  dfs = pd.read_html(r.text)\n",
      "INFO: Downloading photometry: https://www.astrouw.edu.pl/ogle/ogle3/ews/2002/blg-064/phot.dat\n"
     ]
    },
    {
     "name": "stdout",
     "output_type": "stream",
     "text": [
      "2002 - 63 done\n",
      "OGLE 2002 BLG 63 Done\n",
      "OGLE 2002 BLG 64 started\n"
     ]
    },
    {
     "name": "stderr",
     "output_type": "stream",
     "text": [
      "INFO: Fetching OGLE guesses: https://ogle.astrouw.edu.pl/ogle3/ews/2002/blg-064.html\n",
      "C:\\Users\\Saeed\\AppData\\Local\\Temp\\ipykernel_14856\\3667917964.py:85: FutureWarning: Passing literal html to 'read_html' is deprecated and will be removed in a future version. To read from a literal string, wrap it in a 'StringIO' object.\n",
      "  dfs = pd.read_html(r.text)\n",
      "WARNING: Too few points to create valid contours\n",
      "WARNING: Too few points to create valid contours\n",
      "WARNING: Too few points to create valid contours\n",
      "INFO: Downloading photometry: https://www.astrouw.edu.pl/ogle/ogle3/ews/2002/blg-065/phot.dat\n"
     ]
    },
    {
     "name": "stdout",
     "output_type": "stream",
     "text": [
      "2002 - 64 done\n",
      "OGLE 2002 BLG 64 Done\n",
      "OGLE 2002 BLG 65 started\n"
     ]
    },
    {
     "name": "stderr",
     "output_type": "stream",
     "text": [
      "INFO: Fetching OGLE guesses: https://ogle.astrouw.edu.pl/ogle3/ews/2002/blg-065.html\n",
      "C:\\Users\\Saeed\\AppData\\Local\\Temp\\ipykernel_14856\\3667917964.py:85: FutureWarning: Passing literal html to 'read_html' is deprecated and will be removed in a future version. To read from a literal string, wrap it in a 'StringIO' object.\n",
      "  dfs = pd.read_html(r.text)\n",
      "WARNING: Too few points to create valid contours\n",
      "WARNING: Too few points to create valid contours\n",
      "WARNING: Too few points to create valid contours\n",
      "WARNING: Too few points to create valid contours\n",
      "WARNING: Too few points to create valid contours\n",
      "WARNING: Too few points to create valid contours\n",
      "WARNING: Too few points to create valid contours\n",
      "WARNING: Too few points to create valid contours\n",
      "WARNING: Too few points to create valid contours\n",
      "WARNING: Too few points to create valid contours\n",
      "INFO: Downloading photometry: https://www.astrouw.edu.pl/ogle/ogle3/ews/2002/blg-066/phot.dat\n"
     ]
    },
    {
     "name": "stdout",
     "output_type": "stream",
     "text": [
      "2002 - 65 done\n",
      "OGLE 2002 BLG 65 Done\n",
      "OGLE 2002 BLG 66 started\n"
     ]
    },
    {
     "name": "stderr",
     "output_type": "stream",
     "text": [
      "INFO: Fetching OGLE guesses: https://ogle.astrouw.edu.pl/ogle3/ews/2002/blg-066.html\n",
      "C:\\Users\\Saeed\\AppData\\Local\\Temp\\ipykernel_14856\\3667917964.py:85: FutureWarning: Passing literal html to 'read_html' is deprecated and will be removed in a future version. To read from a literal string, wrap it in a 'StringIO' object.\n",
      "  dfs = pd.read_html(r.text)\n",
      "WARNING: Too few points to create valid contours\n",
      "WARNING: Too few points to create valid contours\n",
      "WARNING: Too few points to create valid contours\n",
      "WARNING: Too few points to create valid contours\n",
      "WARNING: Too few points to create valid contours\n",
      "WARNING: Too few points to create valid contours\n",
      "WARNING: Too few points to create valid contours\n",
      "WARNING: Too few points to create valid contours\n",
      "WARNING: Too few points to create valid contours\n",
      "INFO: Downloading photometry: https://www.astrouw.edu.pl/ogle/ogle3/ews/2002/blg-067/phot.dat\n"
     ]
    },
    {
     "name": "stdout",
     "output_type": "stream",
     "text": [
      "2002 - 66 done\n",
      "OGLE 2002 BLG 66 Done\n",
      "OGLE 2002 BLG 67 started\n"
     ]
    },
    {
     "name": "stderr",
     "output_type": "stream",
     "text": [
      "INFO: Fetching OGLE guesses: https://ogle.astrouw.edu.pl/ogle3/ews/2002/blg-067.html\n",
      "C:\\Users\\Saeed\\AppData\\Local\\Temp\\ipykernel_14856\\3667917964.py:85: FutureWarning: Passing literal html to 'read_html' is deprecated and will be removed in a future version. To read from a literal string, wrap it in a 'StringIO' object.\n",
      "  dfs = pd.read_html(r.text)\n",
      "WARNING: Too few points to create valid contours\n",
      "WARNING: Too few points to create valid contours\n",
      "WARNING: Too few points to create valid contours\n",
      "WARNING: Too few points to create valid contours\n",
      "WARNING: Too few points to create valid contours\n",
      "WARNING: Too few points to create valid contours\n",
      "WARNING: Too few points to create valid contours\n",
      "WARNING: Too few points to create valid contours\n",
      "WARNING: Too few points to create valid contours\n",
      "WARNING: Too few points to create valid contours\n",
      "INFO: Downloading photometry: https://www.astrouw.edu.pl/ogle/ogle3/ews/2002/blg-068/phot.dat\n"
     ]
    },
    {
     "name": "stdout",
     "output_type": "stream",
     "text": [
      "2002 - 67 done\n",
      "OGLE 2002 BLG 67 Done\n",
      "OGLE 2002 BLG 68 started\n"
     ]
    },
    {
     "name": "stderr",
     "output_type": "stream",
     "text": [
      "INFO: Fetching OGLE guesses: https://ogle.astrouw.edu.pl/ogle3/ews/2002/blg-068.html\n",
      "C:\\Users\\Saeed\\AppData\\Local\\Temp\\ipykernel_14856\\3667917964.py:85: FutureWarning: Passing literal html to 'read_html' is deprecated and will be removed in a future version. To read from a literal string, wrap it in a 'StringIO' object.\n",
      "  dfs = pd.read_html(r.text)\n",
      "WARNING: Parsed HTML but couldn't extract expected cells: could not convert string to float: '-'\n",
      "WARNING: Too few points to create valid contours\n",
      "WARNING: Too few points to create valid contours\n",
      "WARNING: Too few points to create valid contours\n",
      "WARNING: Too few points to create valid contours\n",
      "WARNING: Too few points to create valid contours\n",
      "WARNING: Too few points to create valid contours\n",
      "WARNING: Too few points to create valid contours\n",
      "INFO: Downloading photometry: https://www.astrouw.edu.pl/ogle/ogle3/ews/2002/blg-069/phot.dat\n"
     ]
    },
    {
     "name": "stdout",
     "output_type": "stream",
     "text": [
      "2002 - 68 done\n",
      "OGLE 2002 BLG 68 Done\n",
      "OGLE 2002 BLG 69 started\n"
     ]
    },
    {
     "name": "stderr",
     "output_type": "stream",
     "text": [
      "INFO: Fetching OGLE guesses: https://ogle.astrouw.edu.pl/ogle3/ews/2002/blg-069.html\n",
      "C:\\Users\\Saeed\\AppData\\Local\\Temp\\ipykernel_14856\\3667917964.py:85: FutureWarning: Passing literal html to 'read_html' is deprecated and will be removed in a future version. To read from a literal string, wrap it in a 'StringIO' object.\n",
      "  dfs = pd.read_html(r.text)\n",
      "WARNING: Too few points to create valid contours\n",
      "WARNING: Too few points to create valid contours\n",
      "WARNING: Too few points to create valid contours\n",
      "WARNING: Too few points to create valid contours\n",
      "WARNING: Too few points to create valid contours\n",
      "WARNING: Too few points to create valid contours\n",
      "WARNING: Too few points to create valid contours\n",
      "WARNING: Too few points to create valid contours\n",
      "WARNING: Too few points to create valid contours\n",
      "WARNING: Too few points to create valid contours\n",
      "INFO: Downloading photometry: https://www.astrouw.edu.pl/ogle/ogle3/ews/2002/blg-070/phot.dat\n"
     ]
    },
    {
     "name": "stdout",
     "output_type": "stream",
     "text": [
      "2002 - 69 done\n",
      "OGLE 2002 BLG 69 Done\n",
      "OGLE 2002 BLG 70 started\n"
     ]
    },
    {
     "name": "stderr",
     "output_type": "stream",
     "text": [
      "INFO: Fetching OGLE guesses: https://ogle.astrouw.edu.pl/ogle3/ews/2002/blg-070.html\n",
      "C:\\Users\\Saeed\\AppData\\Local\\Temp\\ipykernel_14856\\3667917964.py:85: FutureWarning: Passing literal html to 'read_html' is deprecated and will be removed in a future version. To read from a literal string, wrap it in a 'StringIO' object.\n",
      "  dfs = pd.read_html(r.text)\n",
      "WARNING: Too few points to create valid contours\n",
      "WARNING: Too few points to create valid contours\n",
      "WARNING: Too few points to create valid contours\n",
      "WARNING: Too few points to create valid contours\n",
      "WARNING: Too few points to create valid contours\n",
      "WARNING: Too few points to create valid contours\n",
      "WARNING: Too few points to create valid contours\n",
      "WARNING: Too few points to create valid contours\n",
      "WARNING: Too few points to create valid contours\n",
      "WARNING: Too few points to create valid contours\n",
      "INFO: Downloading photometry: https://www.astrouw.edu.pl/ogle/ogle3/ews/2002/blg-071/phot.dat\n"
     ]
    },
    {
     "name": "stdout",
     "output_type": "stream",
     "text": [
      "2002 - 70 done\n",
      "OGLE 2002 BLG 70 Done\n",
      "OGLE 2002 BLG 71 started\n"
     ]
    },
    {
     "name": "stderr",
     "output_type": "stream",
     "text": [
      "INFO: Fetching OGLE guesses: https://ogle.astrouw.edu.pl/ogle3/ews/2002/blg-071.html\n",
      "C:\\Users\\Saeed\\AppData\\Local\\Temp\\ipykernel_14856\\3667917964.py:85: FutureWarning: Passing literal html to 'read_html' is deprecated and will be removed in a future version. To read from a literal string, wrap it in a 'StringIO' object.\n",
      "  dfs = pd.read_html(r.text)\n",
      "WARNING: Too few points to create valid contours\n",
      "WARNING: Too few points to create valid contours\n",
      "WARNING: Too few points to create valid contours\n",
      "WARNING: Too few points to create valid contours\n",
      "WARNING: Too few points to create valid contours\n",
      "WARNING: Too few points to create valid contours\n",
      "WARNING: Too few points to create valid contours\n",
      "INFO: Downloading photometry: https://www.astrouw.edu.pl/ogle/ogle3/ews/2002/blg-072/phot.dat\n"
     ]
    },
    {
     "name": "stdout",
     "output_type": "stream",
     "text": [
      "2002 - 71 done\n",
      "OGLE 2002 BLG 71 Done\n",
      "OGLE 2002 BLG 72 started\n"
     ]
    },
    {
     "name": "stderr",
     "output_type": "stream",
     "text": [
      "INFO: Fetching OGLE guesses: https://ogle.astrouw.edu.pl/ogle3/ews/2002/blg-072.html\n",
      "C:\\Users\\Saeed\\AppData\\Local\\Temp\\ipykernel_14856\\3667917964.py:85: FutureWarning: Passing literal html to 'read_html' is deprecated and will be removed in a future version. To read from a literal string, wrap it in a 'StringIO' object.\n",
      "  dfs = pd.read_html(r.text)\n",
      "WARNING: Too few points to create valid contours\n",
      "INFO: Downloading photometry: https://www.astrouw.edu.pl/ogle/ogle3/ews/2002/blg-073/phot.dat\n"
     ]
    },
    {
     "name": "stdout",
     "output_type": "stream",
     "text": [
      "2002 - 72 done\n",
      "OGLE 2002 BLG 72 Done\n",
      "OGLE 2002 BLG 73 started\n"
     ]
    },
    {
     "name": "stderr",
     "output_type": "stream",
     "text": [
      "INFO: Fetching OGLE guesses: https://ogle.astrouw.edu.pl/ogle3/ews/2002/blg-073.html\n",
      "C:\\Users\\Saeed\\AppData\\Local\\Temp\\ipykernel_14856\\3667917964.py:85: FutureWarning: Passing literal html to 'read_html' is deprecated and will be removed in a future version. To read from a literal string, wrap it in a 'StringIO' object.\n",
      "  dfs = pd.read_html(r.text)\n",
      "INFO: Downloading photometry: https://www.astrouw.edu.pl/ogle/ogle3/ews/2002/blg-074/phot.dat\n"
     ]
    },
    {
     "name": "stdout",
     "output_type": "stream",
     "text": [
      "2002 - 73 done\n",
      "OGLE 2002 BLG 73 Done\n",
      "OGLE 2002 BLG 74 started\n"
     ]
    },
    {
     "name": "stderr",
     "output_type": "stream",
     "text": [
      "INFO: Fetching OGLE guesses: https://ogle.astrouw.edu.pl/ogle3/ews/2002/blg-074.html\n",
      "C:\\Users\\Saeed\\AppData\\Local\\Temp\\ipykernel_14856\\3667917964.py:85: FutureWarning: Passing literal html to 'read_html' is deprecated and will be removed in a future version. To read from a literal string, wrap it in a 'StringIO' object.\n",
      "  dfs = pd.read_html(r.text)\n",
      "WARNING: Too few points to create valid contours\n",
      "WARNING: Too few points to create valid contours\n",
      "WARNING: Too few points to create valid contours\n",
      "WARNING: Too few points to create valid contours\n",
      "WARNING: Too few points to create valid contours\n",
      "WARNING: Too few points to create valid contours\n",
      "WARNING: Too few points to create valid contours\n",
      "WARNING: Too few points to create valid contours\n",
      "INFO: Downloading photometry: https://www.astrouw.edu.pl/ogle/ogle3/ews/2002/blg-075/phot.dat\n"
     ]
    },
    {
     "name": "stdout",
     "output_type": "stream",
     "text": [
      "2002 - 74 done\n",
      "OGLE 2002 BLG 74 Done\n",
      "OGLE 2002 BLG 75 started\n"
     ]
    },
    {
     "name": "stderr",
     "output_type": "stream",
     "text": [
      "INFO: Fetching OGLE guesses: https://ogle.astrouw.edu.pl/ogle3/ews/2002/blg-075.html\n",
      "C:\\Users\\Saeed\\AppData\\Local\\Temp\\ipykernel_14856\\3667917964.py:85: FutureWarning: Passing literal html to 'read_html' is deprecated and will be removed in a future version. To read from a literal string, wrap it in a 'StringIO' object.\n",
      "  dfs = pd.read_html(r.text)\n",
      "WARNING: Too few points to create valid contours\n",
      "WARNING: Too few points to create valid contours\n",
      "INFO: Downloading photometry: https://www.astrouw.edu.pl/ogle/ogle3/ews/2002/blg-076/phot.dat\n"
     ]
    },
    {
     "name": "stdout",
     "output_type": "stream",
     "text": [
      "2002 - 75 done\n",
      "OGLE 2002 BLG 75 Done\n",
      "OGLE 2002 BLG 76 started\n"
     ]
    },
    {
     "name": "stderr",
     "output_type": "stream",
     "text": [
      "INFO: Fetching OGLE guesses: https://ogle.astrouw.edu.pl/ogle3/ews/2002/blg-076.html\n",
      "C:\\Users\\Saeed\\AppData\\Local\\Temp\\ipykernel_14856\\3667917964.py:85: FutureWarning: Passing literal html to 'read_html' is deprecated and will be removed in a future version. To read from a literal string, wrap it in a 'StringIO' object.\n",
      "  dfs = pd.read_html(r.text)\n",
      "WARNING: Too few points to create valid contours\n",
      "WARNING: Too few points to create valid contours\n",
      "WARNING: Too few points to create valid contours\n",
      "WARNING: Too few points to create valid contours\n",
      "WARNING: Too few points to create valid contours\n",
      "WARNING: Too few points to create valid contours\n",
      "WARNING: Too few points to create valid contours\n",
      "WARNING: Too few points to create valid contours\n",
      "WARNING: Too few points to create valid contours\n",
      "WARNING: Too few points to create valid contours\n",
      "INFO: Downloading photometry: https://www.astrouw.edu.pl/ogle/ogle3/ews/2002/blg-077/phot.dat\n"
     ]
    },
    {
     "name": "stdout",
     "output_type": "stream",
     "text": [
      "2002 - 76 done\n",
      "OGLE 2002 BLG 76 Done\n",
      "OGLE 2002 BLG 77 started\n"
     ]
    },
    {
     "name": "stderr",
     "output_type": "stream",
     "text": [
      "INFO: Fetching OGLE guesses: https://ogle.astrouw.edu.pl/ogle3/ews/2002/blg-077.html\n",
      "C:\\Users\\Saeed\\AppData\\Local\\Temp\\ipykernel_14856\\3667917964.py:85: FutureWarning: Passing literal html to 'read_html' is deprecated and will be removed in a future version. To read from a literal string, wrap it in a 'StringIO' object.\n",
      "  dfs = pd.read_html(r.text)\n",
      "WARNING: Parsed HTML but couldn't extract expected cells: could not convert string to float: '-'\n",
      "WARNING: Too few points to create valid contours\n",
      "WARNING: Too few points to create valid contours\n",
      "WARNING: Too few points to create valid contours\n",
      "WARNING: Too few points to create valid contours\n",
      "WARNING: Too few points to create valid contours\n",
      "WARNING: Too few points to create valid contours\n",
      "WARNING: Too few points to create valid contours\n",
      "WARNING: Too few points to create valid contours\n",
      "WARNING: Too few points to create valid contours\n",
      "WARNING: Too few points to create valid contours\n",
      "INFO: Downloading photometry: https://www.astrouw.edu.pl/ogle/ogle3/ews/2002/blg-078/phot.dat\n"
     ]
    },
    {
     "name": "stdout",
     "output_type": "stream",
     "text": [
      "2002 - 77 done\n",
      "OGLE 2002 BLG 77 Done\n",
      "OGLE 2002 BLG 78 started\n"
     ]
    },
    {
     "name": "stderr",
     "output_type": "stream",
     "text": [
      "INFO: Fetching OGLE guesses: https://ogle.astrouw.edu.pl/ogle3/ews/2002/blg-078.html\n",
      "C:\\Users\\Saeed\\AppData\\Local\\Temp\\ipykernel_14856\\3667917964.py:85: FutureWarning: Passing literal html to 'read_html' is deprecated and will be removed in a future version. To read from a literal string, wrap it in a 'StringIO' object.\n",
      "  dfs = pd.read_html(r.text)\n",
      "INFO: Downloading photometry: https://www.astrouw.edu.pl/ogle/ogle3/ews/2002/blg-079/phot.dat\n"
     ]
    },
    {
     "name": "stdout",
     "output_type": "stream",
     "text": [
      "2002 - 78 done\n",
      "OGLE 2002 BLG 78 Done\n",
      "OGLE 2002 BLG 79 started\n"
     ]
    },
    {
     "name": "stderr",
     "output_type": "stream",
     "text": [
      "INFO: Fetching OGLE guesses: https://ogle.astrouw.edu.pl/ogle3/ews/2002/blg-079.html\n",
      "C:\\Users\\Saeed\\AppData\\Local\\Temp\\ipykernel_14856\\3667917964.py:85: FutureWarning: Passing literal html to 'read_html' is deprecated and will be removed in a future version. To read from a literal string, wrap it in a 'StringIO' object.\n",
      "  dfs = pd.read_html(r.text)\n",
      "WARNING: Too few points to create valid contours\n",
      "WARNING: Too few points to create valid contours\n",
      "WARNING: Too few points to create valid contours\n",
      "WARNING: Too few points to create valid contours\n",
      "WARNING: Too few points to create valid contours\n",
      "WARNING: Too few points to create valid contours\n",
      "WARNING: Too few points to create valid contours\n",
      "WARNING: Too few points to create valid contours\n",
      "WARNING: Too few points to create valid contours\n",
      "INFO: Downloading photometry: https://www.astrouw.edu.pl/ogle/ogle3/ews/2002/blg-080/phot.dat\n"
     ]
    },
    {
     "name": "stdout",
     "output_type": "stream",
     "text": [
      "2002 - 79 done\n",
      "OGLE 2002 BLG 79 Done\n",
      "OGLE 2002 BLG 80 started\n"
     ]
    },
    {
     "name": "stderr",
     "output_type": "stream",
     "text": [
      "INFO: Fetching OGLE guesses: https://ogle.astrouw.edu.pl/ogle3/ews/2002/blg-080.html\n",
      "C:\\Users\\Saeed\\AppData\\Local\\Temp\\ipykernel_14856\\3667917964.py:85: FutureWarning: Passing literal html to 'read_html' is deprecated and will be removed in a future version. To read from a literal string, wrap it in a 'StringIO' object.\n",
      "  dfs = pd.read_html(r.text)\n",
      "WARNING: Too few points to create valid contours\n",
      "WARNING: Too few points to create valid contours\n",
      "WARNING: Too few points to create valid contours\n",
      "WARNING: Too few points to create valid contours\n",
      "WARNING: Too few points to create valid contours\n",
      "WARNING: Too few points to create valid contours\n",
      "INFO: Downloading photometry: https://www.astrouw.edu.pl/ogle/ogle3/ews/2002/blg-081/phot.dat\n"
     ]
    },
    {
     "name": "stdout",
     "output_type": "stream",
     "text": [
      "2002 - 80 done\n",
      "OGLE 2002 BLG 80 Done\n",
      "OGLE 2002 BLG 81 started\n"
     ]
    },
    {
     "name": "stderr",
     "output_type": "stream",
     "text": [
      "INFO: Fetching OGLE guesses: https://ogle.astrouw.edu.pl/ogle3/ews/2002/blg-081.html\n",
      "C:\\Users\\Saeed\\AppData\\Local\\Temp\\ipykernel_14856\\3667917964.py:85: FutureWarning: Passing literal html to 'read_html' is deprecated and will be removed in a future version. To read from a literal string, wrap it in a 'StringIO' object.\n",
      "  dfs = pd.read_html(r.text)\n",
      "INFO: Downloading photometry: https://www.astrouw.edu.pl/ogle/ogle3/ews/2002/blg-082/phot.dat\n"
     ]
    },
    {
     "name": "stdout",
     "output_type": "stream",
     "text": [
      "2002 - 81 done\n",
      "OGLE 2002 BLG 81 Done\n",
      "OGLE 2002 BLG 82 started\n"
     ]
    },
    {
     "name": "stderr",
     "output_type": "stream",
     "text": [
      "INFO: Fetching OGLE guesses: https://ogle.astrouw.edu.pl/ogle3/ews/2002/blg-082.html\n",
      "C:\\Users\\Saeed\\AppData\\Local\\Temp\\ipykernel_14856\\3667917964.py:85: FutureWarning: Passing literal html to 'read_html' is deprecated and will be removed in a future version. To read from a literal string, wrap it in a 'StringIO' object.\n",
      "  dfs = pd.read_html(r.text)\n",
      "WARNING: Too few points to create valid contours\n",
      "INFO: Downloading photometry: https://www.astrouw.edu.pl/ogle/ogle3/ews/2002/blg-083/phot.dat\n"
     ]
    },
    {
     "name": "stdout",
     "output_type": "stream",
     "text": [
      "2002 - 82 done\n",
      "OGLE 2002 BLG 82 Done\n",
      "OGLE 2002 BLG 83 started\n"
     ]
    },
    {
     "name": "stderr",
     "output_type": "stream",
     "text": [
      "INFO: Fetching OGLE guesses: https://ogle.astrouw.edu.pl/ogle3/ews/2002/blg-083.html\n",
      "C:\\Users\\Saeed\\AppData\\Local\\Temp\\ipykernel_14856\\3667917964.py:85: FutureWarning: Passing literal html to 'read_html' is deprecated and will be removed in a future version. To read from a literal string, wrap it in a 'StringIO' object.\n",
      "  dfs = pd.read_html(r.text)\n",
      "WARNING: Too few points to create valid contours\n",
      "WARNING: Too few points to create valid contours\n",
      "WARNING: Too few points to create valid contours\n",
      "WARNING: Too few points to create valid contours\n",
      "WARNING: Too few points to create valid contours\n",
      "WARNING: Too few points to create valid contours\n",
      "WARNING: Too few points to create valid contours\n",
      "WARNING: Too few points to create valid contours\n",
      "WARNING: Too few points to create valid contours\n",
      "INFO: Downloading photometry: https://www.astrouw.edu.pl/ogle/ogle3/ews/2002/blg-084/phot.dat\n"
     ]
    },
    {
     "name": "stdout",
     "output_type": "stream",
     "text": [
      "2002 - 83 done\n",
      "OGLE 2002 BLG 83 Done\n",
      "OGLE 2002 BLG 84 started\n"
     ]
    },
    {
     "name": "stderr",
     "output_type": "stream",
     "text": [
      "INFO: Fetching OGLE guesses: https://ogle.astrouw.edu.pl/ogle3/ews/2002/blg-084.html\n",
      "C:\\Users\\Saeed\\AppData\\Local\\Temp\\ipykernel_14856\\3667917964.py:85: FutureWarning: Passing literal html to 'read_html' is deprecated and will be removed in a future version. To read from a literal string, wrap it in a 'StringIO' object.\n",
      "  dfs = pd.read_html(r.text)\n",
      "INFO: Downloading photometry: https://www.astrouw.edu.pl/ogle/ogle3/ews/2002/blg-085/phot.dat\n"
     ]
    },
    {
     "name": "stdout",
     "output_type": "stream",
     "text": [
      "2002 - 84 done\n",
      "OGLE 2002 BLG 84 Done\n",
      "OGLE 2002 BLG 85 started\n"
     ]
    },
    {
     "name": "stderr",
     "output_type": "stream",
     "text": [
      "INFO: Fetching OGLE guesses: https://ogle.astrouw.edu.pl/ogle3/ews/2002/blg-085.html\n",
      "C:\\Users\\Saeed\\AppData\\Local\\Temp\\ipykernel_14856\\3667917964.py:85: FutureWarning: Passing literal html to 'read_html' is deprecated and will be removed in a future version. To read from a literal string, wrap it in a 'StringIO' object.\n",
      "  dfs = pd.read_html(r.text)\n",
      "INFO: Downloading photometry: https://www.astrouw.edu.pl/ogle/ogle3/ews/2002/blg-086/phot.dat\n"
     ]
    },
    {
     "name": "stdout",
     "output_type": "stream",
     "text": [
      "2002 - 85 done\n",
      "OGLE 2002 BLG 85 Done\n",
      "OGLE 2002 BLG 86 started\n"
     ]
    },
    {
     "name": "stderr",
     "output_type": "stream",
     "text": [
      "INFO: Fetching OGLE guesses: https://ogle.astrouw.edu.pl/ogle3/ews/2002/blg-086.html\n",
      "C:\\Users\\Saeed\\AppData\\Local\\Temp\\ipykernel_14856\\3667917964.py:85: FutureWarning: Passing literal html to 'read_html' is deprecated and will be removed in a future version. To read from a literal string, wrap it in a 'StringIO' object.\n",
      "  dfs = pd.read_html(r.text)\n",
      "WARNING: Too few points to create valid contours\n",
      "INFO: Downloading photometry: https://www.astrouw.edu.pl/ogle/ogle3/ews/2002/blg-087/phot.dat\n"
     ]
    },
    {
     "name": "stdout",
     "output_type": "stream",
     "text": [
      "2002 - 86 done\n",
      "OGLE 2002 BLG 86 Done\n",
      "OGLE 2002 BLG 87 started\n"
     ]
    },
    {
     "name": "stderr",
     "output_type": "stream",
     "text": [
      "INFO: Fetching OGLE guesses: https://ogle.astrouw.edu.pl/ogle3/ews/2002/blg-087.html\n",
      "C:\\Users\\Saeed\\AppData\\Local\\Temp\\ipykernel_14856\\3667917964.py:85: FutureWarning: Passing literal html to 'read_html' is deprecated and will be removed in a future version. To read from a literal string, wrap it in a 'StringIO' object.\n",
      "  dfs = pd.read_html(r.text)\n",
      "WARNING: Too few points to create valid contours\n",
      "INFO: Downloading photometry: https://www.astrouw.edu.pl/ogle/ogle3/ews/2002/blg-088/phot.dat\n"
     ]
    },
    {
     "name": "stdout",
     "output_type": "stream",
     "text": [
      "2002 - 87 done\n",
      "OGLE 2002 BLG 87 Done\n",
      "OGLE 2002 BLG 88 started\n"
     ]
    },
    {
     "name": "stderr",
     "output_type": "stream",
     "text": [
      "INFO: Fetching OGLE guesses: https://ogle.astrouw.edu.pl/ogle3/ews/2002/blg-088.html\n",
      "C:\\Users\\Saeed\\AppData\\Local\\Temp\\ipykernel_14856\\3667917964.py:85: FutureWarning: Passing literal html to 'read_html' is deprecated and will be removed in a future version. To read from a literal string, wrap it in a 'StringIO' object.\n",
      "  dfs = pd.read_html(r.text)\n",
      "WARNING: Too few points to create valid contours\n",
      "WARNING: Too few points to create valid contours\n",
      "WARNING: Too few points to create valid contours\n",
      "WARNING: Too few points to create valid contours\n",
      "WARNING: Too few points to create valid contours\n",
      "WARNING: Too few points to create valid contours\n",
      "WARNING: Too few points to create valid contours\n",
      "WARNING: Too few points to create valid contours\n",
      "WARNING: Too few points to create valid contours\n",
      "WARNING: Too few points to create valid contours\n",
      "INFO: Downloading photometry: https://www.astrouw.edu.pl/ogle/ogle3/ews/2002/blg-089/phot.dat\n"
     ]
    },
    {
     "name": "stdout",
     "output_type": "stream",
     "text": [
      "2002 - 88 done\n",
      "OGLE 2002 BLG 88 Done\n",
      "OGLE 2002 BLG 89 started\n"
     ]
    },
    {
     "name": "stderr",
     "output_type": "stream",
     "text": [
      "INFO: Fetching OGLE guesses: https://ogle.astrouw.edu.pl/ogle3/ews/2002/blg-089.html\n",
      "C:\\Users\\Saeed\\AppData\\Local\\Temp\\ipykernel_14856\\3667917964.py:85: FutureWarning: Passing literal html to 'read_html' is deprecated and will be removed in a future version. To read from a literal string, wrap it in a 'StringIO' object.\n",
      "  dfs = pd.read_html(r.text)\n",
      "WARNING: Too few points to create valid contours\n",
      "INFO: Downloading photometry: https://www.astrouw.edu.pl/ogle/ogle3/ews/2002/blg-090/phot.dat\n"
     ]
    },
    {
     "name": "stdout",
     "output_type": "stream",
     "text": [
      "2002 - 89 done\n",
      "OGLE 2002 BLG 89 Done\n",
      "OGLE 2002 BLG 90 started\n"
     ]
    },
    {
     "name": "stderr",
     "output_type": "stream",
     "text": [
      "INFO: Fetching OGLE guesses: https://ogle.astrouw.edu.pl/ogle3/ews/2002/blg-090.html\n",
      "C:\\Users\\Saeed\\AppData\\Local\\Temp\\ipykernel_14856\\3667917964.py:85: FutureWarning: Passing literal html to 'read_html' is deprecated and will be removed in a future version. To read from a literal string, wrap it in a 'StringIO' object.\n",
      "  dfs = pd.read_html(r.text)\n",
      "WARNING: Parsed HTML but couldn't extract expected cells: could not convert string to float: '-'\n",
      "WARNING: Too few points to create valid contours\n",
      "WARNING: Too few points to create valid contours\n",
      "WARNING: Too few points to create valid contours\n",
      "WARNING: Too few points to create valid contours\n",
      "WARNING: Too few points to create valid contours\n",
      "WARNING: Too few points to create valid contours\n",
      "WARNING: Too few points to create valid contours\n",
      "WARNING: Too few points to create valid contours\n",
      "INFO: Downloading photometry: https://www.astrouw.edu.pl/ogle/ogle3/ews/2002/blg-091/phot.dat\n"
     ]
    },
    {
     "name": "stdout",
     "output_type": "stream",
     "text": [
      "2002 - 90 done\n",
      "OGLE 2002 BLG 90 Done\n",
      "OGLE 2002 BLG 91 started\n"
     ]
    },
    {
     "name": "stderr",
     "output_type": "stream",
     "text": [
      "INFO: Fetching OGLE guesses: https://ogle.astrouw.edu.pl/ogle3/ews/2002/blg-091.html\n",
      "C:\\Users\\Saeed\\AppData\\Local\\Temp\\ipykernel_14856\\3667917964.py:85: FutureWarning: Passing literal html to 'read_html' is deprecated and will be removed in a future version. To read from a literal string, wrap it in a 'StringIO' object.\n",
      "  dfs = pd.read_html(r.text)\n",
      "INFO: Downloading photometry: https://www.astrouw.edu.pl/ogle/ogle3/ews/2002/blg-092/phot.dat\n"
     ]
    },
    {
     "name": "stdout",
     "output_type": "stream",
     "text": [
      "2002 - 91 done\n",
      "OGLE 2002 BLG 91 Done\n",
      "OGLE 2002 BLG 92 started\n"
     ]
    },
    {
     "name": "stderr",
     "output_type": "stream",
     "text": [
      "INFO: Fetching OGLE guesses: https://ogle.astrouw.edu.pl/ogle3/ews/2002/blg-092.html\n",
      "C:\\Users\\Saeed\\AppData\\Local\\Temp\\ipykernel_14856\\3667917964.py:85: FutureWarning: Passing literal html to 'read_html' is deprecated and will be removed in a future version. To read from a literal string, wrap it in a 'StringIO' object.\n",
      "  dfs = pd.read_html(r.text)\n",
      "INFO: Downloading photometry: https://www.astrouw.edu.pl/ogle/ogle3/ews/2002/blg-093/phot.dat\n"
     ]
    },
    {
     "name": "stdout",
     "output_type": "stream",
     "text": [
      "2002 - 92 done\n",
      "OGLE 2002 BLG 92 Done\n",
      "OGLE 2002 BLG 93 started\n"
     ]
    },
    {
     "name": "stderr",
     "output_type": "stream",
     "text": [
      "INFO: Fetching OGLE guesses: https://ogle.astrouw.edu.pl/ogle3/ews/2002/blg-093.html\n",
      "C:\\Users\\Saeed\\AppData\\Local\\Temp\\ipykernel_14856\\3667917964.py:85: FutureWarning: Passing literal html to 'read_html' is deprecated and will be removed in a future version. To read from a literal string, wrap it in a 'StringIO' object.\n",
      "  dfs = pd.read_html(r.text)\n",
      "INFO: Downloading photometry: https://www.astrouw.edu.pl/ogle/ogle3/ews/2002/blg-094/phot.dat\n"
     ]
    },
    {
     "name": "stdout",
     "output_type": "stream",
     "text": [
      "2002 - 93 done\n",
      "OGLE 2002 BLG 93 Done\n",
      "OGLE 2002 BLG 94 started\n"
     ]
    },
    {
     "name": "stderr",
     "output_type": "stream",
     "text": [
      "INFO: Fetching OGLE guesses: https://ogle.astrouw.edu.pl/ogle3/ews/2002/blg-094.html\n",
      "C:\\Users\\Saeed\\AppData\\Local\\Temp\\ipykernel_14856\\3667917964.py:85: FutureWarning: Passing literal html to 'read_html' is deprecated and will be removed in a future version. To read from a literal string, wrap it in a 'StringIO' object.\n",
      "  dfs = pd.read_html(r.text)\n",
      "WARNING: Too few points to create valid contours\n",
      "WARNING: Too few points to create valid contours\n",
      "WARNING: Too few points to create valid contours\n",
      "WARNING: Too few points to create valid contours\n",
      "WARNING: Too few points to create valid contours\n",
      "INFO: Downloading photometry: https://www.astrouw.edu.pl/ogle/ogle3/ews/2002/blg-095/phot.dat\n"
     ]
    },
    {
     "name": "stdout",
     "output_type": "stream",
     "text": [
      "2002 - 94 done\n",
      "OGLE 2002 BLG 94 Done\n",
      "OGLE 2002 BLG 95 started\n"
     ]
    },
    {
     "name": "stderr",
     "output_type": "stream",
     "text": [
      "INFO: Fetching OGLE guesses: https://ogle.astrouw.edu.pl/ogle3/ews/2002/blg-095.html\n",
      "C:\\Users\\Saeed\\AppData\\Local\\Temp\\ipykernel_14856\\3667917964.py:85: FutureWarning: Passing literal html to 'read_html' is deprecated and will be removed in a future version. To read from a literal string, wrap it in a 'StringIO' object.\n",
      "  dfs = pd.read_html(r.text)\n",
      "WARNING: Too few points to create valid contours\n",
      "WARNING: Too few points to create valid contours\n",
      "WARNING: Too few points to create valid contours\n",
      "WARNING: Too few points to create valid contours\n",
      "WARNING: Too few points to create valid contours\n",
      "WARNING: Too few points to create valid contours\n",
      "WARNING: Too few points to create valid contours\n",
      "WARNING: Too few points to create valid contours\n",
      "WARNING: Too few points to create valid contours\n",
      "WARNING: Too few points to create valid contours\n",
      "INFO: Downloading photometry: https://www.astrouw.edu.pl/ogle/ogle3/ews/2002/blg-096/phot.dat\n"
     ]
    },
    {
     "name": "stdout",
     "output_type": "stream",
     "text": [
      "2002 - 95 done\n",
      "OGLE 2002 BLG 95 Done\n",
      "OGLE 2002 BLG 96 started\n"
     ]
    },
    {
     "name": "stderr",
     "output_type": "stream",
     "text": [
      "INFO: Fetching OGLE guesses: https://ogle.astrouw.edu.pl/ogle3/ews/2002/blg-096.html\n",
      "C:\\Users\\Saeed\\AppData\\Local\\Temp\\ipykernel_14856\\3667917964.py:85: FutureWarning: Passing literal html to 'read_html' is deprecated and will be removed in a future version. To read from a literal string, wrap it in a 'StringIO' object.\n",
      "  dfs = pd.read_html(r.text)\n",
      "WARNING: Too few points to create valid contours\n",
      "WARNING: Too few points to create valid contours\n",
      "WARNING: Too few points to create valid contours\n",
      "WARNING: Too few points to create valid contours\n",
      "WARNING: Too few points to create valid contours\n",
      "WARNING: Too few points to create valid contours\n",
      "INFO: Downloading photometry: https://www.astrouw.edu.pl/ogle/ogle3/ews/2002/blg-097/phot.dat\n"
     ]
    },
    {
     "name": "stdout",
     "output_type": "stream",
     "text": [
      "2002 - 96 done\n",
      "OGLE 2002 BLG 96 Done\n",
      "OGLE 2002 BLG 97 started\n"
     ]
    },
    {
     "name": "stderr",
     "output_type": "stream",
     "text": [
      "INFO: Fetching OGLE guesses: https://ogle.astrouw.edu.pl/ogle3/ews/2002/blg-097.html\n",
      "C:\\Users\\Saeed\\AppData\\Local\\Temp\\ipykernel_14856\\3667917964.py:85: FutureWarning: Passing literal html to 'read_html' is deprecated and will be removed in a future version. To read from a literal string, wrap it in a 'StringIO' object.\n",
      "  dfs = pd.read_html(r.text)\n",
      "WARNING: Too few points to create valid contours\n",
      "WARNING: Too few points to create valid contours\n",
      "WARNING: Too few points to create valid contours\n",
      "INFO: Downloading photometry: https://www.astrouw.edu.pl/ogle/ogle3/ews/2002/blg-098/phot.dat\n"
     ]
    },
    {
     "name": "stdout",
     "output_type": "stream",
     "text": [
      "2002 - 97 done\n",
      "OGLE 2002 BLG 97 Done\n",
      "OGLE 2002 BLG 98 started\n"
     ]
    },
    {
     "name": "stderr",
     "output_type": "stream",
     "text": [
      "INFO: Fetching OGLE guesses: https://ogle.astrouw.edu.pl/ogle3/ews/2002/blg-098.html\n",
      "C:\\Users\\Saeed\\AppData\\Local\\Temp\\ipykernel_14856\\3667917964.py:85: FutureWarning: Passing literal html to 'read_html' is deprecated and will be removed in a future version. To read from a literal string, wrap it in a 'StringIO' object.\n",
      "  dfs = pd.read_html(r.text)\n",
      "WARNING: Too few points to create valid contours\n",
      "WARNING: Too few points to create valid contours\n",
      "WARNING: Too few points to create valid contours\n",
      "WARNING: Too few points to create valid contours\n",
      "WARNING: Too few points to create valid contours\n",
      "WARNING: Too few points to create valid contours\n",
      "WARNING: Too few points to create valid contours\n",
      "WARNING: Too few points to create valid contours\n",
      "WARNING: Too few points to create valid contours\n",
      "INFO: Downloading photometry: https://www.astrouw.edu.pl/ogle/ogle3/ews/2002/blg-099/phot.dat\n"
     ]
    },
    {
     "name": "stdout",
     "output_type": "stream",
     "text": [
      "2002 - 98 done\n",
      "OGLE 2002 BLG 98 Done\n",
      "OGLE 2002 BLG 99 started\n"
     ]
    },
    {
     "name": "stderr",
     "output_type": "stream",
     "text": [
      "INFO: Fetching OGLE guesses: https://ogle.astrouw.edu.pl/ogle3/ews/2002/blg-099.html\n",
      "C:\\Users\\Saeed\\AppData\\Local\\Temp\\ipykernel_14856\\3667917964.py:85: FutureWarning: Passing literal html to 'read_html' is deprecated and will be removed in a future version. To read from a literal string, wrap it in a 'StringIO' object.\n",
      "  dfs = pd.read_html(r.text)\n",
      "WARNING: Parsed HTML but couldn't extract expected cells: could not convert string to float: '-'\n",
      "WARNING: Too few points to create valid contours\n",
      "WARNING: Too few points to create valid contours\n",
      "WARNING: Too few points to create valid contours\n",
      "WARNING: Too few points to create valid contours\n",
      "WARNING: Too few points to create valid contours\n",
      "WARNING: Too few points to create valid contours\n",
      "WARNING: Too few points to create valid contours\n",
      "WARNING: Too few points to create valid contours\n",
      "WARNING: Too few points to create valid contours\n",
      "WARNING: Too few points to create valid contours\n",
      "INFO: Downloading photometry: https://www.astrouw.edu.pl/ogle/ogle3/ews/2002/blg-100/phot.dat\n"
     ]
    },
    {
     "name": "stdout",
     "output_type": "stream",
     "text": [
      "2002 - 99 done\n",
      "OGLE 2002 BLG 99 Done\n",
      "OGLE 2002 BLG 100 started\n"
     ]
    },
    {
     "name": "stderr",
     "output_type": "stream",
     "text": [
      "INFO: Fetching OGLE guesses: https://ogle.astrouw.edu.pl/ogle3/ews/2002/blg-100.html\n",
      "C:\\Users\\Saeed\\AppData\\Local\\Temp\\ipykernel_14856\\3667917964.py:85: FutureWarning: Passing literal html to 'read_html' is deprecated and will be removed in a future version. To read from a literal string, wrap it in a 'StringIO' object.\n",
      "  dfs = pd.read_html(r.text)\n",
      "WARNING: Too few points to create valid contours\n",
      "WARNING: Too few points to create valid contours\n",
      "WARNING: Too few points to create valid contours\n",
      "WARNING: Too few points to create valid contours\n",
      "WARNING: Too few points to create valid contours\n",
      "WARNING: Too few points to create valid contours\n",
      "WARNING: Too few points to create valid contours\n",
      "WARNING: Too few points to create valid contours\n",
      "WARNING: Too few points to create valid contours\n",
      "WARNING: Too few points to create valid contours\n",
      "INFO: Downloading photometry: https://www.astrouw.edu.pl/ogle/ogle3/ews/2002/blg-101/phot.dat\n"
     ]
    },
    {
     "name": "stdout",
     "output_type": "stream",
     "text": [
      "2002 - 100 done\n",
      "OGLE 2002 BLG 100 Done\n",
      "OGLE 2002 BLG 101 started\n"
     ]
    },
    {
     "name": "stderr",
     "output_type": "stream",
     "text": [
      "INFO: Fetching OGLE guesses: https://ogle.astrouw.edu.pl/ogle3/ews/2002/blg-101.html\n",
      "C:\\Users\\Saeed\\AppData\\Local\\Temp\\ipykernel_14856\\3667917964.py:85: FutureWarning: Passing literal html to 'read_html' is deprecated and will be removed in a future version. To read from a literal string, wrap it in a 'StringIO' object.\n",
      "  dfs = pd.read_html(r.text)\n",
      "WARNING: Too few points to create valid contours\n",
      "WARNING: Too few points to create valid contours\n",
      "WARNING: Too few points to create valid contours\n",
      "WARNING: Too few points to create valid contours\n",
      "WARNING: Too few points to create valid contours\n",
      "WARNING: Too few points to create valid contours\n",
      "WARNING: Too few points to create valid contours\n",
      "WARNING: Too few points to create valid contours\n",
      "WARNING: Too few points to create valid contours\n",
      "WARNING: Too few points to create valid contours\n",
      "INFO: Downloading photometry: https://www.astrouw.edu.pl/ogle/ogle3/ews/2002/blg-102/phot.dat\n"
     ]
    },
    {
     "name": "stdout",
     "output_type": "stream",
     "text": [
      "2002 - 101 done\n",
      "OGLE 2002 BLG 101 Done\n",
      "OGLE 2002 BLG 102 started\n"
     ]
    },
    {
     "name": "stderr",
     "output_type": "stream",
     "text": [
      "INFO: Fetching OGLE guesses: https://ogle.astrouw.edu.pl/ogle3/ews/2002/blg-102.html\n",
      "C:\\Users\\Saeed\\AppData\\Local\\Temp\\ipykernel_14856\\3667917964.py:85: FutureWarning: Passing literal html to 'read_html' is deprecated and will be removed in a future version. To read from a literal string, wrap it in a 'StringIO' object.\n",
      "  dfs = pd.read_html(r.text)\n",
      "WARNING: Too few points to create valid contours\n",
      "WARNING: Too few points to create valid contours\n",
      "WARNING: Too few points to create valid contours\n",
      "INFO: Downloading photometry: https://www.astrouw.edu.pl/ogle/ogle3/ews/2002/blg-103/phot.dat\n"
     ]
    },
    {
     "name": "stdout",
     "output_type": "stream",
     "text": [
      "2002 - 102 done\n",
      "OGLE 2002 BLG 102 Done\n",
      "OGLE 2002 BLG 103 started\n"
     ]
    },
    {
     "name": "stderr",
     "output_type": "stream",
     "text": [
      "INFO: Fetching OGLE guesses: https://ogle.astrouw.edu.pl/ogle3/ews/2002/blg-103.html\n",
      "C:\\Users\\Saeed\\AppData\\Local\\Temp\\ipykernel_14856\\3667917964.py:85: FutureWarning: Passing literal html to 'read_html' is deprecated and will be removed in a future version. To read from a literal string, wrap it in a 'StringIO' object.\n",
      "  dfs = pd.read_html(r.text)\n",
      "WARNING: Too few points to create valid contours\n",
      "WARNING: Too few points to create valid contours\n",
      "WARNING: Too few points to create valid contours\n",
      "WARNING: Too few points to create valid contours\n",
      "WARNING: Too few points to create valid contours\n",
      "WARNING: Too few points to create valid contours\n",
      "WARNING: Too few points to create valid contours\n",
      "WARNING: Too few points to create valid contours\n",
      "WARNING: Too few points to create valid contours\n",
      "WARNING: Too few points to create valid contours\n",
      "INFO: Downloading photometry: https://www.astrouw.edu.pl/ogle/ogle3/ews/2002/blg-104/phot.dat\n"
     ]
    },
    {
     "name": "stdout",
     "output_type": "stream",
     "text": [
      "2002 - 103 done\n",
      "OGLE 2002 BLG 103 Done\n",
      "OGLE 2002 BLG 104 started\n"
     ]
    },
    {
     "name": "stderr",
     "output_type": "stream",
     "text": [
      "INFO: Fetching OGLE guesses: https://ogle.astrouw.edu.pl/ogle3/ews/2002/blg-104.html\n",
      "C:\\Users\\Saeed\\AppData\\Local\\Temp\\ipykernel_14856\\3667917964.py:85: FutureWarning: Passing literal html to 'read_html' is deprecated and will be removed in a future version. To read from a literal string, wrap it in a 'StringIO' object.\n",
      "  dfs = pd.read_html(r.text)\n",
      "WARNING: Too few points to create valid contours\n",
      "INFO: Downloading photometry: https://www.astrouw.edu.pl/ogle/ogle3/ews/2002/blg-105/phot.dat\n"
     ]
    },
    {
     "name": "stdout",
     "output_type": "stream",
     "text": [
      "2002 - 104 done\n",
      "OGLE 2002 BLG 104 Done\n",
      "OGLE 2002 BLG 105 started\n"
     ]
    },
    {
     "name": "stderr",
     "output_type": "stream",
     "text": [
      "INFO: Fetching OGLE guesses: https://ogle.astrouw.edu.pl/ogle3/ews/2002/blg-105.html\n",
      "C:\\Users\\Saeed\\AppData\\Local\\Temp\\ipykernel_14856\\3667917964.py:85: FutureWarning: Passing literal html to 'read_html' is deprecated and will be removed in a future version. To read from a literal string, wrap it in a 'StringIO' object.\n",
      "  dfs = pd.read_html(r.text)\n",
      "WARNING: Too few points to create valid contours\n",
      "WARNING: Too few points to create valid contours\n",
      "WARNING: Too few points to create valid contours\n",
      "WARNING: Too few points to create valid contours\n",
      "WARNING: Too few points to create valid contours\n",
      "WARNING: Too few points to create valid contours\n",
      "WARNING: Too few points to create valid contours\n",
      "WARNING: Too few points to create valid contours\n",
      "WARNING: Too few points to create valid contours\n",
      "WARNING: Too few points to create valid contours\n",
      "INFO: Downloading photometry: https://www.astrouw.edu.pl/ogle/ogle3/ews/2002/blg-106/phot.dat\n"
     ]
    },
    {
     "name": "stdout",
     "output_type": "stream",
     "text": [
      "2002 - 105 done\n",
      "OGLE 2002 BLG 105 Done\n",
      "OGLE 2002 BLG 106 started\n"
     ]
    },
    {
     "name": "stderr",
     "output_type": "stream",
     "text": [
      "INFO: Fetching OGLE guesses: https://ogle.astrouw.edu.pl/ogle3/ews/2002/blg-106.html\n",
      "C:\\Users\\Saeed\\AppData\\Local\\Temp\\ipykernel_14856\\3667917964.py:85: FutureWarning: Passing literal html to 'read_html' is deprecated and will be removed in a future version. To read from a literal string, wrap it in a 'StringIO' object.\n",
      "  dfs = pd.read_html(r.text)\n",
      "WARNING: Too few points to create valid contours\n",
      "WARNING: Too few points to create valid contours\n",
      "WARNING: Too few points to create valid contours\n",
      "WARNING: Too few points to create valid contours\n",
      "WARNING: Too few points to create valid contours\n",
      "WARNING: Too few points to create valid contours\n",
      "WARNING: Too few points to create valid contours\n",
      "WARNING: Too few points to create valid contours\n",
      "INFO: Downloading photometry: https://www.astrouw.edu.pl/ogle/ogle3/ews/2002/blg-107/phot.dat\n"
     ]
    },
    {
     "name": "stdout",
     "output_type": "stream",
     "text": [
      "2002 - 106 done\n",
      "OGLE 2002 BLG 106 Done\n",
      "OGLE 2002 BLG 107 started\n"
     ]
    },
    {
     "name": "stderr",
     "output_type": "stream",
     "text": [
      "INFO: Fetching OGLE guesses: https://ogle.astrouw.edu.pl/ogle3/ews/2002/blg-107.html\n",
      "C:\\Users\\Saeed\\AppData\\Local\\Temp\\ipykernel_14856\\3667917964.py:85: FutureWarning: Passing literal html to 'read_html' is deprecated and will be removed in a future version. To read from a literal string, wrap it in a 'StringIO' object.\n",
      "  dfs = pd.read_html(r.text)\n",
      "INFO: Downloading photometry: https://www.astrouw.edu.pl/ogle/ogle3/ews/2002/blg-108/phot.dat\n"
     ]
    },
    {
     "name": "stdout",
     "output_type": "stream",
     "text": [
      "2002 - 107 done\n",
      "OGLE 2002 BLG 107 Done\n",
      "OGLE 2002 BLG 108 started\n"
     ]
    },
    {
     "name": "stderr",
     "output_type": "stream",
     "text": [
      "INFO: Fetching OGLE guesses: https://ogle.astrouw.edu.pl/ogle3/ews/2002/blg-108.html\n",
      "C:\\Users\\Saeed\\AppData\\Local\\Temp\\ipykernel_14856\\3667917964.py:85: FutureWarning: Passing literal html to 'read_html' is deprecated and will be removed in a future version. To read from a literal string, wrap it in a 'StringIO' object.\n",
      "  dfs = pd.read_html(r.text)\n",
      "WARNING: Too few points to create valid contours\n",
      "WARNING: Too few points to create valid contours\n",
      "WARNING: Too few points to create valid contours\n",
      "WARNING: Too few points to create valid contours\n",
      "WARNING: Too few points to create valid contours\n",
      "INFO: Downloading photometry: https://www.astrouw.edu.pl/ogle/ogle3/ews/2002/blg-109/phot.dat\n"
     ]
    },
    {
     "name": "stdout",
     "output_type": "stream",
     "text": [
      "2002 - 108 done\n",
      "OGLE 2002 BLG 108 Done\n",
      "OGLE 2002 BLG 109 started\n"
     ]
    },
    {
     "name": "stderr",
     "output_type": "stream",
     "text": [
      "INFO: Fetching OGLE guesses: https://ogle.astrouw.edu.pl/ogle3/ews/2002/blg-109.html\n",
      "C:\\Users\\Saeed\\AppData\\Local\\Temp\\ipykernel_14856\\3667917964.py:85: FutureWarning: Passing literal html to 'read_html' is deprecated and will be removed in a future version. To read from a literal string, wrap it in a 'StringIO' object.\n",
      "  dfs = pd.read_html(r.text)\n",
      "INFO: Downloading photometry: https://www.astrouw.edu.pl/ogle/ogle3/ews/2002/blg-110/phot.dat\n"
     ]
    },
    {
     "name": "stdout",
     "output_type": "stream",
     "text": [
      "2002 - 109 done\n",
      "OGLE 2002 BLG 109 Done\n",
      "OGLE 2002 BLG 110 started\n"
     ]
    },
    {
     "name": "stderr",
     "output_type": "stream",
     "text": [
      "INFO: Fetching OGLE guesses: https://ogle.astrouw.edu.pl/ogle3/ews/2002/blg-110.html\n",
      "C:\\Users\\Saeed\\AppData\\Local\\Temp\\ipykernel_14856\\3667917964.py:85: FutureWarning: Passing literal html to 'read_html' is deprecated and will be removed in a future version. To read from a literal string, wrap it in a 'StringIO' object.\n",
      "  dfs = pd.read_html(r.text)\n",
      "WARNING: Too few points to create valid contours\n",
      "WARNING: Too few points to create valid contours\n",
      "WARNING: Too few points to create valid contours\n",
      "WARNING: Too few points to create valid contours\n",
      "WARNING: Too few points to create valid contours\n",
      "WARNING: Too few points to create valid contours\n",
      "WARNING: Too few points to create valid contours\n",
      "WARNING: Too few points to create valid contours\n",
      "WARNING: Too few points to create valid contours\n",
      "WARNING: Too few points to create valid contours\n",
      "INFO: Downloading photometry: https://www.astrouw.edu.pl/ogle/ogle3/ews/2002/blg-111/phot.dat\n"
     ]
    },
    {
     "name": "stdout",
     "output_type": "stream",
     "text": [
      "2002 - 110 done\n",
      "OGLE 2002 BLG 110 Done\n",
      "OGLE 2002 BLG 111 started\n"
     ]
    },
    {
     "name": "stderr",
     "output_type": "stream",
     "text": [
      "INFO: Fetching OGLE guesses: https://ogle.astrouw.edu.pl/ogle3/ews/2002/blg-111.html\n",
      "C:\\Users\\Saeed\\AppData\\Local\\Temp\\ipykernel_14856\\3667917964.py:85: FutureWarning: Passing literal html to 'read_html' is deprecated and will be removed in a future version. To read from a literal string, wrap it in a 'StringIO' object.\n",
      "  dfs = pd.read_html(r.text)\n",
      "WARNING: Too few points to create valid contours\n",
      "WARNING: Too few points to create valid contours\n",
      "WARNING: Too few points to create valid contours\n",
      "WARNING: Too few points to create valid contours\n",
      "WARNING: Too few points to create valid contours\n",
      "INFO: Downloading photometry: https://www.astrouw.edu.pl/ogle/ogle3/ews/2002/blg-112/phot.dat\n"
     ]
    },
    {
     "name": "stdout",
     "output_type": "stream",
     "text": [
      "2002 - 111 done\n",
      "OGLE 2002 BLG 111 Done\n",
      "OGLE 2002 BLG 112 started\n"
     ]
    },
    {
     "name": "stderr",
     "output_type": "stream",
     "text": [
      "INFO: Fetching OGLE guesses: https://ogle.astrouw.edu.pl/ogle3/ews/2002/blg-112.html\n",
      "C:\\Users\\Saeed\\AppData\\Local\\Temp\\ipykernel_14856\\3667917964.py:85: FutureWarning: Passing literal html to 'read_html' is deprecated and will be removed in a future version. To read from a literal string, wrap it in a 'StringIO' object.\n",
      "  dfs = pd.read_html(r.text)\n",
      "INFO: Downloading photometry: https://www.astrouw.edu.pl/ogle/ogle3/ews/2002/blg-113/phot.dat\n"
     ]
    },
    {
     "name": "stdout",
     "output_type": "stream",
     "text": [
      "2002 - 112 done\n",
      "OGLE 2002 BLG 112 Done\n",
      "OGLE 2002 BLG 113 started\n"
     ]
    },
    {
     "name": "stderr",
     "output_type": "stream",
     "text": [
      "INFO: Fetching OGLE guesses: https://ogle.astrouw.edu.pl/ogle3/ews/2002/blg-113.html\n",
      "C:\\Users\\Saeed\\AppData\\Local\\Temp\\ipykernel_14856\\3667917964.py:85: FutureWarning: Passing literal html to 'read_html' is deprecated and will be removed in a future version. To read from a literal string, wrap it in a 'StringIO' object.\n",
      "  dfs = pd.read_html(r.text)\n",
      "INFO: Downloading photometry: https://www.astrouw.edu.pl/ogle/ogle3/ews/2002/blg-114/phot.dat\n"
     ]
    },
    {
     "name": "stdout",
     "output_type": "stream",
     "text": [
      "2002 - 113 done\n",
      "OGLE 2002 BLG 113 Done\n",
      "OGLE 2002 BLG 114 started\n"
     ]
    },
    {
     "name": "stderr",
     "output_type": "stream",
     "text": [
      "INFO: Fetching OGLE guesses: https://ogle.astrouw.edu.pl/ogle3/ews/2002/blg-114.html\n",
      "C:\\Users\\Saeed\\AppData\\Local\\Temp\\ipykernel_14856\\3667917964.py:85: FutureWarning: Passing literal html to 'read_html' is deprecated and will be removed in a future version. To read from a literal string, wrap it in a 'StringIO' object.\n",
      "  dfs = pd.read_html(r.text)\n",
      "WARNING: Parsed HTML but couldn't extract expected cells: could not convert string to float: '-'\n",
      "WARNING: Too few points to create valid contours\n",
      "WARNING: Too few points to create valid contours\n",
      "WARNING: Too few points to create valid contours\n",
      "WARNING: Too few points to create valid contours\n",
      "WARNING: Too few points to create valid contours\n",
      "WARNING: Too few points to create valid contours\n",
      "WARNING: Too few points to create valid contours\n",
      "WARNING: Too few points to create valid contours\n",
      "WARNING: Too few points to create valid contours\n",
      "INFO: Downloading photometry: https://www.astrouw.edu.pl/ogle/ogle3/ews/2002/blg-115/phot.dat\n"
     ]
    },
    {
     "name": "stdout",
     "output_type": "stream",
     "text": [
      "2002 - 114 done\n",
      "OGLE 2002 BLG 114 Done\n",
      "OGLE 2002 BLG 115 started\n"
     ]
    },
    {
     "name": "stderr",
     "output_type": "stream",
     "text": [
      "INFO: Fetching OGLE guesses: https://ogle.astrouw.edu.pl/ogle3/ews/2002/blg-115.html\n",
      "C:\\Users\\Saeed\\AppData\\Local\\Temp\\ipykernel_14856\\3667917964.py:85: FutureWarning: Passing literal html to 'read_html' is deprecated and will be removed in a future version. To read from a literal string, wrap it in a 'StringIO' object.\n",
      "  dfs = pd.read_html(r.text)\n",
      "WARNING: Too few points to create valid contours\n",
      "INFO: Downloading photometry: https://www.astrouw.edu.pl/ogle/ogle3/ews/2002/blg-116/phot.dat\n"
     ]
    },
    {
     "name": "stdout",
     "output_type": "stream",
     "text": [
      "2002 - 115 done\n",
      "OGLE 2002 BLG 115 Done\n",
      "OGLE 2002 BLG 116 started\n"
     ]
    },
    {
     "name": "stderr",
     "output_type": "stream",
     "text": [
      "INFO: Fetching OGLE guesses: https://ogle.astrouw.edu.pl/ogle3/ews/2002/blg-116.html\n",
      "C:\\Users\\Saeed\\AppData\\Local\\Temp\\ipykernel_14856\\3667917964.py:85: FutureWarning: Passing literal html to 'read_html' is deprecated and will be removed in a future version. To read from a literal string, wrap it in a 'StringIO' object.\n",
      "  dfs = pd.read_html(r.text)\n",
      "WARNING: Too few points to create valid contours\n",
      "INFO: Downloading photometry: https://www.astrouw.edu.pl/ogle/ogle3/ews/2002/blg-117/phot.dat\n"
     ]
    },
    {
     "name": "stdout",
     "output_type": "stream",
     "text": [
      "2002 - 116 done\n",
      "OGLE 2002 BLG 116 Done\n",
      "OGLE 2002 BLG 117 started\n"
     ]
    },
    {
     "name": "stderr",
     "output_type": "stream",
     "text": [
      "INFO: Fetching OGLE guesses: https://ogle.astrouw.edu.pl/ogle3/ews/2002/blg-117.html\n",
      "C:\\Users\\Saeed\\AppData\\Local\\Temp\\ipykernel_14856\\3667917964.py:85: FutureWarning: Passing literal html to 'read_html' is deprecated and will be removed in a future version. To read from a literal string, wrap it in a 'StringIO' object.\n",
      "  dfs = pd.read_html(r.text)\n",
      "WARNING: Too few points to create valid contours\n",
      "WARNING: Too few points to create valid contours\n",
      "WARNING: Too few points to create valid contours\n",
      "WARNING: Too few points to create valid contours\n",
      "WARNING: Too few points to create valid contours\n",
      "WARNING: Too few points to create valid contours\n",
      "WARNING: Too few points to create valid contours\n",
      "INFO: Downloading photometry: https://www.astrouw.edu.pl/ogle/ogle3/ews/2002/blg-118/phot.dat\n"
     ]
    },
    {
     "name": "stdout",
     "output_type": "stream",
     "text": [
      "2002 - 117 done\n",
      "OGLE 2002 BLG 117 Done\n",
      "OGLE 2002 BLG 118 started\n"
     ]
    },
    {
     "name": "stderr",
     "output_type": "stream",
     "text": [
      "INFO: Fetching OGLE guesses: https://ogle.astrouw.edu.pl/ogle3/ews/2002/blg-118.html\n",
      "C:\\Users\\Saeed\\AppData\\Local\\Temp\\ipykernel_14856\\3667917964.py:85: FutureWarning: Passing literal html to 'read_html' is deprecated and will be removed in a future version. To read from a literal string, wrap it in a 'StringIO' object.\n",
      "  dfs = pd.read_html(r.text)\n",
      "INFO: Downloading photometry: https://www.astrouw.edu.pl/ogle/ogle3/ews/2002/blg-119/phot.dat\n"
     ]
    },
    {
     "name": "stdout",
     "output_type": "stream",
     "text": [
      "2002 - 118 done\n",
      "OGLE 2002 BLG 118 Done\n",
      "OGLE 2002 BLG 119 started\n"
     ]
    },
    {
     "name": "stderr",
     "output_type": "stream",
     "text": [
      "INFO: Fetching OGLE guesses: https://ogle.astrouw.edu.pl/ogle3/ews/2002/blg-119.html\n",
      "C:\\Users\\Saeed\\AppData\\Local\\Temp\\ipykernel_14856\\3667917964.py:85: FutureWarning: Passing literal html to 'read_html' is deprecated and will be removed in a future version. To read from a literal string, wrap it in a 'StringIO' object.\n",
      "  dfs = pd.read_html(r.text)\n",
      "WARNING: Parsed HTML but couldn't extract expected cells: could not convert string to float: '-'\n",
      "WARNING: Too few points to create valid contours\n",
      "WARNING: Too few points to create valid contours\n",
      "WARNING: Too few points to create valid contours\n",
      "WARNING: Too few points to create valid contours\n",
      "WARNING: Too few points to create valid contours\n",
      "WARNING: Too few points to create valid contours\n",
      "WARNING: Too few points to create valid contours\n",
      "WARNING: Too few points to create valid contours\n",
      "WARNING: Too few points to create valid contours\n",
      "WARNING: Too few points to create valid contours\n",
      "INFO: Downloading photometry: https://www.astrouw.edu.pl/ogle/ogle3/ews/2002/blg-120/phot.dat\n"
     ]
    },
    {
     "name": "stdout",
     "output_type": "stream",
     "text": [
      "2002 - 119 done\n",
      "OGLE 2002 BLG 119 Done\n",
      "OGLE 2002 BLG 120 started\n"
     ]
    },
    {
     "name": "stderr",
     "output_type": "stream",
     "text": [
      "INFO: Fetching OGLE guesses: https://ogle.astrouw.edu.pl/ogle3/ews/2002/blg-120.html\n",
      "C:\\Users\\Saeed\\AppData\\Local\\Temp\\ipykernel_14856\\3667917964.py:85: FutureWarning: Passing literal html to 'read_html' is deprecated and will be removed in a future version. To read from a literal string, wrap it in a 'StringIO' object.\n",
      "  dfs = pd.read_html(r.text)\n",
      "WARNING: Too few points to create valid contours\n",
      "WARNING: Too few points to create valid contours\n",
      "WARNING: Too few points to create valid contours\n",
      "WARNING: Too few points to create valid contours\n",
      "WARNING: Too few points to create valid contours\n",
      "WARNING: Too few points to create valid contours\n",
      "WARNING: Too few points to create valid contours\n",
      "WARNING: Too few points to create valid contours\n",
      "WARNING: Too few points to create valid contours\n",
      "WARNING: Too few points to create valid contours\n",
      "INFO: Downloading photometry: https://www.astrouw.edu.pl/ogle/ogle3/ews/2002/blg-121/phot.dat\n"
     ]
    },
    {
     "name": "stdout",
     "output_type": "stream",
     "text": [
      "2002 - 120 done\n",
      "OGLE 2002 BLG 120 Done\n",
      "OGLE 2002 BLG 121 started\n"
     ]
    },
    {
     "name": "stderr",
     "output_type": "stream",
     "text": [
      "INFO: Fetching OGLE guesses: https://ogle.astrouw.edu.pl/ogle3/ews/2002/blg-121.html\n",
      "C:\\Users\\Saeed\\AppData\\Local\\Temp\\ipykernel_14856\\3667917964.py:85: FutureWarning: Passing literal html to 'read_html' is deprecated and will be removed in a future version. To read from a literal string, wrap it in a 'StringIO' object.\n",
      "  dfs = pd.read_html(r.text)\n",
      "INFO: Downloading photometry: https://www.astrouw.edu.pl/ogle/ogle3/ews/2002/blg-122/phot.dat\n"
     ]
    },
    {
     "name": "stdout",
     "output_type": "stream",
     "text": [
      "2002 - 121 done\n",
      "OGLE 2002 BLG 121 Done\n",
      "OGLE 2002 BLG 122 started\n"
     ]
    },
    {
     "name": "stderr",
     "output_type": "stream",
     "text": [
      "INFO: Fetching OGLE guesses: https://ogle.astrouw.edu.pl/ogle3/ews/2002/blg-122.html\n",
      "C:\\Users\\Saeed\\AppData\\Local\\Temp\\ipykernel_14856\\3667917964.py:85: FutureWarning: Passing literal html to 'read_html' is deprecated and will be removed in a future version. To read from a literal string, wrap it in a 'StringIO' object.\n",
      "  dfs = pd.read_html(r.text)\n",
      "WARNING: Too few points to create valid contours\n",
      "WARNING: Too few points to create valid contours\n",
      "WARNING: Too few points to create valid contours\n",
      "WARNING: Too few points to create valid contours\n",
      "WARNING: Too few points to create valid contours\n",
      "WARNING: Too few points to create valid contours\n",
      "INFO: Downloading photometry: https://www.astrouw.edu.pl/ogle/ogle3/ews/2002/blg-123/phot.dat\n"
     ]
    },
    {
     "name": "stdout",
     "output_type": "stream",
     "text": [
      "2002 - 122 done\n",
      "OGLE 2002 BLG 122 Done\n",
      "OGLE 2002 BLG 123 started\n"
     ]
    },
    {
     "name": "stderr",
     "output_type": "stream",
     "text": [
      "INFO: Fetching OGLE guesses: https://ogle.astrouw.edu.pl/ogle3/ews/2002/blg-123.html\n",
      "C:\\Users\\Saeed\\AppData\\Local\\Temp\\ipykernel_14856\\3667917964.py:85: FutureWarning: Passing literal html to 'read_html' is deprecated and will be removed in a future version. To read from a literal string, wrap it in a 'StringIO' object.\n",
      "  dfs = pd.read_html(r.text)\n",
      "INFO: Downloading photometry: https://www.astrouw.edu.pl/ogle/ogle3/ews/2002/blg-124/phot.dat\n"
     ]
    },
    {
     "name": "stdout",
     "output_type": "stream",
     "text": [
      "2002 - 123 done\n",
      "OGLE 2002 BLG 123 Done\n",
      "OGLE 2002 BLG 124 started\n"
     ]
    },
    {
     "name": "stderr",
     "output_type": "stream",
     "text": [
      "INFO: Fetching OGLE guesses: https://ogle.astrouw.edu.pl/ogle3/ews/2002/blg-124.html\n",
      "C:\\Users\\Saeed\\AppData\\Local\\Temp\\ipykernel_14856\\3667917964.py:85: FutureWarning: Passing literal html to 'read_html' is deprecated and will be removed in a future version. To read from a literal string, wrap it in a 'StringIO' object.\n",
      "  dfs = pd.read_html(r.text)\n",
      "WARNING: Too few points to create valid contours\n",
      "INFO: Downloading photometry: https://www.astrouw.edu.pl/ogle/ogle3/ews/2002/blg-125/phot.dat\n"
     ]
    },
    {
     "name": "stdout",
     "output_type": "stream",
     "text": [
      "2002 - 124 done\n",
      "OGLE 2002 BLG 124 Done\n",
      "OGLE 2002 BLG 125 started\n"
     ]
    },
    {
     "name": "stderr",
     "output_type": "stream",
     "text": [
      "INFO: Fetching OGLE guesses: https://ogle.astrouw.edu.pl/ogle3/ews/2002/blg-125.html\n",
      "C:\\Users\\Saeed\\AppData\\Local\\Temp\\ipykernel_14856\\3667917964.py:85: FutureWarning: Passing literal html to 'read_html' is deprecated and will be removed in a future version. To read from a literal string, wrap it in a 'StringIO' object.\n",
      "  dfs = pd.read_html(r.text)\n",
      "WARNING: Too few points to create valid contours\n",
      "WARNING: Too few points to create valid contours\n",
      "WARNING: Too few points to create valid contours\n",
      "WARNING: Too few points to create valid contours\n",
      "WARNING: Too few points to create valid contours\n",
      "WARNING: Too few points to create valid contours\n",
      "WARNING: Too few points to create valid contours\n",
      "WARNING: Too few points to create valid contours\n",
      "WARNING: Too few points to create valid contours\n",
      "WARNING: Too few points to create valid contours\n",
      "INFO: Downloading photometry: https://www.astrouw.edu.pl/ogle/ogle3/ews/2002/blg-126/phot.dat\n"
     ]
    },
    {
     "name": "stdout",
     "output_type": "stream",
     "text": [
      "2002 - 125 done\n",
      "OGLE 2002 BLG 125 Done\n",
      "OGLE 2002 BLG 126 started\n"
     ]
    },
    {
     "name": "stderr",
     "output_type": "stream",
     "text": [
      "INFO: Fetching OGLE guesses: https://ogle.astrouw.edu.pl/ogle3/ews/2002/blg-126.html\n",
      "C:\\Users\\Saeed\\AppData\\Local\\Temp\\ipykernel_14856\\3667917964.py:85: FutureWarning: Passing literal html to 'read_html' is deprecated and will be removed in a future version. To read from a literal string, wrap it in a 'StringIO' object.\n",
      "  dfs = pd.read_html(r.text)\n",
      "WARNING: Too few points to create valid contours\n",
      "WARNING: Too few points to create valid contours\n",
      "WARNING: Too few points to create valid contours\n",
      "WARNING: Too few points to create valid contours\n",
      "WARNING: Too few points to create valid contours\n",
      "WARNING: Too few points to create valid contours\n",
      "WARNING: Too few points to create valid contours\n",
      "WARNING: Too few points to create valid contours\n",
      "WARNING: Too few points to create valid contours\n",
      "WARNING: Too few points to create valid contours\n",
      "INFO: Downloading photometry: https://www.astrouw.edu.pl/ogle/ogle3/ews/2002/blg-127/phot.dat\n"
     ]
    },
    {
     "name": "stdout",
     "output_type": "stream",
     "text": [
      "2002 - 126 done\n",
      "OGLE 2002 BLG 126 Done\n",
      "OGLE 2002 BLG 127 started\n"
     ]
    },
    {
     "name": "stderr",
     "output_type": "stream",
     "text": [
      "INFO: Fetching OGLE guesses: https://ogle.astrouw.edu.pl/ogle3/ews/2002/blg-127.html\n",
      "C:\\Users\\Saeed\\AppData\\Local\\Temp\\ipykernel_14856\\3667917964.py:85: FutureWarning: Passing literal html to 'read_html' is deprecated and will be removed in a future version. To read from a literal string, wrap it in a 'StringIO' object.\n",
      "  dfs = pd.read_html(r.text)\n",
      "WARNING: Too few points to create valid contours\n",
      "INFO: Downloading photometry: https://www.astrouw.edu.pl/ogle/ogle3/ews/2002/blg-128/phot.dat\n"
     ]
    },
    {
     "name": "stdout",
     "output_type": "stream",
     "text": [
      "2002 - 127 done\n",
      "OGLE 2002 BLG 127 Done\n",
      "OGLE 2002 BLG 128 started\n"
     ]
    },
    {
     "name": "stderr",
     "output_type": "stream",
     "text": [
      "INFO: Fetching OGLE guesses: https://ogle.astrouw.edu.pl/ogle3/ews/2002/blg-128.html\n",
      "C:\\Users\\Saeed\\AppData\\Local\\Temp\\ipykernel_14856\\3667917964.py:85: FutureWarning: Passing literal html to 'read_html' is deprecated and will be removed in a future version. To read from a literal string, wrap it in a 'StringIO' object.\n",
      "  dfs = pd.read_html(r.text)\n",
      "WARNING: Too few points to create valid contours\n",
      "INFO: Downloading photometry: https://www.astrouw.edu.pl/ogle/ogle3/ews/2002/blg-129/phot.dat\n"
     ]
    },
    {
     "name": "stdout",
     "output_type": "stream",
     "text": [
      "2002 - 128 done\n",
      "OGLE 2002 BLG 128 Done\n",
      "OGLE 2002 BLG 129 started\n"
     ]
    },
    {
     "name": "stderr",
     "output_type": "stream",
     "text": [
      "INFO: Fetching OGLE guesses: https://ogle.astrouw.edu.pl/ogle3/ews/2002/blg-129.html\n",
      "C:\\Users\\Saeed\\AppData\\Local\\Temp\\ipykernel_14856\\3667917964.py:85: FutureWarning: Passing literal html to 'read_html' is deprecated and will be removed in a future version. To read from a literal string, wrap it in a 'StringIO' object.\n",
      "  dfs = pd.read_html(r.text)\n",
      "WARNING: Parsed HTML but couldn't extract expected cells: could not convert string to float: '-'\n",
      "WARNING: Too few points to create valid contours\n",
      "WARNING: Too few points to create valid contours\n",
      "WARNING: Too few points to create valid contours\n",
      "WARNING: Too few points to create valid contours\n",
      "WARNING: Too few points to create valid contours\n",
      "WARNING: Too few points to create valid contours\n",
      "WARNING: Too few points to create valid contours\n",
      "WARNING: Too few points to create valid contours\n",
      "WARNING: Too few points to create valid contours\n",
      "WARNING: Too few points to create valid contours\n",
      "INFO: Downloading photometry: https://www.astrouw.edu.pl/ogle/ogle3/ews/2002/blg-130/phot.dat\n"
     ]
    },
    {
     "name": "stdout",
     "output_type": "stream",
     "text": [
      "2002 - 129 done\n",
      "OGLE 2002 BLG 129 Done\n",
      "OGLE 2002 BLG 130 started\n"
     ]
    },
    {
     "name": "stderr",
     "output_type": "stream",
     "text": [
      "INFO: Fetching OGLE guesses: https://ogle.astrouw.edu.pl/ogle3/ews/2002/blg-130.html\n",
      "C:\\Users\\Saeed\\AppData\\Local\\Temp\\ipykernel_14856\\3667917964.py:85: FutureWarning: Passing literal html to 'read_html' is deprecated and will be removed in a future version. To read from a literal string, wrap it in a 'StringIO' object.\n",
      "  dfs = pd.read_html(r.text)\n",
      "INFO: Downloading photometry: https://www.astrouw.edu.pl/ogle/ogle3/ews/2002/blg-131/phot.dat\n"
     ]
    },
    {
     "name": "stdout",
     "output_type": "stream",
     "text": [
      "2002 - 130 done\n",
      "OGLE 2002 BLG 130 Done\n",
      "OGLE 2002 BLG 131 started\n"
     ]
    },
    {
     "name": "stderr",
     "output_type": "stream",
     "text": [
      "INFO: Fetching OGLE guesses: https://ogle.astrouw.edu.pl/ogle3/ews/2002/blg-131.html\n",
      "C:\\Users\\Saeed\\AppData\\Local\\Temp\\ipykernel_14856\\3667917964.py:85: FutureWarning: Passing literal html to 'read_html' is deprecated and will be removed in a future version. To read from a literal string, wrap it in a 'StringIO' object.\n",
      "  dfs = pd.read_html(r.text)\n",
      "WARNING: Too few points to create valid contours\n",
      "WARNING: Too few points to create valid contours\n",
      "WARNING: Too few points to create valid contours\n",
      "WARNING: Too few points to create valid contours\n",
      "WARNING: Too few points to create valid contours\n",
      "WARNING: Too few points to create valid contours\n",
      "WARNING: Too few points to create valid contours\n",
      "WARNING: Too few points to create valid contours\n",
      "WARNING: Too few points to create valid contours\n",
      "INFO: Downloading photometry: https://www.astrouw.edu.pl/ogle/ogle3/ews/2002/blg-132/phot.dat\n"
     ]
    },
    {
     "name": "stdout",
     "output_type": "stream",
     "text": [
      "2002 - 131 done\n",
      "OGLE 2002 BLG 131 Done\n",
      "OGLE 2002 BLG 132 started\n"
     ]
    },
    {
     "name": "stderr",
     "output_type": "stream",
     "text": [
      "INFO: Fetching OGLE guesses: https://ogle.astrouw.edu.pl/ogle3/ews/2002/blg-132.html\n",
      "C:\\Users\\Saeed\\AppData\\Local\\Temp\\ipykernel_14856\\3667917964.py:85: FutureWarning: Passing literal html to 'read_html' is deprecated and will be removed in a future version. To read from a literal string, wrap it in a 'StringIO' object.\n",
      "  dfs = pd.read_html(r.text)\n",
      "WARNING: Too few points to create valid contours\n",
      "WARNING: Too few points to create valid contours\n",
      "WARNING: Too few points to create valid contours\n",
      "WARNING: Too few points to create valid contours\n",
      "WARNING: Too few points to create valid contours\n",
      "WARNING: Too few points to create valid contours\n",
      "INFO: Downloading photometry: https://www.astrouw.edu.pl/ogle/ogle3/ews/2002/blg-133/phot.dat\n"
     ]
    },
    {
     "name": "stdout",
     "output_type": "stream",
     "text": [
      "2002 - 132 done\n",
      "OGLE 2002 BLG 132 Done\n",
      "OGLE 2002 BLG 133 started\n"
     ]
    },
    {
     "name": "stderr",
     "output_type": "stream",
     "text": [
      "INFO: Fetching OGLE guesses: https://ogle.astrouw.edu.pl/ogle3/ews/2002/blg-133.html\n",
      "C:\\Users\\Saeed\\AppData\\Local\\Temp\\ipykernel_14856\\3667917964.py:85: FutureWarning: Passing literal html to 'read_html' is deprecated and will be removed in a future version. To read from a literal string, wrap it in a 'StringIO' object.\n",
      "  dfs = pd.read_html(r.text)\n",
      "INFO: Downloading photometry: https://www.astrouw.edu.pl/ogle/ogle3/ews/2002/blg-134/phot.dat\n"
     ]
    },
    {
     "name": "stdout",
     "output_type": "stream",
     "text": [
      "2002 - 133 done\n",
      "OGLE 2002 BLG 133 Done\n",
      "OGLE 2002 BLG 134 started\n"
     ]
    },
    {
     "name": "stderr",
     "output_type": "stream",
     "text": [
      "INFO: Fetching OGLE guesses: https://ogle.astrouw.edu.pl/ogle3/ews/2002/blg-134.html\n",
      "C:\\Users\\Saeed\\AppData\\Local\\Temp\\ipykernel_14856\\3667917964.py:85: FutureWarning: Passing literal html to 'read_html' is deprecated and will be removed in a future version. To read from a literal string, wrap it in a 'StringIO' object.\n",
      "  dfs = pd.read_html(r.text)\n",
      "INFO: Downloading photometry: https://www.astrouw.edu.pl/ogle/ogle3/ews/2002/blg-135/phot.dat\n"
     ]
    },
    {
     "name": "stdout",
     "output_type": "stream",
     "text": [
      "2002 - 134 done\n",
      "OGLE 2002 BLG 134 Done\n",
      "OGLE 2002 BLG 135 started\n"
     ]
    },
    {
     "name": "stderr",
     "output_type": "stream",
     "text": [
      "INFO: Fetching OGLE guesses: https://ogle.astrouw.edu.pl/ogle3/ews/2002/blg-135.html\n",
      "C:\\Users\\Saeed\\AppData\\Local\\Temp\\ipykernel_14856\\3667917964.py:85: FutureWarning: Passing literal html to 'read_html' is deprecated and will be removed in a future version. To read from a literal string, wrap it in a 'StringIO' object.\n",
      "  dfs = pd.read_html(r.text)\n",
      "WARNING: Parsed HTML but couldn't extract expected cells: could not convert string to float: '-'\n",
      "WARNING: Too few points to create valid contours\n",
      "WARNING: Too few points to create valid contours\n",
      "WARNING: Too few points to create valid contours\n",
      "WARNING: Too few points to create valid contours\n",
      "WARNING: Too few points to create valid contours\n",
      "WARNING: Too few points to create valid contours\n",
      "WARNING: Too few points to create valid contours\n",
      "WARNING: Too few points to create valid contours\n",
      "WARNING: Too few points to create valid contours\n",
      "INFO: Downloading photometry: https://www.astrouw.edu.pl/ogle/ogle3/ews/2002/blg-136/phot.dat\n"
     ]
    },
    {
     "name": "stdout",
     "output_type": "stream",
     "text": [
      "2002 - 135 done\n",
      "OGLE 2002 BLG 135 Done\n",
      "OGLE 2002 BLG 136 started\n"
     ]
    },
    {
     "name": "stderr",
     "output_type": "stream",
     "text": [
      "INFO: Fetching OGLE guesses: https://ogle.astrouw.edu.pl/ogle3/ews/2002/blg-136.html\n",
      "C:\\Users\\Saeed\\AppData\\Local\\Temp\\ipykernel_14856\\3667917964.py:85: FutureWarning: Passing literal html to 'read_html' is deprecated and will be removed in a future version. To read from a literal string, wrap it in a 'StringIO' object.\n",
      "  dfs = pd.read_html(r.text)\n",
      "WARNING: Too few points to create valid contours\n",
      "WARNING: Too few points to create valid contours\n",
      "WARNING: Too few points to create valid contours\n",
      "WARNING: Too few points to create valid contours\n",
      "WARNING: Too few points to create valid contours\n",
      "WARNING: Too few points to create valid contours\n",
      "WARNING: Too few points to create valid contours\n",
      "WARNING: Too few points to create valid contours\n",
      "WARNING: Too few points to create valid contours\n",
      "INFO: Downloading photometry: https://www.astrouw.edu.pl/ogle/ogle3/ews/2002/blg-137/phot.dat\n"
     ]
    },
    {
     "name": "stdout",
     "output_type": "stream",
     "text": [
      "2002 - 136 done\n",
      "OGLE 2002 BLG 136 Done\n",
      "OGLE 2002 BLG 137 started\n"
     ]
    },
    {
     "name": "stderr",
     "output_type": "stream",
     "text": [
      "INFO: Fetching OGLE guesses: https://ogle.astrouw.edu.pl/ogle3/ews/2002/blg-137.html\n",
      "C:\\Users\\Saeed\\AppData\\Local\\Temp\\ipykernel_14856\\3667917964.py:85: FutureWarning: Passing literal html to 'read_html' is deprecated and will be removed in a future version. To read from a literal string, wrap it in a 'StringIO' object.\n",
      "  dfs = pd.read_html(r.text)\n",
      "INFO: Downloading photometry: https://www.astrouw.edu.pl/ogle/ogle3/ews/2002/blg-138/phot.dat\n"
     ]
    },
    {
     "name": "stdout",
     "output_type": "stream",
     "text": [
      "2002 - 137 done\n",
      "OGLE 2002 BLG 137 Done\n",
      "OGLE 2002 BLG 138 started\n"
     ]
    },
    {
     "name": "stderr",
     "output_type": "stream",
     "text": [
      "INFO: Fetching OGLE guesses: https://ogle.astrouw.edu.pl/ogle3/ews/2002/blg-138.html\n",
      "C:\\Users\\Saeed\\AppData\\Local\\Temp\\ipykernel_14856\\3667917964.py:85: FutureWarning: Passing literal html to 'read_html' is deprecated and will be removed in a future version. To read from a literal string, wrap it in a 'StringIO' object.\n",
      "  dfs = pd.read_html(r.text)\n",
      "WARNING: Too few points to create valid contours\n",
      "WARNING: Too few points to create valid contours\n",
      "WARNING: Too few points to create valid contours\n",
      "WARNING: Too few points to create valid contours\n",
      "WARNING: Too few points to create valid contours\n",
      "WARNING: Too few points to create valid contours\n",
      "WARNING: Too few points to create valid contours\n",
      "WARNING: Too few points to create valid contours\n",
      "WARNING: Too few points to create valid contours\n",
      "WARNING: Too few points to create valid contours\n",
      "INFO: Downloading photometry: https://www.astrouw.edu.pl/ogle/ogle3/ews/2002/blg-139/phot.dat\n"
     ]
    },
    {
     "name": "stdout",
     "output_type": "stream",
     "text": [
      "2002 - 138 done\n",
      "OGLE 2002 BLG 138 Done\n",
      "OGLE 2002 BLG 139 started\n"
     ]
    },
    {
     "name": "stderr",
     "output_type": "stream",
     "text": [
      "INFO: Fetching OGLE guesses: https://ogle.astrouw.edu.pl/ogle3/ews/2002/blg-139.html\n",
      "C:\\Users\\Saeed\\AppData\\Local\\Temp\\ipykernel_14856\\3667917964.py:85: FutureWarning: Passing literal html to 'read_html' is deprecated and will be removed in a future version. To read from a literal string, wrap it in a 'StringIO' object.\n",
      "  dfs = pd.read_html(r.text)\n",
      "INFO: Downloading photometry: https://www.astrouw.edu.pl/ogle/ogle3/ews/2002/blg-140/phot.dat\n"
     ]
    },
    {
     "name": "stdout",
     "output_type": "stream",
     "text": [
      "2002 - 139 done\n",
      "OGLE 2002 BLG 139 Done\n",
      "OGLE 2002 BLG 140 started\n"
     ]
    },
    {
     "name": "stderr",
     "output_type": "stream",
     "text": [
      "INFO: Fetching OGLE guesses: https://ogle.astrouw.edu.pl/ogle3/ews/2002/blg-140.html\n",
      "C:\\Users\\Saeed\\AppData\\Local\\Temp\\ipykernel_14856\\3667917964.py:85: FutureWarning: Passing literal html to 'read_html' is deprecated and will be removed in a future version. To read from a literal string, wrap it in a 'StringIO' object.\n",
      "  dfs = pd.read_html(r.text)\n",
      "WARNING: Too few points to create valid contours\n",
      "WARNING: Too few points to create valid contours\n",
      "WARNING: Too few points to create valid contours\n",
      "WARNING: Too few points to create valid contours\n",
      "WARNING: Too few points to create valid contours\n",
      "WARNING: Too few points to create valid contours\n",
      "WARNING: Too few points to create valid contours\n",
      "WARNING: Too few points to create valid contours\n",
      "WARNING: Too few points to create valid contours\n",
      "WARNING: Too few points to create valid contours\n",
      "INFO: Downloading photometry: https://www.astrouw.edu.pl/ogle/ogle3/ews/2002/blg-141/phot.dat\n"
     ]
    },
    {
     "name": "stdout",
     "output_type": "stream",
     "text": [
      "2002 - 140 done\n",
      "OGLE 2002 BLG 140 Done\n",
      "OGLE 2002 BLG 141 started\n"
     ]
    },
    {
     "name": "stderr",
     "output_type": "stream",
     "text": [
      "INFO: Fetching OGLE guesses: https://ogle.astrouw.edu.pl/ogle3/ews/2002/blg-141.html\n",
      "C:\\Users\\Saeed\\AppData\\Local\\Temp\\ipykernel_14856\\3667917964.py:85: FutureWarning: Passing literal html to 'read_html' is deprecated and will be removed in a future version. To read from a literal string, wrap it in a 'StringIO' object.\n",
      "  dfs = pd.read_html(r.text)\n",
      "INFO: Downloading photometry: https://www.astrouw.edu.pl/ogle/ogle3/ews/2002/blg-142/phot.dat\n"
     ]
    },
    {
     "name": "stdout",
     "output_type": "stream",
     "text": [
      "2002 - 141 done\n",
      "OGLE 2002 BLG 141 Done\n",
      "OGLE 2002 BLG 142 started\n"
     ]
    },
    {
     "name": "stderr",
     "output_type": "stream",
     "text": [
      "INFO: Fetching OGLE guesses: https://ogle.astrouw.edu.pl/ogle3/ews/2002/blg-142.html\n",
      "C:\\Users\\Saeed\\AppData\\Local\\Temp\\ipykernel_14856\\3667917964.py:85: FutureWarning: Passing literal html to 'read_html' is deprecated and will be removed in a future version. To read from a literal string, wrap it in a 'StringIO' object.\n",
      "  dfs = pd.read_html(r.text)\n",
      "WARNING: Too few points to create valid contours\n",
      "WARNING: Too few points to create valid contours\n",
      "WARNING: Too few points to create valid contours\n",
      "WARNING: Too few points to create valid contours\n",
      "WARNING: Too few points to create valid contours\n",
      "WARNING: Too few points to create valid contours\n",
      "WARNING: Too few points to create valid contours\n",
      "WARNING: Too few points to create valid contours\n",
      "WARNING: Too few points to create valid contours\n",
      "WARNING: Too few points to create valid contours\n",
      "INFO: Downloading photometry: https://www.astrouw.edu.pl/ogle/ogle3/ews/2002/blg-143/phot.dat\n"
     ]
    },
    {
     "name": "stdout",
     "output_type": "stream",
     "text": [
      "2002 - 142 done\n",
      "OGLE 2002 BLG 142 Done\n",
      "OGLE 2002 BLG 143 started\n"
     ]
    },
    {
     "name": "stderr",
     "output_type": "stream",
     "text": [
      "INFO: Fetching OGLE guesses: https://ogle.astrouw.edu.pl/ogle3/ews/2002/blg-143.html\n",
      "C:\\Users\\Saeed\\AppData\\Local\\Temp\\ipykernel_14856\\3667917964.py:85: FutureWarning: Passing literal html to 'read_html' is deprecated and will be removed in a future version. To read from a literal string, wrap it in a 'StringIO' object.\n",
      "  dfs = pd.read_html(r.text)\n",
      "WARNING: Too few points to create valid contours\n",
      "WARNING: Too few points to create valid contours\n",
      "WARNING: Too few points to create valid contours\n",
      "WARNING: Too few points to create valid contours\n",
      "WARNING: Too few points to create valid contours\n",
      "WARNING: Too few points to create valid contours\n",
      "WARNING: Too few points to create valid contours\n",
      "WARNING: Too few points to create valid contours\n",
      "INFO: Downloading photometry: https://www.astrouw.edu.pl/ogle/ogle3/ews/2002/blg-144/phot.dat\n"
     ]
    },
    {
     "name": "stdout",
     "output_type": "stream",
     "text": [
      "2002 - 143 done\n",
      "OGLE 2002 BLG 143 Done\n",
      "OGLE 2002 BLG 144 started\n"
     ]
    },
    {
     "name": "stderr",
     "output_type": "stream",
     "text": [
      "INFO: Fetching OGLE guesses: https://ogle.astrouw.edu.pl/ogle3/ews/2002/blg-144.html\n",
      "C:\\Users\\Saeed\\AppData\\Local\\Temp\\ipykernel_14856\\3667917964.py:85: FutureWarning: Passing literal html to 'read_html' is deprecated and will be removed in a future version. To read from a literal string, wrap it in a 'StringIO' object.\n",
      "  dfs = pd.read_html(r.text)\n",
      "INFO: Downloading photometry: https://www.astrouw.edu.pl/ogle/ogle3/ews/2002/blg-145/phot.dat\n"
     ]
    },
    {
     "name": "stdout",
     "output_type": "stream",
     "text": [
      "2002 - 144 done\n",
      "OGLE 2002 BLG 144 Done\n",
      "OGLE 2002 BLG 145 started\n"
     ]
    },
    {
     "name": "stderr",
     "output_type": "stream",
     "text": [
      "INFO: Fetching OGLE guesses: https://ogle.astrouw.edu.pl/ogle3/ews/2002/blg-145.html\n",
      "C:\\Users\\Saeed\\AppData\\Local\\Temp\\ipykernel_14856\\3667917964.py:85: FutureWarning: Passing literal html to 'read_html' is deprecated and will be removed in a future version. To read from a literal string, wrap it in a 'StringIO' object.\n",
      "  dfs = pd.read_html(r.text)\n",
      "WARNING: Too few points to create valid contours\n",
      "WARNING: Too few points to create valid contours\n",
      "WARNING: Too few points to create valid contours\n",
      "WARNING: Too few points to create valid contours\n",
      "WARNING: Too few points to create valid contours\n",
      "WARNING: Too few points to create valid contours\n",
      "WARNING: Too few points to create valid contours\n",
      "INFO: Downloading photometry: https://www.astrouw.edu.pl/ogle/ogle3/ews/2002/blg-146/phot.dat\n"
     ]
    },
    {
     "name": "stdout",
     "output_type": "stream",
     "text": [
      "2002 - 145 done\n",
      "OGLE 2002 BLG 145 Done\n",
      "OGLE 2002 BLG 146 started\n"
     ]
    },
    {
     "name": "stderr",
     "output_type": "stream",
     "text": [
      "INFO: Fetching OGLE guesses: https://ogle.astrouw.edu.pl/ogle3/ews/2002/blg-146.html\n",
      "C:\\Users\\Saeed\\AppData\\Local\\Temp\\ipykernel_14856\\3667917964.py:85: FutureWarning: Passing literal html to 'read_html' is deprecated and will be removed in a future version. To read from a literal string, wrap it in a 'StringIO' object.\n",
      "  dfs = pd.read_html(r.text)\n",
      "WARNING: Too few points to create valid contours\n",
      "WARNING: Too few points to create valid contours\n",
      "WARNING: Too few points to create valid contours\n",
      "WARNING: Too few points to create valid contours\n",
      "WARNING: Too few points to create valid contours\n",
      "INFO: Downloading photometry: https://www.astrouw.edu.pl/ogle/ogle3/ews/2002/blg-147/phot.dat\n"
     ]
    },
    {
     "name": "stdout",
     "output_type": "stream",
     "text": [
      "2002 - 146 done\n",
      "OGLE 2002 BLG 146 Done\n",
      "OGLE 2002 BLG 147 started\n"
     ]
    },
    {
     "name": "stderr",
     "output_type": "stream",
     "text": [
      "INFO: Fetching OGLE guesses: https://ogle.astrouw.edu.pl/ogle3/ews/2002/blg-147.html\n",
      "C:\\Users\\Saeed\\AppData\\Local\\Temp\\ipykernel_14856\\3667917964.py:85: FutureWarning: Passing literal html to 'read_html' is deprecated and will be removed in a future version. To read from a literal string, wrap it in a 'StringIO' object.\n",
      "  dfs = pd.read_html(r.text)\n",
      "WARNING: Too few points to create valid contours\n",
      "WARNING: Too few points to create valid contours\n",
      "WARNING: Too few points to create valid contours\n",
      "WARNING: Too few points to create valid contours\n",
      "WARNING: Too few points to create valid contours\n",
      "WARNING: Too few points to create valid contours\n",
      "WARNING: Too few points to create valid contours\n",
      "WARNING: Too few points to create valid contours\n",
      "INFO: Downloading photometry: https://www.astrouw.edu.pl/ogle/ogle3/ews/2002/blg-148/phot.dat\n"
     ]
    },
    {
     "name": "stdout",
     "output_type": "stream",
     "text": [
      "2002 - 147 done\n",
      "OGLE 2002 BLG 147 Done\n",
      "OGLE 2002 BLG 148 started\n"
     ]
    },
    {
     "name": "stderr",
     "output_type": "stream",
     "text": [
      "INFO: Fetching OGLE guesses: https://ogle.astrouw.edu.pl/ogle3/ews/2002/blg-148.html\n",
      "C:\\Users\\Saeed\\AppData\\Local\\Temp\\ipykernel_14856\\3667917964.py:85: FutureWarning: Passing literal html to 'read_html' is deprecated and will be removed in a future version. To read from a literal string, wrap it in a 'StringIO' object.\n",
      "  dfs = pd.read_html(r.text)\n",
      "WARNING: Too few points to create valid contours\n",
      "INFO: Downloading photometry: https://www.astrouw.edu.pl/ogle/ogle3/ews/2002/blg-149/phot.dat\n"
     ]
    },
    {
     "name": "stdout",
     "output_type": "stream",
     "text": [
      "2002 - 148 done\n",
      "OGLE 2002 BLG 148 Done\n",
      "OGLE 2002 BLG 149 started\n"
     ]
    },
    {
     "name": "stderr",
     "output_type": "stream",
     "text": [
      "INFO: Fetching OGLE guesses: https://ogle.astrouw.edu.pl/ogle3/ews/2002/blg-149.html\n",
      "C:\\Users\\Saeed\\AppData\\Local\\Temp\\ipykernel_14856\\3667917964.py:85: FutureWarning: Passing literal html to 'read_html' is deprecated and will be removed in a future version. To read from a literal string, wrap it in a 'StringIO' object.\n",
      "  dfs = pd.read_html(r.text)\n",
      "WARNING: Too few points to create valid contours\n",
      "WARNING: Too few points to create valid contours\n",
      "WARNING: Too few points to create valid contours\n",
      "WARNING: Too few points to create valid contours\n",
      "WARNING: Too few points to create valid contours\n",
      "WARNING: Too few points to create valid contours\n",
      "WARNING: Too few points to create valid contours\n",
      "WARNING: Too few points to create valid contours\n",
      "WARNING: Too few points to create valid contours\n",
      "WARNING: Too few points to create valid contours\n",
      "INFO: Downloading photometry: https://www.astrouw.edu.pl/ogle/ogle3/ews/2002/blg-150/phot.dat\n"
     ]
    },
    {
     "name": "stdout",
     "output_type": "stream",
     "text": [
      "2002 - 149 done\n",
      "OGLE 2002 BLG 149 Done\n",
      "OGLE 2002 BLG 150 started\n"
     ]
    },
    {
     "name": "stderr",
     "output_type": "stream",
     "text": [
      "INFO: Fetching OGLE guesses: https://ogle.astrouw.edu.pl/ogle3/ews/2002/blg-150.html\n",
      "C:\\Users\\Saeed\\AppData\\Local\\Temp\\ipykernel_14856\\3667917964.py:85: FutureWarning: Passing literal html to 'read_html' is deprecated and will be removed in a future version. To read from a literal string, wrap it in a 'StringIO' object.\n",
      "  dfs = pd.read_html(r.text)\n",
      "INFO: Downloading photometry: https://www.astrouw.edu.pl/ogle/ogle3/ews/2002/blg-151/phot.dat\n"
     ]
    },
    {
     "name": "stdout",
     "output_type": "stream",
     "text": [
      "2002 - 150 done\n",
      "OGLE 2002 BLG 150 Done\n",
      "OGLE 2002 BLG 151 started\n"
     ]
    },
    {
     "name": "stderr",
     "output_type": "stream",
     "text": [
      "INFO: Fetching OGLE guesses: https://ogle.astrouw.edu.pl/ogle3/ews/2002/blg-151.html\n",
      "C:\\Users\\Saeed\\AppData\\Local\\Temp\\ipykernel_14856\\3667917964.py:85: FutureWarning: Passing literal html to 'read_html' is deprecated and will be removed in a future version. To read from a literal string, wrap it in a 'StringIO' object.\n",
      "  dfs = pd.read_html(r.text)\n",
      "WARNING: Too few points to create valid contours\n",
      "WARNING: Too few points to create valid contours\n",
      "WARNING: Too few points to create valid contours\n",
      "WARNING: Too few points to create valid contours\n",
      "WARNING: Too few points to create valid contours\n",
      "WARNING: Too few points to create valid contours\n",
      "WARNING: Too few points to create valid contours\n",
      "WARNING: Too few points to create valid contours\n",
      "WARNING: Too few points to create valid contours\n",
      "WARNING: Too few points to create valid contours\n",
      "INFO: Downloading photometry: https://www.astrouw.edu.pl/ogle/ogle3/ews/2002/blg-152/phot.dat\n"
     ]
    },
    {
     "name": "stdout",
     "output_type": "stream",
     "text": [
      "2002 - 151 done\n",
      "OGLE 2002 BLG 151 Done\n",
      "OGLE 2002 BLG 152 started\n"
     ]
    },
    {
     "name": "stderr",
     "output_type": "stream",
     "text": [
      "INFO: Fetching OGLE guesses: https://ogle.astrouw.edu.pl/ogle3/ews/2002/blg-152.html\n",
      "C:\\Users\\Saeed\\AppData\\Local\\Temp\\ipykernel_14856\\3667917964.py:85: FutureWarning: Passing literal html to 'read_html' is deprecated and will be removed in a future version. To read from a literal string, wrap it in a 'StringIO' object.\n",
      "  dfs = pd.read_html(r.text)\n",
      "WARNING: Too few points to create valid contours\n",
      "WARNING: Too few points to create valid contours\n",
      "WARNING: Too few points to create valid contours\n",
      "WARNING: Too few points to create valid contours\n",
      "WARNING: Too few points to create valid contours\n",
      "WARNING: Too few points to create valid contours\n",
      "WARNING: Too few points to create valid contours\n",
      "WARNING: Too few points to create valid contours\n",
      "WARNING: Too few points to create valid contours\n",
      "WARNING: Too few points to create valid contours\n",
      "INFO: Downloading photometry: https://www.astrouw.edu.pl/ogle/ogle3/ews/2002/blg-153/phot.dat\n"
     ]
    },
    {
     "name": "stdout",
     "output_type": "stream",
     "text": [
      "2002 - 152 done\n",
      "OGLE 2002 BLG 152 Done\n",
      "OGLE 2002 BLG 153 started\n"
     ]
    },
    {
     "name": "stderr",
     "output_type": "stream",
     "text": [
      "INFO: Fetching OGLE guesses: https://ogle.astrouw.edu.pl/ogle3/ews/2002/blg-153.html\n",
      "C:\\Users\\Saeed\\AppData\\Local\\Temp\\ipykernel_14856\\3667917964.py:85: FutureWarning: Passing literal html to 'read_html' is deprecated and will be removed in a future version. To read from a literal string, wrap it in a 'StringIO' object.\n",
      "  dfs = pd.read_html(r.text)\n",
      "WARNING: Too few points to create valid contours\n",
      "WARNING: Too few points to create valid contours\n",
      "WARNING: Too few points to create valid contours\n",
      "WARNING: Too few points to create valid contours\n",
      "WARNING: Too few points to create valid contours\n",
      "WARNING: Too few points to create valid contours\n",
      "WARNING: Too few points to create valid contours\n",
      "WARNING: Too few points to create valid contours\n",
      "WARNING: Too few points to create valid contours\n",
      "WARNING: Too few points to create valid contours\n",
      "INFO: Downloading photometry: https://www.astrouw.edu.pl/ogle/ogle3/ews/2002/blg-154/phot.dat\n"
     ]
    },
    {
     "name": "stdout",
     "output_type": "stream",
     "text": [
      "2002 - 153 done\n",
      "OGLE 2002 BLG 153 Done\n",
      "OGLE 2002 BLG 154 started\n"
     ]
    },
    {
     "name": "stderr",
     "output_type": "stream",
     "text": [
      "INFO: Fetching OGLE guesses: https://ogle.astrouw.edu.pl/ogle3/ews/2002/blg-154.html\n",
      "C:\\Users\\Saeed\\AppData\\Local\\Temp\\ipykernel_14856\\3667917964.py:85: FutureWarning: Passing literal html to 'read_html' is deprecated and will be removed in a future version. To read from a literal string, wrap it in a 'StringIO' object.\n",
      "  dfs = pd.read_html(r.text)\n",
      "INFO: Downloading photometry: https://www.astrouw.edu.pl/ogle/ogle3/ews/2002/blg-155/phot.dat\n"
     ]
    },
    {
     "name": "stdout",
     "output_type": "stream",
     "text": [
      "2002 - 154 done\n",
      "OGLE 2002 BLG 154 Done\n",
      "OGLE 2002 BLG 155 started\n"
     ]
    },
    {
     "name": "stderr",
     "output_type": "stream",
     "text": [
      "INFO: Fetching OGLE guesses: https://ogle.astrouw.edu.pl/ogle3/ews/2002/blg-155.html\n",
      "C:\\Users\\Saeed\\AppData\\Local\\Temp\\ipykernel_14856\\3667917964.py:85: FutureWarning: Passing literal html to 'read_html' is deprecated and will be removed in a future version. To read from a literal string, wrap it in a 'StringIO' object.\n",
      "  dfs = pd.read_html(r.text)\n",
      "WARNING: Too few points to create valid contours\n",
      "WARNING: Too few points to create valid contours\n",
      "WARNING: Too few points to create valid contours\n",
      "WARNING: Too few points to create valid contours\n",
      "WARNING: Too few points to create valid contours\n",
      "WARNING: Too few points to create valid contours\n",
      "WARNING: Too few points to create valid contours\n",
      "WARNING: Too few points to create valid contours\n",
      "WARNING: Too few points to create valid contours\n",
      "WARNING: Too few points to create valid contours\n",
      "INFO: Downloading photometry: https://www.astrouw.edu.pl/ogle/ogle3/ews/2002/blg-156/phot.dat\n"
     ]
    },
    {
     "name": "stdout",
     "output_type": "stream",
     "text": [
      "2002 - 155 done\n",
      "OGLE 2002 BLG 155 Done\n",
      "OGLE 2002 BLG 156 started\n"
     ]
    },
    {
     "name": "stderr",
     "output_type": "stream",
     "text": [
      "INFO: Fetching OGLE guesses: https://ogle.astrouw.edu.pl/ogle3/ews/2002/blg-156.html\n",
      "C:\\Users\\Saeed\\AppData\\Local\\Temp\\ipykernel_14856\\3667917964.py:85: FutureWarning: Passing literal html to 'read_html' is deprecated and will be removed in a future version. To read from a literal string, wrap it in a 'StringIO' object.\n",
      "  dfs = pd.read_html(r.text)\n",
      "WARNING: Too few points to create valid contours\n",
      "INFO: Downloading photometry: https://www.astrouw.edu.pl/ogle/ogle3/ews/2002/blg-157/phot.dat\n"
     ]
    },
    {
     "name": "stdout",
     "output_type": "stream",
     "text": [
      "2002 - 156 done\n",
      "OGLE 2002 BLG 156 Done\n",
      "OGLE 2002 BLG 157 started\n"
     ]
    },
    {
     "name": "stderr",
     "output_type": "stream",
     "text": [
      "INFO: Fetching OGLE guesses: https://ogle.astrouw.edu.pl/ogle3/ews/2002/blg-157.html\n",
      "C:\\Users\\Saeed\\AppData\\Local\\Temp\\ipykernel_14856\\3667917964.py:85: FutureWarning: Passing literal html to 'read_html' is deprecated and will be removed in a future version. To read from a literal string, wrap it in a 'StringIO' object.\n",
      "  dfs = pd.read_html(r.text)\n",
      "WARNING: Too few points to create valid contours\n",
      "INFO: Downloading photometry: https://www.astrouw.edu.pl/ogle/ogle3/ews/2002/blg-158/phot.dat\n"
     ]
    },
    {
     "name": "stdout",
     "output_type": "stream",
     "text": [
      "2002 - 157 done\n",
      "OGLE 2002 BLG 157 Done\n",
      "OGLE 2002 BLG 158 started\n"
     ]
    },
    {
     "name": "stderr",
     "output_type": "stream",
     "text": [
      "INFO: Fetching OGLE guesses: https://ogle.astrouw.edu.pl/ogle3/ews/2002/blg-158.html\n",
      "C:\\Users\\Saeed\\AppData\\Local\\Temp\\ipykernel_14856\\3667917964.py:85: FutureWarning: Passing literal html to 'read_html' is deprecated and will be removed in a future version. To read from a literal string, wrap it in a 'StringIO' object.\n",
      "  dfs = pd.read_html(r.text)\n",
      "WARNING: Too few points to create valid contours\n",
      "WARNING: Too few points to create valid contours\n",
      "WARNING: Too few points to create valid contours\n",
      "WARNING: Too few points to create valid contours\n",
      "WARNING: Too few points to create valid contours\n",
      "WARNING: Too few points to create valid contours\n",
      "WARNING: Too few points to create valid contours\n",
      "WARNING: Too few points to create valid contours\n",
      "WARNING: Too few points to create valid contours\n",
      "WARNING: Too few points to create valid contours\n",
      "INFO: Downloading photometry: https://www.astrouw.edu.pl/ogle/ogle3/ews/2002/blg-159/phot.dat\n"
     ]
    },
    {
     "name": "stdout",
     "output_type": "stream",
     "text": [
      "2002 - 158 done\n",
      "OGLE 2002 BLG 158 Done\n",
      "OGLE 2002 BLG 159 started\n"
     ]
    },
    {
     "name": "stderr",
     "output_type": "stream",
     "text": [
      "INFO: Fetching OGLE guesses: https://ogle.astrouw.edu.pl/ogle3/ews/2002/blg-159.html\n",
      "C:\\Users\\Saeed\\AppData\\Local\\Temp\\ipykernel_14856\\3667917964.py:85: FutureWarning: Passing literal html to 'read_html' is deprecated and will be removed in a future version. To read from a literal string, wrap it in a 'StringIO' object.\n",
      "  dfs = pd.read_html(r.text)\n",
      "INFO: Downloading photometry: https://www.astrouw.edu.pl/ogle/ogle3/ews/2002/blg-160/phot.dat\n"
     ]
    },
    {
     "name": "stdout",
     "output_type": "stream",
     "text": [
      "2002 - 159 done\n",
      "OGLE 2002 BLG 159 Done\n",
      "OGLE 2002 BLG 160 started\n"
     ]
    },
    {
     "name": "stderr",
     "output_type": "stream",
     "text": [
      "INFO: Fetching OGLE guesses: https://ogle.astrouw.edu.pl/ogle3/ews/2002/blg-160.html\n",
      "C:\\Users\\Saeed\\AppData\\Local\\Temp\\ipykernel_14856\\3667917964.py:85: FutureWarning: Passing literal html to 'read_html' is deprecated and will be removed in a future version. To read from a literal string, wrap it in a 'StringIO' object.\n",
      "  dfs = pd.read_html(r.text)\n",
      "WARNING: Too few points to create valid contours\n",
      "WARNING: Too few points to create valid contours\n",
      "WARNING: Too few points to create valid contours\n",
      "WARNING: Too few points to create valid contours\n",
      "WARNING: Too few points to create valid contours\n",
      "WARNING: Too few points to create valid contours\n",
      "WARNING: Too few points to create valid contours\n",
      "WARNING: Too few points to create valid contours\n",
      "WARNING: Too few points to create valid contours\n",
      "WARNING: Too few points to create valid contours\n",
      "INFO: Downloading photometry: https://www.astrouw.edu.pl/ogle/ogle3/ews/2002/blg-161/phot.dat\n"
     ]
    },
    {
     "name": "stdout",
     "output_type": "stream",
     "text": [
      "2002 - 160 done\n",
      "OGLE 2002 BLG 160 Done\n",
      "OGLE 2002 BLG 161 started\n"
     ]
    },
    {
     "name": "stderr",
     "output_type": "stream",
     "text": [
      "INFO: Fetching OGLE guesses: https://ogle.astrouw.edu.pl/ogle3/ews/2002/blg-161.html\n",
      "C:\\Users\\Saeed\\AppData\\Local\\Temp\\ipykernel_14856\\3667917964.py:85: FutureWarning: Passing literal html to 'read_html' is deprecated and will be removed in a future version. To read from a literal string, wrap it in a 'StringIO' object.\n",
      "  dfs = pd.read_html(r.text)\n",
      "WARNING: Too few points to create valid contours\n",
      "INFO: Downloading photometry: https://www.astrouw.edu.pl/ogle/ogle3/ews/2002/blg-162/phot.dat\n"
     ]
    },
    {
     "name": "stdout",
     "output_type": "stream",
     "text": [
      "2002 - 161 done\n",
      "OGLE 2002 BLG 161 Done\n",
      "OGLE 2002 BLG 162 started\n"
     ]
    },
    {
     "name": "stderr",
     "output_type": "stream",
     "text": [
      "INFO: Fetching OGLE guesses: https://ogle.astrouw.edu.pl/ogle3/ews/2002/blg-162.html\n",
      "C:\\Users\\Saeed\\AppData\\Local\\Temp\\ipykernel_14856\\3667917964.py:85: FutureWarning: Passing literal html to 'read_html' is deprecated and will be removed in a future version. To read from a literal string, wrap it in a 'StringIO' object.\n",
      "  dfs = pd.read_html(r.text)\n",
      "WARNING: Too few points to create valid contours\n",
      "WARNING: Too few points to create valid contours\n",
      "WARNING: Too few points to create valid contours\n",
      "WARNING: Too few points to create valid contours\n",
      "WARNING: Too few points to create valid contours\n",
      "WARNING: Too few points to create valid contours\n",
      "WARNING: Too few points to create valid contours\n",
      "WARNING: Too few points to create valid contours\n",
      "WARNING: Too few points to create valid contours\n",
      "WARNING: Too few points to create valid contours\n",
      "INFO: Downloading photometry: https://www.astrouw.edu.pl/ogle/ogle3/ews/2002/blg-163/phot.dat\n"
     ]
    },
    {
     "name": "stdout",
     "output_type": "stream",
     "text": [
      "2002 - 162 done\n",
      "OGLE 2002 BLG 162 Done\n",
      "OGLE 2002 BLG 163 started\n"
     ]
    },
    {
     "name": "stderr",
     "output_type": "stream",
     "text": [
      "INFO: Fetching OGLE guesses: https://ogle.astrouw.edu.pl/ogle3/ews/2002/blg-163.html\n",
      "C:\\Users\\Saeed\\AppData\\Local\\Temp\\ipykernel_14856\\3667917964.py:85: FutureWarning: Passing literal html to 'read_html' is deprecated and will be removed in a future version. To read from a literal string, wrap it in a 'StringIO' object.\n",
      "  dfs = pd.read_html(r.text)\n",
      "WARNING: Too few points to create valid contours\n",
      "WARNING: Too few points to create valid contours\n",
      "WARNING: Too few points to create valid contours\n",
      "WARNING: Too few points to create valid contours\n",
      "WARNING: Too few points to create valid contours\n",
      "WARNING: Too few points to create valid contours\n",
      "WARNING: Too few points to create valid contours\n",
      "WARNING: Too few points to create valid contours\n",
      "WARNING: Too few points to create valid contours\n",
      "WARNING: Too few points to create valid contours\n",
      "INFO: Downloading photometry: https://www.astrouw.edu.pl/ogle/ogle3/ews/2002/blg-164/phot.dat\n"
     ]
    },
    {
     "name": "stdout",
     "output_type": "stream",
     "text": [
      "2002 - 163 done\n",
      "OGLE 2002 BLG 163 Done\n",
      "OGLE 2002 BLG 164 started\n"
     ]
    },
    {
     "name": "stderr",
     "output_type": "stream",
     "text": [
      "INFO: Fetching OGLE guesses: https://ogle.astrouw.edu.pl/ogle3/ews/2002/blg-164.html\n",
      "C:\\Users\\Saeed\\AppData\\Local\\Temp\\ipykernel_14856\\3667917964.py:85: FutureWarning: Passing literal html to 'read_html' is deprecated and will be removed in a future version. To read from a literal string, wrap it in a 'StringIO' object.\n",
      "  dfs = pd.read_html(r.text)\n",
      "INFO: Downloading photometry: https://www.astrouw.edu.pl/ogle/ogle3/ews/2002/blg-165/phot.dat\n"
     ]
    },
    {
     "name": "stdout",
     "output_type": "stream",
     "text": [
      "2002 - 164 done\n",
      "OGLE 2002 BLG 164 Done\n",
      "OGLE 2002 BLG 165 started\n"
     ]
    },
    {
     "name": "stderr",
     "output_type": "stream",
     "text": [
      "INFO: Fetching OGLE guesses: https://ogle.astrouw.edu.pl/ogle3/ews/2002/blg-165.html\n",
      "C:\\Users\\Saeed\\AppData\\Local\\Temp\\ipykernel_14856\\3667917964.py:85: FutureWarning: Passing literal html to 'read_html' is deprecated and will be removed in a future version. To read from a literal string, wrap it in a 'StringIO' object.\n",
      "  dfs = pd.read_html(r.text)\n",
      "WARNING: Too few points to create valid contours\n",
      "WARNING: Too few points to create valid contours\n",
      "WARNING: Too few points to create valid contours\n",
      "WARNING: Too few points to create valid contours\n",
      "INFO: Downloading photometry: https://www.astrouw.edu.pl/ogle/ogle3/ews/2002/blg-166/phot.dat\n"
     ]
    },
    {
     "name": "stdout",
     "output_type": "stream",
     "text": [
      "2002 - 165 done\n",
      "OGLE 2002 BLG 165 Done\n",
      "OGLE 2002 BLG 166 started\n"
     ]
    },
    {
     "name": "stderr",
     "output_type": "stream",
     "text": [
      "INFO: Fetching OGLE guesses: https://ogle.astrouw.edu.pl/ogle3/ews/2002/blg-166.html\n",
      "C:\\Users\\Saeed\\AppData\\Local\\Temp\\ipykernel_14856\\3667917964.py:85: FutureWarning: Passing literal html to 'read_html' is deprecated and will be removed in a future version. To read from a literal string, wrap it in a 'StringIO' object.\n",
      "  dfs = pd.read_html(r.text)\n",
      "WARNING: Too few points to create valid contours\n",
      "WARNING: Too few points to create valid contours\n",
      "WARNING: Too few points to create valid contours\n",
      "WARNING: Too few points to create valid contours\n",
      "WARNING: Too few points to create valid contours\n",
      "WARNING: Too few points to create valid contours\n",
      "WARNING: Too few points to create valid contours\n",
      "WARNING: Too few points to create valid contours\n",
      "WARNING: Too few points to create valid contours\n",
      "WARNING: Too few points to create valid contours\n",
      "INFO: Downloading photometry: https://www.astrouw.edu.pl/ogle/ogle3/ews/2002/blg-167/phot.dat\n"
     ]
    },
    {
     "name": "stdout",
     "output_type": "stream",
     "text": [
      "2002 - 166 done\n",
      "OGLE 2002 BLG 166 Done\n",
      "OGLE 2002 BLG 167 started\n"
     ]
    },
    {
     "name": "stderr",
     "output_type": "stream",
     "text": [
      "INFO: Fetching OGLE guesses: https://ogle.astrouw.edu.pl/ogle3/ews/2002/blg-167.html\n",
      "C:\\Users\\Saeed\\AppData\\Local\\Temp\\ipykernel_14856\\3667917964.py:85: FutureWarning: Passing literal html to 'read_html' is deprecated and will be removed in a future version. To read from a literal string, wrap it in a 'StringIO' object.\n",
      "  dfs = pd.read_html(r.text)\n",
      "INFO: Downloading photometry: https://www.astrouw.edu.pl/ogle/ogle3/ews/2002/blg-168/phot.dat\n"
     ]
    },
    {
     "name": "stdout",
     "output_type": "stream",
     "text": [
      "2002 - 167 done\n",
      "OGLE 2002 BLG 167 Done\n",
      "OGLE 2002 BLG 168 started\n"
     ]
    },
    {
     "name": "stderr",
     "output_type": "stream",
     "text": [
      "INFO: Fetching OGLE guesses: https://ogle.astrouw.edu.pl/ogle3/ews/2002/blg-168.html\n",
      "C:\\Users\\Saeed\\AppData\\Local\\Temp\\ipykernel_14856\\3667917964.py:85: FutureWarning: Passing literal html to 'read_html' is deprecated and will be removed in a future version. To read from a literal string, wrap it in a 'StringIO' object.\n",
      "  dfs = pd.read_html(r.text)\n",
      "INFO: Downloading photometry: https://www.astrouw.edu.pl/ogle/ogle3/ews/2002/blg-169/phot.dat\n"
     ]
    },
    {
     "name": "stdout",
     "output_type": "stream",
     "text": [
      "2002 - 168 done\n",
      "OGLE 2002 BLG 168 Done\n",
      "OGLE 2002 BLG 169 started\n"
     ]
    },
    {
     "name": "stderr",
     "output_type": "stream",
     "text": [
      "INFO: Fetching OGLE guesses: https://ogle.astrouw.edu.pl/ogle3/ews/2002/blg-169.html\n",
      "C:\\Users\\Saeed\\AppData\\Local\\Temp\\ipykernel_14856\\3667917964.py:85: FutureWarning: Passing literal html to 'read_html' is deprecated and will be removed in a future version. To read from a literal string, wrap it in a 'StringIO' object.\n",
      "  dfs = pd.read_html(r.text)\n",
      "WARNING: Too few points to create valid contours\n",
      "INFO: Downloading photometry: https://www.astrouw.edu.pl/ogle/ogle3/ews/2002/blg-170/phot.dat\n"
     ]
    },
    {
     "name": "stdout",
     "output_type": "stream",
     "text": [
      "2002 - 169 done\n",
      "OGLE 2002 BLG 169 Done\n",
      "OGLE 2002 BLG 170 started\n"
     ]
    },
    {
     "name": "stderr",
     "output_type": "stream",
     "text": [
      "INFO: Fetching OGLE guesses: https://ogle.astrouw.edu.pl/ogle3/ews/2002/blg-170.html\n",
      "C:\\Users\\Saeed\\AppData\\Local\\Temp\\ipykernel_14856\\3667917964.py:85: FutureWarning: Passing literal html to 'read_html' is deprecated and will be removed in a future version. To read from a literal string, wrap it in a 'StringIO' object.\n",
      "  dfs = pd.read_html(r.text)\n",
      "WARNING: Too few points to create valid contours\n",
      "WARNING: Too few points to create valid contours\n",
      "WARNING: Too few points to create valid contours\n",
      "WARNING: Too few points to create valid contours\n",
      "WARNING: Too few points to create valid contours\n",
      "WARNING: Too few points to create valid contours\n",
      "WARNING: Too few points to create valid contours\n",
      "WARNING: Too few points to create valid contours\n",
      "WARNING: Too few points to create valid contours\n",
      "WARNING: Too few points to create valid contours\n",
      "INFO: Downloading photometry: https://www.astrouw.edu.pl/ogle/ogle3/ews/2002/blg-171/phot.dat\n"
     ]
    },
    {
     "name": "stdout",
     "output_type": "stream",
     "text": [
      "2002 - 170 done\n",
      "OGLE 2002 BLG 170 Done\n",
      "OGLE 2002 BLG 171 started\n"
     ]
    },
    {
     "name": "stderr",
     "output_type": "stream",
     "text": [
      "INFO: Fetching OGLE guesses: https://ogle.astrouw.edu.pl/ogle3/ews/2002/blg-171.html\n",
      "C:\\Users\\Saeed\\AppData\\Local\\Temp\\ipykernel_14856\\3667917964.py:85: FutureWarning: Passing literal html to 'read_html' is deprecated and will be removed in a future version. To read from a literal string, wrap it in a 'StringIO' object.\n",
      "  dfs = pd.read_html(r.text)\n",
      "WARNING: Too few points to create valid contours\n",
      "WARNING: Too few points to create valid contours\n",
      "WARNING: Too few points to create valid contours\n",
      "WARNING: Too few points to create valid contours\n",
      "WARNING: Too few points to create valid contours\n",
      "WARNING: Too few points to create valid contours\n",
      "WARNING: Too few points to create valid contours\n",
      "WARNING: Too few points to create valid contours\n",
      "WARNING: Too few points to create valid contours\n",
      "WARNING: Too few points to create valid contours\n",
      "INFO: Downloading photometry: https://www.astrouw.edu.pl/ogle/ogle3/ews/2002/blg-172/phot.dat\n"
     ]
    },
    {
     "name": "stdout",
     "output_type": "stream",
     "text": [
      "2002 - 171 done\n",
      "OGLE 2002 BLG 171 Done\n",
      "OGLE 2002 BLG 172 started\n"
     ]
    },
    {
     "name": "stderr",
     "output_type": "stream",
     "text": [
      "INFO: Fetching OGLE guesses: https://ogle.astrouw.edu.pl/ogle3/ews/2002/blg-172.html\n",
      "C:\\Users\\Saeed\\AppData\\Local\\Temp\\ipykernel_14856\\3667917964.py:85: FutureWarning: Passing literal html to 'read_html' is deprecated and will be removed in a future version. To read from a literal string, wrap it in a 'StringIO' object.\n",
      "  dfs = pd.read_html(r.text)\n",
      "WARNING: Too few points to create valid contours\n",
      "WARNING: Too few points to create valid contours\n",
      "WARNING: Too few points to create valid contours\n",
      "INFO: Downloading photometry: https://www.astrouw.edu.pl/ogle/ogle3/ews/2002/blg-173/phot.dat\n"
     ]
    },
    {
     "name": "stdout",
     "output_type": "stream",
     "text": [
      "2002 - 172 done\n",
      "OGLE 2002 BLG 172 Done\n",
      "OGLE 2002 BLG 173 started\n"
     ]
    },
    {
     "name": "stderr",
     "output_type": "stream",
     "text": [
      "INFO: Fetching OGLE guesses: https://ogle.astrouw.edu.pl/ogle3/ews/2002/blg-173.html\n",
      "C:\\Users\\Saeed\\AppData\\Local\\Temp\\ipykernel_14856\\3667917964.py:85: FutureWarning: Passing literal html to 'read_html' is deprecated and will be removed in a future version. To read from a literal string, wrap it in a 'StringIO' object.\n",
      "  dfs = pd.read_html(r.text)\n",
      "INFO: Downloading photometry: https://www.astrouw.edu.pl/ogle/ogle3/ews/2002/blg-174/phot.dat\n"
     ]
    },
    {
     "name": "stdout",
     "output_type": "stream",
     "text": [
      "2002 - 173 done\n",
      "OGLE 2002 BLG 173 Done\n",
      "OGLE 2002 BLG 174 started\n"
     ]
    },
    {
     "name": "stderr",
     "output_type": "stream",
     "text": [
      "INFO: Fetching OGLE guesses: https://ogle.astrouw.edu.pl/ogle3/ews/2002/blg-174.html\n",
      "C:\\Users\\Saeed\\AppData\\Local\\Temp\\ipykernel_14856\\3667917964.py:85: FutureWarning: Passing literal html to 'read_html' is deprecated and will be removed in a future version. To read from a literal string, wrap it in a 'StringIO' object.\n",
      "  dfs = pd.read_html(r.text)\n",
      "WARNING: Too few points to create valid contours\n",
      "WARNING: Too few points to create valid contours\n",
      "WARNING: Too few points to create valid contours\n",
      "WARNING: Too few points to create valid contours\n",
      "WARNING: Too few points to create valid contours\n",
      "WARNING: Too few points to create valid contours\n",
      "WARNING: Too few points to create valid contours\n",
      "WARNING: Too few points to create valid contours\n",
      "WARNING: Too few points to create valid contours\n",
      "WARNING: Too few points to create valid contours\n",
      "INFO: Downloading photometry: https://www.astrouw.edu.pl/ogle/ogle3/ews/2002/blg-175/phot.dat\n"
     ]
    },
    {
     "name": "stdout",
     "output_type": "stream",
     "text": [
      "2002 - 174 done\n",
      "OGLE 2002 BLG 174 Done\n",
      "OGLE 2002 BLG 175 started\n"
     ]
    },
    {
     "name": "stderr",
     "output_type": "stream",
     "text": [
      "INFO: Fetching OGLE guesses: https://ogle.astrouw.edu.pl/ogle3/ews/2002/blg-175.html\n",
      "C:\\Users\\Saeed\\AppData\\Local\\Temp\\ipykernel_14856\\3667917964.py:85: FutureWarning: Passing literal html to 'read_html' is deprecated and will be removed in a future version. To read from a literal string, wrap it in a 'StringIO' object.\n",
      "  dfs = pd.read_html(r.text)\n",
      "INFO: Downloading photometry: https://www.astrouw.edu.pl/ogle/ogle3/ews/2002/blg-176/phot.dat\n"
     ]
    },
    {
     "name": "stdout",
     "output_type": "stream",
     "text": [
      "2002 - 175 done\n",
      "OGLE 2002 BLG 175 Done\n",
      "OGLE 2002 BLG 176 started\n"
     ]
    },
    {
     "name": "stderr",
     "output_type": "stream",
     "text": [
      "INFO: Fetching OGLE guesses: https://ogle.astrouw.edu.pl/ogle3/ews/2002/blg-176.html\n",
      "C:\\Users\\Saeed\\AppData\\Local\\Temp\\ipykernel_14856\\3667917964.py:85: FutureWarning: Passing literal html to 'read_html' is deprecated and will be removed in a future version. To read from a literal string, wrap it in a 'StringIO' object.\n",
      "  dfs = pd.read_html(r.text)\n",
      "WARNING: Too few points to create valid contours\n",
      "INFO: Downloading photometry: https://www.astrouw.edu.pl/ogle/ogle3/ews/2002/blg-177/phot.dat\n"
     ]
    },
    {
     "name": "stdout",
     "output_type": "stream",
     "text": [
      "2002 - 176 done\n",
      "OGLE 2002 BLG 176 Done\n",
      "OGLE 2002 BLG 177 started\n"
     ]
    },
    {
     "name": "stderr",
     "output_type": "stream",
     "text": [
      "INFO: Fetching OGLE guesses: https://ogle.astrouw.edu.pl/ogle3/ews/2002/blg-177.html\n",
      "C:\\Users\\Saeed\\AppData\\Local\\Temp\\ipykernel_14856\\3667917964.py:85: FutureWarning: Passing literal html to 'read_html' is deprecated and will be removed in a future version. To read from a literal string, wrap it in a 'StringIO' object.\n",
      "  dfs = pd.read_html(r.text)\n",
      "WARNING: Too few points to create valid contours\n",
      "WARNING: Too few points to create valid contours\n",
      "WARNING: Too few points to create valid contours\n",
      "WARNING: Too few points to create valid contours\n",
      "WARNING: Too few points to create valid contours\n",
      "WARNING: Too few points to create valid contours\n",
      "WARNING: Too few points to create valid contours\n",
      "WARNING: Too few points to create valid contours\n",
      "WARNING: Too few points to create valid contours\n",
      "WARNING: Too few points to create valid contours\n",
      "INFO: Downloading photometry: https://www.astrouw.edu.pl/ogle/ogle3/ews/2002/blg-178/phot.dat\n"
     ]
    },
    {
     "name": "stdout",
     "output_type": "stream",
     "text": [
      "2002 - 177 done\n",
      "OGLE 2002 BLG 177 Done\n",
      "OGLE 2002 BLG 178 started\n"
     ]
    },
    {
     "name": "stderr",
     "output_type": "stream",
     "text": [
      "INFO: Fetching OGLE guesses: https://ogle.astrouw.edu.pl/ogle3/ews/2002/blg-178.html\n",
      "C:\\Users\\Saeed\\AppData\\Local\\Temp\\ipykernel_14856\\3667917964.py:85: FutureWarning: Passing literal html to 'read_html' is deprecated and will be removed in a future version. To read from a literal string, wrap it in a 'StringIO' object.\n",
      "  dfs = pd.read_html(r.text)\n",
      "INFO: Downloading photometry: https://www.astrouw.edu.pl/ogle/ogle3/ews/2002/blg-179/phot.dat\n"
     ]
    },
    {
     "name": "stdout",
     "output_type": "stream",
     "text": [
      "2002 - 178 done\n",
      "OGLE 2002 BLG 178 Done\n",
      "OGLE 2002 BLG 179 started\n"
     ]
    },
    {
     "name": "stderr",
     "output_type": "stream",
     "text": [
      "INFO: Fetching OGLE guesses: https://ogle.astrouw.edu.pl/ogle3/ews/2002/blg-179.html\n",
      "C:\\Users\\Saeed\\AppData\\Local\\Temp\\ipykernel_14856\\3667917964.py:85: FutureWarning: Passing literal html to 'read_html' is deprecated and will be removed in a future version. To read from a literal string, wrap it in a 'StringIO' object.\n",
      "  dfs = pd.read_html(r.text)\n",
      "INFO: Downloading photometry: https://www.astrouw.edu.pl/ogle/ogle3/ews/2002/blg-180/phot.dat\n"
     ]
    },
    {
     "name": "stdout",
     "output_type": "stream",
     "text": [
      "2002 - 179 done\n",
      "OGLE 2002 BLG 179 Done\n",
      "OGLE 2002 BLG 180 started\n"
     ]
    },
    {
     "name": "stderr",
     "output_type": "stream",
     "text": [
      "INFO: Fetching OGLE guesses: https://ogle.astrouw.edu.pl/ogle3/ews/2002/blg-180.html\n",
      "C:\\Users\\Saeed\\AppData\\Local\\Temp\\ipykernel_14856\\3667917964.py:85: FutureWarning: Passing literal html to 'read_html' is deprecated and will be removed in a future version. To read from a literal string, wrap it in a 'StringIO' object.\n",
      "  dfs = pd.read_html(r.text)\n",
      "INFO: Downloading photometry: https://www.astrouw.edu.pl/ogle/ogle3/ews/2002/blg-181/phot.dat\n"
     ]
    },
    {
     "name": "stdout",
     "output_type": "stream",
     "text": [
      "2002 - 180 done\n",
      "OGLE 2002 BLG 180 Done\n",
      "OGLE 2002 BLG 181 started\n"
     ]
    },
    {
     "name": "stderr",
     "output_type": "stream",
     "text": [
      "INFO: Fetching OGLE guesses: https://ogle.astrouw.edu.pl/ogle3/ews/2002/blg-181.html\n",
      "C:\\Users\\Saeed\\AppData\\Local\\Temp\\ipykernel_14856\\3667917964.py:85: FutureWarning: Passing literal html to 'read_html' is deprecated and will be removed in a future version. To read from a literal string, wrap it in a 'StringIO' object.\n",
      "  dfs = pd.read_html(r.text)\n",
      "WARNING: Too few points to create valid contours\n",
      "WARNING: Too few points to create valid contours\n",
      "WARNING: Too few points to create valid contours\n",
      "INFO: Downloading photometry: https://www.astrouw.edu.pl/ogle/ogle3/ews/2002/blg-182/phot.dat\n"
     ]
    },
    {
     "name": "stdout",
     "output_type": "stream",
     "text": [
      "2002 - 181 done\n",
      "OGLE 2002 BLG 181 Done\n",
      "OGLE 2002 BLG 182 started\n"
     ]
    },
    {
     "name": "stderr",
     "output_type": "stream",
     "text": [
      "INFO: Fetching OGLE guesses: https://ogle.astrouw.edu.pl/ogle3/ews/2002/blg-182.html\n",
      "C:\\Users\\Saeed\\AppData\\Local\\Temp\\ipykernel_14856\\3667917964.py:85: FutureWarning: Passing literal html to 'read_html' is deprecated and will be removed in a future version. To read from a literal string, wrap it in a 'StringIO' object.\n",
      "  dfs = pd.read_html(r.text)\n",
      "WARNING: Too few points to create valid contours\n",
      "WARNING: Too few points to create valid contours\n",
      "WARNING: Too few points to create valid contours\n",
      "WARNING: Too few points to create valid contours\n",
      "WARNING: Too few points to create valid contours\n",
      "WARNING: Too few points to create valid contours\n",
      "WARNING: Too few points to create valid contours\n",
      "WARNING: Too few points to create valid contours\n",
      "WARNING: Too few points to create valid contours\n",
      "WARNING: Too few points to create valid contours\n",
      "INFO: Downloading photometry: https://www.astrouw.edu.pl/ogle/ogle3/ews/2002/blg-183/phot.dat\n"
     ]
    },
    {
     "name": "stdout",
     "output_type": "stream",
     "text": [
      "2002 - 182 done\n",
      "OGLE 2002 BLG 182 Done\n",
      "OGLE 2002 BLG 183 started\n"
     ]
    },
    {
     "name": "stderr",
     "output_type": "stream",
     "text": [
      "INFO: Fetching OGLE guesses: https://ogle.astrouw.edu.pl/ogle3/ews/2002/blg-183.html\n",
      "C:\\Users\\Saeed\\AppData\\Local\\Temp\\ipykernel_14856\\3667917964.py:85: FutureWarning: Passing literal html to 'read_html' is deprecated and will be removed in a future version. To read from a literal string, wrap it in a 'StringIO' object.\n",
      "  dfs = pd.read_html(r.text)\n",
      "WARNING: Too few points to create valid contours\n",
      "INFO: Downloading photometry: https://www.astrouw.edu.pl/ogle/ogle3/ews/2002/blg-184/phot.dat\n"
     ]
    },
    {
     "name": "stdout",
     "output_type": "stream",
     "text": [
      "2002 - 183 done\n",
      "OGLE 2002 BLG 183 Done\n",
      "OGLE 2002 BLG 184 started\n"
     ]
    },
    {
     "name": "stderr",
     "output_type": "stream",
     "text": [
      "INFO: Fetching OGLE guesses: https://ogle.astrouw.edu.pl/ogle3/ews/2002/blg-184.html\n",
      "C:\\Users\\Saeed\\AppData\\Local\\Temp\\ipykernel_14856\\3667917964.py:85: FutureWarning: Passing literal html to 'read_html' is deprecated and will be removed in a future version. To read from a literal string, wrap it in a 'StringIO' object.\n",
      "  dfs = pd.read_html(r.text)\n",
      "WARNING: Too few points to create valid contours\n",
      "WARNING: Too few points to create valid contours\n",
      "WARNING: Too few points to create valid contours\n",
      "WARNING: Too few points to create valid contours\n",
      "WARNING: Too few points to create valid contours\n",
      "WARNING: Too few points to create valid contours\n",
      "WARNING: Too few points to create valid contours\n",
      "WARNING: Too few points to create valid contours\n",
      "WARNING: Too few points to create valid contours\n",
      "WARNING: Too few points to create valid contours\n",
      "INFO: Downloading photometry: https://www.astrouw.edu.pl/ogle/ogle3/ews/2002/blg-185/phot.dat\n"
     ]
    },
    {
     "name": "stdout",
     "output_type": "stream",
     "text": [
      "2002 - 184 done\n",
      "OGLE 2002 BLG 184 Done\n",
      "OGLE 2002 BLG 185 started\n"
     ]
    },
    {
     "name": "stderr",
     "output_type": "stream",
     "text": [
      "INFO: Fetching OGLE guesses: https://ogle.astrouw.edu.pl/ogle3/ews/2002/blg-185.html\n",
      "C:\\Users\\Saeed\\AppData\\Local\\Temp\\ipykernel_14856\\3667917964.py:85: FutureWarning: Passing literal html to 'read_html' is deprecated and will be removed in a future version. To read from a literal string, wrap it in a 'StringIO' object.\n",
      "  dfs = pd.read_html(r.text)\n",
      "INFO: Downloading photometry: https://www.astrouw.edu.pl/ogle/ogle3/ews/2002/blg-186/phot.dat\n"
     ]
    },
    {
     "name": "stdout",
     "output_type": "stream",
     "text": [
      "2002 - 185 done\n",
      "OGLE 2002 BLG 185 Done\n",
      "OGLE 2002 BLG 186 started\n"
     ]
    },
    {
     "name": "stderr",
     "output_type": "stream",
     "text": [
      "INFO: Fetching OGLE guesses: https://ogle.astrouw.edu.pl/ogle3/ews/2002/blg-186.html\n",
      "C:\\Users\\Saeed\\AppData\\Local\\Temp\\ipykernel_14856\\3667917964.py:85: FutureWarning: Passing literal html to 'read_html' is deprecated and will be removed in a future version. To read from a literal string, wrap it in a 'StringIO' object.\n",
      "  dfs = pd.read_html(r.text)\n",
      "WARNING: Too few points to create valid contours\n",
      "WARNING: Too few points to create valid contours\n",
      "WARNING: Too few points to create valid contours\n",
      "WARNING: Too few points to create valid contours\n",
      "WARNING: Too few points to create valid contours\n",
      "WARNING: Too few points to create valid contours\n",
      "INFO: Downloading photometry: https://www.astrouw.edu.pl/ogle/ogle3/ews/2002/blg-187/phot.dat\n"
     ]
    },
    {
     "name": "stdout",
     "output_type": "stream",
     "text": [
      "2002 - 186 done\n",
      "OGLE 2002 BLG 186 Done\n",
      "OGLE 2002 BLG 187 started\n"
     ]
    },
    {
     "name": "stderr",
     "output_type": "stream",
     "text": [
      "INFO: Fetching OGLE guesses: https://ogle.astrouw.edu.pl/ogle3/ews/2002/blg-187.html\n",
      "C:\\Users\\Saeed\\AppData\\Local\\Temp\\ipykernel_14856\\3667917964.py:85: FutureWarning: Passing literal html to 'read_html' is deprecated and will be removed in a future version. To read from a literal string, wrap it in a 'StringIO' object.\n",
      "  dfs = pd.read_html(r.text)\n",
      "WARNING: Too few points to create valid contours\n",
      "INFO: Downloading photometry: https://www.astrouw.edu.pl/ogle/ogle3/ews/2002/blg-188/phot.dat\n"
     ]
    },
    {
     "name": "stdout",
     "output_type": "stream",
     "text": [
      "2002 - 187 done\n",
      "OGLE 2002 BLG 187 Done\n",
      "OGLE 2002 BLG 188 started\n"
     ]
    },
    {
     "name": "stderr",
     "output_type": "stream",
     "text": [
      "INFO: Fetching OGLE guesses: https://ogle.astrouw.edu.pl/ogle3/ews/2002/blg-188.html\n",
      "C:\\Users\\Saeed\\AppData\\Local\\Temp\\ipykernel_14856\\3667917964.py:85: FutureWarning: Passing literal html to 'read_html' is deprecated and will be removed in a future version. To read from a literal string, wrap it in a 'StringIO' object.\n",
      "  dfs = pd.read_html(r.text)\n",
      "WARNING: Too few points to create valid contours\n",
      "WARNING: Too few points to create valid contours\n",
      "WARNING: Too few points to create valid contours\n",
      "WARNING: Too few points to create valid contours\n",
      "WARNING: Too few points to create valid contours\n",
      "WARNING: Too few points to create valid contours\n",
      "WARNING: Too few points to create valid contours\n",
      "WARNING: Too few points to create valid contours\n",
      "WARNING: Too few points to create valid contours\n",
      "WARNING: Too few points to create valid contours\n",
      "INFO: Downloading photometry: https://www.astrouw.edu.pl/ogle/ogle3/ews/2002/blg-189/phot.dat\n"
     ]
    },
    {
     "name": "stdout",
     "output_type": "stream",
     "text": [
      "2002 - 188 done\n",
      "OGLE 2002 BLG 188 Done\n",
      "OGLE 2002 BLG 189 started\n"
     ]
    },
    {
     "name": "stderr",
     "output_type": "stream",
     "text": [
      "INFO: Fetching OGLE guesses: https://ogle.astrouw.edu.pl/ogle3/ews/2002/blg-189.html\n",
      "C:\\Users\\Saeed\\AppData\\Local\\Temp\\ipykernel_14856\\3667917964.py:85: FutureWarning: Passing literal html to 'read_html' is deprecated and will be removed in a future version. To read from a literal string, wrap it in a 'StringIO' object.\n",
      "  dfs = pd.read_html(r.text)\n",
      "WARNING: Too few points to create valid contours\n",
      "INFO: Downloading photometry: https://www.astrouw.edu.pl/ogle/ogle3/ews/2002/blg-190/phot.dat\n"
     ]
    },
    {
     "name": "stdout",
     "output_type": "stream",
     "text": [
      "2002 - 189 done\n",
      "OGLE 2002 BLG 189 Done\n",
      "OGLE 2002 BLG 190 started\n"
     ]
    },
    {
     "name": "stderr",
     "output_type": "stream",
     "text": [
      "INFO: Fetching OGLE guesses: https://ogle.astrouw.edu.pl/ogle3/ews/2002/blg-190.html\n",
      "C:\\Users\\Saeed\\AppData\\Local\\Temp\\ipykernel_14856\\3667917964.py:85: FutureWarning: Passing literal html to 'read_html' is deprecated and will be removed in a future version. To read from a literal string, wrap it in a 'StringIO' object.\n",
      "  dfs = pd.read_html(r.text)\n",
      "INFO: Downloading photometry: https://www.astrouw.edu.pl/ogle/ogle3/ews/2002/blg-191/phot.dat\n"
     ]
    },
    {
     "name": "stdout",
     "output_type": "stream",
     "text": [
      "2002 - 190 done\n",
      "OGLE 2002 BLG 190 Done\n",
      "OGLE 2002 BLG 191 started\n"
     ]
    },
    {
     "name": "stderr",
     "output_type": "stream",
     "text": [
      "INFO: Fetching OGLE guesses: https://ogle.astrouw.edu.pl/ogle3/ews/2002/blg-191.html\n",
      "C:\\Users\\Saeed\\AppData\\Local\\Temp\\ipykernel_14856\\3667917964.py:85: FutureWarning: Passing literal html to 'read_html' is deprecated and will be removed in a future version. To read from a literal string, wrap it in a 'StringIO' object.\n",
      "  dfs = pd.read_html(r.text)\n",
      "INFO: Downloading photometry: https://www.astrouw.edu.pl/ogle/ogle3/ews/2002/blg-192/phot.dat\n"
     ]
    },
    {
     "name": "stdout",
     "output_type": "stream",
     "text": [
      "2002 - 191 done\n",
      "OGLE 2002 BLG 191 Done\n",
      "OGLE 2002 BLG 192 started\n"
     ]
    },
    {
     "name": "stderr",
     "output_type": "stream",
     "text": [
      "INFO: Fetching OGLE guesses: https://ogle.astrouw.edu.pl/ogle3/ews/2002/blg-192.html\n",
      "C:\\Users\\Saeed\\AppData\\Local\\Temp\\ipykernel_14856\\3667917964.py:85: FutureWarning: Passing literal html to 'read_html' is deprecated and will be removed in a future version. To read from a literal string, wrap it in a 'StringIO' object.\n",
      "  dfs = pd.read_html(r.text)\n",
      "WARNING: Too few points to create valid contours\n",
      "WARNING: Too few points to create valid contours\n",
      "WARNING: Too few points to create valid contours\n",
      "WARNING: Too few points to create valid contours\n",
      "WARNING: Too few points to create valid contours\n",
      "WARNING: Too few points to create valid contours\n",
      "WARNING: Too few points to create valid contours\n",
      "WARNING: Too few points to create valid contours\n",
      "WARNING: Too few points to create valid contours\n",
      "WARNING: Too few points to create valid contours\n",
      "INFO: Downloading photometry: https://www.astrouw.edu.pl/ogle/ogle3/ews/2002/blg-193/phot.dat\n"
     ]
    },
    {
     "name": "stdout",
     "output_type": "stream",
     "text": [
      "2002 - 192 done\n",
      "OGLE 2002 BLG 192 Done\n",
      "OGLE 2002 BLG 193 started\n"
     ]
    },
    {
     "name": "stderr",
     "output_type": "stream",
     "text": [
      "INFO: Fetching OGLE guesses: https://ogle.astrouw.edu.pl/ogle3/ews/2002/blg-193.html\n",
      "C:\\Users\\Saeed\\AppData\\Local\\Temp\\ipykernel_14856\\3667917964.py:85: FutureWarning: Passing literal html to 'read_html' is deprecated and will be removed in a future version. To read from a literal string, wrap it in a 'StringIO' object.\n",
      "  dfs = pd.read_html(r.text)\n",
      "INFO: Downloading photometry: https://www.astrouw.edu.pl/ogle/ogle3/ews/2002/blg-194/phot.dat\n"
     ]
    },
    {
     "name": "stdout",
     "output_type": "stream",
     "text": [
      "2002 - 193 done\n",
      "OGLE 2002 BLG 193 Done\n",
      "OGLE 2002 BLG 194 started\n"
     ]
    },
    {
     "name": "stderr",
     "output_type": "stream",
     "text": [
      "INFO: Fetching OGLE guesses: https://ogle.astrouw.edu.pl/ogle3/ews/2002/blg-194.html\n",
      "C:\\Users\\Saeed\\AppData\\Local\\Temp\\ipykernel_14856\\3667917964.py:85: FutureWarning: Passing literal html to 'read_html' is deprecated and will be removed in a future version. To read from a literal string, wrap it in a 'StringIO' object.\n",
      "  dfs = pd.read_html(r.text)\n",
      "WARNING: Too few points to create valid contours\n",
      "WARNING: Too few points to create valid contours\n",
      "WARNING: Too few points to create valid contours\n",
      "WARNING: Too few points to create valid contours\n",
      "WARNING: Too few points to create valid contours\n",
      "WARNING: Too few points to create valid contours\n",
      "WARNING: Too few points to create valid contours\n",
      "WARNING: Too few points to create valid contours\n",
      "INFO: Downloading photometry: https://www.astrouw.edu.pl/ogle/ogle3/ews/2002/blg-195/phot.dat\n"
     ]
    },
    {
     "name": "stdout",
     "output_type": "stream",
     "text": [
      "2002 - 194 done\n",
      "OGLE 2002 BLG 194 Done\n",
      "OGLE 2002 BLG 195 started\n"
     ]
    },
    {
     "name": "stderr",
     "output_type": "stream",
     "text": [
      "INFO: Fetching OGLE guesses: https://ogle.astrouw.edu.pl/ogle3/ews/2002/blg-195.html\n",
      "C:\\Users\\Saeed\\AppData\\Local\\Temp\\ipykernel_14856\\3667917964.py:85: FutureWarning: Passing literal html to 'read_html' is deprecated and will be removed in a future version. To read from a literal string, wrap it in a 'StringIO' object.\n",
      "  dfs = pd.read_html(r.text)\n",
      "WARNING: Too few points to create valid contours\n",
      "WARNING: Too few points to create valid contours\n",
      "WARNING: Too few points to create valid contours\n",
      "WARNING: Too few points to create valid contours\n",
      "WARNING: Too few points to create valid contours\n",
      "WARNING: Too few points to create valid contours\n",
      "WARNING: Too few points to create valid contours\n",
      "WARNING: Too few points to create valid contours\n",
      "WARNING: Too few points to create valid contours\n",
      "WARNING: Too few points to create valid contours\n",
      "INFO: Downloading photometry: https://www.astrouw.edu.pl/ogle/ogle3/ews/2002/blg-196/phot.dat\n"
     ]
    },
    {
     "name": "stdout",
     "output_type": "stream",
     "text": [
      "2002 - 195 done\n",
      "OGLE 2002 BLG 195 Done\n",
      "OGLE 2002 BLG 196 started\n"
     ]
    },
    {
     "name": "stderr",
     "output_type": "stream",
     "text": [
      "INFO: Fetching OGLE guesses: https://ogle.astrouw.edu.pl/ogle3/ews/2002/blg-196.html\n",
      "C:\\Users\\Saeed\\AppData\\Local\\Temp\\ipykernel_14856\\3667917964.py:85: FutureWarning: Passing literal html to 'read_html' is deprecated and will be removed in a future version. To read from a literal string, wrap it in a 'StringIO' object.\n",
      "  dfs = pd.read_html(r.text)\n",
      "INFO: Downloading photometry: https://www.astrouw.edu.pl/ogle/ogle3/ews/2002/blg-197/phot.dat\n"
     ]
    },
    {
     "name": "stdout",
     "output_type": "stream",
     "text": [
      "2002 - 196 done\n",
      "OGLE 2002 BLG 196 Done\n",
      "OGLE 2002 BLG 197 started\n"
     ]
    },
    {
     "name": "stderr",
     "output_type": "stream",
     "text": [
      "INFO: Fetching OGLE guesses: https://ogle.astrouw.edu.pl/ogle3/ews/2002/blg-197.html\n",
      "C:\\Users\\Saeed\\AppData\\Local\\Temp\\ipykernel_14856\\3667917964.py:85: FutureWarning: Passing literal html to 'read_html' is deprecated and will be removed in a future version. To read from a literal string, wrap it in a 'StringIO' object.\n",
      "  dfs = pd.read_html(r.text)\n",
      "WARNING: Too few points to create valid contours\n",
      "WARNING: Too few points to create valid contours\n",
      "WARNING: Too few points to create valid contours\n",
      "WARNING: Too few points to create valid contours\n",
      "INFO: Downloading photometry: https://www.astrouw.edu.pl/ogle/ogle3/ews/2002/blg-198/phot.dat\n"
     ]
    },
    {
     "name": "stdout",
     "output_type": "stream",
     "text": [
      "2002 - 197 done\n",
      "OGLE 2002 BLG 197 Done\n",
      "OGLE 2002 BLG 198 started\n"
     ]
    },
    {
     "name": "stderr",
     "output_type": "stream",
     "text": [
      "INFO: Fetching OGLE guesses: https://ogle.astrouw.edu.pl/ogle3/ews/2002/blg-198.html\n",
      "C:\\Users\\Saeed\\AppData\\Local\\Temp\\ipykernel_14856\\3667917964.py:85: FutureWarning: Passing literal html to 'read_html' is deprecated and will be removed in a future version. To read from a literal string, wrap it in a 'StringIO' object.\n",
      "  dfs = pd.read_html(r.text)\n",
      "WARNING: Too few points to create valid contours\n",
      "WARNING: Too few points to create valid contours\n",
      "WARNING: Too few points to create valid contours\n",
      "WARNING: Too few points to create valid contours\n",
      "WARNING: Too few points to create valid contours\n",
      "INFO: Downloading photometry: https://www.astrouw.edu.pl/ogle/ogle3/ews/2002/blg-199/phot.dat\n"
     ]
    },
    {
     "name": "stdout",
     "output_type": "stream",
     "text": [
      "2002 - 198 done\n",
      "OGLE 2002 BLG 198 Done\n",
      "OGLE 2002 BLG 199 started\n"
     ]
    },
    {
     "name": "stderr",
     "output_type": "stream",
     "text": [
      "INFO: Fetching OGLE guesses: https://ogle.astrouw.edu.pl/ogle3/ews/2002/blg-199.html\n",
      "C:\\Users\\Saeed\\AppData\\Local\\Temp\\ipykernel_14856\\3667917964.py:85: FutureWarning: Passing literal html to 'read_html' is deprecated and will be removed in a future version. To read from a literal string, wrap it in a 'StringIO' object.\n",
      "  dfs = pd.read_html(r.text)\n",
      "WARNING: Too few points to create valid contours\n",
      "WARNING: Too few points to create valid contours\n",
      "WARNING: Too few points to create valid contours\n",
      "WARNING: Too few points to create valid contours\n",
      "WARNING: Too few points to create valid contours\n",
      "WARNING: Too few points to create valid contours\n",
      "WARNING: Too few points to create valid contours\n",
      "WARNING: Too few points to create valid contours\n",
      "WARNING: Too few points to create valid contours\n",
      "WARNING: Too few points to create valid contours\n",
      "INFO: Downloading photometry: https://www.astrouw.edu.pl/ogle/ogle3/ews/2002/blg-200/phot.dat\n"
     ]
    },
    {
     "name": "stdout",
     "output_type": "stream",
     "text": [
      "2002 - 199 done\n",
      "OGLE 2002 BLG 199 Done\n",
      "OGLE 2002 BLG 200 started\n"
     ]
    },
    {
     "name": "stderr",
     "output_type": "stream",
     "text": [
      "INFO: Fetching OGLE guesses: https://ogle.astrouw.edu.pl/ogle3/ews/2002/blg-200.html\n",
      "C:\\Users\\Saeed\\AppData\\Local\\Temp\\ipykernel_14856\\3667917964.py:85: FutureWarning: Passing literal html to 'read_html' is deprecated and will be removed in a future version. To read from a literal string, wrap it in a 'StringIO' object.\n",
      "  dfs = pd.read_html(r.text)\n",
      "WARNING: Too few points to create valid contours\n",
      "WARNING: Too few points to create valid contours\n",
      "WARNING: Too few points to create valid contours\n",
      "INFO: Downloading photometry: https://www.astrouw.edu.pl/ogle/ogle3/ews/2002/blg-201/phot.dat\n"
     ]
    },
    {
     "name": "stdout",
     "output_type": "stream",
     "text": [
      "2002 - 200 done\n",
      "OGLE 2002 BLG 200 Done\n",
      "OGLE 2002 BLG 201 started\n"
     ]
    },
    {
     "name": "stderr",
     "output_type": "stream",
     "text": [
      "INFO: Fetching OGLE guesses: https://ogle.astrouw.edu.pl/ogle3/ews/2002/blg-201.html\n",
      "C:\\Users\\Saeed\\AppData\\Local\\Temp\\ipykernel_14856\\3667917964.py:85: FutureWarning: Passing literal html to 'read_html' is deprecated and will be removed in a future version. To read from a literal string, wrap it in a 'StringIO' object.\n",
      "  dfs = pd.read_html(r.text)\n",
      "INFO: Downloading photometry: https://www.astrouw.edu.pl/ogle/ogle3/ews/2002/blg-202/phot.dat\n"
     ]
    },
    {
     "name": "stdout",
     "output_type": "stream",
     "text": [
      "2002 - 201 done\n",
      "OGLE 2002 BLG 201 Done\n",
      "OGLE 2002 BLG 202 started\n"
     ]
    },
    {
     "name": "stderr",
     "output_type": "stream",
     "text": [
      "INFO: Fetching OGLE guesses: https://ogle.astrouw.edu.pl/ogle3/ews/2002/blg-202.html\n",
      "C:\\Users\\Saeed\\AppData\\Local\\Temp\\ipykernel_14856\\3667917964.py:85: FutureWarning: Passing literal html to 'read_html' is deprecated and will be removed in a future version. To read from a literal string, wrap it in a 'StringIO' object.\n",
      "  dfs = pd.read_html(r.text)\n",
      "WARNING: Parsed HTML but couldn't extract expected cells: could not convert string to float: '-'\n",
      "WARNING: Too few points to create valid contours\n",
      "WARNING: Too few points to create valid contours\n",
      "INFO: Downloading photometry: https://www.astrouw.edu.pl/ogle/ogle3/ews/2002/blg-203/phot.dat\n"
     ]
    },
    {
     "name": "stdout",
     "output_type": "stream",
     "text": [
      "2002 - 202 done\n",
      "OGLE 2002 BLG 202 Done\n",
      "OGLE 2002 BLG 203 started\n"
     ]
    },
    {
     "name": "stderr",
     "output_type": "stream",
     "text": [
      "INFO: Fetching OGLE guesses: https://ogle.astrouw.edu.pl/ogle3/ews/2002/blg-203.html\n",
      "C:\\Users\\Saeed\\AppData\\Local\\Temp\\ipykernel_14856\\3667917964.py:85: FutureWarning: Passing literal html to 'read_html' is deprecated and will be removed in a future version. To read from a literal string, wrap it in a 'StringIO' object.\n",
      "  dfs = pd.read_html(r.text)\n",
      "WARNING: Parsed HTML but couldn't extract expected cells: could not convert string to float: '-'\n",
      "INFO: Downloading photometry: https://www.astrouw.edu.pl/ogle/ogle3/ews/2002/blg-204/phot.dat\n"
     ]
    },
    {
     "name": "stdout",
     "output_type": "stream",
     "text": [
      "2002 - 203 done\n",
      "OGLE 2002 BLG 203 Done\n",
      "OGLE 2002 BLG 204 started\n"
     ]
    },
    {
     "name": "stderr",
     "output_type": "stream",
     "text": [
      "INFO: Fetching OGLE guesses: https://ogle.astrouw.edu.pl/ogle3/ews/2002/blg-204.html\n",
      "C:\\Users\\Saeed\\AppData\\Local\\Temp\\ipykernel_14856\\3667917964.py:85: FutureWarning: Passing literal html to 'read_html' is deprecated and will be removed in a future version. To read from a literal string, wrap it in a 'StringIO' object.\n",
      "  dfs = pd.read_html(r.text)\n",
      "INFO: Downloading photometry: https://www.astrouw.edu.pl/ogle/ogle3/ews/2002/blg-205/phot.dat\n"
     ]
    },
    {
     "name": "stdout",
     "output_type": "stream",
     "text": [
      "2002 - 204 done\n",
      "OGLE 2002 BLG 204 Done\n",
      "OGLE 2002 BLG 205 started\n"
     ]
    },
    {
     "name": "stderr",
     "output_type": "stream",
     "text": [
      "INFO: Fetching OGLE guesses: https://ogle.astrouw.edu.pl/ogle3/ews/2002/blg-205.html\n",
      "C:\\Users\\Saeed\\AppData\\Local\\Temp\\ipykernel_14856\\3667917964.py:85: FutureWarning: Passing literal html to 'read_html' is deprecated and will be removed in a future version. To read from a literal string, wrap it in a 'StringIO' object.\n",
      "  dfs = pd.read_html(r.text)\n",
      "WARNING: Too few points to create valid contours\n",
      "WARNING: Too few points to create valid contours\n",
      "WARNING: Too few points to create valid contours\n",
      "WARNING: Too few points to create valid contours\n",
      "INFO: Downloading photometry: https://www.astrouw.edu.pl/ogle/ogle3/ews/2002/blg-206/phot.dat\n"
     ]
    },
    {
     "name": "stdout",
     "output_type": "stream",
     "text": [
      "2002 - 205 done\n",
      "OGLE 2002 BLG 205 Done\n",
      "OGLE 2002 BLG 206 started\n"
     ]
    },
    {
     "name": "stderr",
     "output_type": "stream",
     "text": [
      "INFO: Fetching OGLE guesses: https://ogle.astrouw.edu.pl/ogle3/ews/2002/blg-206.html\n",
      "C:\\Users\\Saeed\\AppData\\Local\\Temp\\ipykernel_14856\\3667917964.py:85: FutureWarning: Passing literal html to 'read_html' is deprecated and will be removed in a future version. To read from a literal string, wrap it in a 'StringIO' object.\n",
      "  dfs = pd.read_html(r.text)\n",
      "INFO: Downloading photometry: https://www.astrouw.edu.pl/ogle/ogle3/ews/2002/blg-207/phot.dat\n"
     ]
    },
    {
     "name": "stdout",
     "output_type": "stream",
     "text": [
      "2002 - 206 done\n",
      "OGLE 2002 BLG 206 Done\n",
      "OGLE 2002 BLG 207 started\n"
     ]
    },
    {
     "name": "stderr",
     "output_type": "stream",
     "text": [
      "INFO: Fetching OGLE guesses: https://ogle.astrouw.edu.pl/ogle3/ews/2002/blg-207.html\n",
      "C:\\Users\\Saeed\\AppData\\Local\\Temp\\ipykernel_14856\\3667917964.py:85: FutureWarning: Passing literal html to 'read_html' is deprecated and will be removed in a future version. To read from a literal string, wrap it in a 'StringIO' object.\n",
      "  dfs = pd.read_html(r.text)\n",
      "WARNING: Too few points to create valid contours\n",
      "WARNING: Too few points to create valid contours\n",
      "WARNING: Too few points to create valid contours\n",
      "WARNING: Too few points to create valid contours\n",
      "WARNING: Too few points to create valid contours\n",
      "WARNING: Too few points to create valid contours\n",
      "WARNING: Too few points to create valid contours\n",
      "INFO: Downloading photometry: https://www.astrouw.edu.pl/ogle/ogle3/ews/2002/blg-208/phot.dat\n"
     ]
    },
    {
     "name": "stdout",
     "output_type": "stream",
     "text": [
      "2002 - 207 done\n",
      "OGLE 2002 BLG 207 Done\n",
      "OGLE 2002 BLG 208 started\n"
     ]
    },
    {
     "name": "stderr",
     "output_type": "stream",
     "text": [
      "INFO: Fetching OGLE guesses: https://ogle.astrouw.edu.pl/ogle3/ews/2002/blg-208.html\n",
      "C:\\Users\\Saeed\\AppData\\Local\\Temp\\ipykernel_14856\\3667917964.py:85: FutureWarning: Passing literal html to 'read_html' is deprecated and will be removed in a future version. To read from a literal string, wrap it in a 'StringIO' object.\n",
      "  dfs = pd.read_html(r.text)\n",
      "WARNING: Too few points to create valid contours\n",
      "INFO: Downloading photometry: https://www.astrouw.edu.pl/ogle/ogle3/ews/2002/blg-209/phot.dat\n"
     ]
    },
    {
     "name": "stdout",
     "output_type": "stream",
     "text": [
      "2002 - 208 done\n",
      "OGLE 2002 BLG 208 Done\n",
      "OGLE 2002 BLG 209 started\n"
     ]
    },
    {
     "name": "stderr",
     "output_type": "stream",
     "text": [
      "INFO: Fetching OGLE guesses: https://ogle.astrouw.edu.pl/ogle3/ews/2002/blg-209.html\n",
      "C:\\Users\\Saeed\\AppData\\Local\\Temp\\ipykernel_14856\\3667917964.py:85: FutureWarning: Passing literal html to 'read_html' is deprecated and will be removed in a future version. To read from a literal string, wrap it in a 'StringIO' object.\n",
      "  dfs = pd.read_html(r.text)\n",
      "WARNING: Too few points to create valid contours\n",
      "INFO: Downloading photometry: https://www.astrouw.edu.pl/ogle/ogle3/ews/2002/blg-210/phot.dat\n"
     ]
    },
    {
     "name": "stdout",
     "output_type": "stream",
     "text": [
      "2002 - 209 done\n",
      "OGLE 2002 BLG 209 Done\n",
      "OGLE 2002 BLG 210 started\n"
     ]
    },
    {
     "name": "stderr",
     "output_type": "stream",
     "text": [
      "INFO: Fetching OGLE guesses: https://ogle.astrouw.edu.pl/ogle3/ews/2002/blg-210.html\n",
      "C:\\Users\\Saeed\\AppData\\Local\\Temp\\ipykernel_14856\\3667917964.py:85: FutureWarning: Passing literal html to 'read_html' is deprecated and will be removed in a future version. To read from a literal string, wrap it in a 'StringIO' object.\n",
      "  dfs = pd.read_html(r.text)\n",
      "INFO: Downloading photometry: https://www.astrouw.edu.pl/ogle/ogle3/ews/2002/blg-211/phot.dat\n"
     ]
    },
    {
     "name": "stdout",
     "output_type": "stream",
     "text": [
      "2002 - 210 done\n",
      "OGLE 2002 BLG 210 Done\n",
      "OGLE 2002 BLG 211 started\n"
     ]
    },
    {
     "name": "stderr",
     "output_type": "stream",
     "text": [
      "INFO: Fetching OGLE guesses: https://ogle.astrouw.edu.pl/ogle3/ews/2002/blg-211.html\n",
      "C:\\Users\\Saeed\\AppData\\Local\\Temp\\ipykernel_14856\\3667917964.py:85: FutureWarning: Passing literal html to 'read_html' is deprecated and will be removed in a future version. To read from a literal string, wrap it in a 'StringIO' object.\n",
      "  dfs = pd.read_html(r.text)\n",
      "INFO: Downloading photometry: https://www.astrouw.edu.pl/ogle/ogle3/ews/2002/blg-212/phot.dat\n"
     ]
    },
    {
     "name": "stdout",
     "output_type": "stream",
     "text": [
      "2002 - 211 done\n",
      "OGLE 2002 BLG 211 Done\n",
      "OGLE 2002 BLG 212 started\n"
     ]
    },
    {
     "name": "stderr",
     "output_type": "stream",
     "text": [
      "INFO: Fetching OGLE guesses: https://ogle.astrouw.edu.pl/ogle3/ews/2002/blg-212.html\n",
      "C:\\Users\\Saeed\\AppData\\Local\\Temp\\ipykernel_14856\\3667917964.py:85: FutureWarning: Passing literal html to 'read_html' is deprecated and will be removed in a future version. To read from a literal string, wrap it in a 'StringIO' object.\n",
      "  dfs = pd.read_html(r.text)\n",
      "WARNING: Too few points to create valid contours\n",
      "WARNING: Too few points to create valid contours\n",
      "WARNING: Too few points to create valid contours\n",
      "WARNING: Too few points to create valid contours\n",
      "WARNING: Too few points to create valid contours\n",
      "WARNING: Too few points to create valid contours\n",
      "WARNING: Too few points to create valid contours\n",
      "WARNING: Too few points to create valid contours\n",
      "WARNING: Too few points to create valid contours\n",
      "WARNING: Too few points to create valid contours\n",
      "INFO: Downloading photometry: https://www.astrouw.edu.pl/ogle/ogle3/ews/2002/blg-213/phot.dat\n"
     ]
    },
    {
     "name": "stdout",
     "output_type": "stream",
     "text": [
      "2002 - 212 done\n",
      "OGLE 2002 BLG 212 Done\n",
      "OGLE 2002 BLG 213 started\n"
     ]
    },
    {
     "name": "stderr",
     "output_type": "stream",
     "text": [
      "INFO: Fetching OGLE guesses: https://ogle.astrouw.edu.pl/ogle3/ews/2002/blg-213.html\n",
      "C:\\Users\\Saeed\\AppData\\Local\\Temp\\ipykernel_14856\\3667917964.py:85: FutureWarning: Passing literal html to 'read_html' is deprecated and will be removed in a future version. To read from a literal string, wrap it in a 'StringIO' object.\n",
      "  dfs = pd.read_html(r.text)\n",
      "INFO: Downloading photometry: https://www.astrouw.edu.pl/ogle/ogle3/ews/2002/blg-214/phot.dat\n"
     ]
    },
    {
     "name": "stdout",
     "output_type": "stream",
     "text": [
      "2002 - 213 done\n",
      "OGLE 2002 BLG 213 Done\n",
      "OGLE 2002 BLG 214 started\n"
     ]
    },
    {
     "name": "stderr",
     "output_type": "stream",
     "text": [
      "INFO: Fetching OGLE guesses: https://ogle.astrouw.edu.pl/ogle3/ews/2002/blg-214.html\n",
      "C:\\Users\\Saeed\\AppData\\Local\\Temp\\ipykernel_14856\\3667917964.py:85: FutureWarning: Passing literal html to 'read_html' is deprecated and will be removed in a future version. To read from a literal string, wrap it in a 'StringIO' object.\n",
      "  dfs = pd.read_html(r.text)\n",
      "WARNING: Too few points to create valid contours\n",
      "INFO: Downloading photometry: https://www.astrouw.edu.pl/ogle/ogle3/ews/2002/blg-215/phot.dat\n"
     ]
    },
    {
     "name": "stdout",
     "output_type": "stream",
     "text": [
      "2002 - 214 done\n",
      "OGLE 2002 BLG 214 Done\n",
      "OGLE 2002 BLG 215 started\n"
     ]
    },
    {
     "name": "stderr",
     "output_type": "stream",
     "text": [
      "INFO: Fetching OGLE guesses: https://ogle.astrouw.edu.pl/ogle3/ews/2002/blg-215.html\n",
      "C:\\Users\\Saeed\\AppData\\Local\\Temp\\ipykernel_14856\\3667917964.py:85: FutureWarning: Passing literal html to 'read_html' is deprecated and will be removed in a future version. To read from a literal string, wrap it in a 'StringIO' object.\n",
      "  dfs = pd.read_html(r.text)\n",
      "WARNING: Parsed HTML but couldn't extract expected cells: could not convert string to float: '-'\n",
      "WARNING: Too few points to create valid contours\n",
      "INFO: Downloading photometry: https://www.astrouw.edu.pl/ogle/ogle3/ews/2002/blg-216/phot.dat\n"
     ]
    },
    {
     "name": "stdout",
     "output_type": "stream",
     "text": [
      "2002 - 215 done\n",
      "OGLE 2002 BLG 215 Done\n",
      "OGLE 2002 BLG 216 started\n"
     ]
    },
    {
     "name": "stderr",
     "output_type": "stream",
     "text": [
      "INFO: Fetching OGLE guesses: https://ogle.astrouw.edu.pl/ogle3/ews/2002/blg-216.html\n",
      "C:\\Users\\Saeed\\AppData\\Local\\Temp\\ipykernel_14856\\3667917964.py:85: FutureWarning: Passing literal html to 'read_html' is deprecated and will be removed in a future version. To read from a literal string, wrap it in a 'StringIO' object.\n",
      "  dfs = pd.read_html(r.text)\n",
      "INFO: Downloading photometry: https://www.astrouw.edu.pl/ogle/ogle3/ews/2002/blg-217/phot.dat\n"
     ]
    },
    {
     "name": "stdout",
     "output_type": "stream",
     "text": [
      "2002 - 216 done\n",
      "OGLE 2002 BLG 216 Done\n",
      "OGLE 2002 BLG 217 started\n"
     ]
    },
    {
     "name": "stderr",
     "output_type": "stream",
     "text": [
      "INFO: Fetching OGLE guesses: https://ogle.astrouw.edu.pl/ogle3/ews/2002/blg-217.html\n",
      "C:\\Users\\Saeed\\AppData\\Local\\Temp\\ipykernel_14856\\3667917964.py:85: FutureWarning: Passing literal html to 'read_html' is deprecated and will be removed in a future version. To read from a literal string, wrap it in a 'StringIO' object.\n",
      "  dfs = pd.read_html(r.text)\n",
      "WARNING: Too few points to create valid contours\n",
      "INFO: Downloading photometry: https://www.astrouw.edu.pl/ogle/ogle3/ews/2002/blg-218/phot.dat\n"
     ]
    },
    {
     "name": "stdout",
     "output_type": "stream",
     "text": [
      "2002 - 217 done\n",
      "OGLE 2002 BLG 217 Done\n",
      "OGLE 2002 BLG 218 started\n"
     ]
    },
    {
     "name": "stderr",
     "output_type": "stream",
     "text": [
      "INFO: Fetching OGLE guesses: https://ogle.astrouw.edu.pl/ogle3/ews/2002/blg-218.html\n",
      "C:\\Users\\Saeed\\AppData\\Local\\Temp\\ipykernel_14856\\3667917964.py:85: FutureWarning: Passing literal html to 'read_html' is deprecated and will be removed in a future version. To read from a literal string, wrap it in a 'StringIO' object.\n",
      "  dfs = pd.read_html(r.text)\n",
      "WARNING: Too few points to create valid contours\n",
      "WARNING: Too few points to create valid contours\n",
      "WARNING: Too few points to create valid contours\n",
      "WARNING: Too few points to create valid contours\n",
      "WARNING: Too few points to create valid contours\n",
      "WARNING: Too few points to create valid contours\n",
      "WARNING: Too few points to create valid contours\n",
      "WARNING: Too few points to create valid contours\n",
      "WARNING: Too few points to create valid contours\n",
      "WARNING: Too few points to create valid contours\n",
      "INFO: Downloading photometry: https://www.astrouw.edu.pl/ogle/ogle3/ews/2002/blg-219/phot.dat\n"
     ]
    },
    {
     "name": "stdout",
     "output_type": "stream",
     "text": [
      "2002 - 218 done\n",
      "OGLE 2002 BLG 218 Done\n",
      "OGLE 2002 BLG 219 started\n"
     ]
    },
    {
     "name": "stderr",
     "output_type": "stream",
     "text": [
      "INFO: Fetching OGLE guesses: https://ogle.astrouw.edu.pl/ogle3/ews/2002/blg-219.html\n",
      "C:\\Users\\Saeed\\AppData\\Local\\Temp\\ipykernel_14856\\3667917964.py:85: FutureWarning: Passing literal html to 'read_html' is deprecated and will be removed in a future version. To read from a literal string, wrap it in a 'StringIO' object.\n",
      "  dfs = pd.read_html(r.text)\n",
      "WARNING: Too few points to create valid contours\n",
      "INFO: Downloading photometry: https://www.astrouw.edu.pl/ogle/ogle3/ews/2002/blg-220/phot.dat\n"
     ]
    },
    {
     "name": "stdout",
     "output_type": "stream",
     "text": [
      "2002 - 219 done\n",
      "OGLE 2002 BLG 219 Done\n",
      "OGLE 2002 BLG 220 started\n"
     ]
    },
    {
     "name": "stderr",
     "output_type": "stream",
     "text": [
      "INFO: Fetching OGLE guesses: https://ogle.astrouw.edu.pl/ogle3/ews/2002/blg-220.html\n",
      "C:\\Users\\Saeed\\AppData\\Local\\Temp\\ipykernel_14856\\3667917964.py:85: FutureWarning: Passing literal html to 'read_html' is deprecated and will be removed in a future version. To read from a literal string, wrap it in a 'StringIO' object.\n",
      "  dfs = pd.read_html(r.text)\n",
      "INFO: Downloading photometry: https://www.astrouw.edu.pl/ogle/ogle3/ews/2002/blg-221/phot.dat\n"
     ]
    },
    {
     "name": "stdout",
     "output_type": "stream",
     "text": [
      "2002 - 220 done\n",
      "OGLE 2002 BLG 220 Done\n",
      "OGLE 2002 BLG 221 started\n"
     ]
    },
    {
     "name": "stderr",
     "output_type": "stream",
     "text": [
      "INFO: Fetching OGLE guesses: https://ogle.astrouw.edu.pl/ogle3/ews/2002/blg-221.html\n",
      "C:\\Users\\Saeed\\AppData\\Local\\Temp\\ipykernel_14856\\3667917964.py:85: FutureWarning: Passing literal html to 'read_html' is deprecated and will be removed in a future version. To read from a literal string, wrap it in a 'StringIO' object.\n",
      "  dfs = pd.read_html(r.text)\n",
      "INFO: Downloading photometry: https://www.astrouw.edu.pl/ogle/ogle3/ews/2002/blg-222/phot.dat\n"
     ]
    },
    {
     "name": "stdout",
     "output_type": "stream",
     "text": [
      "2002 - 221 done\n",
      "OGLE 2002 BLG 221 Done\n",
      "OGLE 2002 BLG 222 started\n"
     ]
    },
    {
     "name": "stderr",
     "output_type": "stream",
     "text": [
      "INFO: Fetching OGLE guesses: https://ogle.astrouw.edu.pl/ogle3/ews/2002/blg-222.html\n",
      "C:\\Users\\Saeed\\AppData\\Local\\Temp\\ipykernel_14856\\3667917964.py:85: FutureWarning: Passing literal html to 'read_html' is deprecated and will be removed in a future version. To read from a literal string, wrap it in a 'StringIO' object.\n",
      "  dfs = pd.read_html(r.text)\n",
      "WARNING: Too few points to create valid contours\n",
      "WARNING: Too few points to create valid contours\n",
      "WARNING: Too few points to create valid contours\n",
      "WARNING: Too few points to create valid contours\n",
      "WARNING: Too few points to create valid contours\n",
      "WARNING: Too few points to create valid contours\n",
      "WARNING: Too few points to create valid contours\n",
      "WARNING: Too few points to create valid contours\n",
      "WARNING: Too few points to create valid contours\n",
      "WARNING: Too few points to create valid contours\n",
      "INFO: Downloading photometry: https://www.astrouw.edu.pl/ogle/ogle3/ews/2002/blg-223/phot.dat\n"
     ]
    },
    {
     "name": "stdout",
     "output_type": "stream",
     "text": [
      "2002 - 222 done\n",
      "OGLE 2002 BLG 222 Done\n",
      "OGLE 2002 BLG 223 started\n"
     ]
    },
    {
     "name": "stderr",
     "output_type": "stream",
     "text": [
      "INFO: Fetching OGLE guesses: https://ogle.astrouw.edu.pl/ogle3/ews/2002/blg-223.html\n",
      "C:\\Users\\Saeed\\AppData\\Local\\Temp\\ipykernel_14856\\3667917964.py:85: FutureWarning: Passing literal html to 'read_html' is deprecated and will be removed in a future version. To read from a literal string, wrap it in a 'StringIO' object.\n",
      "  dfs = pd.read_html(r.text)\n",
      "WARNING: Too few points to create valid contours\n",
      "WARNING: Too few points to create valid contours\n",
      "WARNING: Too few points to create valid contours\n",
      "WARNING: Too few points to create valid contours\n",
      "WARNING: Too few points to create valid contours\n",
      "WARNING: Too few points to create valid contours\n",
      "WARNING: Too few points to create valid contours\n",
      "WARNING: Too few points to create valid contours\n",
      "INFO: Downloading photometry: https://www.astrouw.edu.pl/ogle/ogle3/ews/2002/blg-224/phot.dat\n"
     ]
    },
    {
     "name": "stdout",
     "output_type": "stream",
     "text": [
      "2002 - 223 done\n",
      "OGLE 2002 BLG 223 Done\n",
      "OGLE 2002 BLG 224 started\n"
     ]
    },
    {
     "name": "stderr",
     "output_type": "stream",
     "text": [
      "INFO: Fetching OGLE guesses: https://ogle.astrouw.edu.pl/ogle3/ews/2002/blg-224.html\n",
      "C:\\Users\\Saeed\\AppData\\Local\\Temp\\ipykernel_14856\\3667917964.py:85: FutureWarning: Passing literal html to 'read_html' is deprecated and will be removed in a future version. To read from a literal string, wrap it in a 'StringIO' object.\n",
      "  dfs = pd.read_html(r.text)\n",
      "WARNING: Too few points to create valid contours\n",
      "WARNING: Too few points to create valid contours\n",
      "WARNING: Too few points to create valid contours\n",
      "WARNING: Too few points to create valid contours\n",
      "WARNING: Too few points to create valid contours\n",
      "WARNING: Too few points to create valid contours\n",
      "WARNING: Too few points to create valid contours\n",
      "INFO: Downloading photometry: https://www.astrouw.edu.pl/ogle/ogle3/ews/2002/blg-225/phot.dat\n"
     ]
    },
    {
     "name": "stdout",
     "output_type": "stream",
     "text": [
      "2002 - 224 done\n",
      "OGLE 2002 BLG 224 Done\n",
      "OGLE 2002 BLG 225 started\n"
     ]
    },
    {
     "name": "stderr",
     "output_type": "stream",
     "text": [
      "INFO: Fetching OGLE guesses: https://ogle.astrouw.edu.pl/ogle3/ews/2002/blg-225.html\n",
      "C:\\Users\\Saeed\\AppData\\Local\\Temp\\ipykernel_14856\\3667917964.py:85: FutureWarning: Passing literal html to 'read_html' is deprecated and will be removed in a future version. To read from a literal string, wrap it in a 'StringIO' object.\n",
      "  dfs = pd.read_html(r.text)\n",
      "WARNING: Too few points to create valid contours\n",
      "WARNING: Too few points to create valid contours\n",
      "WARNING: Too few points to create valid contours\n",
      "WARNING: Too few points to create valid contours\n",
      "WARNING: Too few points to create valid contours\n",
      "WARNING: Too few points to create valid contours\n",
      "WARNING: Too few points to create valid contours\n",
      "WARNING: Too few points to create valid contours\n",
      "WARNING: Too few points to create valid contours\n",
      "WARNING: Too few points to create valid contours\n",
      "INFO: Downloading photometry: https://www.astrouw.edu.pl/ogle/ogle3/ews/2002/blg-226/phot.dat\n"
     ]
    },
    {
     "name": "stdout",
     "output_type": "stream",
     "text": [
      "2002 - 225 done\n",
      "OGLE 2002 BLG 225 Done\n",
      "OGLE 2002 BLG 226 started\n"
     ]
    },
    {
     "name": "stderr",
     "output_type": "stream",
     "text": [
      "INFO: Fetching OGLE guesses: https://ogle.astrouw.edu.pl/ogle3/ews/2002/blg-226.html\n",
      "C:\\Users\\Saeed\\AppData\\Local\\Temp\\ipykernel_14856\\3667917964.py:85: FutureWarning: Passing literal html to 'read_html' is deprecated and will be removed in a future version. To read from a literal string, wrap it in a 'StringIO' object.\n",
      "  dfs = pd.read_html(r.text)\n",
      "WARNING: Too few points to create valid contours\n",
      "WARNING: Too few points to create valid contours\n",
      "WARNING: Too few points to create valid contours\n",
      "WARNING: Too few points to create valid contours\n",
      "WARNING: Too few points to create valid contours\n",
      "WARNING: Too few points to create valid contours\n",
      "WARNING: Too few points to create valid contours\n",
      "WARNING: Too few points to create valid contours\n",
      "WARNING: Too few points to create valid contours\n",
      "WARNING: Too few points to create valid contours\n",
      "INFO: Downloading photometry: https://www.astrouw.edu.pl/ogle/ogle3/ews/2002/blg-227/phot.dat\n"
     ]
    },
    {
     "name": "stdout",
     "output_type": "stream",
     "text": [
      "2002 - 226 done\n",
      "OGLE 2002 BLG 226 Done\n",
      "OGLE 2002 BLG 227 started\n"
     ]
    },
    {
     "name": "stderr",
     "output_type": "stream",
     "text": [
      "INFO: Fetching OGLE guesses: https://ogle.astrouw.edu.pl/ogle3/ews/2002/blg-227.html\n",
      "C:\\Users\\Saeed\\AppData\\Local\\Temp\\ipykernel_14856\\3667917964.py:85: FutureWarning: Passing literal html to 'read_html' is deprecated and will be removed in a future version. To read from a literal string, wrap it in a 'StringIO' object.\n",
      "  dfs = pd.read_html(r.text)\n",
      "WARNING: Too few points to create valid contours\n",
      "INFO: Downloading photometry: https://www.astrouw.edu.pl/ogle/ogle3/ews/2002/blg-228/phot.dat\n"
     ]
    },
    {
     "name": "stdout",
     "output_type": "stream",
     "text": [
      "2002 - 227 done\n",
      "OGLE 2002 BLG 227 Done\n",
      "OGLE 2002 BLG 228 started\n"
     ]
    },
    {
     "name": "stderr",
     "output_type": "stream",
     "text": [
      "INFO: Fetching OGLE guesses: https://ogle.astrouw.edu.pl/ogle3/ews/2002/blg-228.html\n",
      "C:\\Users\\Saeed\\AppData\\Local\\Temp\\ipykernel_14856\\3667917964.py:85: FutureWarning: Passing literal html to 'read_html' is deprecated and will be removed in a future version. To read from a literal string, wrap it in a 'StringIO' object.\n",
      "  dfs = pd.read_html(r.text)\n",
      "WARNING: Too few points to create valid contours\n",
      "WARNING: Too few points to create valid contours\n",
      "WARNING: Too few points to create valid contours\n",
      "WARNING: Too few points to create valid contours\n",
      "WARNING: Too few points to create valid contours\n",
      "WARNING: Too few points to create valid contours\n",
      "WARNING: Too few points to create valid contours\n",
      "WARNING: Too few points to create valid contours\n",
      "WARNING: Too few points to create valid contours\n",
      "WARNING: Too few points to create valid contours\n",
      "INFO: Downloading photometry: https://www.astrouw.edu.pl/ogle/ogle3/ews/2002/blg-229/phot.dat\n"
     ]
    },
    {
     "name": "stdout",
     "output_type": "stream",
     "text": [
      "2002 - 228 done\n",
      "OGLE 2002 BLG 228 Done\n",
      "OGLE 2002 BLG 229 started\n"
     ]
    },
    {
     "name": "stderr",
     "output_type": "stream",
     "text": [
      "INFO: Fetching OGLE guesses: https://ogle.astrouw.edu.pl/ogle3/ews/2002/blg-229.html\n",
      "C:\\Users\\Saeed\\AppData\\Local\\Temp\\ipykernel_14856\\3667917964.py:85: FutureWarning: Passing literal html to 'read_html' is deprecated and will be removed in a future version. To read from a literal string, wrap it in a 'StringIO' object.\n",
      "  dfs = pd.read_html(r.text)\n",
      "INFO: Downloading photometry: https://www.astrouw.edu.pl/ogle/ogle3/ews/2002/blg-230/phot.dat\n"
     ]
    },
    {
     "name": "stdout",
     "output_type": "stream",
     "text": [
      "2002 - 229 done\n",
      "OGLE 2002 BLG 229 Done\n",
      "OGLE 2002 BLG 230 started\n"
     ]
    },
    {
     "name": "stderr",
     "output_type": "stream",
     "text": [
      "INFO: Fetching OGLE guesses: https://ogle.astrouw.edu.pl/ogle3/ews/2002/blg-230.html\n",
      "C:\\Users\\Saeed\\AppData\\Local\\Temp\\ipykernel_14856\\3667917964.py:85: FutureWarning: Passing literal html to 'read_html' is deprecated and will be removed in a future version. To read from a literal string, wrap it in a 'StringIO' object.\n",
      "  dfs = pd.read_html(r.text)\n",
      "INFO: Downloading photometry: https://www.astrouw.edu.pl/ogle/ogle3/ews/2002/blg-231/phot.dat\n"
     ]
    },
    {
     "name": "stdout",
     "output_type": "stream",
     "text": [
      "2002 - 230 done\n",
      "OGLE 2002 BLG 230 Done\n",
      "OGLE 2002 BLG 231 started\n"
     ]
    },
    {
     "name": "stderr",
     "output_type": "stream",
     "text": [
      "INFO: Fetching OGLE guesses: https://ogle.astrouw.edu.pl/ogle3/ews/2002/blg-231.html\n",
      "C:\\Users\\Saeed\\AppData\\Local\\Temp\\ipykernel_14856\\3667917964.py:85: FutureWarning: Passing literal html to 'read_html' is deprecated and will be removed in a future version. To read from a literal string, wrap it in a 'StringIO' object.\n",
      "  dfs = pd.read_html(r.text)\n",
      "WARNING: Too few points to create valid contours\n",
      "WARNING: Too few points to create valid contours\n",
      "WARNING: Too few points to create valid contours\n",
      "WARNING: Too few points to create valid contours\n",
      "WARNING: Too few points to create valid contours\n",
      "WARNING: Too few points to create valid contours\n",
      "WARNING: Too few points to create valid contours\n",
      "WARNING: Too few points to create valid contours\n",
      "WARNING: Too few points to create valid contours\n",
      "WARNING: Too few points to create valid contours\n",
      "INFO: Downloading photometry: https://www.astrouw.edu.pl/ogle/ogle3/ews/2002/blg-232/phot.dat\n"
     ]
    },
    {
     "name": "stdout",
     "output_type": "stream",
     "text": [
      "2002 - 231 done\n",
      "OGLE 2002 BLG 231 Done\n",
      "OGLE 2002 BLG 232 started\n"
     ]
    },
    {
     "name": "stderr",
     "output_type": "stream",
     "text": [
      "INFO: Fetching OGLE guesses: https://ogle.astrouw.edu.pl/ogle3/ews/2002/blg-232.html\n",
      "C:\\Users\\Saeed\\AppData\\Local\\Temp\\ipykernel_14856\\3667917964.py:85: FutureWarning: Passing literal html to 'read_html' is deprecated and will be removed in a future version. To read from a literal string, wrap it in a 'StringIO' object.\n",
      "  dfs = pd.read_html(r.text)\n",
      "INFO: Downloading photometry: https://www.astrouw.edu.pl/ogle/ogle3/ews/2002/blg-233/phot.dat\n"
     ]
    },
    {
     "name": "stdout",
     "output_type": "stream",
     "text": [
      "2002 - 232 done\n",
      "OGLE 2002 BLG 232 Done\n",
      "OGLE 2002 BLG 233 started\n"
     ]
    },
    {
     "name": "stderr",
     "output_type": "stream",
     "text": [
      "INFO: Fetching OGLE guesses: https://ogle.astrouw.edu.pl/ogle3/ews/2002/blg-233.html\n",
      "C:\\Users\\Saeed\\AppData\\Local\\Temp\\ipykernel_14856\\3667917964.py:85: FutureWarning: Passing literal html to 'read_html' is deprecated and will be removed in a future version. To read from a literal string, wrap it in a 'StringIO' object.\n",
      "  dfs = pd.read_html(r.text)\n",
      "WARNING: Too few points to create valid contours\n",
      "WARNING: Too few points to create valid contours\n",
      "WARNING: Too few points to create valid contours\n",
      "WARNING: Too few points to create valid contours\n",
      "WARNING: Too few points to create valid contours\n",
      "WARNING: Too few points to create valid contours\n",
      "WARNING: Too few points to create valid contours\n",
      "WARNING: Too few points to create valid contours\n",
      "WARNING: Too few points to create valid contours\n",
      "WARNING: Too few points to create valid contours\n",
      "INFO: Downloading photometry: https://www.astrouw.edu.pl/ogle/ogle3/ews/2002/blg-234/phot.dat\n"
     ]
    },
    {
     "name": "stdout",
     "output_type": "stream",
     "text": [
      "2002 - 233 done\n",
      "OGLE 2002 BLG 233 Done\n",
      "OGLE 2002 BLG 234 started\n"
     ]
    },
    {
     "name": "stderr",
     "output_type": "stream",
     "text": [
      "INFO: Fetching OGLE guesses: https://ogle.astrouw.edu.pl/ogle3/ews/2002/blg-234.html\n",
      "C:\\Users\\Saeed\\AppData\\Local\\Temp\\ipykernel_14856\\3667917964.py:85: FutureWarning: Passing literal html to 'read_html' is deprecated and will be removed in a future version. To read from a literal string, wrap it in a 'StringIO' object.\n",
      "  dfs = pd.read_html(r.text)\n",
      "WARNING: Too few points to create valid contours\n",
      "WARNING: Too few points to create valid contours\n",
      "WARNING: Too few points to create valid contours\n",
      "WARNING: Too few points to create valid contours\n",
      "WARNING: Too few points to create valid contours\n",
      "WARNING: Too few points to create valid contours\n",
      "WARNING: Too few points to create valid contours\n",
      "WARNING: Too few points to create valid contours\n",
      "WARNING: Too few points to create valid contours\n",
      "WARNING: Too few points to create valid contours\n",
      "INFO: Downloading photometry: https://www.astrouw.edu.pl/ogle/ogle3/ews/2002/blg-235/phot.dat\n"
     ]
    },
    {
     "name": "stdout",
     "output_type": "stream",
     "text": [
      "2002 - 234 done\n",
      "OGLE 2002 BLG 234 Done\n",
      "OGLE 2002 BLG 235 started\n"
     ]
    },
    {
     "name": "stderr",
     "output_type": "stream",
     "text": [
      "INFO: Fetching OGLE guesses: https://ogle.astrouw.edu.pl/ogle3/ews/2002/blg-235.html\n",
      "C:\\Users\\Saeed\\AppData\\Local\\Temp\\ipykernel_14856\\3667917964.py:85: FutureWarning: Passing literal html to 'read_html' is deprecated and will be removed in a future version. To read from a literal string, wrap it in a 'StringIO' object.\n",
      "  dfs = pd.read_html(r.text)\n",
      "WARNING: Too few points to create valid contours\n",
      "WARNING: Too few points to create valid contours\n",
      "WARNING: Too few points to create valid contours\n",
      "WARNING: Too few points to create valid contours\n",
      "WARNING: Too few points to create valid contours\n",
      "WARNING: Too few points to create valid contours\n",
      "WARNING: Too few points to create valid contours\n",
      "WARNING: Too few points to create valid contours\n",
      "WARNING: Too few points to create valid contours\n",
      "WARNING: Too few points to create valid contours\n",
      "INFO: Downloading photometry: https://www.astrouw.edu.pl/ogle/ogle3/ews/2002/blg-236/phot.dat\n"
     ]
    },
    {
     "name": "stdout",
     "output_type": "stream",
     "text": [
      "2002 - 235 done\n",
      "OGLE 2002 BLG 235 Done\n",
      "OGLE 2002 BLG 236 started\n"
     ]
    },
    {
     "name": "stderr",
     "output_type": "stream",
     "text": [
      "INFO: Fetching OGLE guesses: https://ogle.astrouw.edu.pl/ogle3/ews/2002/blg-236.html\n",
      "C:\\Users\\Saeed\\AppData\\Local\\Temp\\ipykernel_14856\\3667917964.py:85: FutureWarning: Passing literal html to 'read_html' is deprecated and will be removed in a future version. To read from a literal string, wrap it in a 'StringIO' object.\n",
      "  dfs = pd.read_html(r.text)\n",
      "WARNING: Too few points to create valid contours\n",
      "WARNING: Too few points to create valid contours\n",
      "WARNING: Too few points to create valid contours\n",
      "WARNING: Too few points to create valid contours\n",
      "WARNING: Too few points to create valid contours\n",
      "WARNING: Too few points to create valid contours\n",
      "INFO: Downloading photometry: https://www.astrouw.edu.pl/ogle/ogle3/ews/2002/blg-237/phot.dat\n"
     ]
    },
    {
     "name": "stdout",
     "output_type": "stream",
     "text": [
      "2002 - 236 done\n",
      "OGLE 2002 BLG 236 Done\n",
      "OGLE 2002 BLG 237 started\n"
     ]
    },
    {
     "name": "stderr",
     "output_type": "stream",
     "text": [
      "INFO: Fetching OGLE guesses: https://ogle.astrouw.edu.pl/ogle3/ews/2002/blg-237.html\n",
      "C:\\Users\\Saeed\\AppData\\Local\\Temp\\ipykernel_14856\\3667917964.py:85: FutureWarning: Passing literal html to 'read_html' is deprecated and will be removed in a future version. To read from a literal string, wrap it in a 'StringIO' object.\n",
      "  dfs = pd.read_html(r.text)\n",
      "INFO: Downloading photometry: https://www.astrouw.edu.pl/ogle/ogle3/ews/2002/blg-238/phot.dat\n"
     ]
    },
    {
     "name": "stdout",
     "output_type": "stream",
     "text": [
      "2002 - 237 done\n",
      "OGLE 2002 BLG 237 Done\n",
      "OGLE 2002 BLG 238 started\n"
     ]
    },
    {
     "name": "stderr",
     "output_type": "stream",
     "text": [
      "INFO: Fetching OGLE guesses: https://ogle.astrouw.edu.pl/ogle3/ews/2002/blg-238.html\n",
      "C:\\Users\\Saeed\\AppData\\Local\\Temp\\ipykernel_14856\\3667917964.py:85: FutureWarning: Passing literal html to 'read_html' is deprecated and will be removed in a future version. To read from a literal string, wrap it in a 'StringIO' object.\n",
      "  dfs = pd.read_html(r.text)\n",
      "INFO: Downloading photometry: https://www.astrouw.edu.pl/ogle/ogle3/ews/2002/blg-239/phot.dat\n"
     ]
    },
    {
     "name": "stdout",
     "output_type": "stream",
     "text": [
      "2002 - 238 done\n",
      "OGLE 2002 BLG 238 Done\n",
      "OGLE 2002 BLG 239 started\n"
     ]
    },
    {
     "name": "stderr",
     "output_type": "stream",
     "text": [
      "INFO: Fetching OGLE guesses: https://ogle.astrouw.edu.pl/ogle3/ews/2002/blg-239.html\n",
      "C:\\Users\\Saeed\\AppData\\Local\\Temp\\ipykernel_14856\\3667917964.py:85: FutureWarning: Passing literal html to 'read_html' is deprecated and will be removed in a future version. To read from a literal string, wrap it in a 'StringIO' object.\n",
      "  dfs = pd.read_html(r.text)\n",
      "WARNING: Too few points to create valid contours\n",
      "WARNING: Too few points to create valid contours\n",
      "WARNING: Too few points to create valid contours\n",
      "WARNING: Too few points to create valid contours\n",
      "WARNING: Too few points to create valid contours\n",
      "WARNING: Too few points to create valid contours\n",
      "WARNING: Too few points to create valid contours\n",
      "WARNING: Too few points to create valid contours\n",
      "WARNING: Too few points to create valid contours\n",
      "WARNING: Too few points to create valid contours\n",
      "INFO: Downloading photometry: https://www.astrouw.edu.pl/ogle/ogle3/ews/2002/blg-240/phot.dat\n"
     ]
    },
    {
     "name": "stdout",
     "output_type": "stream",
     "text": [
      "2002 - 239 done\n",
      "OGLE 2002 BLG 239 Done\n",
      "OGLE 2002 BLG 240 started\n"
     ]
    },
    {
     "name": "stderr",
     "output_type": "stream",
     "text": [
      "INFO: Fetching OGLE guesses: https://ogle.astrouw.edu.pl/ogle3/ews/2002/blg-240.html\n",
      "C:\\Users\\Saeed\\AppData\\Local\\Temp\\ipykernel_14856\\3667917964.py:85: FutureWarning: Passing literal html to 'read_html' is deprecated and will be removed in a future version. To read from a literal string, wrap it in a 'StringIO' object.\n",
      "  dfs = pd.read_html(r.text)\n",
      "WARNING: Too few points to create valid contours\n",
      "WARNING: Too few points to create valid contours\n",
      "WARNING: Too few points to create valid contours\n",
      "WARNING: Too few points to create valid contours\n",
      "WARNING: Too few points to create valid contours\n",
      "INFO: Downloading photometry: https://www.astrouw.edu.pl/ogle/ogle3/ews/2002/blg-241/phot.dat\n"
     ]
    },
    {
     "name": "stdout",
     "output_type": "stream",
     "text": [
      "2002 - 240 done\n",
      "OGLE 2002 BLG 240 Done\n",
      "OGLE 2002 BLG 241 started\n"
     ]
    },
    {
     "name": "stderr",
     "output_type": "stream",
     "text": [
      "INFO: Fetching OGLE guesses: https://ogle.astrouw.edu.pl/ogle3/ews/2002/blg-241.html\n",
      "C:\\Users\\Saeed\\AppData\\Local\\Temp\\ipykernel_14856\\3667917964.py:85: FutureWarning: Passing literal html to 'read_html' is deprecated and will be removed in a future version. To read from a literal string, wrap it in a 'StringIO' object.\n",
      "  dfs = pd.read_html(r.text)\n",
      "WARNING: Too few points to create valid contours\n",
      "INFO: Downloading photometry: https://www.astrouw.edu.pl/ogle/ogle3/ews/2002/blg-242/phot.dat\n"
     ]
    },
    {
     "name": "stdout",
     "output_type": "stream",
     "text": [
      "2002 - 241 done\n",
      "OGLE 2002 BLG 241 Done\n",
      "OGLE 2002 BLG 242 started\n"
     ]
    },
    {
     "name": "stderr",
     "output_type": "stream",
     "text": [
      "INFO: Fetching OGLE guesses: https://ogle.astrouw.edu.pl/ogle3/ews/2002/blg-242.html\n",
      "C:\\Users\\Saeed\\AppData\\Local\\Temp\\ipykernel_14856\\3667917964.py:85: FutureWarning: Passing literal html to 'read_html' is deprecated and will be removed in a future version. To read from a literal string, wrap it in a 'StringIO' object.\n",
      "  dfs = pd.read_html(r.text)\n",
      "INFO: Downloading photometry: https://www.astrouw.edu.pl/ogle/ogle3/ews/2002/blg-243/phot.dat\n"
     ]
    },
    {
     "name": "stdout",
     "output_type": "stream",
     "text": [
      "2002 - 242 done\n",
      "OGLE 2002 BLG 242 Done\n",
      "OGLE 2002 BLG 243 started\n"
     ]
    },
    {
     "name": "stderr",
     "output_type": "stream",
     "text": [
      "INFO: Fetching OGLE guesses: https://ogle.astrouw.edu.pl/ogle3/ews/2002/blg-243.html\n",
      "C:\\Users\\Saeed\\AppData\\Local\\Temp\\ipykernel_14856\\3667917964.py:85: FutureWarning: Passing literal html to 'read_html' is deprecated and will be removed in a future version. To read from a literal string, wrap it in a 'StringIO' object.\n",
      "  dfs = pd.read_html(r.text)\n",
      "WARNING: Too few points to create valid contours\n",
      "WARNING: Too few points to create valid contours\n",
      "WARNING: Too few points to create valid contours\n",
      "WARNING: Too few points to create valid contours\n",
      "WARNING: Too few points to create valid contours\n",
      "WARNING: Too few points to create valid contours\n",
      "WARNING: Too few points to create valid contours\n",
      "WARNING: Too few points to create valid contours\n",
      "WARNING: Too few points to create valid contours\n",
      "WARNING: Too few points to create valid contours\n",
      "INFO: Downloading photometry: https://www.astrouw.edu.pl/ogle/ogle3/ews/2002/blg-244/phot.dat\n"
     ]
    },
    {
     "name": "stdout",
     "output_type": "stream",
     "text": [
      "2002 - 243 done\n",
      "OGLE 2002 BLG 243 Done\n",
      "OGLE 2002 BLG 244 started\n"
     ]
    },
    {
     "name": "stderr",
     "output_type": "stream",
     "text": [
      "INFO: Fetching OGLE guesses: https://ogle.astrouw.edu.pl/ogle3/ews/2002/blg-244.html\n",
      "C:\\Users\\Saeed\\AppData\\Local\\Temp\\ipykernel_14856\\3667917964.py:85: FutureWarning: Passing literal html to 'read_html' is deprecated and will be removed in a future version. To read from a literal string, wrap it in a 'StringIO' object.\n",
      "  dfs = pd.read_html(r.text)\n",
      "WARNING: Too few points to create valid contours\n",
      "WARNING: Too few points to create valid contours\n",
      "WARNING: Too few points to create valid contours\n",
      "WARNING: Too few points to create valid contours\n",
      "WARNING: Too few points to create valid contours\n",
      "WARNING: Too few points to create valid contours\n",
      "WARNING: Too few points to create valid contours\n",
      "WARNING: Too few points to create valid contours\n",
      "WARNING: Too few points to create valid contours\n",
      "WARNING: Too few points to create valid contours\n",
      "INFO: Downloading photometry: https://www.astrouw.edu.pl/ogle/ogle3/ews/2002/blg-245/phot.dat\n"
     ]
    },
    {
     "name": "stdout",
     "output_type": "stream",
     "text": [
      "2002 - 244 done\n",
      "OGLE 2002 BLG 244 Done\n",
      "OGLE 2002 BLG 245 started\n"
     ]
    },
    {
     "name": "stderr",
     "output_type": "stream",
     "text": [
      "INFO: Fetching OGLE guesses: https://ogle.astrouw.edu.pl/ogle3/ews/2002/blg-245.html\n",
      "C:\\Users\\Saeed\\AppData\\Local\\Temp\\ipykernel_14856\\3667917964.py:85: FutureWarning: Passing literal html to 'read_html' is deprecated and will be removed in a future version. To read from a literal string, wrap it in a 'StringIO' object.\n",
      "  dfs = pd.read_html(r.text)\n",
      "WARNING: Too few points to create valid contours\n",
      "WARNING: Too few points to create valid contours\n",
      "WARNING: Too few points to create valid contours\n",
      "WARNING: Too few points to create valid contours\n",
      "WARNING: Too few points to create valid contours\n",
      "WARNING: Too few points to create valid contours\n",
      "WARNING: Too few points to create valid contours\n",
      "WARNING: Too few points to create valid contours\n",
      "WARNING: Too few points to create valid contours\n",
      "INFO: Downloading photometry: https://www.astrouw.edu.pl/ogle/ogle3/ews/2002/blg-246/phot.dat\n"
     ]
    },
    {
     "name": "stdout",
     "output_type": "stream",
     "text": [
      "2002 - 245 done\n",
      "OGLE 2002 BLG 245 Done\n",
      "OGLE 2002 BLG 246 started\n"
     ]
    },
    {
     "name": "stderr",
     "output_type": "stream",
     "text": [
      "INFO: Fetching OGLE guesses: https://ogle.astrouw.edu.pl/ogle3/ews/2002/blg-246.html\n",
      "C:\\Users\\Saeed\\AppData\\Local\\Temp\\ipykernel_14856\\3667917964.py:85: FutureWarning: Passing literal html to 'read_html' is deprecated and will be removed in a future version. To read from a literal string, wrap it in a 'StringIO' object.\n",
      "  dfs = pd.read_html(r.text)\n",
      "WARNING: Too few points to create valid contours\n",
      "WARNING: Too few points to create valid contours\n",
      "WARNING: Too few points to create valid contours\n",
      "WARNING: Too few points to create valid contours\n",
      "WARNING: Too few points to create valid contours\n",
      "WARNING: Too few points to create valid contours\n",
      "WARNING: Too few points to create valid contours\n",
      "WARNING: Too few points to create valid contours\n",
      "WARNING: Too few points to create valid contours\n",
      "INFO: Downloading photometry: https://www.astrouw.edu.pl/ogle/ogle3/ews/2002/blg-247/phot.dat\n"
     ]
    },
    {
     "name": "stdout",
     "output_type": "stream",
     "text": [
      "2002 - 246 done\n",
      "OGLE 2002 BLG 246 Done\n",
      "OGLE 2002 BLG 247 started\n"
     ]
    },
    {
     "name": "stderr",
     "output_type": "stream",
     "text": [
      "INFO: Fetching OGLE guesses: https://ogle.astrouw.edu.pl/ogle3/ews/2002/blg-247.html\n",
      "C:\\Users\\Saeed\\AppData\\Local\\Temp\\ipykernel_14856\\3667917964.py:85: FutureWarning: Passing literal html to 'read_html' is deprecated and will be removed in a future version. To read from a literal string, wrap it in a 'StringIO' object.\n",
      "  dfs = pd.read_html(r.text)\n",
      "WARNING: Too few points to create valid contours\n",
      "WARNING: Too few points to create valid contours\n",
      "WARNING: Too few points to create valid contours\n",
      "WARNING: Too few points to create valid contours\n",
      "WARNING: Too few points to create valid contours\n",
      "WARNING: Too few points to create valid contours\n",
      "WARNING: Too few points to create valid contours\n",
      "WARNING: Too few points to create valid contours\n",
      "WARNING: Too few points to create valid contours\n",
      "WARNING: Too few points to create valid contours\n",
      "WARNING: corner plot failed: [Errno 28] No space left on device\n",
      "INFO: Downloading photometry: https://www.astrouw.edu.pl/ogle/ogle3/ews/2002/blg-248/phot.dat\n"
     ]
    },
    {
     "name": "stdout",
     "output_type": "stream",
     "text": [
      "2002 - 247 done\n",
      "OGLE 2002 BLG 247 Done\n",
      "OGLE 2002 BLG 248 started\n"
     ]
    },
    {
     "name": "stderr",
     "output_type": "stream",
     "text": [
      "INFO: Fetching OGLE guesses: https://ogle.astrouw.edu.pl/ogle3/ews/2002/blg-248.html\n",
      "C:\\Users\\Saeed\\AppData\\Local\\Temp\\ipykernel_14856\\3667917964.py:85: FutureWarning: Passing literal html to 'read_html' is deprecated and will be removed in a future version. To read from a literal string, wrap it in a 'StringIO' object.\n",
      "  dfs = pd.read_html(r.text)\n",
      "WARNING: Event 248: failed with error: [Errno 28] No space left on device\n",
      "INFO: Downloading photometry: https://www.astrouw.edu.pl/ogle/ogle3/ews/2002/blg-249/phot.dat\n"
     ]
    },
    {
     "name": "stdout",
     "output_type": "stream",
     "text": [
      "OGLE 2002 BLG 249 started\n"
     ]
    },
    {
     "name": "stderr",
     "output_type": "stream",
     "text": [
      "INFO: Fetching OGLE guesses: https://ogle.astrouw.edu.pl/ogle3/ews/2002/blg-249.html\n",
      "C:\\Users\\Saeed\\AppData\\Local\\Temp\\ipykernel_14856\\3667917964.py:85: FutureWarning: Passing literal html to 'read_html' is deprecated and will be removed in a future version. To read from a literal string, wrap it in a 'StringIO' object.\n",
      "  dfs = pd.read_html(r.text)\n",
      "WARNING: Event 249: failed with error: [Errno 28] No space left on device\n",
      "INFO: Downloading photometry: https://www.astrouw.edu.pl/ogle/ogle3/ews/2002/blg-250/phot.dat\n"
     ]
    },
    {
     "name": "stdout",
     "output_type": "stream",
     "text": [
      "OGLE 2002 BLG 250 started\n"
     ]
    },
    {
     "name": "stderr",
     "output_type": "stream",
     "text": [
      "INFO: Fetching OGLE guesses: https://ogle.astrouw.edu.pl/ogle3/ews/2002/blg-250.html\n",
      "C:\\Users\\Saeed\\AppData\\Local\\Temp\\ipykernel_14856\\3667917964.py:85: FutureWarning: Passing literal html to 'read_html' is deprecated and will be removed in a future version. To read from a literal string, wrap it in a 'StringIO' object.\n",
      "  dfs = pd.read_html(r.text)\n",
      "WARNING: Event 250: failed with error: [Errno 28] No space left on device\n",
      "INFO: Downloading photometry: https://www.astrouw.edu.pl/ogle/ogle3/ews/2002/blg-251/phot.dat\n"
     ]
    },
    {
     "name": "stdout",
     "output_type": "stream",
     "text": [
      "OGLE 2002 BLG 251 started\n"
     ]
    },
    {
     "name": "stderr",
     "output_type": "stream",
     "text": [
      "INFO: Fetching OGLE guesses: https://ogle.astrouw.edu.pl/ogle3/ews/2002/blg-251.html\n",
      "C:\\Users\\Saeed\\AppData\\Local\\Temp\\ipykernel_14856\\3667917964.py:85: FutureWarning: Passing literal html to 'read_html' is deprecated and will be removed in a future version. To read from a literal string, wrap it in a 'StringIO' object.\n",
      "  dfs = pd.read_html(r.text)\n",
      "WARNING: Event 251: failed with error: [Errno 28] No space left on device\n",
      "INFO: Downloading photometry: https://www.astrouw.edu.pl/ogle/ogle3/ews/2002/blg-252/phot.dat\n"
     ]
    },
    {
     "name": "stdout",
     "output_type": "stream",
     "text": [
      "OGLE 2002 BLG 252 started\n"
     ]
    },
    {
     "name": "stderr",
     "output_type": "stream",
     "text": [
      "INFO: Fetching OGLE guesses: https://ogle.astrouw.edu.pl/ogle3/ews/2002/blg-252.html\n",
      "C:\\Users\\Saeed\\AppData\\Local\\Temp\\ipykernel_14856\\3667917964.py:85: FutureWarning: Passing literal html to 'read_html' is deprecated and will be removed in a future version. To read from a literal string, wrap it in a 'StringIO' object.\n",
      "  dfs = pd.read_html(r.text)\n",
      "WARNING: Event 252: failed with error: [Errno 28] No space left on device\n",
      "INFO: Downloading photometry: https://www.astrouw.edu.pl/ogle/ogle3/ews/2002/blg-253/phot.dat\n"
     ]
    },
    {
     "name": "stdout",
     "output_type": "stream",
     "text": [
      "OGLE 2002 BLG 253 started\n"
     ]
    },
    {
     "name": "stderr",
     "output_type": "stream",
     "text": [
      "INFO: Fetching OGLE guesses: https://ogle.astrouw.edu.pl/ogle3/ews/2002/blg-253.html\n",
      "C:\\Users\\Saeed\\AppData\\Local\\Temp\\ipykernel_14856\\3667917964.py:85: FutureWarning: Passing literal html to 'read_html' is deprecated and will be removed in a future version. To read from a literal string, wrap it in a 'StringIO' object.\n",
      "  dfs = pd.read_html(r.text)\n",
      "WARNING: Event 253: failed with error: [Errno 28] No space left on device\n",
      "INFO: Downloading photometry: https://www.astrouw.edu.pl/ogle/ogle3/ews/2002/blg-254/phot.dat\n"
     ]
    },
    {
     "name": "stdout",
     "output_type": "stream",
     "text": [
      "OGLE 2002 BLG 254 started\n"
     ]
    },
    {
     "name": "stderr",
     "output_type": "stream",
     "text": [
      "INFO: Fetching OGLE guesses: https://ogle.astrouw.edu.pl/ogle3/ews/2002/blg-254.html\n",
      "C:\\Users\\Saeed\\AppData\\Local\\Temp\\ipykernel_14856\\3667917964.py:85: FutureWarning: Passing literal html to 'read_html' is deprecated and will be removed in a future version. To read from a literal string, wrap it in a 'StringIO' object.\n",
      "  dfs = pd.read_html(r.text)\n",
      "WARNING: Event 254: failed with error: [Errno 28] No space left on device\n",
      "INFO: Downloading photometry: https://www.astrouw.edu.pl/ogle/ogle3/ews/2002/blg-255/phot.dat\n"
     ]
    },
    {
     "name": "stdout",
     "output_type": "stream",
     "text": [
      "OGLE 2002 BLG 255 started\n"
     ]
    },
    {
     "name": "stderr",
     "output_type": "stream",
     "text": [
      "INFO: Fetching OGLE guesses: https://ogle.astrouw.edu.pl/ogle3/ews/2002/blg-255.html\n",
      "C:\\Users\\Saeed\\AppData\\Local\\Temp\\ipykernel_14856\\3667917964.py:85: FutureWarning: Passing literal html to 'read_html' is deprecated and will be removed in a future version. To read from a literal string, wrap it in a 'StringIO' object.\n",
      "  dfs = pd.read_html(r.text)\n",
      "WARNING: Parsed HTML but couldn't extract expected cells: could not convert string to float: '-'\n",
      "WARNING: Event 255: failed with error: [Errno 28] No space left on device\n",
      "INFO: Downloading photometry: https://www.astrouw.edu.pl/ogle/ogle3/ews/2002/blg-256/phot.dat\n"
     ]
    },
    {
     "name": "stdout",
     "output_type": "stream",
     "text": [
      "OGLE 2002 BLG 256 started\n"
     ]
    },
    {
     "name": "stderr",
     "output_type": "stream",
     "text": [
      "INFO: Fetching OGLE guesses: https://ogle.astrouw.edu.pl/ogle3/ews/2002/blg-256.html\n",
      "C:\\Users\\Saeed\\AppData\\Local\\Temp\\ipykernel_14856\\3667917964.py:85: FutureWarning: Passing literal html to 'read_html' is deprecated and will be removed in a future version. To read from a literal string, wrap it in a 'StringIO' object.\n",
      "  dfs = pd.read_html(r.text)\n",
      "WARNING: Event 256: failed with error: [Errno 28] No space left on device\n",
      "INFO: Downloading photometry: https://www.astrouw.edu.pl/ogle/ogle3/ews/2002/blg-257/phot.dat\n"
     ]
    },
    {
     "name": "stdout",
     "output_type": "stream",
     "text": [
      "OGLE 2002 BLG 257 started\n"
     ]
    },
    {
     "name": "stderr",
     "output_type": "stream",
     "text": [
      "INFO: Fetching OGLE guesses: https://ogle.astrouw.edu.pl/ogle3/ews/2002/blg-257.html\n",
      "C:\\Users\\Saeed\\AppData\\Local\\Temp\\ipykernel_14856\\3667917964.py:85: FutureWarning: Passing literal html to 'read_html' is deprecated and will be removed in a future version. To read from a literal string, wrap it in a 'StringIO' object.\n",
      "  dfs = pd.read_html(r.text)\n",
      "WARNING: Event 257: failed with error: [Errno 28] No space left on device\n",
      "INFO: Downloading photometry: https://www.astrouw.edu.pl/ogle/ogle3/ews/2002/blg-258/phot.dat\n"
     ]
    },
    {
     "name": "stdout",
     "output_type": "stream",
     "text": [
      "OGLE 2002 BLG 258 started\n"
     ]
    },
    {
     "name": "stderr",
     "output_type": "stream",
     "text": [
      "INFO: Fetching OGLE guesses: https://ogle.astrouw.edu.pl/ogle3/ews/2002/blg-258.html\n",
      "C:\\Users\\Saeed\\AppData\\Local\\Temp\\ipykernel_14856\\3667917964.py:85: FutureWarning: Passing literal html to 'read_html' is deprecated and will be removed in a future version. To read from a literal string, wrap it in a 'StringIO' object.\n",
      "  dfs = pd.read_html(r.text)\n",
      "WARNING: Event 258: failed with error: [Errno 28] No space left on device\n",
      "INFO: Downloading photometry: https://www.astrouw.edu.pl/ogle/ogle3/ews/2002/blg-259/phot.dat\n"
     ]
    },
    {
     "name": "stdout",
     "output_type": "stream",
     "text": [
      "OGLE 2002 BLG 259 started\n"
     ]
    },
    {
     "name": "stderr",
     "output_type": "stream",
     "text": [
      "INFO: Fetching OGLE guesses: https://ogle.astrouw.edu.pl/ogle3/ews/2002/blg-259.html\n",
      "C:\\Users\\Saeed\\AppData\\Local\\Temp\\ipykernel_14856\\3667917964.py:85: FutureWarning: Passing literal html to 'read_html' is deprecated and will be removed in a future version. To read from a literal string, wrap it in a 'StringIO' object.\n",
      "  dfs = pd.read_html(r.text)\n",
      "WARNING: Event 259: failed with error: [Errno 28] No space left on device\n",
      "INFO: Downloading photometry: https://www.astrouw.edu.pl/ogle/ogle3/ews/2002/blg-260/phot.dat\n"
     ]
    },
    {
     "name": "stdout",
     "output_type": "stream",
     "text": [
      "OGLE 2002 BLG 260 started\n"
     ]
    },
    {
     "name": "stderr",
     "output_type": "stream",
     "text": [
      "INFO: Fetching OGLE guesses: https://ogle.astrouw.edu.pl/ogle3/ews/2002/blg-260.html\n",
      "C:\\Users\\Saeed\\AppData\\Local\\Temp\\ipykernel_14856\\3667917964.py:85: FutureWarning: Passing literal html to 'read_html' is deprecated and will be removed in a future version. To read from a literal string, wrap it in a 'StringIO' object.\n",
      "  dfs = pd.read_html(r.text)\n",
      "WARNING: Event 260: failed with error: [Errno 28] No space left on device\n",
      "INFO: Downloading photometry: https://www.astrouw.edu.pl/ogle/ogle3/ews/2002/blg-261/phot.dat\n"
     ]
    },
    {
     "name": "stdout",
     "output_type": "stream",
     "text": [
      "OGLE 2002 BLG 261 started\n"
     ]
    },
    {
     "name": "stderr",
     "output_type": "stream",
     "text": [
      "INFO: Fetching OGLE guesses: https://ogle.astrouw.edu.pl/ogle3/ews/2002/blg-261.html\n",
      "C:\\Users\\Saeed\\AppData\\Local\\Temp\\ipykernel_14856\\3667917964.py:85: FutureWarning: Passing literal html to 'read_html' is deprecated and will be removed in a future version. To read from a literal string, wrap it in a 'StringIO' object.\n",
      "  dfs = pd.read_html(r.text)\n",
      "WARNING: Event 261: failed with error: [Errno 28] No space left on device\n",
      "INFO: Downloading photometry: https://www.astrouw.edu.pl/ogle/ogle3/ews/2002/blg-262/phot.dat\n"
     ]
    },
    {
     "name": "stdout",
     "output_type": "stream",
     "text": [
      "OGLE 2002 BLG 262 started\n"
     ]
    },
    {
     "name": "stderr",
     "output_type": "stream",
     "text": [
      "INFO: Fetching OGLE guesses: https://ogle.astrouw.edu.pl/ogle3/ews/2002/blg-262.html\n",
      "C:\\Users\\Saeed\\AppData\\Local\\Temp\\ipykernel_14856\\3667917964.py:85: FutureWarning: Passing literal html to 'read_html' is deprecated and will be removed in a future version. To read from a literal string, wrap it in a 'StringIO' object.\n",
      "  dfs = pd.read_html(r.text)\n",
      "WARNING: Event 262: failed with error: [Errno 28] No space left on device\n",
      "INFO: Downloading photometry: https://www.astrouw.edu.pl/ogle/ogle3/ews/2002/blg-263/phot.dat\n"
     ]
    },
    {
     "name": "stdout",
     "output_type": "stream",
     "text": [
      "OGLE 2002 BLG 263 started\n"
     ]
    },
    {
     "name": "stderr",
     "output_type": "stream",
     "text": [
      "INFO: Fetching OGLE guesses: https://ogle.astrouw.edu.pl/ogle3/ews/2002/blg-263.html\n",
      "C:\\Users\\Saeed\\AppData\\Local\\Temp\\ipykernel_14856\\3667917964.py:85: FutureWarning: Passing literal html to 'read_html' is deprecated and will be removed in a future version. To read from a literal string, wrap it in a 'StringIO' object.\n",
      "  dfs = pd.read_html(r.text)\n",
      "WARNING: Event 263: failed with error: [Errno 28] No space left on device\n",
      "INFO: Downloading photometry: https://www.astrouw.edu.pl/ogle/ogle3/ews/2002/blg-264/phot.dat\n"
     ]
    },
    {
     "name": "stdout",
     "output_type": "stream",
     "text": [
      "OGLE 2002 BLG 264 started\n"
     ]
    },
    {
     "name": "stderr",
     "output_type": "stream",
     "text": [
      "INFO: Fetching OGLE guesses: https://ogle.astrouw.edu.pl/ogle3/ews/2002/blg-264.html\n",
      "C:\\Users\\Saeed\\AppData\\Local\\Temp\\ipykernel_14856\\3667917964.py:85: FutureWarning: Passing literal html to 'read_html' is deprecated and will be removed in a future version. To read from a literal string, wrap it in a 'StringIO' object.\n",
      "  dfs = pd.read_html(r.text)\n",
      "C:\\Users\\Saeed\\AppData\\Local\\Temp\\ipykernel_14856\\3667917964.py:283: RuntimeWarning: More than 20 figures have been opened. Figures created through the pyplot interface (`matplotlib.pyplot.figure`) are retained until explicitly closed and may consume too much memory. (To control this warning, see the rcParam `figure.max_open_warning`). Consider using `matplotlib.pyplot.close()`.\n",
      "  fig = plt.figure(figsize=(10, 10))\n",
      "WARNING: Event 264: failed with error: [Errno 28] No space left on device\n",
      "INFO: Downloading photometry: https://www.astrouw.edu.pl/ogle/ogle3/ews/2002/blg-265/phot.dat\n"
     ]
    },
    {
     "name": "stdout",
     "output_type": "stream",
     "text": [
      "OGLE 2002 BLG 265 started\n"
     ]
    },
    {
     "name": "stderr",
     "output_type": "stream",
     "text": [
      "INFO: Fetching OGLE guesses: https://ogle.astrouw.edu.pl/ogle3/ews/2002/blg-265.html\n",
      "C:\\Users\\Saeed\\AppData\\Local\\Temp\\ipykernel_14856\\3667917964.py:85: FutureWarning: Passing literal html to 'read_html' is deprecated and will be removed in a future version. To read from a literal string, wrap it in a 'StringIO' object.\n",
      "  dfs = pd.read_html(r.text)\n",
      "WARNING: Event 265: failed with error: [Errno 28] No space left on device\n",
      "INFO: Downloading photometry: https://www.astrouw.edu.pl/ogle/ogle3/ews/2002/blg-266/phot.dat\n"
     ]
    },
    {
     "name": "stdout",
     "output_type": "stream",
     "text": [
      "OGLE 2002 BLG 266 started\n"
     ]
    },
    {
     "name": "stderr",
     "output_type": "stream",
     "text": [
      "INFO: Fetching OGLE guesses: https://ogle.astrouw.edu.pl/ogle3/ews/2002/blg-266.html\n",
      "C:\\Users\\Saeed\\AppData\\Local\\Temp\\ipykernel_14856\\3667917964.py:85: FutureWarning: Passing literal html to 'read_html' is deprecated and will be removed in a future version. To read from a literal string, wrap it in a 'StringIO' object.\n",
      "  dfs = pd.read_html(r.text)\n",
      "WARNING: Event 266: failed with error: [Errno 28] No space left on device\n",
      "INFO: Downloading photometry: https://www.astrouw.edu.pl/ogle/ogle3/ews/2002/blg-267/phot.dat\n"
     ]
    },
    {
     "name": "stdout",
     "output_type": "stream",
     "text": [
      "OGLE 2002 BLG 267 started\n"
     ]
    },
    {
     "name": "stderr",
     "output_type": "stream",
     "text": [
      "INFO: Fetching OGLE guesses: https://ogle.astrouw.edu.pl/ogle3/ews/2002/blg-267.html\n",
      "C:\\Users\\Saeed\\AppData\\Local\\Temp\\ipykernel_14856\\3667917964.py:85: FutureWarning: Passing literal html to 'read_html' is deprecated and will be removed in a future version. To read from a literal string, wrap it in a 'StringIO' object.\n",
      "  dfs = pd.read_html(r.text)\n",
      "WARNING: Event 267: failed with error: [Errno 28] No space left on device\n",
      "INFO: Downloading photometry: https://www.astrouw.edu.pl/ogle/ogle3/ews/2002/blg-268/phot.dat\n"
     ]
    },
    {
     "name": "stdout",
     "output_type": "stream",
     "text": [
      "OGLE 2002 BLG 268 started\n"
     ]
    },
    {
     "name": "stderr",
     "output_type": "stream",
     "text": [
      "INFO: Fetching OGLE guesses: https://ogle.astrouw.edu.pl/ogle3/ews/2002/blg-268.html\n",
      "C:\\Users\\Saeed\\AppData\\Local\\Temp\\ipykernel_14856\\3667917964.py:85: FutureWarning: Passing literal html to 'read_html' is deprecated and will be removed in a future version. To read from a literal string, wrap it in a 'StringIO' object.\n",
      "  dfs = pd.read_html(r.text)\n",
      "WARNING: Event 268: failed with error: [Errno 28] No space left on device\n",
      "INFO: Downloading photometry: https://www.astrouw.edu.pl/ogle/ogle3/ews/2002/blg-269/phot.dat\n"
     ]
    },
    {
     "name": "stdout",
     "output_type": "stream",
     "text": [
      "OGLE 2002 BLG 269 started\n"
     ]
    },
    {
     "name": "stderr",
     "output_type": "stream",
     "text": [
      "INFO: Fetching OGLE guesses: https://ogle.astrouw.edu.pl/ogle3/ews/2002/blg-269.html\n",
      "C:\\Users\\Saeed\\AppData\\Local\\Temp\\ipykernel_14856\\3667917964.py:85: FutureWarning: Passing literal html to 'read_html' is deprecated and will be removed in a future version. To read from a literal string, wrap it in a 'StringIO' object.\n",
      "  dfs = pd.read_html(r.text)\n",
      "WARNING: Event 269: failed with error: [Errno 28] No space left on device\n",
      "INFO: Downloading photometry: https://www.astrouw.edu.pl/ogle/ogle3/ews/2002/blg-270/phot.dat\n"
     ]
    },
    {
     "name": "stdout",
     "output_type": "stream",
     "text": [
      "OGLE 2002 BLG 270 started\n"
     ]
    },
    {
     "name": "stderr",
     "output_type": "stream",
     "text": [
      "INFO: Fetching OGLE guesses: https://ogle.astrouw.edu.pl/ogle3/ews/2002/blg-270.html\n",
      "C:\\Users\\Saeed\\AppData\\Local\\Temp\\ipykernel_14856\\3667917964.py:85: FutureWarning: Passing literal html to 'read_html' is deprecated and will be removed in a future version. To read from a literal string, wrap it in a 'StringIO' object.\n",
      "  dfs = pd.read_html(r.text)\n",
      "WARNING: Event 270: failed with error: [Errno 28] No space left on device\n",
      "INFO: Downloading photometry: https://www.astrouw.edu.pl/ogle/ogle3/ews/2002/blg-271/phot.dat\n"
     ]
    },
    {
     "name": "stdout",
     "output_type": "stream",
     "text": [
      "OGLE 2002 BLG 271 started\n"
     ]
    },
    {
     "name": "stderr",
     "output_type": "stream",
     "text": [
      "INFO: Fetching OGLE guesses: https://ogle.astrouw.edu.pl/ogle3/ews/2002/blg-271.html\n",
      "C:\\Users\\Saeed\\AppData\\Local\\Temp\\ipykernel_14856\\3667917964.py:85: FutureWarning: Passing literal html to 'read_html' is deprecated and will be removed in a future version. To read from a literal string, wrap it in a 'StringIO' object.\n",
      "  dfs = pd.read_html(r.text)\n",
      "WARNING: Event 271: failed with error: [Errno 28] No space left on device\n",
      "INFO: Downloading photometry: https://www.astrouw.edu.pl/ogle/ogle3/ews/2002/blg-272/phot.dat\n"
     ]
    },
    {
     "name": "stdout",
     "output_type": "stream",
     "text": [
      "OGLE 2002 BLG 272 started\n"
     ]
    },
    {
     "name": "stderr",
     "output_type": "stream",
     "text": [
      "INFO: Fetching OGLE guesses: https://ogle.astrouw.edu.pl/ogle3/ews/2002/blg-272.html\n",
      "C:\\Users\\Saeed\\AppData\\Local\\Temp\\ipykernel_14856\\3667917964.py:85: FutureWarning: Passing literal html to 'read_html' is deprecated and will be removed in a future version. To read from a literal string, wrap it in a 'StringIO' object.\n",
      "  dfs = pd.read_html(r.text)\n",
      "WARNING: Event 272: failed with error: [Errno 28] No space left on device\n",
      "INFO: Downloading photometry: https://www.astrouw.edu.pl/ogle/ogle3/ews/2002/blg-273/phot.dat\n"
     ]
    },
    {
     "name": "stdout",
     "output_type": "stream",
     "text": [
      "OGLE 2002 BLG 273 started\n"
     ]
    },
    {
     "name": "stderr",
     "output_type": "stream",
     "text": [
      "INFO: Fetching OGLE guesses: https://ogle.astrouw.edu.pl/ogle3/ews/2002/blg-273.html\n",
      "C:\\Users\\Saeed\\AppData\\Local\\Temp\\ipykernel_14856\\3667917964.py:85: FutureWarning: Passing literal html to 'read_html' is deprecated and will be removed in a future version. To read from a literal string, wrap it in a 'StringIO' object.\n",
      "  dfs = pd.read_html(r.text)\n",
      "WARNING: Event 273: failed with error: [Errno 28] No space left on device\n",
      "INFO: Downloading photometry: https://www.astrouw.edu.pl/ogle/ogle3/ews/2002/blg-274/phot.dat\n"
     ]
    },
    {
     "name": "stdout",
     "output_type": "stream",
     "text": [
      "OGLE 2002 BLG 274 started\n"
     ]
    },
    {
     "name": "stderr",
     "output_type": "stream",
     "text": [
      "INFO: Fetching OGLE guesses: https://ogle.astrouw.edu.pl/ogle3/ews/2002/blg-274.html\n",
      "C:\\Users\\Saeed\\AppData\\Local\\Temp\\ipykernel_14856\\3667917964.py:85: FutureWarning: Passing literal html to 'read_html' is deprecated and will be removed in a future version. To read from a literal string, wrap it in a 'StringIO' object.\n",
      "  dfs = pd.read_html(r.text)\n",
      "WARNING: Event 274: failed with error: [Errno 28] No space left on device\n",
      "INFO: Downloading photometry: https://www.astrouw.edu.pl/ogle/ogle3/ews/2002/blg-275/phot.dat\n"
     ]
    },
    {
     "name": "stdout",
     "output_type": "stream",
     "text": [
      "OGLE 2002 BLG 275 started\n"
     ]
    },
    {
     "name": "stderr",
     "output_type": "stream",
     "text": [
      "INFO: Fetching OGLE guesses: https://ogle.astrouw.edu.pl/ogle3/ews/2002/blg-275.html\n",
      "C:\\Users\\Saeed\\AppData\\Local\\Temp\\ipykernel_14856\\3667917964.py:85: FutureWarning: Passing literal html to 'read_html' is deprecated and will be removed in a future version. To read from a literal string, wrap it in a 'StringIO' object.\n",
      "  dfs = pd.read_html(r.text)\n",
      "WARNING: Event 275: failed with error: [Errno 28] No space left on device\n",
      "INFO: Downloading photometry: https://www.astrouw.edu.pl/ogle/ogle3/ews/2002/blg-276/phot.dat\n"
     ]
    },
    {
     "name": "stdout",
     "output_type": "stream",
     "text": [
      "OGLE 2002 BLG 276 started\n"
     ]
    },
    {
     "name": "stderr",
     "output_type": "stream",
     "text": [
      "INFO: Fetching OGLE guesses: https://ogle.astrouw.edu.pl/ogle3/ews/2002/blg-276.html\n",
      "C:\\Users\\Saeed\\AppData\\Local\\Temp\\ipykernel_14856\\3667917964.py:85: FutureWarning: Passing literal html to 'read_html' is deprecated and will be removed in a future version. To read from a literal string, wrap it in a 'StringIO' object.\n",
      "  dfs = pd.read_html(r.text)\n",
      "WARNING: Event 276: failed with error: [Errno 28] No space left on device\n",
      "INFO: Downloading photometry: https://www.astrouw.edu.pl/ogle/ogle3/ews/2002/blg-277/phot.dat\n"
     ]
    },
    {
     "name": "stdout",
     "output_type": "stream",
     "text": [
      "OGLE 2002 BLG 277 started\n"
     ]
    },
    {
     "name": "stderr",
     "output_type": "stream",
     "text": [
      "INFO: Fetching OGLE guesses: https://ogle.astrouw.edu.pl/ogle3/ews/2002/blg-277.html\n",
      "C:\\Users\\Saeed\\AppData\\Local\\Temp\\ipykernel_14856\\3667917964.py:85: FutureWarning: Passing literal html to 'read_html' is deprecated and will be removed in a future version. To read from a literal string, wrap it in a 'StringIO' object.\n",
      "  dfs = pd.read_html(r.text)\n",
      "WARNING: Event 277: failed with error: [Errno 28] No space left on device\n",
      "INFO: Downloading photometry: https://www.astrouw.edu.pl/ogle/ogle3/ews/2002/blg-278/phot.dat\n"
     ]
    },
    {
     "name": "stdout",
     "output_type": "stream",
     "text": [
      "OGLE 2002 BLG 278 started\n"
     ]
    },
    {
     "name": "stderr",
     "output_type": "stream",
     "text": [
      "INFO: Fetching OGLE guesses: https://ogle.astrouw.edu.pl/ogle3/ews/2002/blg-278.html\n",
      "C:\\Users\\Saeed\\AppData\\Local\\Temp\\ipykernel_14856\\3667917964.py:85: FutureWarning: Passing literal html to 'read_html' is deprecated and will be removed in a future version. To read from a literal string, wrap it in a 'StringIO' object.\n",
      "  dfs = pd.read_html(r.text)\n",
      "WARNING: Event 278: failed with error: [Errno 28] No space left on device\n",
      "INFO: Downloading photometry: https://www.astrouw.edu.pl/ogle/ogle3/ews/2002/blg-279/phot.dat\n"
     ]
    },
    {
     "name": "stdout",
     "output_type": "stream",
     "text": [
      "OGLE 2002 BLG 279 started\n"
     ]
    },
    {
     "name": "stderr",
     "output_type": "stream",
     "text": [
      "INFO: Fetching OGLE guesses: https://ogle.astrouw.edu.pl/ogle3/ews/2002/blg-279.html\n",
      "C:\\Users\\Saeed\\AppData\\Local\\Temp\\ipykernel_14856\\3667917964.py:85: FutureWarning: Passing literal html to 'read_html' is deprecated and will be removed in a future version. To read from a literal string, wrap it in a 'StringIO' object.\n",
      "  dfs = pd.read_html(r.text)\n",
      "WARNING: Event 279: failed with error: [Errno 28] No space left on device\n",
      "INFO: Downloading photometry: https://www.astrouw.edu.pl/ogle/ogle3/ews/2002/blg-280/phot.dat\n"
     ]
    },
    {
     "name": "stdout",
     "output_type": "stream",
     "text": [
      "OGLE 2002 BLG 280 started\n"
     ]
    },
    {
     "name": "stderr",
     "output_type": "stream",
     "text": [
      "INFO: Fetching OGLE guesses: https://ogle.astrouw.edu.pl/ogle3/ews/2002/blg-280.html\n",
      "C:\\Users\\Saeed\\AppData\\Local\\Temp\\ipykernel_14856\\3667917964.py:85: FutureWarning: Passing literal html to 'read_html' is deprecated and will be removed in a future version. To read from a literal string, wrap it in a 'StringIO' object.\n",
      "  dfs = pd.read_html(r.text)\n",
      "WARNING: Event 280: failed with error: [Errno 28] No space left on device\n",
      "INFO: Downloading photometry: https://www.astrouw.edu.pl/ogle/ogle3/ews/2002/blg-281/phot.dat\n"
     ]
    },
    {
     "name": "stdout",
     "output_type": "stream",
     "text": [
      "OGLE 2002 BLG 281 started\n"
     ]
    },
    {
     "name": "stderr",
     "output_type": "stream",
     "text": [
      "INFO: Fetching OGLE guesses: https://ogle.astrouw.edu.pl/ogle3/ews/2002/blg-281.html\n",
      "C:\\Users\\Saeed\\AppData\\Local\\Temp\\ipykernel_14856\\3667917964.py:85: FutureWarning: Passing literal html to 'read_html' is deprecated and will be removed in a future version. To read from a literal string, wrap it in a 'StringIO' object.\n",
      "  dfs = pd.read_html(r.text)\n",
      "WARNING: Event 281: failed with error: [Errno 28] No space left on device\n",
      "INFO: Downloading photometry: https://www.astrouw.edu.pl/ogle/ogle3/ews/2002/blg-282/phot.dat\n"
     ]
    },
    {
     "name": "stdout",
     "output_type": "stream",
     "text": [
      "OGLE 2002 BLG 282 started\n"
     ]
    },
    {
     "name": "stderr",
     "output_type": "stream",
     "text": [
      "INFO: Fetching OGLE guesses: https://ogle.astrouw.edu.pl/ogle3/ews/2002/blg-282.html\n",
      "C:\\Users\\Saeed\\AppData\\Local\\Temp\\ipykernel_14856\\3667917964.py:85: FutureWarning: Passing literal html to 'read_html' is deprecated and will be removed in a future version. To read from a literal string, wrap it in a 'StringIO' object.\n",
      "  dfs = pd.read_html(r.text)\n",
      "WARNING: Event 282: failed with error: [Errno 28] No space left on device\n",
      "INFO: Downloading photometry: https://www.astrouw.edu.pl/ogle/ogle3/ews/2002/blg-283/phot.dat\n"
     ]
    },
    {
     "name": "stdout",
     "output_type": "stream",
     "text": [
      "OGLE 2002 BLG 283 started\n"
     ]
    },
    {
     "name": "stderr",
     "output_type": "stream",
     "text": [
      "INFO: Fetching OGLE guesses: https://ogle.astrouw.edu.pl/ogle3/ews/2002/blg-283.html\n",
      "C:\\Users\\Saeed\\AppData\\Local\\Temp\\ipykernel_14856\\3667917964.py:85: FutureWarning: Passing literal html to 'read_html' is deprecated and will be removed in a future version. To read from a literal string, wrap it in a 'StringIO' object.\n",
      "  dfs = pd.read_html(r.text)\n",
      "WARNING: Event 283: failed with error: [Errno 28] No space left on device\n",
      "INFO: Downloading photometry: https://www.astrouw.edu.pl/ogle/ogle3/ews/2002/blg-284/phot.dat\n"
     ]
    },
    {
     "name": "stdout",
     "output_type": "stream",
     "text": [
      "OGLE 2002 BLG 284 started\n"
     ]
    },
    {
     "name": "stderr",
     "output_type": "stream",
     "text": [
      "INFO: Fetching OGLE guesses: https://ogle.astrouw.edu.pl/ogle3/ews/2002/blg-284.html\n",
      "C:\\Users\\Saeed\\AppData\\Local\\Temp\\ipykernel_14856\\3667917964.py:85: FutureWarning: Passing literal html to 'read_html' is deprecated and will be removed in a future version. To read from a literal string, wrap it in a 'StringIO' object.\n",
      "  dfs = pd.read_html(r.text)\n",
      "WARNING: Event 284: failed with error: [Errno 28] No space left on device\n",
      "INFO: Downloading photometry: https://www.astrouw.edu.pl/ogle/ogle3/ews/2002/blg-285/phot.dat\n"
     ]
    },
    {
     "name": "stdout",
     "output_type": "stream",
     "text": [
      "OGLE 2002 BLG 285 started\n"
     ]
    },
    {
     "name": "stderr",
     "output_type": "stream",
     "text": [
      "INFO: Fetching OGLE guesses: https://ogle.astrouw.edu.pl/ogle3/ews/2002/blg-285.html\n",
      "C:\\Users\\Saeed\\AppData\\Local\\Temp\\ipykernel_14856\\3667917964.py:85: FutureWarning: Passing literal html to 'read_html' is deprecated and will be removed in a future version. To read from a literal string, wrap it in a 'StringIO' object.\n",
      "  dfs = pd.read_html(r.text)\n",
      "WARNING: Event 285: failed with error: [Errno 28] No space left on device\n",
      "INFO: Downloading photometry: https://www.astrouw.edu.pl/ogle/ogle3/ews/2002/blg-286/phot.dat\n"
     ]
    },
    {
     "name": "stdout",
     "output_type": "stream",
     "text": [
      "OGLE 2002 BLG 286 started\n"
     ]
    },
    {
     "name": "stderr",
     "output_type": "stream",
     "text": [
      "INFO: Fetching OGLE guesses: https://ogle.astrouw.edu.pl/ogle3/ews/2002/blg-286.html\n",
      "C:\\Users\\Saeed\\AppData\\Local\\Temp\\ipykernel_14856\\3667917964.py:85: FutureWarning: Passing literal html to 'read_html' is deprecated and will be removed in a future version. To read from a literal string, wrap it in a 'StringIO' object.\n",
      "  dfs = pd.read_html(r.text)\n",
      "WARNING: Event 286: failed with error: [Errno 28] No space left on device\n",
      "INFO: Downloading photometry: https://www.astrouw.edu.pl/ogle/ogle3/ews/2002/blg-287/phot.dat\n"
     ]
    },
    {
     "name": "stdout",
     "output_type": "stream",
     "text": [
      "OGLE 2002 BLG 287 started\n"
     ]
    },
    {
     "name": "stderr",
     "output_type": "stream",
     "text": [
      "INFO: Fetching OGLE guesses: https://ogle.astrouw.edu.pl/ogle3/ews/2002/blg-287.html\n",
      "C:\\Users\\Saeed\\AppData\\Local\\Temp\\ipykernel_14856\\3667917964.py:85: FutureWarning: Passing literal html to 'read_html' is deprecated and will be removed in a future version. To read from a literal string, wrap it in a 'StringIO' object.\n",
      "  dfs = pd.read_html(r.text)\n",
      "WARNING: Event 287: failed with error: [Errno 28] No space left on device\n",
      "INFO: Downloading photometry: https://www.astrouw.edu.pl/ogle/ogle3/ews/2002/blg-288/phot.dat\n"
     ]
    },
    {
     "name": "stdout",
     "output_type": "stream",
     "text": [
      "OGLE 2002 BLG 288 started\n"
     ]
    },
    {
     "name": "stderr",
     "output_type": "stream",
     "text": [
      "INFO: Fetching OGLE guesses: https://ogle.astrouw.edu.pl/ogle3/ews/2002/blg-288.html\n",
      "C:\\Users\\Saeed\\AppData\\Local\\Temp\\ipykernel_14856\\3667917964.py:85: FutureWarning: Passing literal html to 'read_html' is deprecated and will be removed in a future version. To read from a literal string, wrap it in a 'StringIO' object.\n",
      "  dfs = pd.read_html(r.text)\n",
      "WARNING: Event 288: failed with error: [Errno 28] No space left on device\n",
      "INFO: Downloading photometry: https://www.astrouw.edu.pl/ogle/ogle3/ews/2002/blg-289/phot.dat\n"
     ]
    },
    {
     "name": "stdout",
     "output_type": "stream",
     "text": [
      "OGLE 2002 BLG 289 started\n"
     ]
    },
    {
     "name": "stderr",
     "output_type": "stream",
     "text": [
      "INFO: Fetching OGLE guesses: https://ogle.astrouw.edu.pl/ogle3/ews/2002/blg-289.html\n",
      "C:\\Users\\Saeed\\AppData\\Local\\Temp\\ipykernel_14856\\3667917964.py:85: FutureWarning: Passing literal html to 'read_html' is deprecated and will be removed in a future version. To read from a literal string, wrap it in a 'StringIO' object.\n",
      "  dfs = pd.read_html(r.text)\n",
      "WARNING: Event 289: failed with error: [Errno 28] No space left on device\n",
      "INFO: Downloading photometry: https://www.astrouw.edu.pl/ogle/ogle3/ews/2002/blg-290/phot.dat\n"
     ]
    },
    {
     "name": "stdout",
     "output_type": "stream",
     "text": [
      "OGLE 2002 BLG 290 started\n"
     ]
    },
    {
     "name": "stderr",
     "output_type": "stream",
     "text": [
      "INFO: Fetching OGLE guesses: https://ogle.astrouw.edu.pl/ogle3/ews/2002/blg-290.html\n",
      "C:\\Users\\Saeed\\AppData\\Local\\Temp\\ipykernel_14856\\3667917964.py:85: FutureWarning: Passing literal html to 'read_html' is deprecated and will be removed in a future version. To read from a literal string, wrap it in a 'StringIO' object.\n",
      "  dfs = pd.read_html(r.text)\n",
      "WARNING: Event 290: failed with error: [Errno 28] No space left on device\n",
      "INFO: Downloading photometry: https://www.astrouw.edu.pl/ogle/ogle3/ews/2002/blg-291/phot.dat\n"
     ]
    },
    {
     "name": "stdout",
     "output_type": "stream",
     "text": [
      "OGLE 2002 BLG 291 started\n"
     ]
    },
    {
     "name": "stderr",
     "output_type": "stream",
     "text": [
      "INFO: Fetching OGLE guesses: https://ogle.astrouw.edu.pl/ogle3/ews/2002/blg-291.html\n",
      "C:\\Users\\Saeed\\AppData\\Local\\Temp\\ipykernel_14856\\3667917964.py:85: FutureWarning: Passing literal html to 'read_html' is deprecated and will be removed in a future version. To read from a literal string, wrap it in a 'StringIO' object.\n",
      "  dfs = pd.read_html(r.text)\n",
      "WARNING: Event 291: failed with error: [Errno 28] No space left on device\n",
      "INFO: Downloading photometry: https://www.astrouw.edu.pl/ogle/ogle3/ews/2002/blg-292/phot.dat\n"
     ]
    },
    {
     "name": "stdout",
     "output_type": "stream",
     "text": [
      "OGLE 2002 BLG 292 started\n"
     ]
    },
    {
     "name": "stderr",
     "output_type": "stream",
     "text": [
      "INFO: Fetching OGLE guesses: https://ogle.astrouw.edu.pl/ogle3/ews/2002/blg-292.html\n",
      "C:\\Users\\Saeed\\AppData\\Local\\Temp\\ipykernel_14856\\3667917964.py:85: FutureWarning: Passing literal html to 'read_html' is deprecated and will be removed in a future version. To read from a literal string, wrap it in a 'StringIO' object.\n",
      "  dfs = pd.read_html(r.text)\n",
      "WARNING: Event 292: failed with error: [Errno 28] No space left on device\n",
      "INFO: Downloading photometry: https://www.astrouw.edu.pl/ogle/ogle3/ews/2002/blg-293/phot.dat\n"
     ]
    },
    {
     "name": "stdout",
     "output_type": "stream",
     "text": [
      "OGLE 2002 BLG 293 started\n"
     ]
    },
    {
     "name": "stderr",
     "output_type": "stream",
     "text": [
      "INFO: Fetching OGLE guesses: https://ogle.astrouw.edu.pl/ogle3/ews/2002/blg-293.html\n",
      "C:\\Users\\Saeed\\AppData\\Local\\Temp\\ipykernel_14856\\3667917964.py:85: FutureWarning: Passing literal html to 'read_html' is deprecated and will be removed in a future version. To read from a literal string, wrap it in a 'StringIO' object.\n",
      "  dfs = pd.read_html(r.text)\n",
      "WARNING: Event 293: failed with error: [Errno 28] No space left on device\n",
      "INFO: Downloading photometry: https://www.astrouw.edu.pl/ogle/ogle3/ews/2002/blg-294/phot.dat\n"
     ]
    },
    {
     "name": "stdout",
     "output_type": "stream",
     "text": [
      "OGLE 2002 BLG 294 started\n"
     ]
    },
    {
     "name": "stderr",
     "output_type": "stream",
     "text": [
      "INFO: Fetching OGLE guesses: https://ogle.astrouw.edu.pl/ogle3/ews/2002/blg-294.html\n",
      "C:\\Users\\Saeed\\AppData\\Local\\Temp\\ipykernel_14856\\3667917964.py:85: FutureWarning: Passing literal html to 'read_html' is deprecated and will be removed in a future version. To read from a literal string, wrap it in a 'StringIO' object.\n",
      "  dfs = pd.read_html(r.text)\n",
      "WARNING: Event 294: failed with error: [Errno 28] No space left on device\n",
      "INFO: Downloading photometry: https://www.astrouw.edu.pl/ogle/ogle3/ews/2002/blg-295/phot.dat\n"
     ]
    },
    {
     "name": "stdout",
     "output_type": "stream",
     "text": [
      "OGLE 2002 BLG 295 started\n"
     ]
    },
    {
     "name": "stderr",
     "output_type": "stream",
     "text": [
      "INFO: Fetching OGLE guesses: https://ogle.astrouw.edu.pl/ogle3/ews/2002/blg-295.html\n",
      "C:\\Users\\Saeed\\AppData\\Local\\Temp\\ipykernel_14856\\3667917964.py:85: FutureWarning: Passing literal html to 'read_html' is deprecated and will be removed in a future version. To read from a literal string, wrap it in a 'StringIO' object.\n",
      "  dfs = pd.read_html(r.text)\n",
      "WARNING: Event 295: failed with error: [Errno 28] No space left on device\n",
      "INFO: Downloading photometry: https://www.astrouw.edu.pl/ogle/ogle3/ews/2002/blg-296/phot.dat\n"
     ]
    },
    {
     "name": "stdout",
     "output_type": "stream",
     "text": [
      "OGLE 2002 BLG 296 started\n"
     ]
    },
    {
     "name": "stderr",
     "output_type": "stream",
     "text": [
      "INFO: Fetching OGLE guesses: https://ogle.astrouw.edu.pl/ogle3/ews/2002/blg-296.html\n",
      "C:\\Users\\Saeed\\AppData\\Local\\Temp\\ipykernel_14856\\3667917964.py:85: FutureWarning: Passing literal html to 'read_html' is deprecated and will be removed in a future version. To read from a literal string, wrap it in a 'StringIO' object.\n",
      "  dfs = pd.read_html(r.text)\n",
      "WARNING: Event 296: failed with error: [Errno 28] No space left on device\n",
      "INFO: Downloading photometry: https://www.astrouw.edu.pl/ogle/ogle3/ews/2002/blg-297/phot.dat\n"
     ]
    },
    {
     "name": "stdout",
     "output_type": "stream",
     "text": [
      "OGLE 2002 BLG 297 started\n"
     ]
    },
    {
     "name": "stderr",
     "output_type": "stream",
     "text": [
      "INFO: Fetching OGLE guesses: https://ogle.astrouw.edu.pl/ogle3/ews/2002/blg-297.html\n",
      "C:\\Users\\Saeed\\AppData\\Local\\Temp\\ipykernel_14856\\3667917964.py:85: FutureWarning: Passing literal html to 'read_html' is deprecated and will be removed in a future version. To read from a literal string, wrap it in a 'StringIO' object.\n",
      "  dfs = pd.read_html(r.text)\n",
      "WARNING: Event 297: failed with error: [Errno 28] No space left on device\n",
      "INFO: Downloading photometry: https://www.astrouw.edu.pl/ogle/ogle3/ews/2002/blg-298/phot.dat\n"
     ]
    },
    {
     "name": "stdout",
     "output_type": "stream",
     "text": [
      "OGLE 2002 BLG 298 started\n"
     ]
    },
    {
     "name": "stderr",
     "output_type": "stream",
     "text": [
      "INFO: Fetching OGLE guesses: https://ogle.astrouw.edu.pl/ogle3/ews/2002/blg-298.html\n",
      "C:\\Users\\Saeed\\AppData\\Local\\Temp\\ipykernel_14856\\3667917964.py:85: FutureWarning: Passing literal html to 'read_html' is deprecated and will be removed in a future version. To read from a literal string, wrap it in a 'StringIO' object.\n",
      "  dfs = pd.read_html(r.text)\n",
      "WARNING: Event 298: failed with error: [Errno 28] No space left on device\n",
      "INFO: Downloading photometry: https://www.astrouw.edu.pl/ogle/ogle3/ews/2002/blg-299/phot.dat\n"
     ]
    },
    {
     "name": "stdout",
     "output_type": "stream",
     "text": [
      "OGLE 2002 BLG 299 started\n"
     ]
    },
    {
     "name": "stderr",
     "output_type": "stream",
     "text": [
      "INFO: Fetching OGLE guesses: https://ogle.astrouw.edu.pl/ogle3/ews/2002/blg-299.html\n",
      "C:\\Users\\Saeed\\AppData\\Local\\Temp\\ipykernel_14856\\3667917964.py:85: FutureWarning: Passing literal html to 'read_html' is deprecated and will be removed in a future version. To read from a literal string, wrap it in a 'StringIO' object.\n",
      "  dfs = pd.read_html(r.text)\n",
      "WARNING: Event 299: failed with error: [Errno 28] No space left on device\n",
      "INFO: Downloading photometry: https://www.astrouw.edu.pl/ogle/ogle3/ews/2002/blg-300/phot.dat\n"
     ]
    },
    {
     "name": "stdout",
     "output_type": "stream",
     "text": [
      "OGLE 2002 BLG 300 started\n"
     ]
    },
    {
     "name": "stderr",
     "output_type": "stream",
     "text": [
      "INFO: Fetching OGLE guesses: https://ogle.astrouw.edu.pl/ogle3/ews/2002/blg-300.html\n",
      "C:\\Users\\Saeed\\AppData\\Local\\Temp\\ipykernel_14856\\3667917964.py:85: FutureWarning: Passing literal html to 'read_html' is deprecated and will be removed in a future version. To read from a literal string, wrap it in a 'StringIO' object.\n",
      "  dfs = pd.read_html(r.text)\n",
      "WARNING: Event 300: failed with error: [Errno 28] No space left on device\n",
      "INFO: Downloading photometry: https://www.astrouw.edu.pl/ogle/ogle3/ews/2002/blg-301/phot.dat\n"
     ]
    },
    {
     "name": "stdout",
     "output_type": "stream",
     "text": [
      "OGLE 2002 BLG 301 started\n"
     ]
    },
    {
     "name": "stderr",
     "output_type": "stream",
     "text": [
      "INFO: Fetching OGLE guesses: https://ogle.astrouw.edu.pl/ogle3/ews/2002/blg-301.html\n",
      "C:\\Users\\Saeed\\AppData\\Local\\Temp\\ipykernel_14856\\3667917964.py:85: FutureWarning: Passing literal html to 'read_html' is deprecated and will be removed in a future version. To read from a literal string, wrap it in a 'StringIO' object.\n",
      "  dfs = pd.read_html(r.text)\n",
      "WARNING: Event 301: failed with error: [Errno 28] No space left on device\n",
      "INFO: Downloading photometry: https://www.astrouw.edu.pl/ogle/ogle3/ews/2002/blg-302/phot.dat\n"
     ]
    },
    {
     "name": "stdout",
     "output_type": "stream",
     "text": [
      "OGLE 2002 BLG 302 started\n"
     ]
    },
    {
     "name": "stderr",
     "output_type": "stream",
     "text": [
      "INFO: Fetching OGLE guesses: https://ogle.astrouw.edu.pl/ogle3/ews/2002/blg-302.html\n",
      "C:\\Users\\Saeed\\AppData\\Local\\Temp\\ipykernel_14856\\3667917964.py:85: FutureWarning: Passing literal html to 'read_html' is deprecated and will be removed in a future version. To read from a literal string, wrap it in a 'StringIO' object.\n",
      "  dfs = pd.read_html(r.text)\n",
      "WARNING: Event 302: failed with error: [Errno 28] No space left on device\n",
      "INFO: Downloading photometry: https://www.astrouw.edu.pl/ogle/ogle3/ews/2002/blg-303/phot.dat\n"
     ]
    },
    {
     "name": "stdout",
     "output_type": "stream",
     "text": [
      "OGLE 2002 BLG 303 started\n"
     ]
    },
    {
     "name": "stderr",
     "output_type": "stream",
     "text": [
      "INFO: Fetching OGLE guesses: https://ogle.astrouw.edu.pl/ogle3/ews/2002/blg-303.html\n",
      "C:\\Users\\Saeed\\AppData\\Local\\Temp\\ipykernel_14856\\3667917964.py:85: FutureWarning: Passing literal html to 'read_html' is deprecated and will be removed in a future version. To read from a literal string, wrap it in a 'StringIO' object.\n",
      "  dfs = pd.read_html(r.text)\n",
      "WARNING: Event 303: failed with error: [Errno 28] No space left on device\n",
      "INFO: Downloading photometry: https://www.astrouw.edu.pl/ogle/ogle3/ews/2002/blg-304/phot.dat\n"
     ]
    },
    {
     "name": "stdout",
     "output_type": "stream",
     "text": [
      "OGLE 2002 BLG 304 started\n"
     ]
    },
    {
     "name": "stderr",
     "output_type": "stream",
     "text": [
      "INFO: Fetching OGLE guesses: https://ogle.astrouw.edu.pl/ogle3/ews/2002/blg-304.html\n",
      "C:\\Users\\Saeed\\AppData\\Local\\Temp\\ipykernel_14856\\3667917964.py:85: FutureWarning: Passing literal html to 'read_html' is deprecated and will be removed in a future version. To read from a literal string, wrap it in a 'StringIO' object.\n",
      "  dfs = pd.read_html(r.text)\n",
      "WARNING: Event 304: failed with error: [Errno 28] No space left on device\n",
      "INFO: Downloading photometry: https://www.astrouw.edu.pl/ogle/ogle3/ews/2002/blg-305/phot.dat\n"
     ]
    },
    {
     "name": "stdout",
     "output_type": "stream",
     "text": [
      "OGLE 2002 BLG 305 started\n"
     ]
    },
    {
     "name": "stderr",
     "output_type": "stream",
     "text": [
      "INFO: Fetching OGLE guesses: https://ogle.astrouw.edu.pl/ogle3/ews/2002/blg-305.html\n",
      "C:\\Users\\Saeed\\AppData\\Local\\Temp\\ipykernel_14856\\3667917964.py:85: FutureWarning: Passing literal html to 'read_html' is deprecated and will be removed in a future version. To read from a literal string, wrap it in a 'StringIO' object.\n",
      "  dfs = pd.read_html(r.text)\n",
      "WARNING: Event 305: failed with error: [Errno 28] No space left on device\n",
      "INFO: Downloading photometry: https://www.astrouw.edu.pl/ogle/ogle3/ews/2002/blg-306/phot.dat\n"
     ]
    },
    {
     "name": "stdout",
     "output_type": "stream",
     "text": [
      "OGLE 2002 BLG 306 started\n"
     ]
    },
    {
     "name": "stderr",
     "output_type": "stream",
     "text": [
      "INFO: Fetching OGLE guesses: https://ogle.astrouw.edu.pl/ogle3/ews/2002/blg-306.html\n",
      "C:\\Users\\Saeed\\AppData\\Local\\Temp\\ipykernel_14856\\3667917964.py:85: FutureWarning: Passing literal html to 'read_html' is deprecated and will be removed in a future version. To read from a literal string, wrap it in a 'StringIO' object.\n",
      "  dfs = pd.read_html(r.text)\n",
      "WARNING: Event 306: failed with error: [Errno 28] No space left on device\n",
      "INFO: Downloading photometry: https://www.astrouw.edu.pl/ogle/ogle3/ews/2002/blg-307/phot.dat\n"
     ]
    },
    {
     "name": "stdout",
     "output_type": "stream",
     "text": [
      "OGLE 2002 BLG 307 started\n"
     ]
    },
    {
     "name": "stderr",
     "output_type": "stream",
     "text": [
      "INFO: Fetching OGLE guesses: https://ogle.astrouw.edu.pl/ogle3/ews/2002/blg-307.html\n",
      "C:\\Users\\Saeed\\AppData\\Local\\Temp\\ipykernel_14856\\3667917964.py:85: FutureWarning: Passing literal html to 'read_html' is deprecated and will be removed in a future version. To read from a literal string, wrap it in a 'StringIO' object.\n",
      "  dfs = pd.read_html(r.text)\n",
      "WARNING: Event 307: failed with error: Each lower bound must be strictly less than each upper bound.\n",
      "INFO: Downloading photometry: https://www.astrouw.edu.pl/ogle/ogle3/ews/2002/blg-308/phot.dat\n"
     ]
    },
    {
     "name": "stdout",
     "output_type": "stream",
     "text": [
      "OGLE 2002 BLG 308 started\n"
     ]
    },
    {
     "name": "stderr",
     "output_type": "stream",
     "text": [
      "INFO: Fetching OGLE guesses: https://ogle.astrouw.edu.pl/ogle3/ews/2002/blg-308.html\n",
      "C:\\Users\\Saeed\\AppData\\Local\\Temp\\ipykernel_14856\\3667917964.py:85: FutureWarning: Passing literal html to 'read_html' is deprecated and will be removed in a future version. To read from a literal string, wrap it in a 'StringIO' object.\n",
      "  dfs = pd.read_html(r.text)\n",
      "WARNING: Event 308: failed with error: [Errno 28] No space left on device\n",
      "INFO: Downloading photometry: https://www.astrouw.edu.pl/ogle/ogle3/ews/2002/blg-309/phot.dat\n"
     ]
    },
    {
     "name": "stdout",
     "output_type": "stream",
     "text": [
      "OGLE 2002 BLG 309 started\n"
     ]
    },
    {
     "name": "stderr",
     "output_type": "stream",
     "text": [
      "INFO: Fetching OGLE guesses: https://ogle.astrouw.edu.pl/ogle3/ews/2002/blg-309.html\n",
      "C:\\Users\\Saeed\\AppData\\Local\\Temp\\ipykernel_14856\\3667917964.py:85: FutureWarning: Passing literal html to 'read_html' is deprecated and will be removed in a future version. To read from a literal string, wrap it in a 'StringIO' object.\n",
      "  dfs = pd.read_html(r.text)\n",
      "WARNING: Event 309: failed with error: [Errno 28] No space left on device\n",
      "INFO: Downloading photometry: https://www.astrouw.edu.pl/ogle/ogle3/ews/2002/blg-310/phot.dat\n"
     ]
    },
    {
     "name": "stdout",
     "output_type": "stream",
     "text": [
      "OGLE 2002 BLG 310 started\n"
     ]
    },
    {
     "name": "stderr",
     "output_type": "stream",
     "text": [
      "INFO: Fetching OGLE guesses: https://ogle.astrouw.edu.pl/ogle3/ews/2002/blg-310.html\n",
      "C:\\Users\\Saeed\\AppData\\Local\\Temp\\ipykernel_14856\\3667917964.py:85: FutureWarning: Passing literal html to 'read_html' is deprecated and will be removed in a future version. To read from a literal string, wrap it in a 'StringIO' object.\n",
      "  dfs = pd.read_html(r.text)\n",
      "WARNING: Event 310: failed with error: [Errno 28] No space left on device\n",
      "INFO: Downloading photometry: https://www.astrouw.edu.pl/ogle/ogle3/ews/2002/blg-311/phot.dat\n"
     ]
    },
    {
     "name": "stdout",
     "output_type": "stream",
     "text": [
      "OGLE 2002 BLG 311 started\n"
     ]
    },
    {
     "name": "stderr",
     "output_type": "stream",
     "text": [
      "INFO: Fetching OGLE guesses: https://ogle.astrouw.edu.pl/ogle3/ews/2002/blg-311.html\n",
      "C:\\Users\\Saeed\\AppData\\Local\\Temp\\ipykernel_14856\\3667917964.py:85: FutureWarning: Passing literal html to 'read_html' is deprecated and will be removed in a future version. To read from a literal string, wrap it in a 'StringIO' object.\n",
      "  dfs = pd.read_html(r.text)\n",
      "WARNING: Event 311: failed with error: [Errno 28] No space left on device\n",
      "INFO: Downloading photometry: https://www.astrouw.edu.pl/ogle/ogle3/ews/2002/blg-312/phot.dat\n"
     ]
    },
    {
     "name": "stdout",
     "output_type": "stream",
     "text": [
      "OGLE 2002 BLG 312 started\n"
     ]
    },
    {
     "name": "stderr",
     "output_type": "stream",
     "text": [
      "INFO: Fetching OGLE guesses: https://ogle.astrouw.edu.pl/ogle3/ews/2002/blg-312.html\n",
      "C:\\Users\\Saeed\\AppData\\Local\\Temp\\ipykernel_14856\\3667917964.py:85: FutureWarning: Passing literal html to 'read_html' is deprecated and will be removed in a future version. To read from a literal string, wrap it in a 'StringIO' object.\n",
      "  dfs = pd.read_html(r.text)\n",
      "WARNING: Event 312: failed with error: [Errno 28] No space left on device\n",
      "INFO: Downloading photometry: https://www.astrouw.edu.pl/ogle/ogle3/ews/2002/blg-313/phot.dat\n"
     ]
    },
    {
     "name": "stdout",
     "output_type": "stream",
     "text": [
      "OGLE 2002 BLG 313 started\n"
     ]
    },
    {
     "name": "stderr",
     "output_type": "stream",
     "text": [
      "INFO: Fetching OGLE guesses: https://ogle.astrouw.edu.pl/ogle3/ews/2002/blg-313.html\n",
      "C:\\Users\\Saeed\\AppData\\Local\\Temp\\ipykernel_14856\\3667917964.py:85: FutureWarning: Passing literal html to 'read_html' is deprecated and will be removed in a future version. To read from a literal string, wrap it in a 'StringIO' object.\n",
      "  dfs = pd.read_html(r.text)\n",
      "WARNING: Event 313: failed with error: [Errno 28] No space left on device\n",
      "INFO: Downloading photometry: https://www.astrouw.edu.pl/ogle/ogle3/ews/2002/blg-314/phot.dat\n"
     ]
    },
    {
     "name": "stdout",
     "output_type": "stream",
     "text": [
      "OGLE 2002 BLG 314 started\n"
     ]
    },
    {
     "name": "stderr",
     "output_type": "stream",
     "text": [
      "INFO: Fetching OGLE guesses: https://ogle.astrouw.edu.pl/ogle3/ews/2002/blg-314.html\n",
      "C:\\Users\\Saeed\\AppData\\Local\\Temp\\ipykernel_14856\\3667917964.py:85: FutureWarning: Passing literal html to 'read_html' is deprecated and will be removed in a future version. To read from a literal string, wrap it in a 'StringIO' object.\n",
      "  dfs = pd.read_html(r.text)\n",
      "WARNING: Event 314: failed with error: [Errno 28] No space left on device\n",
      "INFO: Downloading photometry: https://www.astrouw.edu.pl/ogle/ogle3/ews/2002/blg-315/phot.dat\n"
     ]
    },
    {
     "name": "stdout",
     "output_type": "stream",
     "text": [
      "OGLE 2002 BLG 315 started\n"
     ]
    },
    {
     "name": "stderr",
     "output_type": "stream",
     "text": [
      "INFO: Fetching OGLE guesses: https://ogle.astrouw.edu.pl/ogle3/ews/2002/blg-315.html\n",
      "C:\\Users\\Saeed\\AppData\\Local\\Temp\\ipykernel_14856\\3667917964.py:85: FutureWarning: Passing literal html to 'read_html' is deprecated and will be removed in a future version. To read from a literal string, wrap it in a 'StringIO' object.\n",
      "  dfs = pd.read_html(r.text)\n",
      "WARNING: Event 315: failed with error: [Errno 28] No space left on device\n",
      "INFO: Downloading photometry: https://www.astrouw.edu.pl/ogle/ogle3/ews/2002/blg-316/phot.dat\n"
     ]
    },
    {
     "name": "stdout",
     "output_type": "stream",
     "text": [
      "OGLE 2002 BLG 316 started\n"
     ]
    },
    {
     "name": "stderr",
     "output_type": "stream",
     "text": [
      "INFO: Fetching OGLE guesses: https://ogle.astrouw.edu.pl/ogle3/ews/2002/blg-316.html\n",
      "C:\\Users\\Saeed\\AppData\\Local\\Temp\\ipykernel_14856\\3667917964.py:85: FutureWarning: Passing literal html to 'read_html' is deprecated and will be removed in a future version. To read from a literal string, wrap it in a 'StringIO' object.\n",
      "  dfs = pd.read_html(r.text)\n",
      "WARNING: Event 316: failed with error: [Errno 28] No space left on device\n",
      "INFO: Downloading photometry: https://www.astrouw.edu.pl/ogle/ogle3/ews/2002/blg-317/phot.dat\n"
     ]
    },
    {
     "name": "stdout",
     "output_type": "stream",
     "text": [
      "OGLE 2002 BLG 317 started\n"
     ]
    },
    {
     "name": "stderr",
     "output_type": "stream",
     "text": [
      "INFO: Fetching OGLE guesses: https://ogle.astrouw.edu.pl/ogle3/ews/2002/blg-317.html\n",
      "C:\\Users\\Saeed\\AppData\\Local\\Temp\\ipykernel_14856\\3667917964.py:85: FutureWarning: Passing literal html to 'read_html' is deprecated and will be removed in a future version. To read from a literal string, wrap it in a 'StringIO' object.\n",
      "  dfs = pd.read_html(r.text)\n",
      "WARNING: Event 317: failed with error: [Errno 28] No space left on device\n",
      "INFO: Downloading photometry: https://www.astrouw.edu.pl/ogle/ogle3/ews/2002/blg-318/phot.dat\n"
     ]
    },
    {
     "name": "stdout",
     "output_type": "stream",
     "text": [
      "OGLE 2002 BLG 318 started\n"
     ]
    },
    {
     "name": "stderr",
     "output_type": "stream",
     "text": [
      "INFO: Fetching OGLE guesses: https://ogle.astrouw.edu.pl/ogle3/ews/2002/blg-318.html\n",
      "C:\\Users\\Saeed\\AppData\\Local\\Temp\\ipykernel_14856\\3667917964.py:85: FutureWarning: Passing literal html to 'read_html' is deprecated and will be removed in a future version. To read from a literal string, wrap it in a 'StringIO' object.\n",
      "  dfs = pd.read_html(r.text)\n",
      "WARNING: Event 318: failed with error: [Errno 28] No space left on device\n",
      "INFO: Downloading photometry: https://www.astrouw.edu.pl/ogle/ogle3/ews/2002/blg-319/phot.dat\n"
     ]
    },
    {
     "name": "stdout",
     "output_type": "stream",
     "text": [
      "OGLE 2002 BLG 319 started\n"
     ]
    },
    {
     "name": "stderr",
     "output_type": "stream",
     "text": [
      "INFO: Fetching OGLE guesses: https://ogle.astrouw.edu.pl/ogle3/ews/2002/blg-319.html\n",
      "C:\\Users\\Saeed\\AppData\\Local\\Temp\\ipykernel_14856\\3667917964.py:85: FutureWarning: Passing literal html to 'read_html' is deprecated and will be removed in a future version. To read from a literal string, wrap it in a 'StringIO' object.\n",
      "  dfs = pd.read_html(r.text)\n",
      "WARNING: Event 319: failed with error: [Errno 28] No space left on device\n",
      "INFO: Downloading photometry: https://www.astrouw.edu.pl/ogle/ogle3/ews/2002/blg-320/phot.dat\n"
     ]
    },
    {
     "name": "stdout",
     "output_type": "stream",
     "text": [
      "OGLE 2002 BLG 320 started\n"
     ]
    },
    {
     "name": "stderr",
     "output_type": "stream",
     "text": [
      "INFO: Fetching OGLE guesses: https://ogle.astrouw.edu.pl/ogle3/ews/2002/blg-320.html\n",
      "C:\\Users\\Saeed\\AppData\\Local\\Temp\\ipykernel_14856\\3667917964.py:85: FutureWarning: Passing literal html to 'read_html' is deprecated and will be removed in a future version. To read from a literal string, wrap it in a 'StringIO' object.\n",
      "  dfs = pd.read_html(r.text)\n",
      "WARNING: Event 320: failed with error: [Errno 28] No space left on device\n",
      "INFO: Downloading photometry: https://www.astrouw.edu.pl/ogle/ogle3/ews/2002/blg-321/phot.dat\n"
     ]
    },
    {
     "name": "stdout",
     "output_type": "stream",
     "text": [
      "OGLE 2002 BLG 321 started\n"
     ]
    },
    {
     "name": "stderr",
     "output_type": "stream",
     "text": [
      "INFO: Fetching OGLE guesses: https://ogle.astrouw.edu.pl/ogle3/ews/2002/blg-321.html\n",
      "C:\\Users\\Saeed\\AppData\\Local\\Temp\\ipykernel_14856\\3667917964.py:85: FutureWarning: Passing literal html to 'read_html' is deprecated and will be removed in a future version. To read from a literal string, wrap it in a 'StringIO' object.\n",
      "  dfs = pd.read_html(r.text)\n",
      "WARNING: Event 321: failed with error: [Errno 28] No space left on device\n",
      "INFO: Downloading photometry: https://www.astrouw.edu.pl/ogle/ogle3/ews/2002/blg-322/phot.dat\n"
     ]
    },
    {
     "name": "stdout",
     "output_type": "stream",
     "text": [
      "OGLE 2002 BLG 322 started\n"
     ]
    },
    {
     "name": "stderr",
     "output_type": "stream",
     "text": [
      "INFO: Fetching OGLE guesses: https://ogle.astrouw.edu.pl/ogle3/ews/2002/blg-322.html\n",
      "C:\\Users\\Saeed\\AppData\\Local\\Temp\\ipykernel_14856\\3667917964.py:85: FutureWarning: Passing literal html to 'read_html' is deprecated and will be removed in a future version. To read from a literal string, wrap it in a 'StringIO' object.\n",
      "  dfs = pd.read_html(r.text)\n",
      "WARNING: Event 322: failed with error: [Errno 28] No space left on device\n",
      "INFO: Downloading photometry: https://www.astrouw.edu.pl/ogle/ogle3/ews/2002/blg-323/phot.dat\n"
     ]
    },
    {
     "name": "stdout",
     "output_type": "stream",
     "text": [
      "OGLE 2002 BLG 323 started\n"
     ]
    },
    {
     "name": "stderr",
     "output_type": "stream",
     "text": [
      "INFO: Fetching OGLE guesses: https://ogle.astrouw.edu.pl/ogle3/ews/2002/blg-323.html\n",
      "C:\\Users\\Saeed\\AppData\\Local\\Temp\\ipykernel_14856\\3667917964.py:85: FutureWarning: Passing literal html to 'read_html' is deprecated and will be removed in a future version. To read from a literal string, wrap it in a 'StringIO' object.\n",
      "  dfs = pd.read_html(r.text)\n",
      "WARNING: Event 323: failed with error: [Errno 28] No space left on device\n",
      "INFO: Downloading photometry: https://www.astrouw.edu.pl/ogle/ogle3/ews/2002/blg-324/phot.dat\n"
     ]
    },
    {
     "name": "stdout",
     "output_type": "stream",
     "text": [
      "OGLE 2002 BLG 324 started\n"
     ]
    },
    {
     "name": "stderr",
     "output_type": "stream",
     "text": [
      "INFO: Fetching OGLE guesses: https://ogle.astrouw.edu.pl/ogle3/ews/2002/blg-324.html\n",
      "C:\\Users\\Saeed\\AppData\\Local\\Temp\\ipykernel_14856\\3667917964.py:85: FutureWarning: Passing literal html to 'read_html' is deprecated and will be removed in a future version. To read from a literal string, wrap it in a 'StringIO' object.\n",
      "  dfs = pd.read_html(r.text)\n",
      "WARNING: Event 324: failed with error: [Errno 28] No space left on device\n",
      "INFO: Downloading photometry: https://www.astrouw.edu.pl/ogle/ogle3/ews/2002/blg-325/phot.dat\n"
     ]
    },
    {
     "name": "stdout",
     "output_type": "stream",
     "text": [
      "OGLE 2002 BLG 325 started\n"
     ]
    },
    {
     "name": "stderr",
     "output_type": "stream",
     "text": [
      "INFO: Fetching OGLE guesses: https://ogle.astrouw.edu.pl/ogle3/ews/2002/blg-325.html\n",
      "C:\\Users\\Saeed\\AppData\\Local\\Temp\\ipykernel_14856\\3667917964.py:85: FutureWarning: Passing literal html to 'read_html' is deprecated and will be removed in a future version. To read from a literal string, wrap it in a 'StringIO' object.\n",
      "  dfs = pd.read_html(r.text)\n",
      "WARNING: Event 325: failed with error: [Errno 28] No space left on device\n",
      "INFO: Downloading photometry: https://www.astrouw.edu.pl/ogle/ogle3/ews/2002/blg-326/phot.dat\n"
     ]
    },
    {
     "name": "stdout",
     "output_type": "stream",
     "text": [
      "OGLE 2002 BLG 326 started\n"
     ]
    },
    {
     "name": "stderr",
     "output_type": "stream",
     "text": [
      "INFO: Fetching OGLE guesses: https://ogle.astrouw.edu.pl/ogle3/ews/2002/blg-326.html\n",
      "C:\\Users\\Saeed\\AppData\\Local\\Temp\\ipykernel_14856\\3667917964.py:85: FutureWarning: Passing literal html to 'read_html' is deprecated and will be removed in a future version. To read from a literal string, wrap it in a 'StringIO' object.\n",
      "  dfs = pd.read_html(r.text)\n",
      "WARNING: Event 326: failed with error: [Errno 28] No space left on device\n",
      "INFO: Downloading photometry: https://www.astrouw.edu.pl/ogle/ogle3/ews/2002/blg-327/phot.dat\n"
     ]
    },
    {
     "name": "stdout",
     "output_type": "stream",
     "text": [
      "OGLE 2002 BLG 327 started\n"
     ]
    },
    {
     "name": "stderr",
     "output_type": "stream",
     "text": [
      "INFO: Fetching OGLE guesses: https://ogle.astrouw.edu.pl/ogle3/ews/2002/blg-327.html\n",
      "C:\\Users\\Saeed\\AppData\\Local\\Temp\\ipykernel_14856\\3667917964.py:85: FutureWarning: Passing literal html to 'read_html' is deprecated and will be removed in a future version. To read from a literal string, wrap it in a 'StringIO' object.\n",
      "  dfs = pd.read_html(r.text)\n",
      "WARNING: Event 327: failed with error: [Errno 28] No space left on device\n",
      "INFO: Downloading photometry: https://www.astrouw.edu.pl/ogle/ogle3/ews/2002/blg-328/phot.dat\n"
     ]
    },
    {
     "name": "stdout",
     "output_type": "stream",
     "text": [
      "OGLE 2002 BLG 328 started\n"
     ]
    },
    {
     "name": "stderr",
     "output_type": "stream",
     "text": [
      "INFO: Fetching OGLE guesses: https://ogle.astrouw.edu.pl/ogle3/ews/2002/blg-328.html\n",
      "C:\\Users\\Saeed\\AppData\\Local\\Temp\\ipykernel_14856\\3667917964.py:85: FutureWarning: Passing literal html to 'read_html' is deprecated and will be removed in a future version. To read from a literal string, wrap it in a 'StringIO' object.\n",
      "  dfs = pd.read_html(r.text)\n",
      "WARNING: Event 328: failed with error: [Errno 28] No space left on device\n",
      "INFO: Downloading photometry: https://www.astrouw.edu.pl/ogle/ogle3/ews/2002/blg-329/phot.dat\n"
     ]
    },
    {
     "name": "stdout",
     "output_type": "stream",
     "text": [
      "OGLE 2002 BLG 329 started\n"
     ]
    },
    {
     "name": "stderr",
     "output_type": "stream",
     "text": [
      "INFO: Fetching OGLE guesses: https://ogle.astrouw.edu.pl/ogle3/ews/2002/blg-329.html\n",
      "C:\\Users\\Saeed\\AppData\\Local\\Temp\\ipykernel_14856\\3667917964.py:85: FutureWarning: Passing literal html to 'read_html' is deprecated and will be removed in a future version. To read from a literal string, wrap it in a 'StringIO' object.\n",
      "  dfs = pd.read_html(r.text)\n",
      "WARNING: Event 329: failed with error: [Errno 28] No space left on device\n",
      "INFO: Downloading photometry: https://www.astrouw.edu.pl/ogle/ogle3/ews/2002/blg-330/phot.dat\n"
     ]
    },
    {
     "name": "stdout",
     "output_type": "stream",
     "text": [
      "OGLE 2002 BLG 330 started\n"
     ]
    },
    {
     "name": "stderr",
     "output_type": "stream",
     "text": [
      "INFO: Fetching OGLE guesses: https://ogle.astrouw.edu.pl/ogle3/ews/2002/blg-330.html\n",
      "C:\\Users\\Saeed\\AppData\\Local\\Temp\\ipykernel_14856\\3667917964.py:85: FutureWarning: Passing literal html to 'read_html' is deprecated and will be removed in a future version. To read from a literal string, wrap it in a 'StringIO' object.\n",
      "  dfs = pd.read_html(r.text)\n",
      "WARNING: Event 330: failed with error: [Errno 28] No space left on device\n",
      "INFO: Downloading photometry: https://www.astrouw.edu.pl/ogle/ogle3/ews/2002/blg-331/phot.dat\n"
     ]
    },
    {
     "name": "stdout",
     "output_type": "stream",
     "text": [
      "OGLE 2002 BLG 331 started\n"
     ]
    },
    {
     "name": "stderr",
     "output_type": "stream",
     "text": [
      "INFO: Fetching OGLE guesses: https://ogle.astrouw.edu.pl/ogle3/ews/2002/blg-331.html\n",
      "C:\\Users\\Saeed\\AppData\\Local\\Temp\\ipykernel_14856\\3667917964.py:85: FutureWarning: Passing literal html to 'read_html' is deprecated and will be removed in a future version. To read from a literal string, wrap it in a 'StringIO' object.\n",
      "  dfs = pd.read_html(r.text)\n",
      "WARNING: Event 331: failed with error: [Errno 28] No space left on device\n",
      "INFO: Downloading photometry: https://www.astrouw.edu.pl/ogle/ogle3/ews/2002/blg-332/phot.dat\n"
     ]
    },
    {
     "name": "stdout",
     "output_type": "stream",
     "text": [
      "OGLE 2002 BLG 332 started\n"
     ]
    },
    {
     "name": "stderr",
     "output_type": "stream",
     "text": [
      "INFO: Fetching OGLE guesses: https://ogle.astrouw.edu.pl/ogle3/ews/2002/blg-332.html\n",
      "C:\\Users\\Saeed\\AppData\\Local\\Temp\\ipykernel_14856\\3667917964.py:85: FutureWarning: Passing literal html to 'read_html' is deprecated and will be removed in a future version. To read from a literal string, wrap it in a 'StringIO' object.\n",
      "  dfs = pd.read_html(r.text)\n",
      "WARNING: Event 332: failed with error: [Errno 28] No space left on device\n",
      "INFO: Downloading photometry: https://www.astrouw.edu.pl/ogle/ogle3/ews/2002/blg-333/phot.dat\n"
     ]
    },
    {
     "name": "stdout",
     "output_type": "stream",
     "text": [
      "OGLE 2002 BLG 333 started\n"
     ]
    },
    {
     "name": "stderr",
     "output_type": "stream",
     "text": [
      "INFO: Fetching OGLE guesses: https://ogle.astrouw.edu.pl/ogle3/ews/2002/blg-333.html\n",
      "C:\\Users\\Saeed\\AppData\\Local\\Temp\\ipykernel_14856\\3667917964.py:85: FutureWarning: Passing literal html to 'read_html' is deprecated and will be removed in a future version. To read from a literal string, wrap it in a 'StringIO' object.\n",
      "  dfs = pd.read_html(r.text)\n",
      "WARNING: Event 333: failed with error: [Errno 28] No space left on device\n",
      "INFO: Downloading photometry: https://www.astrouw.edu.pl/ogle/ogle3/ews/2002/blg-334/phot.dat\n"
     ]
    },
    {
     "name": "stdout",
     "output_type": "stream",
     "text": [
      "OGLE 2002 BLG 334 started\n"
     ]
    },
    {
     "name": "stderr",
     "output_type": "stream",
     "text": [
      "INFO: Fetching OGLE guesses: https://ogle.astrouw.edu.pl/ogle3/ews/2002/blg-334.html\n",
      "C:\\Users\\Saeed\\AppData\\Local\\Temp\\ipykernel_14856\\3667917964.py:85: FutureWarning: Passing literal html to 'read_html' is deprecated and will be removed in a future version. To read from a literal string, wrap it in a 'StringIO' object.\n",
      "  dfs = pd.read_html(r.text)\n",
      "WARNING: Event 334: failed with error: [Errno 28] No space left on device\n",
      "INFO: Downloading photometry: https://www.astrouw.edu.pl/ogle/ogle3/ews/2002/blg-335/phot.dat\n"
     ]
    },
    {
     "name": "stdout",
     "output_type": "stream",
     "text": [
      "OGLE 2002 BLG 335 started\n"
     ]
    },
    {
     "name": "stderr",
     "output_type": "stream",
     "text": [
      "INFO: Fetching OGLE guesses: https://ogle.astrouw.edu.pl/ogle3/ews/2002/blg-335.html\n",
      "C:\\Users\\Saeed\\AppData\\Local\\Temp\\ipykernel_14856\\3667917964.py:85: FutureWarning: Passing literal html to 'read_html' is deprecated and will be removed in a future version. To read from a literal string, wrap it in a 'StringIO' object.\n",
      "  dfs = pd.read_html(r.text)\n",
      "WARNING: Event 335: failed with error: [Errno 28] No space left on device\n",
      "INFO: Downloading photometry: https://www.astrouw.edu.pl/ogle/ogle3/ews/2002/blg-336/phot.dat\n"
     ]
    },
    {
     "name": "stdout",
     "output_type": "stream",
     "text": [
      "OGLE 2002 BLG 336 started\n"
     ]
    },
    {
     "name": "stderr",
     "output_type": "stream",
     "text": [
      "INFO: Fetching OGLE guesses: https://ogle.astrouw.edu.pl/ogle3/ews/2002/blg-336.html\n",
      "C:\\Users\\Saeed\\AppData\\Local\\Temp\\ipykernel_14856\\3667917964.py:85: FutureWarning: Passing literal html to 'read_html' is deprecated and will be removed in a future version. To read from a literal string, wrap it in a 'StringIO' object.\n",
      "  dfs = pd.read_html(r.text)\n",
      "WARNING: Event 336: failed with error: [Errno 28] No space left on device\n",
      "INFO: Downloading photometry: https://www.astrouw.edu.pl/ogle/ogle3/ews/2002/blg-337/phot.dat\n"
     ]
    },
    {
     "name": "stdout",
     "output_type": "stream",
     "text": [
      "OGLE 2002 BLG 337 started\n"
     ]
    },
    {
     "name": "stderr",
     "output_type": "stream",
     "text": [
      "INFO: Fetching OGLE guesses: https://ogle.astrouw.edu.pl/ogle3/ews/2002/blg-337.html\n",
      "C:\\Users\\Saeed\\AppData\\Local\\Temp\\ipykernel_14856\\3667917964.py:85: FutureWarning: Passing literal html to 'read_html' is deprecated and will be removed in a future version. To read from a literal string, wrap it in a 'StringIO' object.\n",
      "  dfs = pd.read_html(r.text)\n",
      "WARNING: Event 337: failed with error: [Errno 28] No space left on device\n",
      "INFO: Downloading photometry: https://www.astrouw.edu.pl/ogle/ogle3/ews/2002/blg-338/phot.dat\n"
     ]
    },
    {
     "name": "stdout",
     "output_type": "stream",
     "text": [
      "OGLE 2002 BLG 338 started\n"
     ]
    },
    {
     "name": "stderr",
     "output_type": "stream",
     "text": [
      "INFO: Fetching OGLE guesses: https://ogle.astrouw.edu.pl/ogle3/ews/2002/blg-338.html\n",
      "C:\\Users\\Saeed\\AppData\\Local\\Temp\\ipykernel_14856\\3667917964.py:85: FutureWarning: Passing literal html to 'read_html' is deprecated and will be removed in a future version. To read from a literal string, wrap it in a 'StringIO' object.\n",
      "  dfs = pd.read_html(r.text)\n",
      "WARNING: Event 338: failed with error: [Errno 28] No space left on device\n",
      "INFO: Downloading photometry: https://www.astrouw.edu.pl/ogle/ogle3/ews/2002/blg-339/phot.dat\n"
     ]
    },
    {
     "name": "stdout",
     "output_type": "stream",
     "text": [
      "OGLE 2002 BLG 339 started\n"
     ]
    },
    {
     "name": "stderr",
     "output_type": "stream",
     "text": [
      "INFO: Fetching OGLE guesses: https://ogle.astrouw.edu.pl/ogle3/ews/2002/blg-339.html\n",
      "C:\\Users\\Saeed\\AppData\\Local\\Temp\\ipykernel_14856\\3667917964.py:85: FutureWarning: Passing literal html to 'read_html' is deprecated and will be removed in a future version. To read from a literal string, wrap it in a 'StringIO' object.\n",
      "  dfs = pd.read_html(r.text)\n",
      "WARNING: Event 339: failed with error: Each lower bound must be strictly less than each upper bound.\n",
      "INFO: Downloading photometry: https://www.astrouw.edu.pl/ogle/ogle3/ews/2002/blg-340/phot.dat\n"
     ]
    },
    {
     "name": "stdout",
     "output_type": "stream",
     "text": [
      "OGLE 2002 BLG 340 started\n"
     ]
    },
    {
     "name": "stderr",
     "output_type": "stream",
     "text": [
      "INFO: Fetching OGLE guesses: https://ogle.astrouw.edu.pl/ogle3/ews/2002/blg-340.html\n",
      "C:\\Users\\Saeed\\AppData\\Local\\Temp\\ipykernel_14856\\3667917964.py:85: FutureWarning: Passing literal html to 'read_html' is deprecated and will be removed in a future version. To read from a literal string, wrap it in a 'StringIO' object.\n",
      "  dfs = pd.read_html(r.text)\n",
      "WARNING: Event 340: failed with error: [Errno 28] No space left on device\n",
      "INFO: Downloading photometry: https://www.astrouw.edu.pl/ogle/ogle3/ews/2002/blg-341/phot.dat\n"
     ]
    },
    {
     "name": "stdout",
     "output_type": "stream",
     "text": [
      "OGLE 2002 BLG 341 started\n"
     ]
    },
    {
     "name": "stderr",
     "output_type": "stream",
     "text": [
      "INFO: Fetching OGLE guesses: https://ogle.astrouw.edu.pl/ogle3/ews/2002/blg-341.html\n",
      "C:\\Users\\Saeed\\AppData\\Local\\Temp\\ipykernel_14856\\3667917964.py:85: FutureWarning: Passing literal html to 'read_html' is deprecated and will be removed in a future version. To read from a literal string, wrap it in a 'StringIO' object.\n",
      "  dfs = pd.read_html(r.text)\n",
      "WARNING: Event 341: failed with error: [Errno 28] No space left on device\n",
      "INFO: Downloading photometry: https://www.astrouw.edu.pl/ogle/ogle3/ews/2002/blg-342/phot.dat\n"
     ]
    },
    {
     "name": "stdout",
     "output_type": "stream",
     "text": [
      "OGLE 2002 BLG 342 started\n"
     ]
    },
    {
     "name": "stderr",
     "output_type": "stream",
     "text": [
      "INFO: Fetching OGLE guesses: https://ogle.astrouw.edu.pl/ogle3/ews/2002/blg-342.html\n",
      "C:\\Users\\Saeed\\AppData\\Local\\Temp\\ipykernel_14856\\3667917964.py:85: FutureWarning: Passing literal html to 'read_html' is deprecated and will be removed in a future version. To read from a literal string, wrap it in a 'StringIO' object.\n",
      "  dfs = pd.read_html(r.text)\n",
      "WARNING: Event 342: failed with error: [Errno 28] No space left on device\n",
      "INFO: Downloading photometry: https://www.astrouw.edu.pl/ogle/ogle3/ews/2002/blg-343/phot.dat\n"
     ]
    },
    {
     "name": "stdout",
     "output_type": "stream",
     "text": [
      "OGLE 2002 BLG 343 started\n"
     ]
    },
    {
     "name": "stderr",
     "output_type": "stream",
     "text": [
      "INFO: Fetching OGLE guesses: https://ogle.astrouw.edu.pl/ogle3/ews/2002/blg-343.html\n",
      "C:\\Users\\Saeed\\AppData\\Local\\Temp\\ipykernel_14856\\3667917964.py:85: FutureWarning: Passing literal html to 'read_html' is deprecated and will be removed in a future version. To read from a literal string, wrap it in a 'StringIO' object.\n",
      "  dfs = pd.read_html(r.text)\n",
      "WARNING: Event 343: failed with error: [Errno 28] No space left on device\n",
      "INFO: Downloading photometry: https://www.astrouw.edu.pl/ogle/ogle3/ews/2002/blg-344/phot.dat\n"
     ]
    },
    {
     "name": "stdout",
     "output_type": "stream",
     "text": [
      "OGLE 2002 BLG 344 started\n"
     ]
    },
    {
     "name": "stderr",
     "output_type": "stream",
     "text": [
      "INFO: Fetching OGLE guesses: https://ogle.astrouw.edu.pl/ogle3/ews/2002/blg-344.html\n",
      "C:\\Users\\Saeed\\AppData\\Local\\Temp\\ipykernel_14856\\3667917964.py:85: FutureWarning: Passing literal html to 'read_html' is deprecated and will be removed in a future version. To read from a literal string, wrap it in a 'StringIO' object.\n",
      "  dfs = pd.read_html(r.text)\n",
      "WARNING: Event 344: failed with error: [Errno 28] No space left on device\n",
      "INFO: Downloading photometry: https://www.astrouw.edu.pl/ogle/ogle3/ews/2002/blg-345/phot.dat\n"
     ]
    },
    {
     "name": "stdout",
     "output_type": "stream",
     "text": [
      "OGLE 2002 BLG 345 started\n"
     ]
    },
    {
     "name": "stderr",
     "output_type": "stream",
     "text": [
      "INFO: Fetching OGLE guesses: https://ogle.astrouw.edu.pl/ogle3/ews/2002/blg-345.html\n",
      "C:\\Users\\Saeed\\AppData\\Local\\Temp\\ipykernel_14856\\3667917964.py:85: FutureWarning: Passing literal html to 'read_html' is deprecated and will be removed in a future version. To read from a literal string, wrap it in a 'StringIO' object.\n",
      "  dfs = pd.read_html(r.text)\n",
      "WARNING: Event 345: failed with error: [Errno 28] No space left on device\n",
      "INFO: Downloading photometry: https://www.astrouw.edu.pl/ogle/ogle3/ews/2002/blg-346/phot.dat\n"
     ]
    },
    {
     "name": "stdout",
     "output_type": "stream",
     "text": [
      "OGLE 2002 BLG 346 started\n"
     ]
    },
    {
     "name": "stderr",
     "output_type": "stream",
     "text": [
      "INFO: Fetching OGLE guesses: https://ogle.astrouw.edu.pl/ogle3/ews/2002/blg-346.html\n",
      "C:\\Users\\Saeed\\AppData\\Local\\Temp\\ipykernel_14856\\3667917964.py:85: FutureWarning: Passing literal html to 'read_html' is deprecated and will be removed in a future version. To read from a literal string, wrap it in a 'StringIO' object.\n",
      "  dfs = pd.read_html(r.text)\n",
      "WARNING: Event 346: failed with error: [Errno 28] No space left on device\n",
      "INFO: Downloading photometry: https://www.astrouw.edu.pl/ogle/ogle3/ews/2002/blg-347/phot.dat\n"
     ]
    },
    {
     "name": "stdout",
     "output_type": "stream",
     "text": [
      "OGLE 2002 BLG 347 started\n"
     ]
    },
    {
     "name": "stderr",
     "output_type": "stream",
     "text": [
      "INFO: Fetching OGLE guesses: https://ogle.astrouw.edu.pl/ogle3/ews/2002/blg-347.html\n",
      "C:\\Users\\Saeed\\AppData\\Local\\Temp\\ipykernel_14856\\3667917964.py:85: FutureWarning: Passing literal html to 'read_html' is deprecated and will be removed in a future version. To read from a literal string, wrap it in a 'StringIO' object.\n",
      "  dfs = pd.read_html(r.text)\n",
      "WARNING: Event 347: failed with error: [Errno 28] No space left on device\n",
      "INFO: Downloading photometry: https://www.astrouw.edu.pl/ogle/ogle3/ews/2002/blg-348/phot.dat\n"
     ]
    },
    {
     "name": "stdout",
     "output_type": "stream",
     "text": [
      "OGLE 2002 BLG 348 started\n"
     ]
    },
    {
     "name": "stderr",
     "output_type": "stream",
     "text": [
      "INFO: Fetching OGLE guesses: https://ogle.astrouw.edu.pl/ogle3/ews/2002/blg-348.html\n",
      "C:\\Users\\Saeed\\AppData\\Local\\Temp\\ipykernel_14856\\3667917964.py:85: FutureWarning: Passing literal html to 'read_html' is deprecated and will be removed in a future version. To read from a literal string, wrap it in a 'StringIO' object.\n",
      "  dfs = pd.read_html(r.text)\n",
      "WARNING: Event 348: failed with error: [Errno 28] No space left on device\n",
      "INFO: Downloading photometry: https://www.astrouw.edu.pl/ogle/ogle3/ews/2002/blg-349/phot.dat\n"
     ]
    },
    {
     "name": "stdout",
     "output_type": "stream",
     "text": [
      "OGLE 2002 BLG 349 started\n"
     ]
    },
    {
     "name": "stderr",
     "output_type": "stream",
     "text": [
      "INFO: Fetching OGLE guesses: https://ogle.astrouw.edu.pl/ogle3/ews/2002/blg-349.html\n",
      "C:\\Users\\Saeed\\AppData\\Local\\Temp\\ipykernel_14856\\3667917964.py:85: FutureWarning: Passing literal html to 'read_html' is deprecated and will be removed in a future version. To read from a literal string, wrap it in a 'StringIO' object.\n",
      "  dfs = pd.read_html(r.text)\n",
      "WARNING: Event 349: failed with error: [Errno 28] No space left on device\n",
      "INFO: Downloading photometry: https://www.astrouw.edu.pl/ogle/ogle3/ews/2002/blg-350/phot.dat\n"
     ]
    },
    {
     "name": "stdout",
     "output_type": "stream",
     "text": [
      "OGLE 2002 BLG 350 started\n"
     ]
    },
    {
     "name": "stderr",
     "output_type": "stream",
     "text": [
      "INFO: Fetching OGLE guesses: https://ogle.astrouw.edu.pl/ogle3/ews/2002/blg-350.html\n",
      "C:\\Users\\Saeed\\AppData\\Local\\Temp\\ipykernel_14856\\3667917964.py:85: FutureWarning: Passing literal html to 'read_html' is deprecated and will be removed in a future version. To read from a literal string, wrap it in a 'StringIO' object.\n",
      "  dfs = pd.read_html(r.text)\n",
      "WARNING: Event 350: failed with error: [Errno 28] No space left on device\n",
      "INFO: Downloading photometry: https://www.astrouw.edu.pl/ogle/ogle3/ews/2002/blg-351/phot.dat\n"
     ]
    },
    {
     "name": "stdout",
     "output_type": "stream",
     "text": [
      "OGLE 2002 BLG 351 started\n"
     ]
    },
    {
     "name": "stderr",
     "output_type": "stream",
     "text": [
      "INFO: Fetching OGLE guesses: https://ogle.astrouw.edu.pl/ogle3/ews/2002/blg-351.html\n",
      "C:\\Users\\Saeed\\AppData\\Local\\Temp\\ipykernel_14856\\3667917964.py:85: FutureWarning: Passing literal html to 'read_html' is deprecated and will be removed in a future version. To read from a literal string, wrap it in a 'StringIO' object.\n",
      "  dfs = pd.read_html(r.text)\n",
      "WARNING: Event 351: failed with error: [Errno 28] No space left on device\n",
      "INFO: Downloading photometry: https://www.astrouw.edu.pl/ogle/ogle3/ews/2002/blg-352/phot.dat\n"
     ]
    },
    {
     "name": "stdout",
     "output_type": "stream",
     "text": [
      "OGLE 2002 BLG 352 started\n"
     ]
    },
    {
     "name": "stderr",
     "output_type": "stream",
     "text": [
      "INFO: Fetching OGLE guesses: https://ogle.astrouw.edu.pl/ogle3/ews/2002/blg-352.html\n",
      "C:\\Users\\Saeed\\AppData\\Local\\Temp\\ipykernel_14856\\3667917964.py:85: FutureWarning: Passing literal html to 'read_html' is deprecated and will be removed in a future version. To read from a literal string, wrap it in a 'StringIO' object.\n",
      "  dfs = pd.read_html(r.text)\n",
      "WARNING: Event 352: failed with error: [Errno 28] No space left on device\n",
      "INFO: Downloading photometry: https://www.astrouw.edu.pl/ogle/ogle3/ews/2002/blg-353/phot.dat\n"
     ]
    },
    {
     "name": "stdout",
     "output_type": "stream",
     "text": [
      "OGLE 2002 BLG 353 started\n"
     ]
    },
    {
     "name": "stderr",
     "output_type": "stream",
     "text": [
      "INFO: Fetching OGLE guesses: https://ogle.astrouw.edu.pl/ogle3/ews/2002/blg-353.html\n",
      "C:\\Users\\Saeed\\AppData\\Local\\Temp\\ipykernel_14856\\3667917964.py:85: FutureWarning: Passing literal html to 'read_html' is deprecated and will be removed in a future version. To read from a literal string, wrap it in a 'StringIO' object.\n",
      "  dfs = pd.read_html(r.text)\n",
      "WARNING: Event 353: failed with error: [Errno 28] No space left on device\n",
      "INFO: Downloading photometry: https://www.astrouw.edu.pl/ogle/ogle3/ews/2002/blg-354/phot.dat\n"
     ]
    },
    {
     "name": "stdout",
     "output_type": "stream",
     "text": [
      "OGLE 2002 BLG 354 started\n"
     ]
    },
    {
     "name": "stderr",
     "output_type": "stream",
     "text": [
      "INFO: Fetching OGLE guesses: https://ogle.astrouw.edu.pl/ogle3/ews/2002/blg-354.html\n",
      "C:\\Users\\Saeed\\AppData\\Local\\Temp\\ipykernel_14856\\3667917964.py:85: FutureWarning: Passing literal html to 'read_html' is deprecated and will be removed in a future version. To read from a literal string, wrap it in a 'StringIO' object.\n",
      "  dfs = pd.read_html(r.text)\n",
      "WARNING: Event 354: failed with error: [Errno 28] No space left on device\n",
      "INFO: Downloading photometry: https://www.astrouw.edu.pl/ogle/ogle3/ews/2002/blg-355/phot.dat\n"
     ]
    },
    {
     "name": "stdout",
     "output_type": "stream",
     "text": [
      "OGLE 2002 BLG 355 started\n"
     ]
    },
    {
     "name": "stderr",
     "output_type": "stream",
     "text": [
      "INFO: Fetching OGLE guesses: https://ogle.astrouw.edu.pl/ogle3/ews/2002/blg-355.html\n",
      "C:\\Users\\Saeed\\AppData\\Local\\Temp\\ipykernel_14856\\3667917964.py:85: FutureWarning: Passing literal html to 'read_html' is deprecated and will be removed in a future version. To read from a literal string, wrap it in a 'StringIO' object.\n",
      "  dfs = pd.read_html(r.text)\n",
      "WARNING: Event 355: failed with error: [Errno 28] No space left on device\n",
      "INFO: Downloading photometry: https://www.astrouw.edu.pl/ogle/ogle3/ews/2002/blg-356/phot.dat\n"
     ]
    },
    {
     "name": "stdout",
     "output_type": "stream",
     "text": [
      "OGLE 2002 BLG 356 started\n"
     ]
    },
    {
     "name": "stderr",
     "output_type": "stream",
     "text": [
      "INFO: Fetching OGLE guesses: https://ogle.astrouw.edu.pl/ogle3/ews/2002/blg-356.html\n",
      "C:\\Users\\Saeed\\AppData\\Local\\Temp\\ipykernel_14856\\3667917964.py:85: FutureWarning: Passing literal html to 'read_html' is deprecated and will be removed in a future version. To read from a literal string, wrap it in a 'StringIO' object.\n",
      "  dfs = pd.read_html(r.text)\n",
      "WARNING: Event 356: failed with error: [Errno 28] No space left on device\n",
      "INFO: Downloading photometry: https://www.astrouw.edu.pl/ogle/ogle3/ews/2002/blg-357/phot.dat\n"
     ]
    },
    {
     "name": "stdout",
     "output_type": "stream",
     "text": [
      "OGLE 2002 BLG 357 started\n"
     ]
    },
    {
     "name": "stderr",
     "output_type": "stream",
     "text": [
      "INFO: Fetching OGLE guesses: https://ogle.astrouw.edu.pl/ogle3/ews/2002/blg-357.html\n",
      "C:\\Users\\Saeed\\AppData\\Local\\Temp\\ipykernel_14856\\3667917964.py:85: FutureWarning: Passing literal html to 'read_html' is deprecated and will be removed in a future version. To read from a literal string, wrap it in a 'StringIO' object.\n",
      "  dfs = pd.read_html(r.text)\n",
      "WARNING: Event 357: failed with error: [Errno 28] No space left on device\n",
      "INFO: Downloading photometry: https://www.astrouw.edu.pl/ogle/ogle3/ews/2002/blg-358/phot.dat\n"
     ]
    },
    {
     "name": "stdout",
     "output_type": "stream",
     "text": [
      "OGLE 2002 BLG 358 started\n"
     ]
    },
    {
     "name": "stderr",
     "output_type": "stream",
     "text": [
      "INFO: Fetching OGLE guesses: https://ogle.astrouw.edu.pl/ogle3/ews/2002/blg-358.html\n",
      "C:\\Users\\Saeed\\AppData\\Local\\Temp\\ipykernel_14856\\3667917964.py:85: FutureWarning: Passing literal html to 'read_html' is deprecated and will be removed in a future version. To read from a literal string, wrap it in a 'StringIO' object.\n",
      "  dfs = pd.read_html(r.text)\n",
      "WARNING: Event 358: failed with error: [Errno 28] No space left on device\n",
      "INFO: Downloading photometry: https://www.astrouw.edu.pl/ogle/ogle3/ews/2002/blg-359/phot.dat\n"
     ]
    },
    {
     "name": "stdout",
     "output_type": "stream",
     "text": [
      "OGLE 2002 BLG 359 started\n"
     ]
    },
    {
     "name": "stderr",
     "output_type": "stream",
     "text": [
      "INFO: Fetching OGLE guesses: https://ogle.astrouw.edu.pl/ogle3/ews/2002/blg-359.html\n",
      "C:\\Users\\Saeed\\AppData\\Local\\Temp\\ipykernel_14856\\3667917964.py:85: FutureWarning: Passing literal html to 'read_html' is deprecated and will be removed in a future version. To read from a literal string, wrap it in a 'StringIO' object.\n",
      "  dfs = pd.read_html(r.text)\n",
      "WARNING: Event 359: failed with error: [Errno 28] No space left on device\n",
      "INFO: Downloading photometry: https://www.astrouw.edu.pl/ogle/ogle3/ews/2002/blg-360/phot.dat\n"
     ]
    },
    {
     "name": "stdout",
     "output_type": "stream",
     "text": [
      "OGLE 2002 BLG 360 started\n"
     ]
    },
    {
     "name": "stderr",
     "output_type": "stream",
     "text": [
      "INFO: Fetching OGLE guesses: https://ogle.astrouw.edu.pl/ogle3/ews/2002/blg-360.html\n",
      "C:\\Users\\Saeed\\AppData\\Local\\Temp\\ipykernel_14856\\3667917964.py:85: FutureWarning: Passing literal html to 'read_html' is deprecated and will be removed in a future version. To read from a literal string, wrap it in a 'StringIO' object.\n",
      "  dfs = pd.read_html(r.text)\n",
      "WARNING: Parsed HTML but couldn't extract expected cells: could not convert string to float: '-'\n",
      "WARNING: Event 360: failed with error: [Errno 28] No space left on device\n",
      "INFO: Downloading photometry: https://www.astrouw.edu.pl/ogle/ogle3/ews/2002/blg-361/phot.dat\n"
     ]
    },
    {
     "name": "stdout",
     "output_type": "stream",
     "text": [
      "OGLE 2002 BLG 361 started\n"
     ]
    },
    {
     "name": "stderr",
     "output_type": "stream",
     "text": [
      "INFO: Fetching OGLE guesses: https://ogle.astrouw.edu.pl/ogle3/ews/2002/blg-361.html\n",
      "C:\\Users\\Saeed\\AppData\\Local\\Temp\\ipykernel_14856\\3667917964.py:85: FutureWarning: Passing literal html to 'read_html' is deprecated and will be removed in a future version. To read from a literal string, wrap it in a 'StringIO' object.\n",
      "  dfs = pd.read_html(r.text)\n",
      "WARNING: Event 361: failed with error: [Errno 28] No space left on device\n",
      "INFO: Downloading photometry: https://www.astrouw.edu.pl/ogle/ogle3/ews/2002/blg-362/phot.dat\n"
     ]
    },
    {
     "name": "stdout",
     "output_type": "stream",
     "text": [
      "OGLE 2002 BLG 362 started\n"
     ]
    },
    {
     "name": "stderr",
     "output_type": "stream",
     "text": [
      "INFO: Fetching OGLE guesses: https://ogle.astrouw.edu.pl/ogle3/ews/2002/blg-362.html\n",
      "C:\\Users\\Saeed\\AppData\\Local\\Temp\\ipykernel_14856\\3667917964.py:85: FutureWarning: Passing literal html to 'read_html' is deprecated and will be removed in a future version. To read from a literal string, wrap it in a 'StringIO' object.\n",
      "  dfs = pd.read_html(r.text)\n",
      "WARNING: Event 362: failed with error: [Errno 28] No space left on device\n",
      "INFO: Downloading photometry: https://www.astrouw.edu.pl/ogle/ogle3/ews/2002/blg-363/phot.dat\n"
     ]
    },
    {
     "name": "stdout",
     "output_type": "stream",
     "text": [
      "OGLE 2002 BLG 363 started\n"
     ]
    },
    {
     "name": "stderr",
     "output_type": "stream",
     "text": [
      "INFO: Fetching OGLE guesses: https://ogle.astrouw.edu.pl/ogle3/ews/2002/blg-363.html\n",
      "C:\\Users\\Saeed\\AppData\\Local\\Temp\\ipykernel_14856\\3667917964.py:85: FutureWarning: Passing literal html to 'read_html' is deprecated and will be removed in a future version. To read from a literal string, wrap it in a 'StringIO' object.\n",
      "  dfs = pd.read_html(r.text)\n",
      "WARNING: Event 363: failed with error: [Errno 28] No space left on device\n",
      "INFO: Downloading photometry: https://www.astrouw.edu.pl/ogle/ogle3/ews/2002/blg-364/phot.dat\n"
     ]
    },
    {
     "name": "stdout",
     "output_type": "stream",
     "text": [
      "OGLE 2002 BLG 364 started\n"
     ]
    },
    {
     "name": "stderr",
     "output_type": "stream",
     "text": [
      "INFO: Fetching OGLE guesses: https://ogle.astrouw.edu.pl/ogle3/ews/2002/blg-364.html\n",
      "C:\\Users\\Saeed\\AppData\\Local\\Temp\\ipykernel_14856\\3667917964.py:85: FutureWarning: Passing literal html to 'read_html' is deprecated and will be removed in a future version. To read from a literal string, wrap it in a 'StringIO' object.\n",
      "  dfs = pd.read_html(r.text)\n",
      "WARNING: Event 364: failed with error: [Errno 28] No space left on device\n",
      "INFO: Downloading photometry: https://www.astrouw.edu.pl/ogle/ogle3/ews/2002/blg-365/phot.dat\n"
     ]
    },
    {
     "name": "stdout",
     "output_type": "stream",
     "text": [
      "OGLE 2002 BLG 365 started\n"
     ]
    },
    {
     "name": "stderr",
     "output_type": "stream",
     "text": [
      "INFO: Fetching OGLE guesses: https://ogle.astrouw.edu.pl/ogle3/ews/2002/blg-365.html\n",
      "C:\\Users\\Saeed\\AppData\\Local\\Temp\\ipykernel_14856\\3667917964.py:85: FutureWarning: Passing literal html to 'read_html' is deprecated and will be removed in a future version. To read from a literal string, wrap it in a 'StringIO' object.\n",
      "  dfs = pd.read_html(r.text)\n",
      "WARNING: Event 365: failed with error: [Errno 28] No space left on device\n",
      "INFO: Downloading photometry: https://www.astrouw.edu.pl/ogle/ogle3/ews/2002/blg-366/phot.dat\n"
     ]
    },
    {
     "name": "stdout",
     "output_type": "stream",
     "text": [
      "OGLE 2002 BLG 366 started\n"
     ]
    },
    {
     "name": "stderr",
     "output_type": "stream",
     "text": [
      "INFO: Fetching OGLE guesses: https://ogle.astrouw.edu.pl/ogle3/ews/2002/blg-366.html\n",
      "C:\\Users\\Saeed\\AppData\\Local\\Temp\\ipykernel_14856\\3667917964.py:85: FutureWarning: Passing literal html to 'read_html' is deprecated and will be removed in a future version. To read from a literal string, wrap it in a 'StringIO' object.\n",
      "  dfs = pd.read_html(r.text)\n",
      "WARNING: Event 366: failed with error: [Errno 28] No space left on device\n",
      "INFO: Downloading photometry: https://www.astrouw.edu.pl/ogle/ogle3/ews/2002/blg-367/phot.dat\n"
     ]
    },
    {
     "name": "stdout",
     "output_type": "stream",
     "text": [
      "OGLE 2002 BLG 367 started\n"
     ]
    },
    {
     "name": "stderr",
     "output_type": "stream",
     "text": [
      "INFO: Fetching OGLE guesses: https://ogle.astrouw.edu.pl/ogle3/ews/2002/blg-367.html\n",
      "C:\\Users\\Saeed\\AppData\\Local\\Temp\\ipykernel_14856\\3667917964.py:85: FutureWarning: Passing literal html to 'read_html' is deprecated and will be removed in a future version. To read from a literal string, wrap it in a 'StringIO' object.\n",
      "  dfs = pd.read_html(r.text)\n",
      "WARNING: Event 367: failed with error: [Errno 28] No space left on device\n",
      "INFO: Downloading photometry: https://www.astrouw.edu.pl/ogle/ogle3/ews/2002/blg-368/phot.dat\n"
     ]
    },
    {
     "name": "stdout",
     "output_type": "stream",
     "text": [
      "OGLE 2002 BLG 368 started\n"
     ]
    },
    {
     "name": "stderr",
     "output_type": "stream",
     "text": [
      "INFO: Fetching OGLE guesses: https://ogle.astrouw.edu.pl/ogle3/ews/2002/blg-368.html\n",
      "C:\\Users\\Saeed\\AppData\\Local\\Temp\\ipykernel_14856\\3667917964.py:85: FutureWarning: Passing literal html to 'read_html' is deprecated and will be removed in a future version. To read from a literal string, wrap it in a 'StringIO' object.\n",
      "  dfs = pd.read_html(r.text)\n",
      "WARNING: Event 368: failed with error: [Errno 28] No space left on device\n",
      "INFO: Downloading photometry: https://www.astrouw.edu.pl/ogle/ogle3/ews/2002/blg-369/phot.dat\n"
     ]
    },
    {
     "name": "stdout",
     "output_type": "stream",
     "text": [
      "OGLE 2002 BLG 369 started\n"
     ]
    },
    {
     "name": "stderr",
     "output_type": "stream",
     "text": [
      "INFO: Fetching OGLE guesses: https://ogle.astrouw.edu.pl/ogle3/ews/2002/blg-369.html\n",
      "C:\\Users\\Saeed\\AppData\\Local\\Temp\\ipykernel_14856\\3667917964.py:85: FutureWarning: Passing literal html to 'read_html' is deprecated and will be removed in a future version. To read from a literal string, wrap it in a 'StringIO' object.\n",
      "  dfs = pd.read_html(r.text)\n",
      "WARNING: Event 369: failed with error: [Errno 28] No space left on device\n",
      "INFO: Downloading photometry: https://www.astrouw.edu.pl/ogle/ogle3/ews/2002/blg-370/phot.dat\n"
     ]
    },
    {
     "name": "stdout",
     "output_type": "stream",
     "text": [
      "OGLE 2002 BLG 370 started\n"
     ]
    },
    {
     "name": "stderr",
     "output_type": "stream",
     "text": [
      "INFO: Fetching OGLE guesses: https://ogle.astrouw.edu.pl/ogle3/ews/2002/blg-370.html\n",
      "C:\\Users\\Saeed\\AppData\\Local\\Temp\\ipykernel_14856\\3667917964.py:85: FutureWarning: Passing literal html to 'read_html' is deprecated and will be removed in a future version. To read from a literal string, wrap it in a 'StringIO' object.\n",
      "  dfs = pd.read_html(r.text)\n",
      "WARNING: Event 370: failed with error: [Errno 28] No space left on device\n",
      "INFO: Downloading photometry: https://www.astrouw.edu.pl/ogle/ogle3/ews/2002/blg-371/phot.dat\n"
     ]
    },
    {
     "name": "stdout",
     "output_type": "stream",
     "text": [
      "OGLE 2002 BLG 371 started\n"
     ]
    },
    {
     "name": "stderr",
     "output_type": "stream",
     "text": [
      "INFO: Fetching OGLE guesses: https://ogle.astrouw.edu.pl/ogle3/ews/2002/blg-371.html\n",
      "C:\\Users\\Saeed\\AppData\\Local\\Temp\\ipykernel_14856\\3667917964.py:85: FutureWarning: Passing literal html to 'read_html' is deprecated and will be removed in a future version. To read from a literal string, wrap it in a 'StringIO' object.\n",
      "  dfs = pd.read_html(r.text)\n",
      "WARNING: Event 371: failed with error: [Errno 28] No space left on device\n",
      "INFO: Downloading photometry: https://www.astrouw.edu.pl/ogle/ogle3/ews/2002/blg-372/phot.dat\n"
     ]
    },
    {
     "name": "stdout",
     "output_type": "stream",
     "text": [
      "OGLE 2002 BLG 372 started\n"
     ]
    },
    {
     "name": "stderr",
     "output_type": "stream",
     "text": [
      "INFO: Fetching OGLE guesses: https://ogle.astrouw.edu.pl/ogle3/ews/2002/blg-372.html\n",
      "C:\\Users\\Saeed\\AppData\\Local\\Temp\\ipykernel_14856\\3667917964.py:85: FutureWarning: Passing literal html to 'read_html' is deprecated and will be removed in a future version. To read from a literal string, wrap it in a 'StringIO' object.\n",
      "  dfs = pd.read_html(r.text)\n",
      "WARNING: Event 372: failed with error: [Errno 28] No space left on device\n",
      "INFO: Downloading photometry: https://www.astrouw.edu.pl/ogle/ogle3/ews/2002/blg-373/phot.dat\n"
     ]
    },
    {
     "name": "stdout",
     "output_type": "stream",
     "text": [
      "OGLE 2002 BLG 373 started\n"
     ]
    },
    {
     "name": "stderr",
     "output_type": "stream",
     "text": [
      "INFO: Fetching OGLE guesses: https://ogle.astrouw.edu.pl/ogle3/ews/2002/blg-373.html\n",
      "C:\\Users\\Saeed\\AppData\\Local\\Temp\\ipykernel_14856\\3667917964.py:85: FutureWarning: Passing literal html to 'read_html' is deprecated and will be removed in a future version. To read from a literal string, wrap it in a 'StringIO' object.\n",
      "  dfs = pd.read_html(r.text)\n",
      "WARNING: Event 373: failed with error: [Errno 28] No space left on device\n",
      "INFO: Downloading photometry: https://www.astrouw.edu.pl/ogle/ogle3/ews/2002/blg-374/phot.dat\n"
     ]
    },
    {
     "name": "stdout",
     "output_type": "stream",
     "text": [
      "OGLE 2002 BLG 374 started\n"
     ]
    },
    {
     "name": "stderr",
     "output_type": "stream",
     "text": [
      "INFO: Fetching OGLE guesses: https://ogle.astrouw.edu.pl/ogle3/ews/2002/blg-374.html\n",
      "C:\\Users\\Saeed\\AppData\\Local\\Temp\\ipykernel_14856\\3667917964.py:85: FutureWarning: Passing literal html to 'read_html' is deprecated and will be removed in a future version. To read from a literal string, wrap it in a 'StringIO' object.\n",
      "  dfs = pd.read_html(r.text)\n",
      "WARNING: Event 374: failed with error: [Errno 28] No space left on device\n",
      "INFO: Downloading photometry: https://www.astrouw.edu.pl/ogle/ogle3/ews/2002/blg-375/phot.dat\n"
     ]
    },
    {
     "name": "stdout",
     "output_type": "stream",
     "text": [
      "OGLE 2002 BLG 375 started\n"
     ]
    },
    {
     "name": "stderr",
     "output_type": "stream",
     "text": [
      "INFO: Fetching OGLE guesses: https://ogle.astrouw.edu.pl/ogle3/ews/2002/blg-375.html\n",
      "C:\\Users\\Saeed\\AppData\\Local\\Temp\\ipykernel_14856\\3667917964.py:85: FutureWarning: Passing literal html to 'read_html' is deprecated and will be removed in a future version. To read from a literal string, wrap it in a 'StringIO' object.\n",
      "  dfs = pd.read_html(r.text)\n",
      "WARNING: Event 375: failed with error: [Errno 28] No space left on device\n",
      "INFO: Downloading photometry: https://www.astrouw.edu.pl/ogle/ogle3/ews/2002/blg-376/phot.dat\n"
     ]
    },
    {
     "name": "stdout",
     "output_type": "stream",
     "text": [
      "OGLE 2002 BLG 376 started\n"
     ]
    },
    {
     "name": "stderr",
     "output_type": "stream",
     "text": [
      "INFO: Fetching OGLE guesses: https://ogle.astrouw.edu.pl/ogle3/ews/2002/blg-376.html\n",
      "C:\\Users\\Saeed\\AppData\\Local\\Temp\\ipykernel_14856\\3667917964.py:85: FutureWarning: Passing literal html to 'read_html' is deprecated and will be removed in a future version. To read from a literal string, wrap it in a 'StringIO' object.\n",
      "  dfs = pd.read_html(r.text)\n",
      "WARNING: Event 376: failed with error: [Errno 28] No space left on device\n",
      "INFO: Downloading photometry: https://www.astrouw.edu.pl/ogle/ogle3/ews/2002/blg-377/phot.dat\n"
     ]
    },
    {
     "name": "stdout",
     "output_type": "stream",
     "text": [
      "OGLE 2002 BLG 377 started\n"
     ]
    },
    {
     "name": "stderr",
     "output_type": "stream",
     "text": [
      "INFO: Fetching OGLE guesses: https://ogle.astrouw.edu.pl/ogle3/ews/2002/blg-377.html\n",
      "C:\\Users\\Saeed\\AppData\\Local\\Temp\\ipykernel_14856\\3667917964.py:85: FutureWarning: Passing literal html to 'read_html' is deprecated and will be removed in a future version. To read from a literal string, wrap it in a 'StringIO' object.\n",
      "  dfs = pd.read_html(r.text)\n",
      "WARNING: Event 377: failed with error: [Errno 28] No space left on device\n",
      "INFO: Downloading photometry: https://www.astrouw.edu.pl/ogle/ogle3/ews/2002/blg-378/phot.dat\n"
     ]
    },
    {
     "name": "stdout",
     "output_type": "stream",
     "text": [
      "OGLE 2002 BLG 378 started\n"
     ]
    },
    {
     "name": "stderr",
     "output_type": "stream",
     "text": [
      "INFO: Fetching OGLE guesses: https://ogle.astrouw.edu.pl/ogle3/ews/2002/blg-378.html\n",
      "C:\\Users\\Saeed\\AppData\\Local\\Temp\\ipykernel_14856\\3667917964.py:85: FutureWarning: Passing literal html to 'read_html' is deprecated and will be removed in a future version. To read from a literal string, wrap it in a 'StringIO' object.\n",
      "  dfs = pd.read_html(r.text)\n",
      "WARNING: Event 378: failed with error: [Errno 28] No space left on device\n",
      "INFO: Downloading photometry: https://www.astrouw.edu.pl/ogle/ogle3/ews/2002/blg-379/phot.dat\n"
     ]
    },
    {
     "name": "stdout",
     "output_type": "stream",
     "text": [
      "OGLE 2002 BLG 379 started\n"
     ]
    },
    {
     "name": "stderr",
     "output_type": "stream",
     "text": [
      "INFO: Fetching OGLE guesses: https://ogle.astrouw.edu.pl/ogle3/ews/2002/blg-379.html\n",
      "C:\\Users\\Saeed\\AppData\\Local\\Temp\\ipykernel_14856\\3667917964.py:85: FutureWarning: Passing literal html to 'read_html' is deprecated and will be removed in a future version. To read from a literal string, wrap it in a 'StringIO' object.\n",
      "  dfs = pd.read_html(r.text)\n",
      "WARNING: Event 379: failed with error: [Errno 28] No space left on device\n",
      "INFO: Downloading photometry: https://www.astrouw.edu.pl/ogle/ogle3/ews/2002/blg-380/phot.dat\n"
     ]
    },
    {
     "name": "stdout",
     "output_type": "stream",
     "text": [
      "OGLE 2002 BLG 380 started\n"
     ]
    },
    {
     "name": "stderr",
     "output_type": "stream",
     "text": [
      "INFO: Fetching OGLE guesses: https://ogle.astrouw.edu.pl/ogle3/ews/2002/blg-380.html\n",
      "C:\\Users\\Saeed\\AppData\\Local\\Temp\\ipykernel_14856\\3667917964.py:85: FutureWarning: Passing literal html to 'read_html' is deprecated and will be removed in a future version. To read from a literal string, wrap it in a 'StringIO' object.\n",
      "  dfs = pd.read_html(r.text)\n",
      "WARNING: Event 380: failed with error: [Errno 28] No space left on device\n",
      "INFO: Downloading photometry: https://www.astrouw.edu.pl/ogle/ogle3/ews/2002/blg-381/phot.dat\n"
     ]
    },
    {
     "name": "stdout",
     "output_type": "stream",
     "text": [
      "OGLE 2002 BLG 381 started\n"
     ]
    },
    {
     "name": "stderr",
     "output_type": "stream",
     "text": [
      "INFO: Fetching OGLE guesses: https://ogle.astrouw.edu.pl/ogle3/ews/2002/blg-381.html\n",
      "C:\\Users\\Saeed\\AppData\\Local\\Temp\\ipykernel_14856\\3667917964.py:85: FutureWarning: Passing literal html to 'read_html' is deprecated and will be removed in a future version. To read from a literal string, wrap it in a 'StringIO' object.\n",
      "  dfs = pd.read_html(r.text)\n",
      "WARNING: Event 381: failed with error: [Errno 28] No space left on device\n",
      "INFO: Downloading photometry: https://www.astrouw.edu.pl/ogle/ogle3/ews/2002/blg-382/phot.dat\n"
     ]
    },
    {
     "name": "stdout",
     "output_type": "stream",
     "text": [
      "OGLE 2002 BLG 382 started\n"
     ]
    },
    {
     "name": "stderr",
     "output_type": "stream",
     "text": [
      "INFO: Fetching OGLE guesses: https://ogle.astrouw.edu.pl/ogle3/ews/2002/blg-382.html\n",
      "C:\\Users\\Saeed\\AppData\\Local\\Temp\\ipykernel_14856\\3667917964.py:85: FutureWarning: Passing literal html to 'read_html' is deprecated and will be removed in a future version. To read from a literal string, wrap it in a 'StringIO' object.\n",
      "  dfs = pd.read_html(r.text)\n",
      "WARNING: Event 382: failed with error: [Errno 28] No space left on device\n",
      "INFO: Downloading photometry: https://www.astrouw.edu.pl/ogle/ogle3/ews/2002/blg-383/phot.dat\n"
     ]
    },
    {
     "name": "stdout",
     "output_type": "stream",
     "text": [
      "OGLE 2002 BLG 383 started\n"
     ]
    },
    {
     "name": "stderr",
     "output_type": "stream",
     "text": [
      "INFO: Fetching OGLE guesses: https://ogle.astrouw.edu.pl/ogle3/ews/2002/blg-383.html\n",
      "C:\\Users\\Saeed\\AppData\\Local\\Temp\\ipykernel_14856\\3667917964.py:85: FutureWarning: Passing literal html to 'read_html' is deprecated and will be removed in a future version. To read from a literal string, wrap it in a 'StringIO' object.\n",
      "  dfs = pd.read_html(r.text)\n",
      "WARNING: Event 383: failed with error: [Errno 28] No space left on device\n",
      "INFO: Downloading photometry: https://www.astrouw.edu.pl/ogle/ogle3/ews/2002/blg-384/phot.dat\n"
     ]
    },
    {
     "name": "stdout",
     "output_type": "stream",
     "text": [
      "OGLE 2002 BLG 384 started\n"
     ]
    },
    {
     "name": "stderr",
     "output_type": "stream",
     "text": [
      "INFO: Fetching OGLE guesses: https://ogle.astrouw.edu.pl/ogle3/ews/2002/blg-384.html\n",
      "C:\\Users\\Saeed\\AppData\\Local\\Temp\\ipykernel_14856\\3667917964.py:85: FutureWarning: Passing literal html to 'read_html' is deprecated and will be removed in a future version. To read from a literal string, wrap it in a 'StringIO' object.\n",
      "  dfs = pd.read_html(r.text)\n",
      "WARNING: Event 384: failed with error: [Errno 28] No space left on device\n",
      "INFO: Downloading photometry: https://www.astrouw.edu.pl/ogle/ogle3/ews/2002/blg-385/phot.dat\n"
     ]
    },
    {
     "name": "stdout",
     "output_type": "stream",
     "text": [
      "OGLE 2002 BLG 385 started\n"
     ]
    },
    {
     "name": "stderr",
     "output_type": "stream",
     "text": [
      "INFO: Fetching OGLE guesses: https://ogle.astrouw.edu.pl/ogle3/ews/2002/blg-385.html\n",
      "C:\\Users\\Saeed\\AppData\\Local\\Temp\\ipykernel_14856\\3667917964.py:85: FutureWarning: Passing literal html to 'read_html' is deprecated and will be removed in a future version. To read from a literal string, wrap it in a 'StringIO' object.\n",
      "  dfs = pd.read_html(r.text)\n",
      "WARNING: Event 385: failed with error: [Errno 28] No space left on device\n",
      "INFO: Downloading photometry: https://www.astrouw.edu.pl/ogle/ogle3/ews/2002/blg-386/phot.dat\n"
     ]
    },
    {
     "name": "stdout",
     "output_type": "stream",
     "text": [
      "OGLE 2002 BLG 386 started\n"
     ]
    },
    {
     "name": "stderr",
     "output_type": "stream",
     "text": [
      "INFO: Fetching OGLE guesses: https://ogle.astrouw.edu.pl/ogle3/ews/2002/blg-386.html\n",
      "C:\\Users\\Saeed\\AppData\\Local\\Temp\\ipykernel_14856\\3667917964.py:85: FutureWarning: Passing literal html to 'read_html' is deprecated and will be removed in a future version. To read from a literal string, wrap it in a 'StringIO' object.\n",
      "  dfs = pd.read_html(r.text)\n",
      "WARNING: Event 386: failed with error: [Errno 28] No space left on device\n",
      "INFO: Downloading photometry: https://www.astrouw.edu.pl/ogle/ogle3/ews/2002/blg-387/phot.dat\n"
     ]
    },
    {
     "name": "stdout",
     "output_type": "stream",
     "text": [
      "OGLE 2002 BLG 387 started\n"
     ]
    },
    {
     "name": "stderr",
     "output_type": "stream",
     "text": [
      "INFO: Fetching OGLE guesses: https://ogle.astrouw.edu.pl/ogle3/ews/2002/blg-387.html\n",
      "C:\\Users\\Saeed\\AppData\\Local\\Temp\\ipykernel_14856\\3667917964.py:85: FutureWarning: Passing literal html to 'read_html' is deprecated and will be removed in a future version. To read from a literal string, wrap it in a 'StringIO' object.\n",
      "  dfs = pd.read_html(r.text)\n",
      "WARNING: Event 387: failed with error: [Errno 28] No space left on device\n",
      "INFO: Downloading photometry: https://www.astrouw.edu.pl/ogle/ogle3/ews/2002/blg-388/phot.dat\n"
     ]
    },
    {
     "name": "stdout",
     "output_type": "stream",
     "text": [
      "OGLE 2002 BLG 388 started\n"
     ]
    },
    {
     "name": "stderr",
     "output_type": "stream",
     "text": [
      "INFO: Fetching OGLE guesses: https://ogle.astrouw.edu.pl/ogle3/ews/2002/blg-388.html\n",
      "C:\\Users\\Saeed\\AppData\\Local\\Temp\\ipykernel_14856\\3667917964.py:85: FutureWarning: Passing literal html to 'read_html' is deprecated and will be removed in a future version. To read from a literal string, wrap it in a 'StringIO' object.\n",
      "  dfs = pd.read_html(r.text)\n",
      "WARNING: Event 388: failed with error: [Errno 28] No space left on device\n",
      "INFO: Downloading photometry: https://www.astrouw.edu.pl/ogle/ogle3/ews/2002/blg-389/phot.dat\n"
     ]
    },
    {
     "name": "stdout",
     "output_type": "stream",
     "text": [
      "OGLE 2002 BLG 389 started\n"
     ]
    },
    {
     "name": "stderr",
     "output_type": "stream",
     "text": [
      "INFO: Fetching OGLE guesses: https://ogle.astrouw.edu.pl/ogle3/ews/2002/blg-389.html\n",
      "C:\\Users\\Saeed\\AppData\\Local\\Temp\\ipykernel_14856\\3667917964.py:85: FutureWarning: Passing literal html to 'read_html' is deprecated and will be removed in a future version. To read from a literal string, wrap it in a 'StringIO' object.\n",
      "  dfs = pd.read_html(r.text)\n",
      "WARNING: Event 389: failed with error: [Errno 28] No space left on device\n",
      "INFO: Downloading photometry: https://www.astrouw.edu.pl/ogle/ogle3/ews/2003/blg-001/phot.dat\n"
     ]
    },
    {
     "name": "stdout",
     "output_type": "stream",
     "text": [
      "2003 started\n",
      "OGLE 2003 BLG 1 started\n"
     ]
    },
    {
     "name": "stderr",
     "output_type": "stream",
     "text": [
      "INFO: Fetching OGLE guesses: https://ogle.astrouw.edu.pl/ogle3/ews/2003/blg-001.html\n",
      "C:\\Users\\Saeed\\AppData\\Local\\Temp\\ipykernel_14856\\3667917964.py:85: FutureWarning: Passing literal html to 'read_html' is deprecated and will be removed in a future version. To read from a literal string, wrap it in a 'StringIO' object.\n",
      "  dfs = pd.read_html(r.text)\n",
      "WARNING: Event 1: failed with error: [Errno 28] No space left on device\n",
      "INFO: Downloading photometry: https://www.astrouw.edu.pl/ogle/ogle3/ews/2003/blg-002/phot.dat\n"
     ]
    },
    {
     "name": "stdout",
     "output_type": "stream",
     "text": [
      "OGLE 2003 BLG 2 started\n"
     ]
    },
    {
     "name": "stderr",
     "output_type": "stream",
     "text": [
      "INFO: Fetching OGLE guesses: https://ogle.astrouw.edu.pl/ogle3/ews/2003/blg-002.html\n",
      "C:\\Users\\Saeed\\AppData\\Local\\Temp\\ipykernel_14856\\3667917964.py:85: FutureWarning: Passing literal html to 'read_html' is deprecated and will be removed in a future version. To read from a literal string, wrap it in a 'StringIO' object.\n",
      "  dfs = pd.read_html(r.text)\n",
      "WARNING: Event 2: failed with error: [Errno 28] No space left on device\n",
      "INFO: Downloading photometry: https://www.astrouw.edu.pl/ogle/ogle3/ews/2003/blg-003/phot.dat\n"
     ]
    },
    {
     "name": "stdout",
     "output_type": "stream",
     "text": [
      "OGLE 2003 BLG 3 started\n"
     ]
    },
    {
     "name": "stderr",
     "output_type": "stream",
     "text": [
      "INFO: Fetching OGLE guesses: https://ogle.astrouw.edu.pl/ogle3/ews/2003/blg-003.html\n",
      "C:\\Users\\Saeed\\AppData\\Local\\Temp\\ipykernel_14856\\3667917964.py:85: FutureWarning: Passing literal html to 'read_html' is deprecated and will be removed in a future version. To read from a literal string, wrap it in a 'StringIO' object.\n",
      "  dfs = pd.read_html(r.text)\n",
      "WARNING: Event 3: failed with error: [Errno 28] No space left on device\n",
      "INFO: Downloading photometry: https://www.astrouw.edu.pl/ogle/ogle3/ews/2003/blg-004/phot.dat\n"
     ]
    },
    {
     "name": "stdout",
     "output_type": "stream",
     "text": [
      "OGLE 2003 BLG 4 started\n"
     ]
    },
    {
     "name": "stderr",
     "output_type": "stream",
     "text": [
      "INFO: Fetching OGLE guesses: https://ogle.astrouw.edu.pl/ogle3/ews/2003/blg-004.html\n",
      "C:\\Users\\Saeed\\AppData\\Local\\Temp\\ipykernel_14856\\3667917964.py:85: FutureWarning: Passing literal html to 'read_html' is deprecated and will be removed in a future version. To read from a literal string, wrap it in a 'StringIO' object.\n",
      "  dfs = pd.read_html(r.text)\n",
      "WARNING: Event 4: failed with error: [Errno 28] No space left on device\n",
      "INFO: Downloading photometry: https://www.astrouw.edu.pl/ogle/ogle3/ews/2003/blg-005/phot.dat\n"
     ]
    },
    {
     "name": "stdout",
     "output_type": "stream",
     "text": [
      "OGLE 2003 BLG 5 started\n"
     ]
    },
    {
     "name": "stderr",
     "output_type": "stream",
     "text": [
      "INFO: Fetching OGLE guesses: https://ogle.astrouw.edu.pl/ogle3/ews/2003/blg-005.html\n",
      "C:\\Users\\Saeed\\AppData\\Local\\Temp\\ipykernel_14856\\3667917964.py:85: FutureWarning: Passing literal html to 'read_html' is deprecated and will be removed in a future version. To read from a literal string, wrap it in a 'StringIO' object.\n",
      "  dfs = pd.read_html(r.text)\n",
      "WARNING: Event 5: failed with error: [Errno 28] No space left on device\n",
      "INFO: Downloading photometry: https://www.astrouw.edu.pl/ogle/ogle3/ews/2003/blg-006/phot.dat\n"
     ]
    },
    {
     "name": "stdout",
     "output_type": "stream",
     "text": [
      "OGLE 2003 BLG 6 started\n"
     ]
    },
    {
     "name": "stderr",
     "output_type": "stream",
     "text": [
      "INFO: Fetching OGLE guesses: https://ogle.astrouw.edu.pl/ogle3/ews/2003/blg-006.html\n",
      "C:\\Users\\Saeed\\AppData\\Local\\Temp\\ipykernel_14856\\3667917964.py:85: FutureWarning: Passing literal html to 'read_html' is deprecated and will be removed in a future version. To read from a literal string, wrap it in a 'StringIO' object.\n",
      "  dfs = pd.read_html(r.text)\n",
      "WARNING: Event 6: failed with error: [Errno 28] No space left on device\n",
      "INFO: Downloading photometry: https://www.astrouw.edu.pl/ogle/ogle3/ews/2003/blg-007/phot.dat\n"
     ]
    },
    {
     "name": "stdout",
     "output_type": "stream",
     "text": [
      "OGLE 2003 BLG 7 started\n"
     ]
    },
    {
     "name": "stderr",
     "output_type": "stream",
     "text": [
      "INFO: Fetching OGLE guesses: https://ogle.astrouw.edu.pl/ogle3/ews/2003/blg-007.html\n",
      "C:\\Users\\Saeed\\AppData\\Local\\Temp\\ipykernel_14856\\3667917964.py:85: FutureWarning: Passing literal html to 'read_html' is deprecated and will be removed in a future version. To read from a literal string, wrap it in a 'StringIO' object.\n",
      "  dfs = pd.read_html(r.text)\n",
      "WARNING: Event 7: failed with error: [Errno 28] No space left on device\n",
      "INFO: Downloading photometry: https://www.astrouw.edu.pl/ogle/ogle3/ews/2003/blg-008/phot.dat\n"
     ]
    },
    {
     "name": "stdout",
     "output_type": "stream",
     "text": [
      "OGLE 2003 BLG 8 started\n"
     ]
    },
    {
     "name": "stderr",
     "output_type": "stream",
     "text": [
      "INFO: Fetching OGLE guesses: https://ogle.astrouw.edu.pl/ogle3/ews/2003/blg-008.html\n",
      "C:\\Users\\Saeed\\AppData\\Local\\Temp\\ipykernel_14856\\3667917964.py:85: FutureWarning: Passing literal html to 'read_html' is deprecated and will be removed in a future version. To read from a literal string, wrap it in a 'StringIO' object.\n",
      "  dfs = pd.read_html(r.text)\n",
      "WARNING: Event 8: failed with error: [Errno 28] No space left on device\n",
      "INFO: Downloading photometry: https://www.astrouw.edu.pl/ogle/ogle3/ews/2003/blg-009/phot.dat\n"
     ]
    },
    {
     "name": "stdout",
     "output_type": "stream",
     "text": [
      "OGLE 2003 BLG 9 started\n"
     ]
    },
    {
     "name": "stderr",
     "output_type": "stream",
     "text": [
      "INFO: Fetching OGLE guesses: https://ogle.astrouw.edu.pl/ogle3/ews/2003/blg-009.html\n",
      "C:\\Users\\Saeed\\AppData\\Local\\Temp\\ipykernel_14856\\3667917964.py:85: FutureWarning: Passing literal html to 'read_html' is deprecated and will be removed in a future version. To read from a literal string, wrap it in a 'StringIO' object.\n",
      "  dfs = pd.read_html(r.text)\n",
      "WARNING: Event 9: failed with error: [Errno 28] No space left on device\n",
      "INFO: Downloading photometry: https://www.astrouw.edu.pl/ogle/ogle3/ews/2003/blg-010/phot.dat\n"
     ]
    },
    {
     "name": "stdout",
     "output_type": "stream",
     "text": [
      "OGLE 2003 BLG 10 started\n"
     ]
    },
    {
     "name": "stderr",
     "output_type": "stream",
     "text": [
      "INFO: Fetching OGLE guesses: https://ogle.astrouw.edu.pl/ogle3/ews/2003/blg-010.html\n",
      "C:\\Users\\Saeed\\AppData\\Local\\Temp\\ipykernel_14856\\3667917964.py:85: FutureWarning: Passing literal html to 'read_html' is deprecated and will be removed in a future version. To read from a literal string, wrap it in a 'StringIO' object.\n",
      "  dfs = pd.read_html(r.text)\n",
      "WARNING: Event 10: failed with error: [Errno 28] No space left on device\n",
      "INFO: Downloading photometry: https://www.astrouw.edu.pl/ogle/ogle3/ews/2003/blg-011/phot.dat\n"
     ]
    },
    {
     "name": "stdout",
     "output_type": "stream",
     "text": [
      "OGLE 2003 BLG 11 started\n"
     ]
    },
    {
     "name": "stderr",
     "output_type": "stream",
     "text": [
      "INFO: Fetching OGLE guesses: https://ogle.astrouw.edu.pl/ogle3/ews/2003/blg-011.html\n",
      "C:\\Users\\Saeed\\AppData\\Local\\Temp\\ipykernel_14856\\3667917964.py:85: FutureWarning: Passing literal html to 'read_html' is deprecated and will be removed in a future version. To read from a literal string, wrap it in a 'StringIO' object.\n",
      "  dfs = pd.read_html(r.text)\n",
      "WARNING: Event 11: failed with error: [Errno 28] No space left on device\n",
      "INFO: Downloading photometry: https://www.astrouw.edu.pl/ogle/ogle3/ews/2003/blg-012/phot.dat\n"
     ]
    },
    {
     "name": "stdout",
     "output_type": "stream",
     "text": [
      "OGLE 2003 BLG 12 started\n"
     ]
    },
    {
     "name": "stderr",
     "output_type": "stream",
     "text": [
      "INFO: Fetching OGLE guesses: https://ogle.astrouw.edu.pl/ogle3/ews/2003/blg-012.html\n",
      "C:\\Users\\Saeed\\AppData\\Local\\Temp\\ipykernel_14856\\3667917964.py:85: FutureWarning: Passing literal html to 'read_html' is deprecated and will be removed in a future version. To read from a literal string, wrap it in a 'StringIO' object.\n",
      "  dfs = pd.read_html(r.text)\n",
      "WARNING: Event 12: failed with error: [Errno 28] No space left on device\n",
      "INFO: Downloading photometry: https://www.astrouw.edu.pl/ogle/ogle3/ews/2003/blg-013/phot.dat\n"
     ]
    },
    {
     "name": "stdout",
     "output_type": "stream",
     "text": [
      "OGLE 2003 BLG 13 started\n"
     ]
    },
    {
     "name": "stderr",
     "output_type": "stream",
     "text": [
      "INFO: Fetching OGLE guesses: https://ogle.astrouw.edu.pl/ogle3/ews/2003/blg-013.html\n",
      "C:\\Users\\Saeed\\AppData\\Local\\Temp\\ipykernel_14856\\3667917964.py:85: FutureWarning: Passing literal html to 'read_html' is deprecated and will be removed in a future version. To read from a literal string, wrap it in a 'StringIO' object.\n",
      "  dfs = pd.read_html(r.text)\n",
      "WARNING: Event 13: failed with error: [Errno 28] No space left on device\n",
      "INFO: Downloading photometry: https://www.astrouw.edu.pl/ogle/ogle3/ews/2003/blg-014/phot.dat\n"
     ]
    },
    {
     "name": "stdout",
     "output_type": "stream",
     "text": [
      "OGLE 2003 BLG 14 started\n"
     ]
    },
    {
     "name": "stderr",
     "output_type": "stream",
     "text": [
      "INFO: Fetching OGLE guesses: https://ogle.astrouw.edu.pl/ogle3/ews/2003/blg-014.html\n",
      "C:\\Users\\Saeed\\AppData\\Local\\Temp\\ipykernel_14856\\3667917964.py:85: FutureWarning: Passing literal html to 'read_html' is deprecated and will be removed in a future version. To read from a literal string, wrap it in a 'StringIO' object.\n",
      "  dfs = pd.read_html(r.text)\n",
      "WARNING: Event 14: failed with error: [Errno 28] No space left on device\n",
      "INFO: Downloading photometry: https://www.astrouw.edu.pl/ogle/ogle3/ews/2003/blg-015/phot.dat\n"
     ]
    },
    {
     "name": "stdout",
     "output_type": "stream",
     "text": [
      "OGLE 2003 BLG 15 started\n"
     ]
    },
    {
     "name": "stderr",
     "output_type": "stream",
     "text": [
      "INFO: Fetching OGLE guesses: https://ogle.astrouw.edu.pl/ogle3/ews/2003/blg-015.html\n",
      "C:\\Users\\Saeed\\AppData\\Local\\Temp\\ipykernel_14856\\3667917964.py:85: FutureWarning: Passing literal html to 'read_html' is deprecated and will be removed in a future version. To read from a literal string, wrap it in a 'StringIO' object.\n",
      "  dfs = pd.read_html(r.text)\n",
      "WARNING: Event 15: failed with error: [Errno 28] No space left on device\n",
      "INFO: Downloading photometry: https://www.astrouw.edu.pl/ogle/ogle3/ews/2003/blg-016/phot.dat\n"
     ]
    },
    {
     "name": "stdout",
     "output_type": "stream",
     "text": [
      "OGLE 2003 BLG 16 started\n"
     ]
    },
    {
     "name": "stderr",
     "output_type": "stream",
     "text": [
      "INFO: Fetching OGLE guesses: https://ogle.astrouw.edu.pl/ogle3/ews/2003/blg-016.html\n",
      "C:\\Users\\Saeed\\AppData\\Local\\Temp\\ipykernel_14856\\3667917964.py:85: FutureWarning: Passing literal html to 'read_html' is deprecated and will be removed in a future version. To read from a literal string, wrap it in a 'StringIO' object.\n",
      "  dfs = pd.read_html(r.text)\n",
      "WARNING: Event 16: failed with error: [Errno 28] No space left on device\n",
      "INFO: Downloading photometry: https://www.astrouw.edu.pl/ogle/ogle3/ews/2003/blg-017/phot.dat\n"
     ]
    },
    {
     "name": "stdout",
     "output_type": "stream",
     "text": [
      "OGLE 2003 BLG 17 started\n"
     ]
    },
    {
     "name": "stderr",
     "output_type": "stream",
     "text": [
      "INFO: Fetching OGLE guesses: https://ogle.astrouw.edu.pl/ogle3/ews/2003/blg-017.html\n",
      "C:\\Users\\Saeed\\AppData\\Local\\Temp\\ipykernel_14856\\3667917964.py:85: FutureWarning: Passing literal html to 'read_html' is deprecated and will be removed in a future version. To read from a literal string, wrap it in a 'StringIO' object.\n",
      "  dfs = pd.read_html(r.text)\n",
      "WARNING: Event 17: failed with error: [Errno 28] No space left on device\n",
      "INFO: Downloading photometry: https://www.astrouw.edu.pl/ogle/ogle3/ews/2003/blg-018/phot.dat\n"
     ]
    },
    {
     "name": "stdout",
     "output_type": "stream",
     "text": [
      "OGLE 2003 BLG 18 started\n"
     ]
    },
    {
     "name": "stderr",
     "output_type": "stream",
     "text": [
      "INFO: Fetching OGLE guesses: https://ogle.astrouw.edu.pl/ogle3/ews/2003/blg-018.html\n",
      "C:\\Users\\Saeed\\AppData\\Local\\Temp\\ipykernel_14856\\3667917964.py:85: FutureWarning: Passing literal html to 'read_html' is deprecated and will be removed in a future version. To read from a literal string, wrap it in a 'StringIO' object.\n",
      "  dfs = pd.read_html(r.text)\n",
      "WARNING: Event 18: failed with error: [Errno 28] No space left on device\n",
      "INFO: Downloading photometry: https://www.astrouw.edu.pl/ogle/ogle3/ews/2003/blg-019/phot.dat\n"
     ]
    },
    {
     "name": "stdout",
     "output_type": "stream",
     "text": [
      "OGLE 2003 BLG 19 started\n"
     ]
    },
    {
     "name": "stderr",
     "output_type": "stream",
     "text": [
      "INFO: Fetching OGLE guesses: https://ogle.astrouw.edu.pl/ogle3/ews/2003/blg-019.html\n",
      "C:\\Users\\Saeed\\AppData\\Local\\Temp\\ipykernel_14856\\3667917964.py:85: FutureWarning: Passing literal html to 'read_html' is deprecated and will be removed in a future version. To read from a literal string, wrap it in a 'StringIO' object.\n",
      "  dfs = pd.read_html(r.text)\n",
      "WARNING: Event 19: failed with error: [Errno 28] No space left on device\n",
      "INFO: Downloading photometry: https://www.astrouw.edu.pl/ogle/ogle3/ews/2003/blg-020/phot.dat\n"
     ]
    },
    {
     "name": "stdout",
     "output_type": "stream",
     "text": [
      "OGLE 2003 BLG 20 started\n"
     ]
    },
    {
     "name": "stderr",
     "output_type": "stream",
     "text": [
      "INFO: Fetching OGLE guesses: https://ogle.astrouw.edu.pl/ogle3/ews/2003/blg-020.html\n",
      "C:\\Users\\Saeed\\AppData\\Local\\Temp\\ipykernel_14856\\3667917964.py:85: FutureWarning: Passing literal html to 'read_html' is deprecated and will be removed in a future version. To read from a literal string, wrap it in a 'StringIO' object.\n",
      "  dfs = pd.read_html(r.text)\n",
      "WARNING: Event 20: failed with error: [Errno 28] No space left on device\n",
      "INFO: Downloading photometry: https://www.astrouw.edu.pl/ogle/ogle3/ews/2003/blg-021/phot.dat\n"
     ]
    },
    {
     "name": "stdout",
     "output_type": "stream",
     "text": [
      "OGLE 2003 BLG 21 started\n"
     ]
    },
    {
     "name": "stderr",
     "output_type": "stream",
     "text": [
      "INFO: Fetching OGLE guesses: https://ogle.astrouw.edu.pl/ogle3/ews/2003/blg-021.html\n",
      "C:\\Users\\Saeed\\AppData\\Local\\Temp\\ipykernel_14856\\3667917964.py:85: FutureWarning: Passing literal html to 'read_html' is deprecated and will be removed in a future version. To read from a literal string, wrap it in a 'StringIO' object.\n",
      "  dfs = pd.read_html(r.text)\n",
      "WARNING: Parsed HTML but couldn't extract expected cells: could not convert string to float: '-'\n",
      "WARNING: Event 21: failed with error: [Errno 28] No space left on device\n",
      "INFO: Downloading photometry: https://www.astrouw.edu.pl/ogle/ogle3/ews/2003/blg-022/phot.dat\n"
     ]
    },
    {
     "name": "stdout",
     "output_type": "stream",
     "text": [
      "OGLE 2003 BLG 22 started\n"
     ]
    },
    {
     "name": "stderr",
     "output_type": "stream",
     "text": [
      "INFO: Fetching OGLE guesses: https://ogle.astrouw.edu.pl/ogle3/ews/2003/blg-022.html\n",
      "C:\\Users\\Saeed\\AppData\\Local\\Temp\\ipykernel_14856\\3667917964.py:85: FutureWarning: Passing literal html to 'read_html' is deprecated and will be removed in a future version. To read from a literal string, wrap it in a 'StringIO' object.\n",
      "  dfs = pd.read_html(r.text)\n",
      "WARNING: Event 22: failed with error: [Errno 28] No space left on device\n",
      "INFO: Downloading photometry: https://www.astrouw.edu.pl/ogle/ogle3/ews/2003/blg-023/phot.dat\n"
     ]
    },
    {
     "name": "stdout",
     "output_type": "stream",
     "text": [
      "OGLE 2003 BLG 23 started\n"
     ]
    },
    {
     "name": "stderr",
     "output_type": "stream",
     "text": [
      "INFO: Fetching OGLE guesses: https://ogle.astrouw.edu.pl/ogle3/ews/2003/blg-023.html\n",
      "C:\\Users\\Saeed\\AppData\\Local\\Temp\\ipykernel_14856\\3667917964.py:85: FutureWarning: Passing literal html to 'read_html' is deprecated and will be removed in a future version. To read from a literal string, wrap it in a 'StringIO' object.\n",
      "  dfs = pd.read_html(r.text)\n",
      "WARNING: Event 23: failed with error: [Errno 28] No space left on device\n",
      "INFO: Downloading photometry: https://www.astrouw.edu.pl/ogle/ogle3/ews/2003/blg-024/phot.dat\n"
     ]
    },
    {
     "name": "stdout",
     "output_type": "stream",
     "text": [
      "OGLE 2003 BLG 24 started\n"
     ]
    },
    {
     "name": "stderr",
     "output_type": "stream",
     "text": [
      "INFO: Fetching OGLE guesses: https://ogle.astrouw.edu.pl/ogle3/ews/2003/blg-024.html\n",
      "C:\\Users\\Saeed\\AppData\\Local\\Temp\\ipykernel_14856\\3667917964.py:85: FutureWarning: Passing literal html to 'read_html' is deprecated and will be removed in a future version. To read from a literal string, wrap it in a 'StringIO' object.\n",
      "  dfs = pd.read_html(r.text)\n",
      "WARNING: Event 24: failed with error: [Errno 28] No space left on device\n",
      "INFO: Downloading photometry: https://www.astrouw.edu.pl/ogle/ogle3/ews/2003/blg-025/phot.dat\n"
     ]
    },
    {
     "name": "stdout",
     "output_type": "stream",
     "text": [
      "OGLE 2003 BLG 25 started\n"
     ]
    },
    {
     "name": "stderr",
     "output_type": "stream",
     "text": [
      "INFO: Fetching OGLE guesses: https://ogle.astrouw.edu.pl/ogle3/ews/2003/blg-025.html\n",
      "C:\\Users\\Saeed\\AppData\\Local\\Temp\\ipykernel_14856\\3667917964.py:85: FutureWarning: Passing literal html to 'read_html' is deprecated and will be removed in a future version. To read from a literal string, wrap it in a 'StringIO' object.\n",
      "  dfs = pd.read_html(r.text)\n",
      "WARNING: Event 25: failed with error: [Errno 28] No space left on device\n",
      "INFO: Downloading photometry: https://www.astrouw.edu.pl/ogle/ogle3/ews/2003/blg-026/phot.dat\n"
     ]
    },
    {
     "name": "stdout",
     "output_type": "stream",
     "text": [
      "OGLE 2003 BLG 26 started\n"
     ]
    },
    {
     "name": "stderr",
     "output_type": "stream",
     "text": [
      "INFO: Fetching OGLE guesses: https://ogle.astrouw.edu.pl/ogle3/ews/2003/blg-026.html\n",
      "C:\\Users\\Saeed\\AppData\\Local\\Temp\\ipykernel_14856\\3667917964.py:85: FutureWarning: Passing literal html to 'read_html' is deprecated and will be removed in a future version. To read from a literal string, wrap it in a 'StringIO' object.\n",
      "  dfs = pd.read_html(r.text)\n",
      "WARNING: Event 26: failed with error: [Errno 28] No space left on device\n",
      "INFO: Downloading photometry: https://www.astrouw.edu.pl/ogle/ogle3/ews/2003/blg-027/phot.dat\n"
     ]
    },
    {
     "name": "stdout",
     "output_type": "stream",
     "text": [
      "OGLE 2003 BLG 27 started\n"
     ]
    },
    {
     "name": "stderr",
     "output_type": "stream",
     "text": [
      "INFO: Fetching OGLE guesses: https://ogle.astrouw.edu.pl/ogle3/ews/2003/blg-027.html\n",
      "C:\\Users\\Saeed\\AppData\\Local\\Temp\\ipykernel_14856\\3667917964.py:85: FutureWarning: Passing literal html to 'read_html' is deprecated and will be removed in a future version. To read from a literal string, wrap it in a 'StringIO' object.\n",
      "  dfs = pd.read_html(r.text)\n",
      "WARNING: Event 27: failed with error: [Errno 28] No space left on device\n",
      "INFO: Downloading photometry: https://www.astrouw.edu.pl/ogle/ogle3/ews/2003/blg-028/phot.dat\n"
     ]
    },
    {
     "name": "stdout",
     "output_type": "stream",
     "text": [
      "OGLE 2003 BLG 28 started\n"
     ]
    },
    {
     "name": "stderr",
     "output_type": "stream",
     "text": [
      "INFO: Fetching OGLE guesses: https://ogle.astrouw.edu.pl/ogle3/ews/2003/blg-028.html\n",
      "C:\\Users\\Saeed\\AppData\\Local\\Temp\\ipykernel_14856\\3667917964.py:85: FutureWarning: Passing literal html to 'read_html' is deprecated and will be removed in a future version. To read from a literal string, wrap it in a 'StringIO' object.\n",
      "  dfs = pd.read_html(r.text)\n",
      "WARNING: Event 28: failed with error: [Errno 28] No space left on device\n",
      "INFO: Downloading photometry: https://www.astrouw.edu.pl/ogle/ogle3/ews/2003/blg-029/phot.dat\n"
     ]
    },
    {
     "name": "stdout",
     "output_type": "stream",
     "text": [
      "OGLE 2003 BLG 29 started\n"
     ]
    },
    {
     "name": "stderr",
     "output_type": "stream",
     "text": [
      "INFO: Fetching OGLE guesses: https://ogle.astrouw.edu.pl/ogle3/ews/2003/blg-029.html\n",
      "C:\\Users\\Saeed\\AppData\\Local\\Temp\\ipykernel_14856\\3667917964.py:85: FutureWarning: Passing literal html to 'read_html' is deprecated and will be removed in a future version. To read from a literal string, wrap it in a 'StringIO' object.\n",
      "  dfs = pd.read_html(r.text)\n",
      "WARNING: Event 29: failed with error: [Errno 28] No space left on device\n",
      "INFO: Downloading photometry: https://www.astrouw.edu.pl/ogle/ogle3/ews/2003/blg-030/phot.dat\n"
     ]
    },
    {
     "name": "stdout",
     "output_type": "stream",
     "text": [
      "OGLE 2003 BLG 30 started\n"
     ]
    },
    {
     "name": "stderr",
     "output_type": "stream",
     "text": [
      "INFO: Fetching OGLE guesses: https://ogle.astrouw.edu.pl/ogle3/ews/2003/blg-030.html\n",
      "C:\\Users\\Saeed\\AppData\\Local\\Temp\\ipykernel_14856\\3667917964.py:85: FutureWarning: Passing literal html to 'read_html' is deprecated and will be removed in a future version. To read from a literal string, wrap it in a 'StringIO' object.\n",
      "  dfs = pd.read_html(r.text)\n",
      "WARNING: Event 30: failed with error: [Errno 28] No space left on device\n",
      "INFO: Downloading photometry: https://www.astrouw.edu.pl/ogle/ogle3/ews/2003/blg-031/phot.dat\n"
     ]
    },
    {
     "name": "stdout",
     "output_type": "stream",
     "text": [
      "OGLE 2003 BLG 31 started\n"
     ]
    },
    {
     "name": "stderr",
     "output_type": "stream",
     "text": [
      "INFO: Fetching OGLE guesses: https://ogle.astrouw.edu.pl/ogle3/ews/2003/blg-031.html\n",
      "C:\\Users\\Saeed\\AppData\\Local\\Temp\\ipykernel_14856\\3667917964.py:85: FutureWarning: Passing literal html to 'read_html' is deprecated and will be removed in a future version. To read from a literal string, wrap it in a 'StringIO' object.\n",
      "  dfs = pd.read_html(r.text)\n",
      "WARNING: Event 31: failed with error: [Errno 28] No space left on device\n",
      "INFO: Downloading photometry: https://www.astrouw.edu.pl/ogle/ogle3/ews/2003/blg-032/phot.dat\n"
     ]
    },
    {
     "name": "stdout",
     "output_type": "stream",
     "text": [
      "OGLE 2003 BLG 32 started\n"
     ]
    },
    {
     "name": "stderr",
     "output_type": "stream",
     "text": [
      "INFO: Fetching OGLE guesses: https://ogle.astrouw.edu.pl/ogle3/ews/2003/blg-032.html\n",
      "C:\\Users\\Saeed\\AppData\\Local\\Temp\\ipykernel_14856\\3667917964.py:85: FutureWarning: Passing literal html to 'read_html' is deprecated and will be removed in a future version. To read from a literal string, wrap it in a 'StringIO' object.\n",
      "  dfs = pd.read_html(r.text)\n",
      "WARNING: Event 32: failed with error: [Errno 28] No space left on device\n",
      "INFO: Downloading photometry: https://www.astrouw.edu.pl/ogle/ogle3/ews/2003/blg-033/phot.dat\n"
     ]
    },
    {
     "name": "stdout",
     "output_type": "stream",
     "text": [
      "OGLE 2003 BLG 33 started\n"
     ]
    },
    {
     "name": "stderr",
     "output_type": "stream",
     "text": [
      "INFO: Fetching OGLE guesses: https://ogle.astrouw.edu.pl/ogle3/ews/2003/blg-033.html\n",
      "C:\\Users\\Saeed\\AppData\\Local\\Temp\\ipykernel_14856\\3667917964.py:85: FutureWarning: Passing literal html to 'read_html' is deprecated and will be removed in a future version. To read from a literal string, wrap it in a 'StringIO' object.\n",
      "  dfs = pd.read_html(r.text)\n",
      "WARNING: Event 33: failed with error: [Errno 28] No space left on device\n",
      "INFO: Downloading photometry: https://www.astrouw.edu.pl/ogle/ogle3/ews/2003/blg-034/phot.dat\n"
     ]
    },
    {
     "name": "stdout",
     "output_type": "stream",
     "text": [
      "OGLE 2003 BLG 34 started\n"
     ]
    },
    {
     "name": "stderr",
     "output_type": "stream",
     "text": [
      "INFO: Fetching OGLE guesses: https://ogle.astrouw.edu.pl/ogle3/ews/2003/blg-034.html\n",
      "C:\\Users\\Saeed\\AppData\\Local\\Temp\\ipykernel_14856\\3667917964.py:85: FutureWarning: Passing literal html to 'read_html' is deprecated and will be removed in a future version. To read from a literal string, wrap it in a 'StringIO' object.\n",
      "  dfs = pd.read_html(r.text)\n",
      "WARNING: Parsed HTML but couldn't extract expected cells: could not convert string to float: '-'\n",
      "WARNING: Event 34: failed with error: [Errno 28] No space left on device\n",
      "INFO: Downloading photometry: https://www.astrouw.edu.pl/ogle/ogle3/ews/2003/blg-035/phot.dat\n"
     ]
    },
    {
     "name": "stdout",
     "output_type": "stream",
     "text": [
      "OGLE 2003 BLG 35 started\n"
     ]
    },
    {
     "name": "stderr",
     "output_type": "stream",
     "text": [
      "INFO: Fetching OGLE guesses: https://ogle.astrouw.edu.pl/ogle3/ews/2003/blg-035.html\n",
      "C:\\Users\\Saeed\\AppData\\Local\\Temp\\ipykernel_14856\\3667917964.py:85: FutureWarning: Passing literal html to 'read_html' is deprecated and will be removed in a future version. To read from a literal string, wrap it in a 'StringIO' object.\n",
      "  dfs = pd.read_html(r.text)\n",
      "WARNING: Event 35: failed with error: [Errno 28] No space left on device\n",
      "INFO: Downloading photometry: https://www.astrouw.edu.pl/ogle/ogle3/ews/2003/blg-036/phot.dat\n"
     ]
    },
    {
     "name": "stdout",
     "output_type": "stream",
     "text": [
      "OGLE 2003 BLG 36 started\n"
     ]
    },
    {
     "name": "stderr",
     "output_type": "stream",
     "text": [
      "INFO: Fetching OGLE guesses: https://ogle.astrouw.edu.pl/ogle3/ews/2003/blg-036.html\n",
      "C:\\Users\\Saeed\\AppData\\Local\\Temp\\ipykernel_14856\\3667917964.py:85: FutureWarning: Passing literal html to 'read_html' is deprecated and will be removed in a future version. To read from a literal string, wrap it in a 'StringIO' object.\n",
      "  dfs = pd.read_html(r.text)\n",
      "WARNING: Event 36: failed with error: [Errno 28] No space left on device\n",
      "INFO: Downloading photometry: https://www.astrouw.edu.pl/ogle/ogle3/ews/2003/blg-037/phot.dat\n"
     ]
    },
    {
     "name": "stdout",
     "output_type": "stream",
     "text": [
      "OGLE 2003 BLG 37 started\n"
     ]
    },
    {
     "name": "stderr",
     "output_type": "stream",
     "text": [
      "INFO: Fetching OGLE guesses: https://ogle.astrouw.edu.pl/ogle3/ews/2003/blg-037.html\n",
      "C:\\Users\\Saeed\\AppData\\Local\\Temp\\ipykernel_14856\\3667917964.py:85: FutureWarning: Passing literal html to 'read_html' is deprecated and will be removed in a future version. To read from a literal string, wrap it in a 'StringIO' object.\n",
      "  dfs = pd.read_html(r.text)\n",
      "WARNING: Event 37: failed with error: [Errno 28] No space left on device\n",
      "INFO: Downloading photometry: https://www.astrouw.edu.pl/ogle/ogle3/ews/2003/blg-038/phot.dat\n"
     ]
    },
    {
     "name": "stdout",
     "output_type": "stream",
     "text": [
      "OGLE 2003 BLG 38 started\n"
     ]
    },
    {
     "name": "stderr",
     "output_type": "stream",
     "text": [
      "INFO: Fetching OGLE guesses: https://ogle.astrouw.edu.pl/ogle3/ews/2003/blg-038.html\n",
      "C:\\Users\\Saeed\\AppData\\Local\\Temp\\ipykernel_14856\\3667917964.py:85: FutureWarning: Passing literal html to 'read_html' is deprecated and will be removed in a future version. To read from a literal string, wrap it in a 'StringIO' object.\n",
      "  dfs = pd.read_html(r.text)\n",
      "WARNING: Event 38: failed with error: [Errno 28] No space left on device\n",
      "INFO: Downloading photometry: https://www.astrouw.edu.pl/ogle/ogle3/ews/2003/blg-039/phot.dat\n"
     ]
    },
    {
     "name": "stdout",
     "output_type": "stream",
     "text": [
      "OGLE 2003 BLG 39 started\n"
     ]
    },
    {
     "name": "stderr",
     "output_type": "stream",
     "text": [
      "INFO: Fetching OGLE guesses: https://ogle.astrouw.edu.pl/ogle3/ews/2003/blg-039.html\n",
      "C:\\Users\\Saeed\\AppData\\Local\\Temp\\ipykernel_14856\\3667917964.py:85: FutureWarning: Passing literal html to 'read_html' is deprecated and will be removed in a future version. To read from a literal string, wrap it in a 'StringIO' object.\n",
      "  dfs = pd.read_html(r.text)\n",
      "WARNING: Event 39: failed with error: [Errno 28] No space left on device\n",
      "INFO: Downloading photometry: https://www.astrouw.edu.pl/ogle/ogle3/ews/2003/blg-040/phot.dat\n"
     ]
    },
    {
     "name": "stdout",
     "output_type": "stream",
     "text": [
      "OGLE 2003 BLG 40 started\n"
     ]
    },
    {
     "name": "stderr",
     "output_type": "stream",
     "text": [
      "INFO: Fetching OGLE guesses: https://ogle.astrouw.edu.pl/ogle3/ews/2003/blg-040.html\n",
      "C:\\Users\\Saeed\\AppData\\Local\\Temp\\ipykernel_14856\\3667917964.py:85: FutureWarning: Passing literal html to 'read_html' is deprecated and will be removed in a future version. To read from a literal string, wrap it in a 'StringIO' object.\n",
      "  dfs = pd.read_html(r.text)\n",
      "WARNING: Event 40: failed with error: [Errno 28] No space left on device\n",
      "INFO: Downloading photometry: https://www.astrouw.edu.pl/ogle/ogle3/ews/2003/blg-041/phot.dat\n"
     ]
    },
    {
     "name": "stdout",
     "output_type": "stream",
     "text": [
      "OGLE 2003 BLG 41 started\n"
     ]
    },
    {
     "name": "stderr",
     "output_type": "stream",
     "text": [
      "INFO: Fetching OGLE guesses: https://ogle.astrouw.edu.pl/ogle3/ews/2003/blg-041.html\n",
      "C:\\Users\\Saeed\\AppData\\Local\\Temp\\ipykernel_14856\\3667917964.py:85: FutureWarning: Passing literal html to 'read_html' is deprecated and will be removed in a future version. To read from a literal string, wrap it in a 'StringIO' object.\n",
      "  dfs = pd.read_html(r.text)\n",
      "WARNING: Event 41: failed with error: [Errno 28] No space left on device\n",
      "INFO: Downloading photometry: https://www.astrouw.edu.pl/ogle/ogle3/ews/2003/blg-042/phot.dat\n"
     ]
    },
    {
     "name": "stdout",
     "output_type": "stream",
     "text": [
      "OGLE 2003 BLG 42 started\n"
     ]
    },
    {
     "name": "stderr",
     "output_type": "stream",
     "text": [
      "INFO: Fetching OGLE guesses: https://ogle.astrouw.edu.pl/ogle3/ews/2003/blg-042.html\n",
      "C:\\Users\\Saeed\\AppData\\Local\\Temp\\ipykernel_14856\\3667917964.py:85: FutureWarning: Passing literal html to 'read_html' is deprecated and will be removed in a future version. To read from a literal string, wrap it in a 'StringIO' object.\n",
      "  dfs = pd.read_html(r.text)\n",
      "WARNING: Event 42: failed with error: [Errno 28] No space left on device\n",
      "INFO: Downloading photometry: https://www.astrouw.edu.pl/ogle/ogle3/ews/2003/blg-043/phot.dat\n"
     ]
    },
    {
     "name": "stdout",
     "output_type": "stream",
     "text": [
      "OGLE 2003 BLG 43 started\n"
     ]
    },
    {
     "name": "stderr",
     "output_type": "stream",
     "text": [
      "INFO: Fetching OGLE guesses: https://ogle.astrouw.edu.pl/ogle3/ews/2003/blg-043.html\n",
      "C:\\Users\\Saeed\\AppData\\Local\\Temp\\ipykernel_14856\\3667917964.py:85: FutureWarning: Passing literal html to 'read_html' is deprecated and will be removed in a future version. To read from a literal string, wrap it in a 'StringIO' object.\n",
      "  dfs = pd.read_html(r.text)\n",
      "WARNING: Event 43: failed with error: [Errno 28] No space left on device\n",
      "INFO: Downloading photometry: https://www.astrouw.edu.pl/ogle/ogle3/ews/2003/blg-044/phot.dat\n"
     ]
    },
    {
     "name": "stdout",
     "output_type": "stream",
     "text": [
      "OGLE 2003 BLG 44 started\n"
     ]
    },
    {
     "name": "stderr",
     "output_type": "stream",
     "text": [
      "INFO: Fetching OGLE guesses: https://ogle.astrouw.edu.pl/ogle3/ews/2003/blg-044.html\n",
      "C:\\Users\\Saeed\\AppData\\Local\\Temp\\ipykernel_14856\\3667917964.py:85: FutureWarning: Passing literal html to 'read_html' is deprecated and will be removed in a future version. To read from a literal string, wrap it in a 'StringIO' object.\n",
      "  dfs = pd.read_html(r.text)\n",
      "WARNING: Event 44: failed with error: [Errno 28] No space left on device\n",
      "INFO: Downloading photometry: https://www.astrouw.edu.pl/ogle/ogle3/ews/2003/blg-045/phot.dat\n"
     ]
    },
    {
     "name": "stdout",
     "output_type": "stream",
     "text": [
      "OGLE 2003 BLG 45 started\n"
     ]
    },
    {
     "name": "stderr",
     "output_type": "stream",
     "text": [
      "INFO: Fetching OGLE guesses: https://ogle.astrouw.edu.pl/ogle3/ews/2003/blg-045.html\n",
      "C:\\Users\\Saeed\\AppData\\Local\\Temp\\ipykernel_14856\\3667917964.py:85: FutureWarning: Passing literal html to 'read_html' is deprecated and will be removed in a future version. To read from a literal string, wrap it in a 'StringIO' object.\n",
      "  dfs = pd.read_html(r.text)\n",
      "WARNING: Event 45: failed with error: [Errno 28] No space left on device\n",
      "INFO: Downloading photometry: https://www.astrouw.edu.pl/ogle/ogle3/ews/2003/blg-046/phot.dat\n"
     ]
    },
    {
     "name": "stdout",
     "output_type": "stream",
     "text": [
      "OGLE 2003 BLG 46 started\n"
     ]
    },
    {
     "name": "stderr",
     "output_type": "stream",
     "text": [
      "INFO: Fetching OGLE guesses: https://ogle.astrouw.edu.pl/ogle3/ews/2003/blg-046.html\n",
      "C:\\Users\\Saeed\\AppData\\Local\\Temp\\ipykernel_14856\\3667917964.py:85: FutureWarning: Passing literal html to 'read_html' is deprecated and will be removed in a future version. To read from a literal string, wrap it in a 'StringIO' object.\n",
      "  dfs = pd.read_html(r.text)\n",
      "WARNING: Event 46: failed with error: [Errno 28] No space left on device\n",
      "INFO: Downloading photometry: https://www.astrouw.edu.pl/ogle/ogle3/ews/2003/blg-047/phot.dat\n"
     ]
    },
    {
     "name": "stdout",
     "output_type": "stream",
     "text": [
      "OGLE 2003 BLG 47 started\n"
     ]
    },
    {
     "name": "stderr",
     "output_type": "stream",
     "text": [
      "INFO: Fetching OGLE guesses: https://ogle.astrouw.edu.pl/ogle3/ews/2003/blg-047.html\n",
      "C:\\Users\\Saeed\\AppData\\Local\\Temp\\ipykernel_14856\\3667917964.py:85: FutureWarning: Passing literal html to 'read_html' is deprecated and will be removed in a future version. To read from a literal string, wrap it in a 'StringIO' object.\n",
      "  dfs = pd.read_html(r.text)\n",
      "WARNING: Event 47: failed with error: [Errno 28] No space left on device\n",
      "INFO: Downloading photometry: https://www.astrouw.edu.pl/ogle/ogle3/ews/2003/blg-048/phot.dat\n"
     ]
    },
    {
     "name": "stdout",
     "output_type": "stream",
     "text": [
      "OGLE 2003 BLG 48 started\n"
     ]
    },
    {
     "name": "stderr",
     "output_type": "stream",
     "text": [
      "INFO: Fetching OGLE guesses: https://ogle.astrouw.edu.pl/ogle3/ews/2003/blg-048.html\n",
      "C:\\Users\\Saeed\\AppData\\Local\\Temp\\ipykernel_14856\\3667917964.py:85: FutureWarning: Passing literal html to 'read_html' is deprecated and will be removed in a future version. To read from a literal string, wrap it in a 'StringIO' object.\n",
      "  dfs = pd.read_html(r.text)\n",
      "WARNING: Event 48: failed with error: [Errno 28] No space left on device\n",
      "INFO: Downloading photometry: https://www.astrouw.edu.pl/ogle/ogle3/ews/2003/blg-049/phot.dat\n"
     ]
    },
    {
     "name": "stdout",
     "output_type": "stream",
     "text": [
      "OGLE 2003 BLG 49 started\n"
     ]
    },
    {
     "name": "stderr",
     "output_type": "stream",
     "text": [
      "INFO: Fetching OGLE guesses: https://ogle.astrouw.edu.pl/ogle3/ews/2003/blg-049.html\n",
      "C:\\Users\\Saeed\\AppData\\Local\\Temp\\ipykernel_14856\\3667917964.py:85: FutureWarning: Passing literal html to 'read_html' is deprecated and will be removed in a future version. To read from a literal string, wrap it in a 'StringIO' object.\n",
      "  dfs = pd.read_html(r.text)\n",
      "WARNING: Event 49: failed with error: [Errno 28] No space left on device\n",
      "INFO: Downloading photometry: https://www.astrouw.edu.pl/ogle/ogle3/ews/2003/blg-050/phot.dat\n"
     ]
    },
    {
     "name": "stdout",
     "output_type": "stream",
     "text": [
      "OGLE 2003 BLG 50 started\n"
     ]
    },
    {
     "name": "stderr",
     "output_type": "stream",
     "text": [
      "INFO: Fetching OGLE guesses: https://ogle.astrouw.edu.pl/ogle3/ews/2003/blg-050.html\n",
      "C:\\Users\\Saeed\\AppData\\Local\\Temp\\ipykernel_14856\\3667917964.py:85: FutureWarning: Passing literal html to 'read_html' is deprecated and will be removed in a future version. To read from a literal string, wrap it in a 'StringIO' object.\n",
      "  dfs = pd.read_html(r.text)\n",
      "WARNING: Event 50: failed with error: [Errno 28] No space left on device\n",
      "INFO: Downloading photometry: https://www.astrouw.edu.pl/ogle/ogle3/ews/2003/blg-051/phot.dat\n"
     ]
    },
    {
     "name": "stdout",
     "output_type": "stream",
     "text": [
      "OGLE 2003 BLG 51 started\n"
     ]
    },
    {
     "name": "stderr",
     "output_type": "stream",
     "text": [
      "INFO: Fetching OGLE guesses: https://ogle.astrouw.edu.pl/ogle3/ews/2003/blg-051.html\n",
      "C:\\Users\\Saeed\\AppData\\Local\\Temp\\ipykernel_14856\\3667917964.py:85: FutureWarning: Passing literal html to 'read_html' is deprecated and will be removed in a future version. To read from a literal string, wrap it in a 'StringIO' object.\n",
      "  dfs = pd.read_html(r.text)\n",
      "WARNING: Event 51: failed with error: [Errno 28] No space left on device\n",
      "INFO: Downloading photometry: https://www.astrouw.edu.pl/ogle/ogle3/ews/2003/blg-052/phot.dat\n"
     ]
    },
    {
     "name": "stdout",
     "output_type": "stream",
     "text": [
      "OGLE 2003 BLG 52 started\n"
     ]
    },
    {
     "name": "stderr",
     "output_type": "stream",
     "text": [
      "INFO: Fetching OGLE guesses: https://ogle.astrouw.edu.pl/ogle3/ews/2003/blg-052.html\n",
      "C:\\Users\\Saeed\\AppData\\Local\\Temp\\ipykernel_14856\\3667917964.py:85: FutureWarning: Passing literal html to 'read_html' is deprecated and will be removed in a future version. To read from a literal string, wrap it in a 'StringIO' object.\n",
      "  dfs = pd.read_html(r.text)\n",
      "WARNING: Event 52: failed with error: [Errno 28] No space left on device\n",
      "INFO: Downloading photometry: https://www.astrouw.edu.pl/ogle/ogle3/ews/2003/blg-053/phot.dat\n"
     ]
    },
    {
     "name": "stdout",
     "output_type": "stream",
     "text": [
      "OGLE 2003 BLG 53 started\n"
     ]
    },
    {
     "name": "stderr",
     "output_type": "stream",
     "text": [
      "INFO: Fetching OGLE guesses: https://ogle.astrouw.edu.pl/ogle3/ews/2003/blg-053.html\n",
      "C:\\Users\\Saeed\\AppData\\Local\\Temp\\ipykernel_14856\\3667917964.py:85: FutureWarning: Passing literal html to 'read_html' is deprecated and will be removed in a future version. To read from a literal string, wrap it in a 'StringIO' object.\n",
      "  dfs = pd.read_html(r.text)\n",
      "WARNING: Event 53: failed with error: [Errno 28] No space left on device\n",
      "INFO: Downloading photometry: https://www.astrouw.edu.pl/ogle/ogle3/ews/2003/blg-054/phot.dat\n"
     ]
    },
    {
     "name": "stdout",
     "output_type": "stream",
     "text": [
      "OGLE 2003 BLG 54 started\n"
     ]
    },
    {
     "name": "stderr",
     "output_type": "stream",
     "text": [
      "INFO: Fetching OGLE guesses: https://ogle.astrouw.edu.pl/ogle3/ews/2003/blg-054.html\n",
      "C:\\Users\\Saeed\\AppData\\Local\\Temp\\ipykernel_14856\\3667917964.py:85: FutureWarning: Passing literal html to 'read_html' is deprecated and will be removed in a future version. To read from a literal string, wrap it in a 'StringIO' object.\n",
      "  dfs = pd.read_html(r.text)\n",
      "WARNING: Event 54: failed with error: [Errno 28] No space left on device\n",
      "INFO: Downloading photometry: https://www.astrouw.edu.pl/ogle/ogle3/ews/2003/blg-055/phot.dat\n"
     ]
    },
    {
     "name": "stdout",
     "output_type": "stream",
     "text": [
      "OGLE 2003 BLG 55 started\n"
     ]
    },
    {
     "name": "stderr",
     "output_type": "stream",
     "text": [
      "INFO: Fetching OGLE guesses: https://ogle.astrouw.edu.pl/ogle3/ews/2003/blg-055.html\n",
      "C:\\Users\\Saeed\\AppData\\Local\\Temp\\ipykernel_14856\\3667917964.py:85: FutureWarning: Passing literal html to 'read_html' is deprecated and will be removed in a future version. To read from a literal string, wrap it in a 'StringIO' object.\n",
      "  dfs = pd.read_html(r.text)\n",
      "WARNING: Event 55: failed with error: [Errno 28] No space left on device\n",
      "INFO: Downloading photometry: https://www.astrouw.edu.pl/ogle/ogle3/ews/2003/blg-056/phot.dat\n"
     ]
    },
    {
     "name": "stdout",
     "output_type": "stream",
     "text": [
      "OGLE 2003 BLG 56 started\n"
     ]
    },
    {
     "name": "stderr",
     "output_type": "stream",
     "text": [
      "INFO: Fetching OGLE guesses: https://ogle.astrouw.edu.pl/ogle3/ews/2003/blg-056.html\n",
      "C:\\Users\\Saeed\\AppData\\Local\\Temp\\ipykernel_14856\\3667917964.py:85: FutureWarning: Passing literal html to 'read_html' is deprecated and will be removed in a future version. To read from a literal string, wrap it in a 'StringIO' object.\n",
      "  dfs = pd.read_html(r.text)\n",
      "WARNING: Parsed HTML but couldn't extract expected cells: could not convert string to float: '-'\n",
      "WARNING: Event 56: failed with error: [Errno 28] No space left on device\n",
      "INFO: Downloading photometry: https://www.astrouw.edu.pl/ogle/ogle3/ews/2003/blg-057/phot.dat\n"
     ]
    },
    {
     "name": "stdout",
     "output_type": "stream",
     "text": [
      "OGLE 2003 BLG 57 started\n"
     ]
    },
    {
     "name": "stderr",
     "output_type": "stream",
     "text": [
      "INFO: Fetching OGLE guesses: https://ogle.astrouw.edu.pl/ogle3/ews/2003/blg-057.html\n",
      "C:\\Users\\Saeed\\AppData\\Local\\Temp\\ipykernel_14856\\3667917964.py:85: FutureWarning: Passing literal html to 'read_html' is deprecated and will be removed in a future version. To read from a literal string, wrap it in a 'StringIO' object.\n",
      "  dfs = pd.read_html(r.text)\n",
      "WARNING: Event 57: failed with error: [Errno 28] No space left on device\n",
      "INFO: Downloading photometry: https://www.astrouw.edu.pl/ogle/ogle3/ews/2003/blg-058/phot.dat\n"
     ]
    },
    {
     "name": "stdout",
     "output_type": "stream",
     "text": [
      "OGLE 2003 BLG 58 started\n"
     ]
    },
    {
     "name": "stderr",
     "output_type": "stream",
     "text": [
      "INFO: Fetching OGLE guesses: https://ogle.astrouw.edu.pl/ogle3/ews/2003/blg-058.html\n",
      "C:\\Users\\Saeed\\AppData\\Local\\Temp\\ipykernel_14856\\3667917964.py:85: FutureWarning: Passing literal html to 'read_html' is deprecated and will be removed in a future version. To read from a literal string, wrap it in a 'StringIO' object.\n",
      "  dfs = pd.read_html(r.text)\n",
      "WARNING: Event 58: failed with error: [Errno 28] No space left on device\n",
      "INFO: Downloading photometry: https://www.astrouw.edu.pl/ogle/ogle3/ews/2003/blg-059/phot.dat\n"
     ]
    },
    {
     "name": "stdout",
     "output_type": "stream",
     "text": [
      "OGLE 2003 BLG 59 started\n"
     ]
    },
    {
     "name": "stderr",
     "output_type": "stream",
     "text": [
      "INFO: Fetching OGLE guesses: https://ogle.astrouw.edu.pl/ogle3/ews/2003/blg-059.html\n",
      "C:\\Users\\Saeed\\AppData\\Local\\Temp\\ipykernel_14856\\3667917964.py:85: FutureWarning: Passing literal html to 'read_html' is deprecated and will be removed in a future version. To read from a literal string, wrap it in a 'StringIO' object.\n",
      "  dfs = pd.read_html(r.text)\n",
      "WARNING: Event 59: failed with error: [Errno 28] No space left on device\n",
      "INFO: Downloading photometry: https://www.astrouw.edu.pl/ogle/ogle3/ews/2003/blg-060/phot.dat\n"
     ]
    },
    {
     "name": "stdout",
     "output_type": "stream",
     "text": [
      "OGLE 2003 BLG 60 started\n"
     ]
    },
    {
     "name": "stderr",
     "output_type": "stream",
     "text": [
      "INFO: Fetching OGLE guesses: https://ogle.astrouw.edu.pl/ogle3/ews/2003/blg-060.html\n",
      "C:\\Users\\Saeed\\AppData\\Local\\Temp\\ipykernel_14856\\3667917964.py:85: FutureWarning: Passing literal html to 'read_html' is deprecated and will be removed in a future version. To read from a literal string, wrap it in a 'StringIO' object.\n",
      "  dfs = pd.read_html(r.text)\n",
      "WARNING: Event 60: failed with error: [Errno 28] No space left on device\n",
      "INFO: Downloading photometry: https://www.astrouw.edu.pl/ogle/ogle3/ews/2003/blg-061/phot.dat\n"
     ]
    },
    {
     "name": "stdout",
     "output_type": "stream",
     "text": [
      "OGLE 2003 BLG 61 started\n"
     ]
    },
    {
     "name": "stderr",
     "output_type": "stream",
     "text": [
      "INFO: Fetching OGLE guesses: https://ogle.astrouw.edu.pl/ogle3/ews/2003/blg-061.html\n",
      "C:\\Users\\Saeed\\AppData\\Local\\Temp\\ipykernel_14856\\3667917964.py:85: FutureWarning: Passing literal html to 'read_html' is deprecated and will be removed in a future version. To read from a literal string, wrap it in a 'StringIO' object.\n",
      "  dfs = pd.read_html(r.text)\n",
      "WARNING: Event 61: failed with error: [Errno 28] No space left on device\n",
      "INFO: Downloading photometry: https://www.astrouw.edu.pl/ogle/ogle3/ews/2003/blg-062/phot.dat\n"
     ]
    },
    {
     "name": "stdout",
     "output_type": "stream",
     "text": [
      "OGLE 2003 BLG 62 started\n"
     ]
    },
    {
     "name": "stderr",
     "output_type": "stream",
     "text": [
      "INFO: Fetching OGLE guesses: https://ogle.astrouw.edu.pl/ogle3/ews/2003/blg-062.html\n",
      "C:\\Users\\Saeed\\AppData\\Local\\Temp\\ipykernel_14856\\3667917964.py:85: FutureWarning: Passing literal html to 'read_html' is deprecated and will be removed in a future version. To read from a literal string, wrap it in a 'StringIO' object.\n",
      "  dfs = pd.read_html(r.text)\n",
      "WARNING: Event 62: failed with error: [Errno 28] No space left on device\n",
      "INFO: Downloading photometry: https://www.astrouw.edu.pl/ogle/ogle3/ews/2003/blg-063/phot.dat\n"
     ]
    },
    {
     "name": "stdout",
     "output_type": "stream",
     "text": [
      "OGLE 2003 BLG 63 started\n"
     ]
    },
    {
     "name": "stderr",
     "output_type": "stream",
     "text": [
      "INFO: Fetching OGLE guesses: https://ogle.astrouw.edu.pl/ogle3/ews/2003/blg-063.html\n",
      "C:\\Users\\Saeed\\AppData\\Local\\Temp\\ipykernel_14856\\3667917964.py:85: FutureWarning: Passing literal html to 'read_html' is deprecated and will be removed in a future version. To read from a literal string, wrap it in a 'StringIO' object.\n",
      "  dfs = pd.read_html(r.text)\n",
      "WARNING: Event 63: failed with error: [Errno 28] No space left on device\n",
      "INFO: Downloading photometry: https://www.astrouw.edu.pl/ogle/ogle3/ews/2003/blg-064/phot.dat\n"
     ]
    },
    {
     "name": "stdout",
     "output_type": "stream",
     "text": [
      "OGLE 2003 BLG 64 started\n"
     ]
    },
    {
     "name": "stderr",
     "output_type": "stream",
     "text": [
      "INFO: Fetching OGLE guesses: https://ogle.astrouw.edu.pl/ogle3/ews/2003/blg-064.html\n",
      "C:\\Users\\Saeed\\AppData\\Local\\Temp\\ipykernel_14856\\3667917964.py:85: FutureWarning: Passing literal html to 'read_html' is deprecated and will be removed in a future version. To read from a literal string, wrap it in a 'StringIO' object.\n",
      "  dfs = pd.read_html(r.text)\n",
      "WARNING: Event 64: failed with error: [Errno 28] No space left on device\n",
      "INFO: Downloading photometry: https://www.astrouw.edu.pl/ogle/ogle3/ews/2003/blg-065/phot.dat\n"
     ]
    },
    {
     "name": "stdout",
     "output_type": "stream",
     "text": [
      "OGLE 2003 BLG 65 started\n"
     ]
    },
    {
     "name": "stderr",
     "output_type": "stream",
     "text": [
      "INFO: Fetching OGLE guesses: https://ogle.astrouw.edu.pl/ogle3/ews/2003/blg-065.html\n",
      "C:\\Users\\Saeed\\AppData\\Local\\Temp\\ipykernel_14856\\3667917964.py:85: FutureWarning: Passing literal html to 'read_html' is deprecated and will be removed in a future version. To read from a literal string, wrap it in a 'StringIO' object.\n",
      "  dfs = pd.read_html(r.text)\n",
      "WARNING: Event 65: failed with error: [Errno 28] No space left on device\n",
      "INFO: Downloading photometry: https://www.astrouw.edu.pl/ogle/ogle3/ews/2003/blg-066/phot.dat\n"
     ]
    },
    {
     "name": "stdout",
     "output_type": "stream",
     "text": [
      "OGLE 2003 BLG 66 started\n"
     ]
    },
    {
     "name": "stderr",
     "output_type": "stream",
     "text": [
      "INFO: Fetching OGLE guesses: https://ogle.astrouw.edu.pl/ogle3/ews/2003/blg-066.html\n",
      "C:\\Users\\Saeed\\AppData\\Local\\Temp\\ipykernel_14856\\3667917964.py:85: FutureWarning: Passing literal html to 'read_html' is deprecated and will be removed in a future version. To read from a literal string, wrap it in a 'StringIO' object.\n",
      "  dfs = pd.read_html(r.text)\n",
      "WARNING: Event 66: failed with error: [Errno 28] No space left on device\n",
      "INFO: Downloading photometry: https://www.astrouw.edu.pl/ogle/ogle3/ews/2003/blg-067/phot.dat\n"
     ]
    },
    {
     "name": "stdout",
     "output_type": "stream",
     "text": [
      "OGLE 2003 BLG 67 started\n"
     ]
    },
    {
     "name": "stderr",
     "output_type": "stream",
     "text": [
      "INFO: Fetching OGLE guesses: https://ogle.astrouw.edu.pl/ogle3/ews/2003/blg-067.html\n",
      "C:\\Users\\Saeed\\AppData\\Local\\Temp\\ipykernel_14856\\3667917964.py:85: FutureWarning: Passing literal html to 'read_html' is deprecated and will be removed in a future version. To read from a literal string, wrap it in a 'StringIO' object.\n",
      "  dfs = pd.read_html(r.text)\n",
      "WARNING: Event 67: failed with error: [Errno 28] No space left on device\n",
      "INFO: Downloading photometry: https://www.astrouw.edu.pl/ogle/ogle3/ews/2003/blg-068/phot.dat\n"
     ]
    },
    {
     "name": "stdout",
     "output_type": "stream",
     "text": [
      "OGLE 2003 BLG 68 started\n"
     ]
    },
    {
     "name": "stderr",
     "output_type": "stream",
     "text": [
      "INFO: Fetching OGLE guesses: https://ogle.astrouw.edu.pl/ogle3/ews/2003/blg-068.html\n",
      "C:\\Users\\Saeed\\AppData\\Local\\Temp\\ipykernel_14856\\3667917964.py:85: FutureWarning: Passing literal html to 'read_html' is deprecated and will be removed in a future version. To read from a literal string, wrap it in a 'StringIO' object.\n",
      "  dfs = pd.read_html(r.text)\n",
      "WARNING: Event 68: failed with error: [Errno 28] No space left on device\n",
      "INFO: Downloading photometry: https://www.astrouw.edu.pl/ogle/ogle3/ews/2003/blg-069/phot.dat\n"
     ]
    },
    {
     "name": "stdout",
     "output_type": "stream",
     "text": [
      "OGLE 2003 BLG 69 started\n"
     ]
    },
    {
     "name": "stderr",
     "output_type": "stream",
     "text": [
      "INFO: Fetching OGLE guesses: https://ogle.astrouw.edu.pl/ogle3/ews/2003/blg-069.html\n",
      "C:\\Users\\Saeed\\AppData\\Local\\Temp\\ipykernel_14856\\3667917964.py:85: FutureWarning: Passing literal html to 'read_html' is deprecated and will be removed in a future version. To read from a literal string, wrap it in a 'StringIO' object.\n",
      "  dfs = pd.read_html(r.text)\n",
      "WARNING: Event 69: failed with error: [Errno 28] No space left on device\n",
      "INFO: Downloading photometry: https://www.astrouw.edu.pl/ogle/ogle3/ews/2003/blg-070/phot.dat\n"
     ]
    },
    {
     "name": "stdout",
     "output_type": "stream",
     "text": [
      "OGLE 2003 BLG 70 started\n"
     ]
    },
    {
     "name": "stderr",
     "output_type": "stream",
     "text": [
      "INFO: Fetching OGLE guesses: https://ogle.astrouw.edu.pl/ogle3/ews/2003/blg-070.html\n",
      "C:\\Users\\Saeed\\AppData\\Local\\Temp\\ipykernel_14856\\3667917964.py:85: FutureWarning: Passing literal html to 'read_html' is deprecated and will be removed in a future version. To read from a literal string, wrap it in a 'StringIO' object.\n",
      "  dfs = pd.read_html(r.text)\n",
      "WARNING: Event 70: failed with error: [Errno 28] No space left on device\n",
      "INFO: Downloading photometry: https://www.astrouw.edu.pl/ogle/ogle3/ews/2003/blg-071/phot.dat\n"
     ]
    },
    {
     "name": "stdout",
     "output_type": "stream",
     "text": [
      "OGLE 2003 BLG 71 started\n"
     ]
    },
    {
     "name": "stderr",
     "output_type": "stream",
     "text": [
      "INFO: Fetching OGLE guesses: https://ogle.astrouw.edu.pl/ogle3/ews/2003/blg-071.html\n",
      "C:\\Users\\Saeed\\AppData\\Local\\Temp\\ipykernel_14856\\3667917964.py:85: FutureWarning: Passing literal html to 'read_html' is deprecated and will be removed in a future version. To read from a literal string, wrap it in a 'StringIO' object.\n",
      "  dfs = pd.read_html(r.text)\n",
      "WARNING: Event 71: failed with error: [Errno 28] No space left on device\n",
      "INFO: Downloading photometry: https://www.astrouw.edu.pl/ogle/ogle3/ews/2003/blg-072/phot.dat\n"
     ]
    },
    {
     "name": "stdout",
     "output_type": "stream",
     "text": [
      "OGLE 2003 BLG 72 started\n"
     ]
    },
    {
     "name": "stderr",
     "output_type": "stream",
     "text": [
      "INFO: Fetching OGLE guesses: https://ogle.astrouw.edu.pl/ogle3/ews/2003/blg-072.html\n",
      "C:\\Users\\Saeed\\AppData\\Local\\Temp\\ipykernel_14856\\3667917964.py:85: FutureWarning: Passing literal html to 'read_html' is deprecated and will be removed in a future version. To read from a literal string, wrap it in a 'StringIO' object.\n",
      "  dfs = pd.read_html(r.text)\n",
      "WARNING: Event 72: failed with error: [Errno 28] No space left on device\n",
      "INFO: Downloading photometry: https://www.astrouw.edu.pl/ogle/ogle3/ews/2003/blg-073/phot.dat\n"
     ]
    },
    {
     "name": "stdout",
     "output_type": "stream",
     "text": [
      "OGLE 2003 BLG 73 started\n"
     ]
    },
    {
     "name": "stderr",
     "output_type": "stream",
     "text": [
      "INFO: Fetching OGLE guesses: https://ogle.astrouw.edu.pl/ogle3/ews/2003/blg-073.html\n",
      "C:\\Users\\Saeed\\AppData\\Local\\Temp\\ipykernel_14856\\3667917964.py:85: FutureWarning: Passing literal html to 'read_html' is deprecated and will be removed in a future version. To read from a literal string, wrap it in a 'StringIO' object.\n",
      "  dfs = pd.read_html(r.text)\n",
      "WARNING: Event 73: failed with error: [Errno 28] No space left on device\n",
      "INFO: Downloading photometry: https://www.astrouw.edu.pl/ogle/ogle3/ews/2003/blg-074/phot.dat\n"
     ]
    },
    {
     "name": "stdout",
     "output_type": "stream",
     "text": [
      "OGLE 2003 BLG 74 started\n"
     ]
    },
    {
     "name": "stderr",
     "output_type": "stream",
     "text": [
      "INFO: Fetching OGLE guesses: https://ogle.astrouw.edu.pl/ogle3/ews/2003/blg-074.html\n",
      "C:\\Users\\Saeed\\AppData\\Local\\Temp\\ipykernel_14856\\3667917964.py:85: FutureWarning: Passing literal html to 'read_html' is deprecated and will be removed in a future version. To read from a literal string, wrap it in a 'StringIO' object.\n",
      "  dfs = pd.read_html(r.text)\n",
      "WARNING: Event 74: failed with error: [Errno 28] No space left on device\n",
      "INFO: Downloading photometry: https://www.astrouw.edu.pl/ogle/ogle3/ews/2003/blg-075/phot.dat\n"
     ]
    },
    {
     "name": "stdout",
     "output_type": "stream",
     "text": [
      "OGLE 2003 BLG 75 started\n"
     ]
    },
    {
     "name": "stderr",
     "output_type": "stream",
     "text": [
      "INFO: Fetching OGLE guesses: https://ogle.astrouw.edu.pl/ogle3/ews/2003/blg-075.html\n",
      "C:\\Users\\Saeed\\AppData\\Local\\Temp\\ipykernel_14856\\3667917964.py:85: FutureWarning: Passing literal html to 'read_html' is deprecated and will be removed in a future version. To read from a literal string, wrap it in a 'StringIO' object.\n",
      "  dfs = pd.read_html(r.text)\n",
      "WARNING: Event 75: failed with error: [Errno 28] No space left on device\n",
      "INFO: Downloading photometry: https://www.astrouw.edu.pl/ogle/ogle3/ews/2003/blg-076/phot.dat\n"
     ]
    },
    {
     "name": "stdout",
     "output_type": "stream",
     "text": [
      "OGLE 2003 BLG 76 started\n"
     ]
    },
    {
     "name": "stderr",
     "output_type": "stream",
     "text": [
      "INFO: Fetching OGLE guesses: https://ogle.astrouw.edu.pl/ogle3/ews/2003/blg-076.html\n",
      "C:\\Users\\Saeed\\AppData\\Local\\Temp\\ipykernel_14856\\3667917964.py:85: FutureWarning: Passing literal html to 'read_html' is deprecated and will be removed in a future version. To read from a literal string, wrap it in a 'StringIO' object.\n",
      "  dfs = pd.read_html(r.text)\n",
      "WARNING: Event 76: failed with error: [Errno 28] No space left on device\n",
      "INFO: Downloading photometry: https://www.astrouw.edu.pl/ogle/ogle3/ews/2003/blg-077/phot.dat\n"
     ]
    },
    {
     "name": "stdout",
     "output_type": "stream",
     "text": [
      "OGLE 2003 BLG 77 started\n"
     ]
    },
    {
     "name": "stderr",
     "output_type": "stream",
     "text": [
      "INFO: Fetching OGLE guesses: https://ogle.astrouw.edu.pl/ogle3/ews/2003/blg-077.html\n",
      "C:\\Users\\Saeed\\AppData\\Local\\Temp\\ipykernel_14856\\3667917964.py:85: FutureWarning: Passing literal html to 'read_html' is deprecated and will be removed in a future version. To read from a literal string, wrap it in a 'StringIO' object.\n",
      "  dfs = pd.read_html(r.text)\n",
      "WARNING: Event 77: failed with error: [Errno 28] No space left on device\n",
      "INFO: Downloading photometry: https://www.astrouw.edu.pl/ogle/ogle3/ews/2003/blg-078/phot.dat\n"
     ]
    },
    {
     "name": "stdout",
     "output_type": "stream",
     "text": [
      "OGLE 2003 BLG 78 started\n"
     ]
    },
    {
     "name": "stderr",
     "output_type": "stream",
     "text": [
      "INFO: Fetching OGLE guesses: https://ogle.astrouw.edu.pl/ogle3/ews/2003/blg-078.html\n",
      "C:\\Users\\Saeed\\AppData\\Local\\Temp\\ipykernel_14856\\3667917964.py:85: FutureWarning: Passing literal html to 'read_html' is deprecated and will be removed in a future version. To read from a literal string, wrap it in a 'StringIO' object.\n",
      "  dfs = pd.read_html(r.text)\n",
      "WARNING: Event 78: failed with error: [Errno 28] No space left on device\n",
      "INFO: Downloading photometry: https://www.astrouw.edu.pl/ogle/ogle3/ews/2003/blg-079/phot.dat\n"
     ]
    },
    {
     "name": "stdout",
     "output_type": "stream",
     "text": [
      "OGLE 2003 BLG 79 started\n"
     ]
    },
    {
     "name": "stderr",
     "output_type": "stream",
     "text": [
      "INFO: Fetching OGLE guesses: https://ogle.astrouw.edu.pl/ogle3/ews/2003/blg-079.html\n",
      "C:\\Users\\Saeed\\AppData\\Local\\Temp\\ipykernel_14856\\3667917964.py:85: FutureWarning: Passing literal html to 'read_html' is deprecated and will be removed in a future version. To read from a literal string, wrap it in a 'StringIO' object.\n",
      "  dfs = pd.read_html(r.text)\n",
      "WARNING: Event 79: failed with error: [Errno 28] No space left on device\n",
      "INFO: Downloading photometry: https://www.astrouw.edu.pl/ogle/ogle3/ews/2003/blg-080/phot.dat\n"
     ]
    },
    {
     "name": "stdout",
     "output_type": "stream",
     "text": [
      "OGLE 2003 BLG 80 started\n"
     ]
    },
    {
     "name": "stderr",
     "output_type": "stream",
     "text": [
      "INFO: Fetching OGLE guesses: https://ogle.astrouw.edu.pl/ogle3/ews/2003/blg-080.html\n",
      "C:\\Users\\Saeed\\AppData\\Local\\Temp\\ipykernel_14856\\3667917964.py:85: FutureWarning: Passing literal html to 'read_html' is deprecated and will be removed in a future version. To read from a literal string, wrap it in a 'StringIO' object.\n",
      "  dfs = pd.read_html(r.text)\n",
      "WARNING: Event 80: failed with error: [Errno 28] No space left on device\n",
      "INFO: Downloading photometry: https://www.astrouw.edu.pl/ogle/ogle3/ews/2003/blg-081/phot.dat\n"
     ]
    },
    {
     "name": "stdout",
     "output_type": "stream",
     "text": [
      "OGLE 2003 BLG 81 started\n"
     ]
    },
    {
     "name": "stderr",
     "output_type": "stream",
     "text": [
      "INFO: Fetching OGLE guesses: https://ogle.astrouw.edu.pl/ogle3/ews/2003/blg-081.html\n",
      "C:\\Users\\Saeed\\AppData\\Local\\Temp\\ipykernel_14856\\3667917964.py:85: FutureWarning: Passing literal html to 'read_html' is deprecated and will be removed in a future version. To read from a literal string, wrap it in a 'StringIO' object.\n",
      "  dfs = pd.read_html(r.text)\n",
      "WARNING: Event 81: failed with error: [Errno 28] No space left on device\n",
      "INFO: Downloading photometry: https://www.astrouw.edu.pl/ogle/ogle3/ews/2003/blg-082/phot.dat\n"
     ]
    },
    {
     "name": "stdout",
     "output_type": "stream",
     "text": [
      "OGLE 2003 BLG 82 started\n"
     ]
    },
    {
     "name": "stderr",
     "output_type": "stream",
     "text": [
      "INFO: Fetching OGLE guesses: https://ogle.astrouw.edu.pl/ogle3/ews/2003/blg-082.html\n",
      "C:\\Users\\Saeed\\AppData\\Local\\Temp\\ipykernel_14856\\3667917964.py:85: FutureWarning: Passing literal html to 'read_html' is deprecated and will be removed in a future version. To read from a literal string, wrap it in a 'StringIO' object.\n",
      "  dfs = pd.read_html(r.text)\n",
      "WARNING: Event 82: failed with error: [Errno 28] No space left on device\n",
      "INFO: Downloading photometry: https://www.astrouw.edu.pl/ogle/ogle3/ews/2003/blg-083/phot.dat\n"
     ]
    },
    {
     "name": "stdout",
     "output_type": "stream",
     "text": [
      "OGLE 2003 BLG 83 started\n"
     ]
    },
    {
     "name": "stderr",
     "output_type": "stream",
     "text": [
      "INFO: Fetching OGLE guesses: https://ogle.astrouw.edu.pl/ogle3/ews/2003/blg-083.html\n",
      "C:\\Users\\Saeed\\AppData\\Local\\Temp\\ipykernel_14856\\3667917964.py:85: FutureWarning: Passing literal html to 'read_html' is deprecated and will be removed in a future version. To read from a literal string, wrap it in a 'StringIO' object.\n",
      "  dfs = pd.read_html(r.text)\n",
      "WARNING: Event 83: failed with error: [Errno 28] No space left on device\n",
      "INFO: Downloading photometry: https://www.astrouw.edu.pl/ogle/ogle3/ews/2003/blg-084/phot.dat\n"
     ]
    },
    {
     "name": "stdout",
     "output_type": "stream",
     "text": [
      "OGLE 2003 BLG 84 started\n"
     ]
    },
    {
     "name": "stderr",
     "output_type": "stream",
     "text": [
      "INFO: Fetching OGLE guesses: https://ogle.astrouw.edu.pl/ogle3/ews/2003/blg-084.html\n",
      "C:\\Users\\Saeed\\AppData\\Local\\Temp\\ipykernel_14856\\3667917964.py:85: FutureWarning: Passing literal html to 'read_html' is deprecated and will be removed in a future version. To read from a literal string, wrap it in a 'StringIO' object.\n",
      "  dfs = pd.read_html(r.text)\n",
      "WARNING: Event 84: failed with error: [Errno 28] No space left on device\n",
      "INFO: Downloading photometry: https://www.astrouw.edu.pl/ogle/ogle3/ews/2003/blg-085/phot.dat\n"
     ]
    },
    {
     "name": "stdout",
     "output_type": "stream",
     "text": [
      "OGLE 2003 BLG 85 started\n"
     ]
    },
    {
     "name": "stderr",
     "output_type": "stream",
     "text": [
      "INFO: Fetching OGLE guesses: https://ogle.astrouw.edu.pl/ogle3/ews/2003/blg-085.html\n",
      "C:\\Users\\Saeed\\AppData\\Local\\Temp\\ipykernel_14856\\3667917964.py:85: FutureWarning: Passing literal html to 'read_html' is deprecated and will be removed in a future version. To read from a literal string, wrap it in a 'StringIO' object.\n",
      "  dfs = pd.read_html(r.text)\n",
      "WARNING: Event 85: failed with error: [Errno 28] No space left on device\n",
      "INFO: Downloading photometry: https://www.astrouw.edu.pl/ogle/ogle3/ews/2003/blg-086/phot.dat\n"
     ]
    },
    {
     "name": "stdout",
     "output_type": "stream",
     "text": [
      "OGLE 2003 BLG 86 started\n"
     ]
    },
    {
     "name": "stderr",
     "output_type": "stream",
     "text": [
      "INFO: Fetching OGLE guesses: https://ogle.astrouw.edu.pl/ogle3/ews/2003/blg-086.html\n",
      "C:\\Users\\Saeed\\AppData\\Local\\Temp\\ipykernel_14856\\3667917964.py:85: FutureWarning: Passing literal html to 'read_html' is deprecated and will be removed in a future version. To read from a literal string, wrap it in a 'StringIO' object.\n",
      "  dfs = pd.read_html(r.text)\n",
      "WARNING: Event 86: failed with error: [Errno 28] No space left on device\n",
      "INFO: Downloading photometry: https://www.astrouw.edu.pl/ogle/ogle3/ews/2003/blg-087/phot.dat\n"
     ]
    },
    {
     "name": "stdout",
     "output_type": "stream",
     "text": [
      "OGLE 2003 BLG 87 started\n"
     ]
    },
    {
     "name": "stderr",
     "output_type": "stream",
     "text": [
      "INFO: Fetching OGLE guesses: https://ogle.astrouw.edu.pl/ogle3/ews/2003/blg-087.html\n",
      "C:\\Users\\Saeed\\AppData\\Local\\Temp\\ipykernel_14856\\3667917964.py:85: FutureWarning: Passing literal html to 'read_html' is deprecated and will be removed in a future version. To read from a literal string, wrap it in a 'StringIO' object.\n",
      "  dfs = pd.read_html(r.text)\n",
      "WARNING: Event 87: failed with error: [Errno 28] No space left on device\n",
      "INFO: Downloading photometry: https://www.astrouw.edu.pl/ogle/ogle3/ews/2003/blg-088/phot.dat\n"
     ]
    },
    {
     "name": "stdout",
     "output_type": "stream",
     "text": [
      "OGLE 2003 BLG 88 started\n"
     ]
    },
    {
     "name": "stderr",
     "output_type": "stream",
     "text": [
      "INFO: Fetching OGLE guesses: https://ogle.astrouw.edu.pl/ogle3/ews/2003/blg-088.html\n",
      "C:\\Users\\Saeed\\AppData\\Local\\Temp\\ipykernel_14856\\3667917964.py:85: FutureWarning: Passing literal html to 'read_html' is deprecated and will be removed in a future version. To read from a literal string, wrap it in a 'StringIO' object.\n",
      "  dfs = pd.read_html(r.text)\n",
      "WARNING: Event 88: failed with error: [Errno 28] No space left on device\n",
      "INFO: Downloading photometry: https://www.astrouw.edu.pl/ogle/ogle3/ews/2003/blg-089/phot.dat\n"
     ]
    },
    {
     "name": "stdout",
     "output_type": "stream",
     "text": [
      "OGLE 2003 BLG 89 started\n"
     ]
    },
    {
     "name": "stderr",
     "output_type": "stream",
     "text": [
      "INFO: Fetching OGLE guesses: https://ogle.astrouw.edu.pl/ogle3/ews/2003/blg-089.html\n",
      "C:\\Users\\Saeed\\AppData\\Local\\Temp\\ipykernel_14856\\3667917964.py:85: FutureWarning: Passing literal html to 'read_html' is deprecated and will be removed in a future version. To read from a literal string, wrap it in a 'StringIO' object.\n",
      "  dfs = pd.read_html(r.text)\n",
      "WARNING: Event 89: failed with error: [Errno 28] No space left on device\n",
      "INFO: Downloading photometry: https://www.astrouw.edu.pl/ogle/ogle3/ews/2003/blg-090/phot.dat\n"
     ]
    },
    {
     "name": "stdout",
     "output_type": "stream",
     "text": [
      "OGLE 2003 BLG 90 started\n"
     ]
    },
    {
     "name": "stderr",
     "output_type": "stream",
     "text": [
      "INFO: Fetching OGLE guesses: https://ogle.astrouw.edu.pl/ogle3/ews/2003/blg-090.html\n",
      "C:\\Users\\Saeed\\AppData\\Local\\Temp\\ipykernel_14856\\3667917964.py:85: FutureWarning: Passing literal html to 'read_html' is deprecated and will be removed in a future version. To read from a literal string, wrap it in a 'StringIO' object.\n",
      "  dfs = pd.read_html(r.text)\n",
      "WARNING: Event 90: failed with error: [Errno 28] No space left on device\n",
      "INFO: Downloading photometry: https://www.astrouw.edu.pl/ogle/ogle3/ews/2003/blg-091/phot.dat\n"
     ]
    },
    {
     "name": "stdout",
     "output_type": "stream",
     "text": [
      "OGLE 2003 BLG 91 started\n"
     ]
    },
    {
     "name": "stderr",
     "output_type": "stream",
     "text": [
      "INFO: Fetching OGLE guesses: https://ogle.astrouw.edu.pl/ogle3/ews/2003/blg-091.html\n",
      "C:\\Users\\Saeed\\AppData\\Local\\Temp\\ipykernel_14856\\3667917964.py:85: FutureWarning: Passing literal html to 'read_html' is deprecated and will be removed in a future version. To read from a literal string, wrap it in a 'StringIO' object.\n",
      "  dfs = pd.read_html(r.text)\n",
      "WARNING: Event 91: failed with error: [Errno 28] No space left on device\n",
      "INFO: Downloading photometry: https://www.astrouw.edu.pl/ogle/ogle3/ews/2003/blg-092/phot.dat\n"
     ]
    },
    {
     "name": "stdout",
     "output_type": "stream",
     "text": [
      "OGLE 2003 BLG 92 started\n"
     ]
    },
    {
     "name": "stderr",
     "output_type": "stream",
     "text": [
      "INFO: Fetching OGLE guesses: https://ogle.astrouw.edu.pl/ogle3/ews/2003/blg-092.html\n",
      "C:\\Users\\Saeed\\AppData\\Local\\Temp\\ipykernel_14856\\3667917964.py:85: FutureWarning: Passing literal html to 'read_html' is deprecated and will be removed in a future version. To read from a literal string, wrap it in a 'StringIO' object.\n",
      "  dfs = pd.read_html(r.text)\n",
      "WARNING: Event 92: failed with error: [Errno 28] No space left on device\n",
      "INFO: Downloading photometry: https://www.astrouw.edu.pl/ogle/ogle3/ews/2003/blg-093/phot.dat\n"
     ]
    },
    {
     "name": "stdout",
     "output_type": "stream",
     "text": [
      "OGLE 2003 BLG 93 started\n"
     ]
    },
    {
     "name": "stderr",
     "output_type": "stream",
     "text": [
      "INFO: Fetching OGLE guesses: https://ogle.astrouw.edu.pl/ogle3/ews/2003/blg-093.html\n",
      "C:\\Users\\Saeed\\AppData\\Local\\Temp\\ipykernel_14856\\3667917964.py:85: FutureWarning: Passing literal html to 'read_html' is deprecated and will be removed in a future version. To read from a literal string, wrap it in a 'StringIO' object.\n",
      "  dfs = pd.read_html(r.text)\n",
      "WARNING: Event 93: failed with error: [Errno 28] No space left on device\n",
      "INFO: Downloading photometry: https://www.astrouw.edu.pl/ogle/ogle3/ews/2003/blg-094/phot.dat\n"
     ]
    },
    {
     "name": "stdout",
     "output_type": "stream",
     "text": [
      "OGLE 2003 BLG 94 started\n"
     ]
    },
    {
     "name": "stderr",
     "output_type": "stream",
     "text": [
      "INFO: Fetching OGLE guesses: https://ogle.astrouw.edu.pl/ogle3/ews/2003/blg-094.html\n",
      "C:\\Users\\Saeed\\AppData\\Local\\Temp\\ipykernel_14856\\3667917964.py:85: FutureWarning: Passing literal html to 'read_html' is deprecated and will be removed in a future version. To read from a literal string, wrap it in a 'StringIO' object.\n",
      "  dfs = pd.read_html(r.text)\n",
      "WARNING: Event 94: failed with error: [Errno 28] No space left on device\n",
      "INFO: Downloading photometry: https://www.astrouw.edu.pl/ogle/ogle3/ews/2003/blg-095/phot.dat\n"
     ]
    },
    {
     "name": "stdout",
     "output_type": "stream",
     "text": [
      "OGLE 2003 BLG 95 started\n"
     ]
    },
    {
     "name": "stderr",
     "output_type": "stream",
     "text": [
      "INFO: Fetching OGLE guesses: https://ogle.astrouw.edu.pl/ogle3/ews/2003/blg-095.html\n",
      "C:\\Users\\Saeed\\AppData\\Local\\Temp\\ipykernel_14856\\3667917964.py:85: FutureWarning: Passing literal html to 'read_html' is deprecated and will be removed in a future version. To read from a literal string, wrap it in a 'StringIO' object.\n",
      "  dfs = pd.read_html(r.text)\n",
      "WARNING: Event 95: failed with error: [Errno 28] No space left on device\n",
      "INFO: Downloading photometry: https://www.astrouw.edu.pl/ogle/ogle3/ews/2003/blg-096/phot.dat\n"
     ]
    },
    {
     "name": "stdout",
     "output_type": "stream",
     "text": [
      "OGLE 2003 BLG 96 started\n"
     ]
    },
    {
     "name": "stderr",
     "output_type": "stream",
     "text": [
      "INFO: Fetching OGLE guesses: https://ogle.astrouw.edu.pl/ogle3/ews/2003/blg-096.html\n",
      "C:\\Users\\Saeed\\AppData\\Local\\Temp\\ipykernel_14856\\3667917964.py:85: FutureWarning: Passing literal html to 'read_html' is deprecated and will be removed in a future version. To read from a literal string, wrap it in a 'StringIO' object.\n",
      "  dfs = pd.read_html(r.text)\n",
      "WARNING: Event 96: failed with error: [Errno 28] No space left on device\n",
      "INFO: Downloading photometry: https://www.astrouw.edu.pl/ogle/ogle3/ews/2003/blg-097/phot.dat\n"
     ]
    },
    {
     "name": "stdout",
     "output_type": "stream",
     "text": [
      "OGLE 2003 BLG 97 started\n"
     ]
    },
    {
     "name": "stderr",
     "output_type": "stream",
     "text": [
      "INFO: Fetching OGLE guesses: https://ogle.astrouw.edu.pl/ogle3/ews/2003/blg-097.html\n",
      "C:\\Users\\Saeed\\AppData\\Local\\Temp\\ipykernel_14856\\3667917964.py:85: FutureWarning: Passing literal html to 'read_html' is deprecated and will be removed in a future version. To read from a literal string, wrap it in a 'StringIO' object.\n",
      "  dfs = pd.read_html(r.text)\n",
      "WARNING: Event 97: failed with error: [Errno 28] No space left on device\n",
      "INFO: Downloading photometry: https://www.astrouw.edu.pl/ogle/ogle3/ews/2003/blg-098/phot.dat\n"
     ]
    },
    {
     "name": "stdout",
     "output_type": "stream",
     "text": [
      "OGLE 2003 BLG 98 started\n"
     ]
    },
    {
     "name": "stderr",
     "output_type": "stream",
     "text": [
      "INFO: Fetching OGLE guesses: https://ogle.astrouw.edu.pl/ogle3/ews/2003/blg-098.html\n",
      "C:\\Users\\Saeed\\AppData\\Local\\Temp\\ipykernel_14856\\3667917964.py:85: FutureWarning: Passing literal html to 'read_html' is deprecated and will be removed in a future version. To read from a literal string, wrap it in a 'StringIO' object.\n",
      "  dfs = pd.read_html(r.text)\n",
      "WARNING: Event 98: failed with error: [Errno 28] No space left on device\n",
      "INFO: Downloading photometry: https://www.astrouw.edu.pl/ogle/ogle3/ews/2003/blg-099/phot.dat\n"
     ]
    },
    {
     "name": "stdout",
     "output_type": "stream",
     "text": [
      "OGLE 2003 BLG 99 started\n"
     ]
    },
    {
     "name": "stderr",
     "output_type": "stream",
     "text": [
      "INFO: Fetching OGLE guesses: https://ogle.astrouw.edu.pl/ogle3/ews/2003/blg-099.html\n",
      "C:\\Users\\Saeed\\AppData\\Local\\Temp\\ipykernel_14856\\3667917964.py:85: FutureWarning: Passing literal html to 'read_html' is deprecated and will be removed in a future version. To read from a literal string, wrap it in a 'StringIO' object.\n",
      "  dfs = pd.read_html(r.text)\n",
      "WARNING: Event 99: failed with error: [Errno 28] No space left on device\n",
      "INFO: Downloading photometry: https://www.astrouw.edu.pl/ogle/ogle3/ews/2003/blg-100/phot.dat\n"
     ]
    },
    {
     "name": "stdout",
     "output_type": "stream",
     "text": [
      "OGLE 2003 BLG 100 started\n"
     ]
    },
    {
     "name": "stderr",
     "output_type": "stream",
     "text": [
      "INFO: Fetching OGLE guesses: https://ogle.astrouw.edu.pl/ogle3/ews/2003/blg-100.html\n",
      "C:\\Users\\Saeed\\AppData\\Local\\Temp\\ipykernel_14856\\3667917964.py:85: FutureWarning: Passing literal html to 'read_html' is deprecated and will be removed in a future version. To read from a literal string, wrap it in a 'StringIO' object.\n",
      "  dfs = pd.read_html(r.text)\n",
      "WARNING: Event 100: failed with error: [Errno 28] No space left on device\n",
      "INFO: Downloading photometry: https://www.astrouw.edu.pl/ogle/ogle3/ews/2003/blg-101/phot.dat\n"
     ]
    },
    {
     "name": "stdout",
     "output_type": "stream",
     "text": [
      "OGLE 2003 BLG 101 started\n"
     ]
    },
    {
     "name": "stderr",
     "output_type": "stream",
     "text": [
      "INFO: Fetching OGLE guesses: https://ogle.astrouw.edu.pl/ogle3/ews/2003/blg-101.html\n",
      "C:\\Users\\Saeed\\AppData\\Local\\Temp\\ipykernel_14856\\3667917964.py:85: FutureWarning: Passing literal html to 'read_html' is deprecated and will be removed in a future version. To read from a literal string, wrap it in a 'StringIO' object.\n",
      "  dfs = pd.read_html(r.text)\n",
      "WARNING: Event 101: failed with error: [Errno 28] No space left on device\n",
      "INFO: Downloading photometry: https://www.astrouw.edu.pl/ogle/ogle3/ews/2003/blg-102/phot.dat\n"
     ]
    },
    {
     "name": "stdout",
     "output_type": "stream",
     "text": [
      "OGLE 2003 BLG 102 started\n"
     ]
    },
    {
     "name": "stderr",
     "output_type": "stream",
     "text": [
      "INFO: Fetching OGLE guesses: https://ogle.astrouw.edu.pl/ogle3/ews/2003/blg-102.html\n",
      "C:\\Users\\Saeed\\AppData\\Local\\Temp\\ipykernel_14856\\3667917964.py:85: FutureWarning: Passing literal html to 'read_html' is deprecated and will be removed in a future version. To read from a literal string, wrap it in a 'StringIO' object.\n",
      "  dfs = pd.read_html(r.text)\n",
      "WARNING: Event 102: failed with error: [Errno 28] No space left on device\n",
      "INFO: Downloading photometry: https://www.astrouw.edu.pl/ogle/ogle3/ews/2003/blg-103/phot.dat\n"
     ]
    },
    {
     "name": "stdout",
     "output_type": "stream",
     "text": [
      "OGLE 2003 BLG 103 started\n"
     ]
    },
    {
     "name": "stderr",
     "output_type": "stream",
     "text": [
      "INFO: Fetching OGLE guesses: https://ogle.astrouw.edu.pl/ogle3/ews/2003/blg-103.html\n",
      "C:\\Users\\Saeed\\AppData\\Local\\Temp\\ipykernel_14856\\3667917964.py:85: FutureWarning: Passing literal html to 'read_html' is deprecated and will be removed in a future version. To read from a literal string, wrap it in a 'StringIO' object.\n",
      "  dfs = pd.read_html(r.text)\n",
      "WARNING: Event 103: failed with error: [Errno 28] No space left on device\n",
      "INFO: Downloading photometry: https://www.astrouw.edu.pl/ogle/ogle3/ews/2003/blg-104/phot.dat\n"
     ]
    },
    {
     "name": "stdout",
     "output_type": "stream",
     "text": [
      "OGLE 2003 BLG 104 started\n"
     ]
    },
    {
     "name": "stderr",
     "output_type": "stream",
     "text": [
      "INFO: Fetching OGLE guesses: https://ogle.astrouw.edu.pl/ogle3/ews/2003/blg-104.html\n",
      "C:\\Users\\Saeed\\AppData\\Local\\Temp\\ipykernel_14856\\3667917964.py:85: FutureWarning: Passing literal html to 'read_html' is deprecated and will be removed in a future version. To read from a literal string, wrap it in a 'StringIO' object.\n",
      "  dfs = pd.read_html(r.text)\n",
      "WARNING: Event 104: failed with error: [Errno 28] No space left on device\n",
      "INFO: Downloading photometry: https://www.astrouw.edu.pl/ogle/ogle3/ews/2003/blg-105/phot.dat\n"
     ]
    },
    {
     "name": "stdout",
     "output_type": "stream",
     "text": [
      "OGLE 2003 BLG 105 started\n"
     ]
    },
    {
     "name": "stderr",
     "output_type": "stream",
     "text": [
      "INFO: Fetching OGLE guesses: https://ogle.astrouw.edu.pl/ogle3/ews/2003/blg-105.html\n",
      "C:\\Users\\Saeed\\AppData\\Local\\Temp\\ipykernel_14856\\3667917964.py:85: FutureWarning: Passing literal html to 'read_html' is deprecated and will be removed in a future version. To read from a literal string, wrap it in a 'StringIO' object.\n",
      "  dfs = pd.read_html(r.text)\n",
      "WARNING: Event 105: failed with error: [Errno 28] No space left on device\n",
      "INFO: Downloading photometry: https://www.astrouw.edu.pl/ogle/ogle3/ews/2003/blg-106/phot.dat\n"
     ]
    },
    {
     "name": "stdout",
     "output_type": "stream",
     "text": [
      "OGLE 2003 BLG 106 started\n"
     ]
    },
    {
     "name": "stderr",
     "output_type": "stream",
     "text": [
      "INFO: Fetching OGLE guesses: https://ogle.astrouw.edu.pl/ogle3/ews/2003/blg-106.html\n",
      "C:\\Users\\Saeed\\AppData\\Local\\Temp\\ipykernel_14856\\3667917964.py:85: FutureWarning: Passing literal html to 'read_html' is deprecated and will be removed in a future version. To read from a literal string, wrap it in a 'StringIO' object.\n",
      "  dfs = pd.read_html(r.text)\n",
      "WARNING: Event 106: failed with error: [Errno 28] No space left on device\n",
      "INFO: Downloading photometry: https://www.astrouw.edu.pl/ogle/ogle3/ews/2003/blg-107/phot.dat\n"
     ]
    },
    {
     "name": "stdout",
     "output_type": "stream",
     "text": [
      "OGLE 2003 BLG 107 started\n"
     ]
    },
    {
     "name": "stderr",
     "output_type": "stream",
     "text": [
      "INFO: Fetching OGLE guesses: https://ogle.astrouw.edu.pl/ogle3/ews/2003/blg-107.html\n",
      "C:\\Users\\Saeed\\AppData\\Local\\Temp\\ipykernel_14856\\3667917964.py:85: FutureWarning: Passing literal html to 'read_html' is deprecated and will be removed in a future version. To read from a literal string, wrap it in a 'StringIO' object.\n",
      "  dfs = pd.read_html(r.text)\n",
      "WARNING: Event 107: failed with error: [Errno 28] No space left on device\n",
      "INFO: Downloading photometry: https://www.astrouw.edu.pl/ogle/ogle3/ews/2003/blg-108/phot.dat\n"
     ]
    },
    {
     "name": "stdout",
     "output_type": "stream",
     "text": [
      "OGLE 2003 BLG 108 started\n"
     ]
    },
    {
     "name": "stderr",
     "output_type": "stream",
     "text": [
      "INFO: Fetching OGLE guesses: https://ogle.astrouw.edu.pl/ogle3/ews/2003/blg-108.html\n",
      "C:\\Users\\Saeed\\AppData\\Local\\Temp\\ipykernel_14856\\3667917964.py:85: FutureWarning: Passing literal html to 'read_html' is deprecated and will be removed in a future version. To read from a literal string, wrap it in a 'StringIO' object.\n",
      "  dfs = pd.read_html(r.text)\n",
      "WARNING: Event 108: failed with error: [Errno 28] No space left on device\n",
      "INFO: Downloading photometry: https://www.astrouw.edu.pl/ogle/ogle3/ews/2003/blg-109/phot.dat\n"
     ]
    },
    {
     "name": "stdout",
     "output_type": "stream",
     "text": [
      "OGLE 2003 BLG 109 started\n"
     ]
    },
    {
     "name": "stderr",
     "output_type": "stream",
     "text": [
      "INFO: Fetching OGLE guesses: https://ogle.astrouw.edu.pl/ogle3/ews/2003/blg-109.html\n",
      "C:\\Users\\Saeed\\AppData\\Local\\Temp\\ipykernel_14856\\3667917964.py:85: FutureWarning: Passing literal html to 'read_html' is deprecated and will be removed in a future version. To read from a literal string, wrap it in a 'StringIO' object.\n",
      "  dfs = pd.read_html(r.text)\n",
      "WARNING: Event 109: failed with error: [Errno 28] No space left on device\n",
      "INFO: Downloading photometry: https://www.astrouw.edu.pl/ogle/ogle3/ews/2003/blg-110/phot.dat\n"
     ]
    },
    {
     "name": "stdout",
     "output_type": "stream",
     "text": [
      "OGLE 2003 BLG 110 started\n"
     ]
    },
    {
     "name": "stderr",
     "output_type": "stream",
     "text": [
      "INFO: Fetching OGLE guesses: https://ogle.astrouw.edu.pl/ogle3/ews/2003/blg-110.html\n",
      "C:\\Users\\Saeed\\AppData\\Local\\Temp\\ipykernel_14856\\3667917964.py:85: FutureWarning: Passing literal html to 'read_html' is deprecated and will be removed in a future version. To read from a literal string, wrap it in a 'StringIO' object.\n",
      "  dfs = pd.read_html(r.text)\n",
      "WARNING: Event 110: failed with error: [Errno 28] No space left on device\n",
      "INFO: Downloading photometry: https://www.astrouw.edu.pl/ogle/ogle3/ews/2003/blg-111/phot.dat\n"
     ]
    },
    {
     "name": "stdout",
     "output_type": "stream",
     "text": [
      "OGLE 2003 BLG 111 started\n"
     ]
    },
    {
     "name": "stderr",
     "output_type": "stream",
     "text": [
      "INFO: Fetching OGLE guesses: https://ogle.astrouw.edu.pl/ogle3/ews/2003/blg-111.html\n",
      "C:\\Users\\Saeed\\AppData\\Local\\Temp\\ipykernel_14856\\3667917964.py:85: FutureWarning: Passing literal html to 'read_html' is deprecated and will be removed in a future version. To read from a literal string, wrap it in a 'StringIO' object.\n",
      "  dfs = pd.read_html(r.text)\n",
      "WARNING: Event 111: failed with error: [Errno 28] No space left on device\n",
      "INFO: Downloading photometry: https://www.astrouw.edu.pl/ogle/ogle3/ews/2003/blg-112/phot.dat\n"
     ]
    },
    {
     "name": "stdout",
     "output_type": "stream",
     "text": [
      "OGLE 2003 BLG 112 started\n"
     ]
    },
    {
     "name": "stderr",
     "output_type": "stream",
     "text": [
      "INFO: Fetching OGLE guesses: https://ogle.astrouw.edu.pl/ogle3/ews/2003/blg-112.html\n",
      "C:\\Users\\Saeed\\AppData\\Local\\Temp\\ipykernel_14856\\3667917964.py:85: FutureWarning: Passing literal html to 'read_html' is deprecated and will be removed in a future version. To read from a literal string, wrap it in a 'StringIO' object.\n",
      "  dfs = pd.read_html(r.text)\n",
      "WARNING: Event 112: failed with error: [Errno 28] No space left on device\n",
      "INFO: Downloading photometry: https://www.astrouw.edu.pl/ogle/ogle3/ews/2003/blg-113/phot.dat\n"
     ]
    },
    {
     "name": "stdout",
     "output_type": "stream",
     "text": [
      "OGLE 2003 BLG 113 started\n"
     ]
    },
    {
     "name": "stderr",
     "output_type": "stream",
     "text": [
      "INFO: Fetching OGLE guesses: https://ogle.astrouw.edu.pl/ogle3/ews/2003/blg-113.html\n",
      "C:\\Users\\Saeed\\AppData\\Local\\Temp\\ipykernel_14856\\3667917964.py:85: FutureWarning: Passing literal html to 'read_html' is deprecated and will be removed in a future version. To read from a literal string, wrap it in a 'StringIO' object.\n",
      "  dfs = pd.read_html(r.text)\n",
      "WARNING: Event 113: failed with error: [Errno 28] No space left on device\n",
      "INFO: Downloading photometry: https://www.astrouw.edu.pl/ogle/ogle3/ews/2003/blg-114/phot.dat\n"
     ]
    },
    {
     "name": "stdout",
     "output_type": "stream",
     "text": [
      "OGLE 2003 BLG 114 started\n"
     ]
    },
    {
     "name": "stderr",
     "output_type": "stream",
     "text": [
      "INFO: Fetching OGLE guesses: https://ogle.astrouw.edu.pl/ogle3/ews/2003/blg-114.html\n",
      "C:\\Users\\Saeed\\AppData\\Local\\Temp\\ipykernel_14856\\3667917964.py:85: FutureWarning: Passing literal html to 'read_html' is deprecated and will be removed in a future version. To read from a literal string, wrap it in a 'StringIO' object.\n",
      "  dfs = pd.read_html(r.text)\n",
      "WARNING: Event 114: failed with error: [Errno 28] No space left on device\n",
      "INFO: Downloading photometry: https://www.astrouw.edu.pl/ogle/ogle3/ews/2003/blg-115/phot.dat\n"
     ]
    },
    {
     "name": "stdout",
     "output_type": "stream",
     "text": [
      "OGLE 2003 BLG 115 started\n"
     ]
    },
    {
     "name": "stderr",
     "output_type": "stream",
     "text": [
      "INFO: Fetching OGLE guesses: https://ogle.astrouw.edu.pl/ogle3/ews/2003/blg-115.html\n",
      "C:\\Users\\Saeed\\AppData\\Local\\Temp\\ipykernel_14856\\3667917964.py:85: FutureWarning: Passing literal html to 'read_html' is deprecated and will be removed in a future version. To read from a literal string, wrap it in a 'StringIO' object.\n",
      "  dfs = pd.read_html(r.text)\n",
      "WARNING: Event 115: failed with error: [Errno 28] No space left on device\n",
      "INFO: Downloading photometry: https://www.astrouw.edu.pl/ogle/ogle3/ews/2003/blg-116/phot.dat\n"
     ]
    },
    {
     "name": "stdout",
     "output_type": "stream",
     "text": [
      "OGLE 2003 BLG 116 started\n"
     ]
    },
    {
     "name": "stderr",
     "output_type": "stream",
     "text": [
      "INFO: Fetching OGLE guesses: https://ogle.astrouw.edu.pl/ogle3/ews/2003/blg-116.html\n",
      "C:\\Users\\Saeed\\AppData\\Local\\Temp\\ipykernel_14856\\3667917964.py:85: FutureWarning: Passing literal html to 'read_html' is deprecated and will be removed in a future version. To read from a literal string, wrap it in a 'StringIO' object.\n",
      "  dfs = pd.read_html(r.text)\n",
      "WARNING: Event 116: failed with error: [Errno 28] No space left on device\n",
      "INFO: Downloading photometry: https://www.astrouw.edu.pl/ogle/ogle3/ews/2003/blg-117/phot.dat\n"
     ]
    },
    {
     "name": "stdout",
     "output_type": "stream",
     "text": [
      "OGLE 2003 BLG 117 started\n"
     ]
    },
    {
     "name": "stderr",
     "output_type": "stream",
     "text": [
      "INFO: Fetching OGLE guesses: https://ogle.astrouw.edu.pl/ogle3/ews/2003/blg-117.html\n",
      "C:\\Users\\Saeed\\AppData\\Local\\Temp\\ipykernel_14856\\3667917964.py:85: FutureWarning: Passing literal html to 'read_html' is deprecated and will be removed in a future version. To read from a literal string, wrap it in a 'StringIO' object.\n",
      "  dfs = pd.read_html(r.text)\n",
      "WARNING: Event 117: failed with error: [Errno 28] No space left on device\n",
      "INFO: Downloading photometry: https://www.astrouw.edu.pl/ogle/ogle3/ews/2003/blg-118/phot.dat\n"
     ]
    },
    {
     "name": "stdout",
     "output_type": "stream",
     "text": [
      "OGLE 2003 BLG 118 started\n"
     ]
    },
    {
     "name": "stderr",
     "output_type": "stream",
     "text": [
      "INFO: Fetching OGLE guesses: https://ogle.astrouw.edu.pl/ogle3/ews/2003/blg-118.html\n",
      "C:\\Users\\Saeed\\AppData\\Local\\Temp\\ipykernel_14856\\3667917964.py:85: FutureWarning: Passing literal html to 'read_html' is deprecated and will be removed in a future version. To read from a literal string, wrap it in a 'StringIO' object.\n",
      "  dfs = pd.read_html(r.text)\n",
      "WARNING: Event 118: failed with error: [Errno 28] No space left on device\n",
      "INFO: Downloading photometry: https://www.astrouw.edu.pl/ogle/ogle3/ews/2003/blg-119/phot.dat\n"
     ]
    },
    {
     "name": "stdout",
     "output_type": "stream",
     "text": [
      "OGLE 2003 BLG 119 started\n"
     ]
    },
    {
     "name": "stderr",
     "output_type": "stream",
     "text": [
      "INFO: Fetching OGLE guesses: https://ogle.astrouw.edu.pl/ogle3/ews/2003/blg-119.html\n",
      "C:\\Users\\Saeed\\AppData\\Local\\Temp\\ipykernel_14856\\3667917964.py:85: FutureWarning: Passing literal html to 'read_html' is deprecated and will be removed in a future version. To read from a literal string, wrap it in a 'StringIO' object.\n",
      "  dfs = pd.read_html(r.text)\n",
      "WARNING: Event 119: failed with error: [Errno 28] No space left on device\n",
      "INFO: Downloading photometry: https://www.astrouw.edu.pl/ogle/ogle3/ews/2003/blg-120/phot.dat\n"
     ]
    },
    {
     "name": "stdout",
     "output_type": "stream",
     "text": [
      "OGLE 2003 BLG 120 started\n"
     ]
    },
    {
     "name": "stderr",
     "output_type": "stream",
     "text": [
      "INFO: Fetching OGLE guesses: https://ogle.astrouw.edu.pl/ogle3/ews/2003/blg-120.html\n",
      "C:\\Users\\Saeed\\AppData\\Local\\Temp\\ipykernel_14856\\3667917964.py:85: FutureWarning: Passing literal html to 'read_html' is deprecated and will be removed in a future version. To read from a literal string, wrap it in a 'StringIO' object.\n",
      "  dfs = pd.read_html(r.text)\n",
      "WARNING: Event 120: failed with error: [Errno 28] No space left on device\n",
      "INFO: Downloading photometry: https://www.astrouw.edu.pl/ogle/ogle3/ews/2003/blg-121/phot.dat\n"
     ]
    },
    {
     "name": "stdout",
     "output_type": "stream",
     "text": [
      "OGLE 2003 BLG 121 started\n"
     ]
    },
    {
     "name": "stderr",
     "output_type": "stream",
     "text": [
      "INFO: Fetching OGLE guesses: https://ogle.astrouw.edu.pl/ogle3/ews/2003/blg-121.html\n",
      "C:\\Users\\Saeed\\AppData\\Local\\Temp\\ipykernel_14856\\3667917964.py:85: FutureWarning: Passing literal html to 'read_html' is deprecated and will be removed in a future version. To read from a literal string, wrap it in a 'StringIO' object.\n",
      "  dfs = pd.read_html(r.text)\n",
      "WARNING: Event 121: failed with error: [Errno 28] No space left on device\n",
      "INFO: Downloading photometry: https://www.astrouw.edu.pl/ogle/ogle3/ews/2003/blg-122/phot.dat\n"
     ]
    },
    {
     "name": "stdout",
     "output_type": "stream",
     "text": [
      "OGLE 2003 BLG 122 started\n"
     ]
    },
    {
     "name": "stderr",
     "output_type": "stream",
     "text": [
      "INFO: Fetching OGLE guesses: https://ogle.astrouw.edu.pl/ogle3/ews/2003/blg-122.html\n",
      "C:\\Users\\Saeed\\AppData\\Local\\Temp\\ipykernel_14856\\3667917964.py:85: FutureWarning: Passing literal html to 'read_html' is deprecated and will be removed in a future version. To read from a literal string, wrap it in a 'StringIO' object.\n",
      "  dfs = pd.read_html(r.text)\n",
      "WARNING: Event 122: failed with error: [Errno 28] No space left on device\n",
      "INFO: Downloading photometry: https://www.astrouw.edu.pl/ogle/ogle3/ews/2003/blg-123/phot.dat\n"
     ]
    },
    {
     "name": "stdout",
     "output_type": "stream",
     "text": [
      "OGLE 2003 BLG 123 started\n"
     ]
    },
    {
     "name": "stderr",
     "output_type": "stream",
     "text": [
      "INFO: Fetching OGLE guesses: https://ogle.astrouw.edu.pl/ogle3/ews/2003/blg-123.html\n",
      "C:\\Users\\Saeed\\AppData\\Local\\Temp\\ipykernel_14856\\3667917964.py:85: FutureWarning: Passing literal html to 'read_html' is deprecated and will be removed in a future version. To read from a literal string, wrap it in a 'StringIO' object.\n",
      "  dfs = pd.read_html(r.text)\n",
      "WARNING: Event 123: failed with error: [Errno 28] No space left on device\n",
      "INFO: Downloading photometry: https://www.astrouw.edu.pl/ogle/ogle3/ews/2003/blg-124/phot.dat\n"
     ]
    },
    {
     "name": "stdout",
     "output_type": "stream",
     "text": [
      "OGLE 2003 BLG 124 started\n"
     ]
    },
    {
     "name": "stderr",
     "output_type": "stream",
     "text": [
      "INFO: Fetching OGLE guesses: https://ogle.astrouw.edu.pl/ogle3/ews/2003/blg-124.html\n",
      "C:\\Users\\Saeed\\AppData\\Local\\Temp\\ipykernel_14856\\3667917964.py:85: FutureWarning: Passing literal html to 'read_html' is deprecated and will be removed in a future version. To read from a literal string, wrap it in a 'StringIO' object.\n",
      "  dfs = pd.read_html(r.text)\n",
      "WARNING: Parsed HTML but couldn't extract expected cells: could not convert string to float: '-'\n",
      "WARNING: Event 124: failed with error: [Errno 28] No space left on device\n",
      "INFO: Downloading photometry: https://www.astrouw.edu.pl/ogle/ogle3/ews/2003/blg-125/phot.dat\n"
     ]
    },
    {
     "name": "stdout",
     "output_type": "stream",
     "text": [
      "OGLE 2003 BLG 125 started\n"
     ]
    },
    {
     "name": "stderr",
     "output_type": "stream",
     "text": [
      "INFO: Fetching OGLE guesses: https://ogle.astrouw.edu.pl/ogle3/ews/2003/blg-125.html\n",
      "C:\\Users\\Saeed\\AppData\\Local\\Temp\\ipykernel_14856\\3667917964.py:85: FutureWarning: Passing literal html to 'read_html' is deprecated and will be removed in a future version. To read from a literal string, wrap it in a 'StringIO' object.\n",
      "  dfs = pd.read_html(r.text)\n",
      "WARNING: Event 125: failed with error: [Errno 28] No space left on device\n",
      "INFO: Downloading photometry: https://www.astrouw.edu.pl/ogle/ogle3/ews/2003/blg-126/phot.dat\n"
     ]
    },
    {
     "name": "stdout",
     "output_type": "stream",
     "text": [
      "OGLE 2003 BLG 126 started\n"
     ]
    },
    {
     "name": "stderr",
     "output_type": "stream",
     "text": [
      "INFO: Fetching OGLE guesses: https://ogle.astrouw.edu.pl/ogle3/ews/2003/blg-126.html\n",
      "C:\\Users\\Saeed\\AppData\\Local\\Temp\\ipykernel_14856\\3667917964.py:85: FutureWarning: Passing literal html to 'read_html' is deprecated and will be removed in a future version. To read from a literal string, wrap it in a 'StringIO' object.\n",
      "  dfs = pd.read_html(r.text)\n",
      "WARNING: Event 126: failed with error: [Errno 28] No space left on device\n",
      "INFO: Downloading photometry: https://www.astrouw.edu.pl/ogle/ogle3/ews/2003/blg-127/phot.dat\n"
     ]
    },
    {
     "name": "stdout",
     "output_type": "stream",
     "text": [
      "OGLE 2003 BLG 127 started\n"
     ]
    },
    {
     "name": "stderr",
     "output_type": "stream",
     "text": [
      "INFO: Fetching OGLE guesses: https://ogle.astrouw.edu.pl/ogle3/ews/2003/blg-127.html\n",
      "C:\\Users\\Saeed\\AppData\\Local\\Temp\\ipykernel_14856\\3667917964.py:85: FutureWarning: Passing literal html to 'read_html' is deprecated and will be removed in a future version. To read from a literal string, wrap it in a 'StringIO' object.\n",
      "  dfs = pd.read_html(r.text)\n",
      "WARNING: Event 127: failed with error: [Errno 28] No space left on device\n",
      "INFO: Downloading photometry: https://www.astrouw.edu.pl/ogle/ogle3/ews/2003/blg-128/phot.dat\n"
     ]
    },
    {
     "name": "stdout",
     "output_type": "stream",
     "text": [
      "OGLE 2003 BLG 128 started\n"
     ]
    },
    {
     "name": "stderr",
     "output_type": "stream",
     "text": [
      "INFO: Fetching OGLE guesses: https://ogle.astrouw.edu.pl/ogle3/ews/2003/blg-128.html\n",
      "C:\\Users\\Saeed\\AppData\\Local\\Temp\\ipykernel_14856\\3667917964.py:85: FutureWarning: Passing literal html to 'read_html' is deprecated and will be removed in a future version. To read from a literal string, wrap it in a 'StringIO' object.\n",
      "  dfs = pd.read_html(r.text)\n",
      "WARNING: Event 128: failed with error: [Errno 28] No space left on device\n",
      "INFO: Downloading photometry: https://www.astrouw.edu.pl/ogle/ogle3/ews/2003/blg-129/phot.dat\n"
     ]
    },
    {
     "name": "stdout",
     "output_type": "stream",
     "text": [
      "OGLE 2003 BLG 129 started\n"
     ]
    },
    {
     "name": "stderr",
     "output_type": "stream",
     "text": [
      "INFO: Fetching OGLE guesses: https://ogle.astrouw.edu.pl/ogle3/ews/2003/blg-129.html\n",
      "C:\\Users\\Saeed\\AppData\\Local\\Temp\\ipykernel_14856\\3667917964.py:85: FutureWarning: Passing literal html to 'read_html' is deprecated and will be removed in a future version. To read from a literal string, wrap it in a 'StringIO' object.\n",
      "  dfs = pd.read_html(r.text)\n",
      "WARNING: Event 129: failed with error: [Errno 28] No space left on device\n",
      "INFO: Downloading photometry: https://www.astrouw.edu.pl/ogle/ogle3/ews/2003/blg-130/phot.dat\n"
     ]
    },
    {
     "name": "stdout",
     "output_type": "stream",
     "text": [
      "OGLE 2003 BLG 130 started\n"
     ]
    },
    {
     "name": "stderr",
     "output_type": "stream",
     "text": [
      "INFO: Fetching OGLE guesses: https://ogle.astrouw.edu.pl/ogle3/ews/2003/blg-130.html\n",
      "C:\\Users\\Saeed\\AppData\\Local\\Temp\\ipykernel_14856\\3667917964.py:85: FutureWarning: Passing literal html to 'read_html' is deprecated and will be removed in a future version. To read from a literal string, wrap it in a 'StringIO' object.\n",
      "  dfs = pd.read_html(r.text)\n",
      "WARNING: Event 130: failed with error: [Errno 28] No space left on device\n",
      "INFO: Downloading photometry: https://www.astrouw.edu.pl/ogle/ogle3/ews/2003/blg-131/phot.dat\n"
     ]
    },
    {
     "name": "stdout",
     "output_type": "stream",
     "text": [
      "OGLE 2003 BLG 131 started\n"
     ]
    },
    {
     "name": "stderr",
     "output_type": "stream",
     "text": [
      "INFO: Fetching OGLE guesses: https://ogle.astrouw.edu.pl/ogle3/ews/2003/blg-131.html\n",
      "C:\\Users\\Saeed\\AppData\\Local\\Temp\\ipykernel_14856\\3667917964.py:85: FutureWarning: Passing literal html to 'read_html' is deprecated and will be removed in a future version. To read from a literal string, wrap it in a 'StringIO' object.\n",
      "  dfs = pd.read_html(r.text)\n",
      "WARNING: Event 131: failed with error: [Errno 28] No space left on device\n",
      "INFO: Downloading photometry: https://www.astrouw.edu.pl/ogle/ogle3/ews/2003/blg-132/phot.dat\n"
     ]
    },
    {
     "name": "stdout",
     "output_type": "stream",
     "text": [
      "OGLE 2003 BLG 132 started\n"
     ]
    },
    {
     "name": "stderr",
     "output_type": "stream",
     "text": [
      "INFO: Fetching OGLE guesses: https://ogle.astrouw.edu.pl/ogle3/ews/2003/blg-132.html\n",
      "C:\\Users\\Saeed\\AppData\\Local\\Temp\\ipykernel_14856\\3667917964.py:85: FutureWarning: Passing literal html to 'read_html' is deprecated and will be removed in a future version. To read from a literal string, wrap it in a 'StringIO' object.\n",
      "  dfs = pd.read_html(r.text)\n",
      "WARNING: Event 132: failed with error: [Errno 28] No space left on device\n",
      "INFO: Downloading photometry: https://www.astrouw.edu.pl/ogle/ogle3/ews/2003/blg-133/phot.dat\n"
     ]
    },
    {
     "name": "stdout",
     "output_type": "stream",
     "text": [
      "OGLE 2003 BLG 133 started\n"
     ]
    },
    {
     "name": "stderr",
     "output_type": "stream",
     "text": [
      "INFO: Fetching OGLE guesses: https://ogle.astrouw.edu.pl/ogle3/ews/2003/blg-133.html\n",
      "C:\\Users\\Saeed\\AppData\\Local\\Temp\\ipykernel_14856\\3667917964.py:85: FutureWarning: Passing literal html to 'read_html' is deprecated and will be removed in a future version. To read from a literal string, wrap it in a 'StringIO' object.\n",
      "  dfs = pd.read_html(r.text)\n",
      "WARNING: Event 133: failed with error: [Errno 28] No space left on device\n",
      "INFO: Downloading photometry: https://www.astrouw.edu.pl/ogle/ogle3/ews/2003/blg-134/phot.dat\n"
     ]
    },
    {
     "name": "stdout",
     "output_type": "stream",
     "text": [
      "OGLE 2003 BLG 134 started\n"
     ]
    },
    {
     "name": "stderr",
     "output_type": "stream",
     "text": [
      "INFO: Fetching OGLE guesses: https://ogle.astrouw.edu.pl/ogle3/ews/2003/blg-134.html\n",
      "C:\\Users\\Saeed\\AppData\\Local\\Temp\\ipykernel_14856\\3667917964.py:85: FutureWarning: Passing literal html to 'read_html' is deprecated and will be removed in a future version. To read from a literal string, wrap it in a 'StringIO' object.\n",
      "  dfs = pd.read_html(r.text)\n",
      "WARNING: Event 134: failed with error: [Errno 28] No space left on device\n",
      "INFO: Downloading photometry: https://www.astrouw.edu.pl/ogle/ogle3/ews/2003/blg-135/phot.dat\n"
     ]
    },
    {
     "name": "stdout",
     "output_type": "stream",
     "text": [
      "OGLE 2003 BLG 135 started\n"
     ]
    },
    {
     "name": "stderr",
     "output_type": "stream",
     "text": [
      "INFO: Fetching OGLE guesses: https://ogle.astrouw.edu.pl/ogle3/ews/2003/blg-135.html\n",
      "C:\\Users\\Saeed\\AppData\\Local\\Temp\\ipykernel_14856\\3667917964.py:85: FutureWarning: Passing literal html to 'read_html' is deprecated and will be removed in a future version. To read from a literal string, wrap it in a 'StringIO' object.\n",
      "  dfs = pd.read_html(r.text)\n",
      "WARNING: Parsed HTML but couldn't extract expected cells: could not convert string to float: '-'\n",
      "WARNING: Event 135: failed with error: [Errno 28] No space left on device\n",
      "INFO: Downloading photometry: https://www.astrouw.edu.pl/ogle/ogle3/ews/2003/blg-136/phot.dat\n"
     ]
    },
    {
     "name": "stdout",
     "output_type": "stream",
     "text": [
      "OGLE 2003 BLG 136 started\n"
     ]
    },
    {
     "name": "stderr",
     "output_type": "stream",
     "text": [
      "INFO: Fetching OGLE guesses: https://ogle.astrouw.edu.pl/ogle3/ews/2003/blg-136.html\n",
      "C:\\Users\\Saeed\\AppData\\Local\\Temp\\ipykernel_14856\\3667917964.py:85: FutureWarning: Passing literal html to 'read_html' is deprecated and will be removed in a future version. To read from a literal string, wrap it in a 'StringIO' object.\n",
      "  dfs = pd.read_html(r.text)\n",
      "WARNING: Event 136: failed with error: [Errno 28] No space left on device\n",
      "INFO: Downloading photometry: https://www.astrouw.edu.pl/ogle/ogle3/ews/2003/blg-137/phot.dat\n"
     ]
    },
    {
     "name": "stdout",
     "output_type": "stream",
     "text": [
      "OGLE 2003 BLG 137 started\n"
     ]
    },
    {
     "name": "stderr",
     "output_type": "stream",
     "text": [
      "INFO: Fetching OGLE guesses: https://ogle.astrouw.edu.pl/ogle3/ews/2003/blg-137.html\n",
      "C:\\Users\\Saeed\\AppData\\Local\\Temp\\ipykernel_14856\\3667917964.py:85: FutureWarning: Passing literal html to 'read_html' is deprecated and will be removed in a future version. To read from a literal string, wrap it in a 'StringIO' object.\n",
      "  dfs = pd.read_html(r.text)\n",
      "WARNING: Event 137: failed with error: [Errno 28] No space left on device\n",
      "INFO: Downloading photometry: https://www.astrouw.edu.pl/ogle/ogle3/ews/2003/blg-138/phot.dat\n"
     ]
    },
    {
     "name": "stdout",
     "output_type": "stream",
     "text": [
      "OGLE 2003 BLG 138 started\n"
     ]
    },
    {
     "name": "stderr",
     "output_type": "stream",
     "text": [
      "INFO: Fetching OGLE guesses: https://ogle.astrouw.edu.pl/ogle3/ews/2003/blg-138.html\n",
      "C:\\Users\\Saeed\\AppData\\Local\\Temp\\ipykernel_14856\\3667917964.py:85: FutureWarning: Passing literal html to 'read_html' is deprecated and will be removed in a future version. To read from a literal string, wrap it in a 'StringIO' object.\n",
      "  dfs = pd.read_html(r.text)\n",
      "WARNING: Event 138: failed with error: [Errno 28] No space left on device\n",
      "INFO: Downloading photometry: https://www.astrouw.edu.pl/ogle/ogle3/ews/2003/blg-139/phot.dat\n"
     ]
    },
    {
     "name": "stdout",
     "output_type": "stream",
     "text": [
      "OGLE 2003 BLG 139 started\n"
     ]
    },
    {
     "name": "stderr",
     "output_type": "stream",
     "text": [
      "INFO: Fetching OGLE guesses: https://ogle.astrouw.edu.pl/ogle3/ews/2003/blg-139.html\n",
      "C:\\Users\\Saeed\\AppData\\Local\\Temp\\ipykernel_14856\\3667917964.py:85: FutureWarning: Passing literal html to 'read_html' is deprecated and will be removed in a future version. To read from a literal string, wrap it in a 'StringIO' object.\n",
      "  dfs = pd.read_html(r.text)\n",
      "WARNING: Event 139: failed with error: [Errno 28] No space left on device\n",
      "INFO: Downloading photometry: https://www.astrouw.edu.pl/ogle/ogle3/ews/2003/blg-140/phot.dat\n"
     ]
    },
    {
     "name": "stdout",
     "output_type": "stream",
     "text": [
      "OGLE 2003 BLG 140 started\n"
     ]
    },
    {
     "name": "stderr",
     "output_type": "stream",
     "text": [
      "INFO: Fetching OGLE guesses: https://ogle.astrouw.edu.pl/ogle3/ews/2003/blg-140.html\n",
      "C:\\Users\\Saeed\\AppData\\Local\\Temp\\ipykernel_14856\\3667917964.py:85: FutureWarning: Passing literal html to 'read_html' is deprecated and will be removed in a future version. To read from a literal string, wrap it in a 'StringIO' object.\n",
      "  dfs = pd.read_html(r.text)\n",
      "WARNING: Event 140: failed with error: [Errno 28] No space left on device\n",
      "INFO: Downloading photometry: https://www.astrouw.edu.pl/ogle/ogle3/ews/2003/blg-141/phot.dat\n"
     ]
    },
    {
     "name": "stdout",
     "output_type": "stream",
     "text": [
      "OGLE 2003 BLG 141 started\n"
     ]
    },
    {
     "name": "stderr",
     "output_type": "stream",
     "text": [
      "INFO: Fetching OGLE guesses: https://ogle.astrouw.edu.pl/ogle3/ews/2003/blg-141.html\n",
      "C:\\Users\\Saeed\\AppData\\Local\\Temp\\ipykernel_14856\\3667917964.py:85: FutureWarning: Passing literal html to 'read_html' is deprecated and will be removed in a future version. To read from a literal string, wrap it in a 'StringIO' object.\n",
      "  dfs = pd.read_html(r.text)\n",
      "WARNING: Event 141: failed with error: [Errno 28] No space left on device\n",
      "INFO: Downloading photometry: https://www.astrouw.edu.pl/ogle/ogle3/ews/2003/blg-142/phot.dat\n"
     ]
    },
    {
     "name": "stdout",
     "output_type": "stream",
     "text": [
      "OGLE 2003 BLG 142 started\n"
     ]
    },
    {
     "name": "stderr",
     "output_type": "stream",
     "text": [
      "INFO: Fetching OGLE guesses: https://ogle.astrouw.edu.pl/ogle3/ews/2003/blg-142.html\n",
      "C:\\Users\\Saeed\\AppData\\Local\\Temp\\ipykernel_14856\\3667917964.py:85: FutureWarning: Passing literal html to 'read_html' is deprecated and will be removed in a future version. To read from a literal string, wrap it in a 'StringIO' object.\n",
      "  dfs = pd.read_html(r.text)\n",
      "WARNING: Event 142: failed with error: [Errno 28] No space left on device\n",
      "INFO: Downloading photometry: https://www.astrouw.edu.pl/ogle/ogle3/ews/2003/blg-143/phot.dat\n"
     ]
    },
    {
     "name": "stdout",
     "output_type": "stream",
     "text": [
      "OGLE 2003 BLG 143 started\n"
     ]
    },
    {
     "name": "stderr",
     "output_type": "stream",
     "text": [
      "INFO: Fetching OGLE guesses: https://ogle.astrouw.edu.pl/ogle3/ews/2003/blg-143.html\n",
      "C:\\Users\\Saeed\\AppData\\Local\\Temp\\ipykernel_14856\\3667917964.py:85: FutureWarning: Passing literal html to 'read_html' is deprecated and will be removed in a future version. To read from a literal string, wrap it in a 'StringIO' object.\n",
      "  dfs = pd.read_html(r.text)\n",
      "WARNING: Event 143: failed with error: [Errno 28] No space left on device\n",
      "INFO: Downloading photometry: https://www.astrouw.edu.pl/ogle/ogle3/ews/2003/blg-144/phot.dat\n"
     ]
    },
    {
     "name": "stdout",
     "output_type": "stream",
     "text": [
      "OGLE 2003 BLG 144 started\n"
     ]
    },
    {
     "name": "stderr",
     "output_type": "stream",
     "text": [
      "INFO: Fetching OGLE guesses: https://ogle.astrouw.edu.pl/ogle3/ews/2003/blg-144.html\n",
      "C:\\Users\\Saeed\\AppData\\Local\\Temp\\ipykernel_14856\\3667917964.py:85: FutureWarning: Passing literal html to 'read_html' is deprecated and will be removed in a future version. To read from a literal string, wrap it in a 'StringIO' object.\n",
      "  dfs = pd.read_html(r.text)\n",
      "WARNING: Event 144: failed with error: [Errno 28] No space left on device\n",
      "INFO: Downloading photometry: https://www.astrouw.edu.pl/ogle/ogle3/ews/2003/blg-145/phot.dat\n"
     ]
    },
    {
     "name": "stdout",
     "output_type": "stream",
     "text": [
      "OGLE 2003 BLG 145 started\n"
     ]
    },
    {
     "name": "stderr",
     "output_type": "stream",
     "text": [
      "INFO: Fetching OGLE guesses: https://ogle.astrouw.edu.pl/ogle3/ews/2003/blg-145.html\n",
      "C:\\Users\\Saeed\\AppData\\Local\\Temp\\ipykernel_14856\\3667917964.py:85: FutureWarning: Passing literal html to 'read_html' is deprecated and will be removed in a future version. To read from a literal string, wrap it in a 'StringIO' object.\n",
      "  dfs = pd.read_html(r.text)\n",
      "WARNING: Event 145: failed with error: [Errno 28] No space left on device\n",
      "INFO: Downloading photometry: https://www.astrouw.edu.pl/ogle/ogle3/ews/2003/blg-146/phot.dat\n"
     ]
    },
    {
     "name": "stdout",
     "output_type": "stream",
     "text": [
      "OGLE 2003 BLG 146 started\n"
     ]
    },
    {
     "name": "stderr",
     "output_type": "stream",
     "text": [
      "INFO: Fetching OGLE guesses: https://ogle.astrouw.edu.pl/ogle3/ews/2003/blg-146.html\n",
      "C:\\Users\\Saeed\\AppData\\Local\\Temp\\ipykernel_14856\\3667917964.py:85: FutureWarning: Passing literal html to 'read_html' is deprecated and will be removed in a future version. To read from a literal string, wrap it in a 'StringIO' object.\n",
      "  dfs = pd.read_html(r.text)\n",
      "WARNING: Event 146: failed with error: [Errno 28] No space left on device\n",
      "INFO: Downloading photometry: https://www.astrouw.edu.pl/ogle/ogle3/ews/2003/blg-147/phot.dat\n"
     ]
    },
    {
     "name": "stdout",
     "output_type": "stream",
     "text": [
      "OGLE 2003 BLG 147 started\n"
     ]
    },
    {
     "name": "stderr",
     "output_type": "stream",
     "text": [
      "INFO: Fetching OGLE guesses: https://ogle.astrouw.edu.pl/ogle3/ews/2003/blg-147.html\n",
      "C:\\Users\\Saeed\\AppData\\Local\\Temp\\ipykernel_14856\\3667917964.py:85: FutureWarning: Passing literal html to 'read_html' is deprecated and will be removed in a future version. To read from a literal string, wrap it in a 'StringIO' object.\n",
      "  dfs = pd.read_html(r.text)\n",
      "WARNING: Event 147: failed with error: [Errno 28] No space left on device\n",
      "INFO: Downloading photometry: https://www.astrouw.edu.pl/ogle/ogle3/ews/2003/blg-148/phot.dat\n"
     ]
    },
    {
     "name": "stdout",
     "output_type": "stream",
     "text": [
      "OGLE 2003 BLG 148 started\n"
     ]
    },
    {
     "name": "stderr",
     "output_type": "stream",
     "text": [
      "INFO: Fetching OGLE guesses: https://ogle.astrouw.edu.pl/ogle3/ews/2003/blg-148.html\n",
      "C:\\Users\\Saeed\\AppData\\Local\\Temp\\ipykernel_14856\\3667917964.py:85: FutureWarning: Passing literal html to 'read_html' is deprecated and will be removed in a future version. To read from a literal string, wrap it in a 'StringIO' object.\n",
      "  dfs = pd.read_html(r.text)\n",
      "WARNING: Event 148: failed with error: [Errno 28] No space left on device\n",
      "INFO: Downloading photometry: https://www.astrouw.edu.pl/ogle/ogle3/ews/2003/blg-149/phot.dat\n"
     ]
    },
    {
     "name": "stdout",
     "output_type": "stream",
     "text": [
      "OGLE 2003 BLG 149 started\n"
     ]
    },
    {
     "name": "stderr",
     "output_type": "stream",
     "text": [
      "INFO: Fetching OGLE guesses: https://ogle.astrouw.edu.pl/ogle3/ews/2003/blg-149.html\n",
      "C:\\Users\\Saeed\\AppData\\Local\\Temp\\ipykernel_14856\\3667917964.py:85: FutureWarning: Passing literal html to 'read_html' is deprecated and will be removed in a future version. To read from a literal string, wrap it in a 'StringIO' object.\n",
      "  dfs = pd.read_html(r.text)\n",
      "WARNING: Event 149: failed with error: [Errno 28] No space left on device\n",
      "INFO: Downloading photometry: https://www.astrouw.edu.pl/ogle/ogle3/ews/2003/blg-150/phot.dat\n"
     ]
    },
    {
     "name": "stdout",
     "output_type": "stream",
     "text": [
      "OGLE 2003 BLG 150 started\n"
     ]
    },
    {
     "name": "stderr",
     "output_type": "stream",
     "text": [
      "INFO: Fetching OGLE guesses: https://ogle.astrouw.edu.pl/ogle3/ews/2003/blg-150.html\n",
      "C:\\Users\\Saeed\\AppData\\Local\\Temp\\ipykernel_14856\\3667917964.py:85: FutureWarning: Passing literal html to 'read_html' is deprecated and will be removed in a future version. To read from a literal string, wrap it in a 'StringIO' object.\n",
      "  dfs = pd.read_html(r.text)\n",
      "WARNING: Event 150: failed with error: [Errno 28] No space left on device\n",
      "INFO: Downloading photometry: https://www.astrouw.edu.pl/ogle/ogle3/ews/2003/blg-151/phot.dat\n"
     ]
    },
    {
     "name": "stdout",
     "output_type": "stream",
     "text": [
      "OGLE 2003 BLG 151 started\n"
     ]
    },
    {
     "name": "stderr",
     "output_type": "stream",
     "text": [
      "INFO: Fetching OGLE guesses: https://ogle.astrouw.edu.pl/ogle3/ews/2003/blg-151.html\n",
      "C:\\Users\\Saeed\\AppData\\Local\\Temp\\ipykernel_14856\\3667917964.py:85: FutureWarning: Passing literal html to 'read_html' is deprecated and will be removed in a future version. To read from a literal string, wrap it in a 'StringIO' object.\n",
      "  dfs = pd.read_html(r.text)\n",
      "WARNING: Event 151: failed with error: [Errno 28] No space left on device\n",
      "INFO: Downloading photometry: https://www.astrouw.edu.pl/ogle/ogle3/ews/2003/blg-152/phot.dat\n"
     ]
    },
    {
     "name": "stdout",
     "output_type": "stream",
     "text": [
      "OGLE 2003 BLG 152 started\n"
     ]
    },
    {
     "name": "stderr",
     "output_type": "stream",
     "text": [
      "INFO: Fetching OGLE guesses: https://ogle.astrouw.edu.pl/ogle3/ews/2003/blg-152.html\n",
      "C:\\Users\\Saeed\\AppData\\Local\\Temp\\ipykernel_14856\\3667917964.py:85: FutureWarning: Passing literal html to 'read_html' is deprecated and will be removed in a future version. To read from a literal string, wrap it in a 'StringIO' object.\n",
      "  dfs = pd.read_html(r.text)\n",
      "WARNING: Event 152: failed with error: [Errno 28] No space left on device\n",
      "INFO: Downloading photometry: https://www.astrouw.edu.pl/ogle/ogle3/ews/2003/blg-153/phot.dat\n"
     ]
    },
    {
     "name": "stdout",
     "output_type": "stream",
     "text": [
      "OGLE 2003 BLG 153 started\n"
     ]
    },
    {
     "name": "stderr",
     "output_type": "stream",
     "text": [
      "INFO: Fetching OGLE guesses: https://ogle.astrouw.edu.pl/ogle3/ews/2003/blg-153.html\n",
      "C:\\Users\\Saeed\\AppData\\Local\\Temp\\ipykernel_14856\\3667917964.py:85: FutureWarning: Passing literal html to 'read_html' is deprecated and will be removed in a future version. To read from a literal string, wrap it in a 'StringIO' object.\n",
      "  dfs = pd.read_html(r.text)\n",
      "WARNING: Event 153: failed with error: [Errno 28] No space left on device\n",
      "INFO: Downloading photometry: https://www.astrouw.edu.pl/ogle/ogle3/ews/2003/blg-154/phot.dat\n"
     ]
    },
    {
     "name": "stdout",
     "output_type": "stream",
     "text": [
      "OGLE 2003 BLG 154 started\n"
     ]
    },
    {
     "name": "stderr",
     "output_type": "stream",
     "text": [
      "INFO: Fetching OGLE guesses: https://ogle.astrouw.edu.pl/ogle3/ews/2003/blg-154.html\n",
      "C:\\Users\\Saeed\\AppData\\Local\\Temp\\ipykernel_14856\\3667917964.py:85: FutureWarning: Passing literal html to 'read_html' is deprecated and will be removed in a future version. To read from a literal string, wrap it in a 'StringIO' object.\n",
      "  dfs = pd.read_html(r.text)\n",
      "WARNING: Event 154: failed with error: [Errno 28] No space left on device\n",
      "INFO: Downloading photometry: https://www.astrouw.edu.pl/ogle/ogle3/ews/2003/blg-155/phot.dat\n"
     ]
    },
    {
     "name": "stdout",
     "output_type": "stream",
     "text": [
      "OGLE 2003 BLG 155 started\n"
     ]
    },
    {
     "name": "stderr",
     "output_type": "stream",
     "text": [
      "INFO: Fetching OGLE guesses: https://ogle.astrouw.edu.pl/ogle3/ews/2003/blg-155.html\n",
      "C:\\Users\\Saeed\\AppData\\Local\\Temp\\ipykernel_14856\\3667917964.py:85: FutureWarning: Passing literal html to 'read_html' is deprecated and will be removed in a future version. To read from a literal string, wrap it in a 'StringIO' object.\n",
      "  dfs = pd.read_html(r.text)\n",
      "WARNING: Event 155: failed with error: [Errno 28] No space left on device\n",
      "INFO: Downloading photometry: https://www.astrouw.edu.pl/ogle/ogle3/ews/2003/blg-156/phot.dat\n"
     ]
    },
    {
     "name": "stdout",
     "output_type": "stream",
     "text": [
      "OGLE 2003 BLG 156 started\n"
     ]
    },
    {
     "name": "stderr",
     "output_type": "stream",
     "text": [
      "INFO: Fetching OGLE guesses: https://ogle.astrouw.edu.pl/ogle3/ews/2003/blg-156.html\n",
      "C:\\Users\\Saeed\\AppData\\Local\\Temp\\ipykernel_14856\\3667917964.py:85: FutureWarning: Passing literal html to 'read_html' is deprecated and will be removed in a future version. To read from a literal string, wrap it in a 'StringIO' object.\n",
      "  dfs = pd.read_html(r.text)\n",
      "WARNING: Event 156: failed with error: [Errno 28] No space left on device\n",
      "INFO: Downloading photometry: https://www.astrouw.edu.pl/ogle/ogle3/ews/2003/blg-157/phot.dat\n"
     ]
    },
    {
     "name": "stdout",
     "output_type": "stream",
     "text": [
      "OGLE 2003 BLG 157 started\n"
     ]
    },
    {
     "name": "stderr",
     "output_type": "stream",
     "text": [
      "INFO: Fetching OGLE guesses: https://ogle.astrouw.edu.pl/ogle3/ews/2003/blg-157.html\n",
      "C:\\Users\\Saeed\\AppData\\Local\\Temp\\ipykernel_14856\\3667917964.py:85: FutureWarning: Passing literal html to 'read_html' is deprecated and will be removed in a future version. To read from a literal string, wrap it in a 'StringIO' object.\n",
      "  dfs = pd.read_html(r.text)\n",
      "WARNING: Event 157: failed with error: [Errno 28] No space left on device\n",
      "INFO: Downloading photometry: https://www.astrouw.edu.pl/ogle/ogle3/ews/2003/blg-158/phot.dat\n"
     ]
    },
    {
     "name": "stdout",
     "output_type": "stream",
     "text": [
      "OGLE 2003 BLG 158 started\n"
     ]
    },
    {
     "name": "stderr",
     "output_type": "stream",
     "text": [
      "INFO: Fetching OGLE guesses: https://ogle.astrouw.edu.pl/ogle3/ews/2003/blg-158.html\n",
      "C:\\Users\\Saeed\\AppData\\Local\\Temp\\ipykernel_14856\\3667917964.py:85: FutureWarning: Passing literal html to 'read_html' is deprecated and will be removed in a future version. To read from a literal string, wrap it in a 'StringIO' object.\n",
      "  dfs = pd.read_html(r.text)\n",
      "WARNING: Event 158: failed with error: [Errno 28] No space left on device\n",
      "INFO: Downloading photometry: https://www.astrouw.edu.pl/ogle/ogle3/ews/2003/blg-159/phot.dat\n"
     ]
    },
    {
     "name": "stdout",
     "output_type": "stream",
     "text": [
      "OGLE 2003 BLG 159 started\n"
     ]
    },
    {
     "name": "stderr",
     "output_type": "stream",
     "text": [
      "INFO: Fetching OGLE guesses: https://ogle.astrouw.edu.pl/ogle3/ews/2003/blg-159.html\n",
      "C:\\Users\\Saeed\\AppData\\Local\\Temp\\ipykernel_14856\\3667917964.py:85: FutureWarning: Passing literal html to 'read_html' is deprecated and will be removed in a future version. To read from a literal string, wrap it in a 'StringIO' object.\n",
      "  dfs = pd.read_html(r.text)\n",
      "WARNING: Event 159: failed with error: [Errno 28] No space left on device\n",
      "INFO: Downloading photometry: https://www.astrouw.edu.pl/ogle/ogle3/ews/2003/blg-160/phot.dat\n"
     ]
    },
    {
     "name": "stdout",
     "output_type": "stream",
     "text": [
      "OGLE 2003 BLG 160 started\n"
     ]
    },
    {
     "name": "stderr",
     "output_type": "stream",
     "text": [
      "INFO: Fetching OGLE guesses: https://ogle.astrouw.edu.pl/ogle3/ews/2003/blg-160.html\n",
      "C:\\Users\\Saeed\\AppData\\Local\\Temp\\ipykernel_14856\\3667917964.py:85: FutureWarning: Passing literal html to 'read_html' is deprecated and will be removed in a future version. To read from a literal string, wrap it in a 'StringIO' object.\n",
      "  dfs = pd.read_html(r.text)\n",
      "WARNING: Event 160: failed with error: [Errno 28] No space left on device\n",
      "INFO: Downloading photometry: https://www.astrouw.edu.pl/ogle/ogle3/ews/2003/blg-161/phot.dat\n"
     ]
    },
    {
     "name": "stdout",
     "output_type": "stream",
     "text": [
      "OGLE 2003 BLG 161 started\n"
     ]
    },
    {
     "name": "stderr",
     "output_type": "stream",
     "text": [
      "INFO: Fetching OGLE guesses: https://ogle.astrouw.edu.pl/ogle3/ews/2003/blg-161.html\n",
      "C:\\Users\\Saeed\\AppData\\Local\\Temp\\ipykernel_14856\\3667917964.py:85: FutureWarning: Passing literal html to 'read_html' is deprecated and will be removed in a future version. To read from a literal string, wrap it in a 'StringIO' object.\n",
      "  dfs = pd.read_html(r.text)\n",
      "WARNING: Event 161: failed with error: [Errno 28] No space left on device\n",
      "INFO: Downloading photometry: https://www.astrouw.edu.pl/ogle/ogle3/ews/2003/blg-162/phot.dat\n"
     ]
    },
    {
     "name": "stdout",
     "output_type": "stream",
     "text": [
      "OGLE 2003 BLG 162 started\n"
     ]
    },
    {
     "name": "stderr",
     "output_type": "stream",
     "text": [
      "INFO: Fetching OGLE guesses: https://ogle.astrouw.edu.pl/ogle3/ews/2003/blg-162.html\n",
      "C:\\Users\\Saeed\\AppData\\Local\\Temp\\ipykernel_14856\\3667917964.py:85: FutureWarning: Passing literal html to 'read_html' is deprecated and will be removed in a future version. To read from a literal string, wrap it in a 'StringIO' object.\n",
      "  dfs = pd.read_html(r.text)\n",
      "WARNING: Event 162: failed with error: [Errno 28] No space left on device\n",
      "INFO: Downloading photometry: https://www.astrouw.edu.pl/ogle/ogle3/ews/2003/blg-163/phot.dat\n"
     ]
    },
    {
     "name": "stdout",
     "output_type": "stream",
     "text": [
      "OGLE 2003 BLG 163 started\n"
     ]
    },
    {
     "name": "stderr",
     "output_type": "stream",
     "text": [
      "INFO: Fetching OGLE guesses: https://ogle.astrouw.edu.pl/ogle3/ews/2003/blg-163.html\n",
      "C:\\Users\\Saeed\\AppData\\Local\\Temp\\ipykernel_14856\\3667917964.py:85: FutureWarning: Passing literal html to 'read_html' is deprecated and will be removed in a future version. To read from a literal string, wrap it in a 'StringIO' object.\n",
      "  dfs = pd.read_html(r.text)\n",
      "WARNING: Event 163: failed with error: [Errno 28] No space left on device\n",
      "INFO: Downloading photometry: https://www.astrouw.edu.pl/ogle/ogle3/ews/2003/blg-164/phot.dat\n"
     ]
    },
    {
     "name": "stdout",
     "output_type": "stream",
     "text": [
      "OGLE 2003 BLG 164 started\n"
     ]
    },
    {
     "name": "stderr",
     "output_type": "stream",
     "text": [
      "INFO: Fetching OGLE guesses: https://ogle.astrouw.edu.pl/ogle3/ews/2003/blg-164.html\n",
      "C:\\Users\\Saeed\\AppData\\Local\\Temp\\ipykernel_14856\\3667917964.py:85: FutureWarning: Passing literal html to 'read_html' is deprecated and will be removed in a future version. To read from a literal string, wrap it in a 'StringIO' object.\n",
      "  dfs = pd.read_html(r.text)\n",
      "WARNING: Event 164: failed with error: [Errno 28] No space left on device\n",
      "INFO: Downloading photometry: https://www.astrouw.edu.pl/ogle/ogle3/ews/2003/blg-165/phot.dat\n"
     ]
    },
    {
     "name": "stdout",
     "output_type": "stream",
     "text": [
      "OGLE 2003 BLG 165 started\n"
     ]
    },
    {
     "name": "stderr",
     "output_type": "stream",
     "text": [
      "INFO: Fetching OGLE guesses: https://ogle.astrouw.edu.pl/ogle3/ews/2003/blg-165.html\n",
      "C:\\Users\\Saeed\\AppData\\Local\\Temp\\ipykernel_14856\\3667917964.py:85: FutureWarning: Passing literal html to 'read_html' is deprecated and will be removed in a future version. To read from a literal string, wrap it in a 'StringIO' object.\n",
      "  dfs = pd.read_html(r.text)\n",
      "WARNING: Event 165: failed with error: [Errno 28] No space left on device\n",
      "INFO: Downloading photometry: https://www.astrouw.edu.pl/ogle/ogle3/ews/2003/blg-166/phot.dat\n"
     ]
    },
    {
     "name": "stdout",
     "output_type": "stream",
     "text": [
      "OGLE 2003 BLG 166 started\n"
     ]
    },
    {
     "name": "stderr",
     "output_type": "stream",
     "text": [
      "INFO: Fetching OGLE guesses: https://ogle.astrouw.edu.pl/ogle3/ews/2003/blg-166.html\n",
      "C:\\Users\\Saeed\\AppData\\Local\\Temp\\ipykernel_14856\\3667917964.py:85: FutureWarning: Passing literal html to 'read_html' is deprecated and will be removed in a future version. To read from a literal string, wrap it in a 'StringIO' object.\n",
      "  dfs = pd.read_html(r.text)\n",
      "WARNING: Event 166: failed with error: [Errno 28] No space left on device\n",
      "INFO: Downloading photometry: https://www.astrouw.edu.pl/ogle/ogle3/ews/2003/blg-167/phot.dat\n"
     ]
    },
    {
     "name": "stdout",
     "output_type": "stream",
     "text": [
      "OGLE 2003 BLG 167 started\n"
     ]
    },
    {
     "name": "stderr",
     "output_type": "stream",
     "text": [
      "INFO: Fetching OGLE guesses: https://ogle.astrouw.edu.pl/ogle3/ews/2003/blg-167.html\n",
      "C:\\Users\\Saeed\\AppData\\Local\\Temp\\ipykernel_14856\\3667917964.py:85: FutureWarning: Passing literal html to 'read_html' is deprecated and will be removed in a future version. To read from a literal string, wrap it in a 'StringIO' object.\n",
      "  dfs = pd.read_html(r.text)\n",
      "WARNING: Event 167: failed with error: [Errno 28] No space left on device\n",
      "INFO: Downloading photometry: https://www.astrouw.edu.pl/ogle/ogle3/ews/2003/blg-168/phot.dat\n"
     ]
    },
    {
     "name": "stdout",
     "output_type": "stream",
     "text": [
      "OGLE 2003 BLG 168 started\n"
     ]
    },
    {
     "name": "stderr",
     "output_type": "stream",
     "text": [
      "INFO: Fetching OGLE guesses: https://ogle.astrouw.edu.pl/ogle3/ews/2003/blg-168.html\n",
      "C:\\Users\\Saeed\\AppData\\Local\\Temp\\ipykernel_14856\\3667917964.py:85: FutureWarning: Passing literal html to 'read_html' is deprecated and will be removed in a future version. To read from a literal string, wrap it in a 'StringIO' object.\n",
      "  dfs = pd.read_html(r.text)\n",
      "WARNING: Event 168: failed with error: [Errno 28] No space left on device\n",
      "INFO: Downloading photometry: https://www.astrouw.edu.pl/ogle/ogle3/ews/2003/blg-169/phot.dat\n"
     ]
    },
    {
     "name": "stdout",
     "output_type": "stream",
     "text": [
      "OGLE 2003 BLG 169 started\n"
     ]
    },
    {
     "name": "stderr",
     "output_type": "stream",
     "text": [
      "INFO: Fetching OGLE guesses: https://ogle.astrouw.edu.pl/ogle3/ews/2003/blg-169.html\n",
      "C:\\Users\\Saeed\\AppData\\Local\\Temp\\ipykernel_14856\\3667917964.py:85: FutureWarning: Passing literal html to 'read_html' is deprecated and will be removed in a future version. To read from a literal string, wrap it in a 'StringIO' object.\n",
      "  dfs = pd.read_html(r.text)\n",
      "WARNING: Event 169: failed with error: [Errno 28] No space left on device\n",
      "INFO: Downloading photometry: https://www.astrouw.edu.pl/ogle/ogle3/ews/2003/blg-170/phot.dat\n"
     ]
    },
    {
     "name": "stdout",
     "output_type": "stream",
     "text": [
      "OGLE 2003 BLG 170 started\n"
     ]
    },
    {
     "name": "stderr",
     "output_type": "stream",
     "text": [
      "INFO: Fetching OGLE guesses: https://ogle.astrouw.edu.pl/ogle3/ews/2003/blg-170.html\n",
      "C:\\Users\\Saeed\\AppData\\Local\\Temp\\ipykernel_14856\\3667917964.py:85: FutureWarning: Passing literal html to 'read_html' is deprecated and will be removed in a future version. To read from a literal string, wrap it in a 'StringIO' object.\n",
      "  dfs = pd.read_html(r.text)\n",
      "WARNING: Parsed HTML but couldn't extract expected cells: could not convert string to float: '-'\n",
      "WARNING: Event 170: failed with error: [Errno 28] No space left on device\n",
      "INFO: Downloading photometry: https://www.astrouw.edu.pl/ogle/ogle3/ews/2003/blg-171/phot.dat\n"
     ]
    },
    {
     "name": "stdout",
     "output_type": "stream",
     "text": [
      "OGLE 2003 BLG 171 started\n"
     ]
    },
    {
     "name": "stderr",
     "output_type": "stream",
     "text": [
      "INFO: Fetching OGLE guesses: https://ogle.astrouw.edu.pl/ogle3/ews/2003/blg-171.html\n",
      "C:\\Users\\Saeed\\AppData\\Local\\Temp\\ipykernel_14856\\3667917964.py:85: FutureWarning: Passing literal html to 'read_html' is deprecated and will be removed in a future version. To read from a literal string, wrap it in a 'StringIO' object.\n",
      "  dfs = pd.read_html(r.text)\n",
      "WARNING: Event 171: failed with error: [Errno 28] No space left on device\n",
      "INFO: Downloading photometry: https://www.astrouw.edu.pl/ogle/ogle3/ews/2003/blg-172/phot.dat\n"
     ]
    },
    {
     "name": "stdout",
     "output_type": "stream",
     "text": [
      "OGLE 2003 BLG 172 started\n"
     ]
    },
    {
     "name": "stderr",
     "output_type": "stream",
     "text": [
      "INFO: Fetching OGLE guesses: https://ogle.astrouw.edu.pl/ogle3/ews/2003/blg-172.html\n",
      "C:\\Users\\Saeed\\AppData\\Local\\Temp\\ipykernel_14856\\3667917964.py:85: FutureWarning: Passing literal html to 'read_html' is deprecated and will be removed in a future version. To read from a literal string, wrap it in a 'StringIO' object.\n",
      "  dfs = pd.read_html(r.text)\n",
      "WARNING: Event 172: failed with error: [Errno 28] No space left on device\n",
      "INFO: Downloading photometry: https://www.astrouw.edu.pl/ogle/ogle3/ews/2003/blg-173/phot.dat\n"
     ]
    },
    {
     "name": "stdout",
     "output_type": "stream",
     "text": [
      "OGLE 2003 BLG 173 started\n"
     ]
    },
    {
     "name": "stderr",
     "output_type": "stream",
     "text": [
      "INFO: Fetching OGLE guesses: https://ogle.astrouw.edu.pl/ogle3/ews/2003/blg-173.html\n",
      "C:\\Users\\Saeed\\AppData\\Local\\Temp\\ipykernel_14856\\3667917964.py:85: FutureWarning: Passing literal html to 'read_html' is deprecated and will be removed in a future version. To read from a literal string, wrap it in a 'StringIO' object.\n",
      "  dfs = pd.read_html(r.text)\n",
      "WARNING: Event 173: failed with error: [Errno 28] No space left on device\n",
      "INFO: Downloading photometry: https://www.astrouw.edu.pl/ogle/ogle3/ews/2003/blg-174/phot.dat\n"
     ]
    },
    {
     "name": "stdout",
     "output_type": "stream",
     "text": [
      "OGLE 2003 BLG 174 started\n"
     ]
    },
    {
     "name": "stderr",
     "output_type": "stream",
     "text": [
      "INFO: Fetching OGLE guesses: https://ogle.astrouw.edu.pl/ogle3/ews/2003/blg-174.html\n",
      "C:\\Users\\Saeed\\AppData\\Local\\Temp\\ipykernel_14856\\3667917964.py:85: FutureWarning: Passing literal html to 'read_html' is deprecated and will be removed in a future version. To read from a literal string, wrap it in a 'StringIO' object.\n",
      "  dfs = pd.read_html(r.text)\n",
      "WARNING: Event 174: failed with error: [Errno 28] No space left on device\n",
      "INFO: Downloading photometry: https://www.astrouw.edu.pl/ogle/ogle3/ews/2003/blg-175/phot.dat\n"
     ]
    },
    {
     "name": "stdout",
     "output_type": "stream",
     "text": [
      "OGLE 2003 BLG 175 started\n"
     ]
    },
    {
     "name": "stderr",
     "output_type": "stream",
     "text": [
      "INFO: Fetching OGLE guesses: https://ogle.astrouw.edu.pl/ogle3/ews/2003/blg-175.html\n",
      "C:\\Users\\Saeed\\AppData\\Local\\Temp\\ipykernel_14856\\3667917964.py:85: FutureWarning: Passing literal html to 'read_html' is deprecated and will be removed in a future version. To read from a literal string, wrap it in a 'StringIO' object.\n",
      "  dfs = pd.read_html(r.text)\n",
      "WARNING: Event 175: failed with error: [Errno 28] No space left on device\n",
      "INFO: Downloading photometry: https://www.astrouw.edu.pl/ogle/ogle3/ews/2003/blg-176/phot.dat\n"
     ]
    },
    {
     "name": "stdout",
     "output_type": "stream",
     "text": [
      "OGLE 2003 BLG 176 started\n"
     ]
    },
    {
     "name": "stderr",
     "output_type": "stream",
     "text": [
      "INFO: Fetching OGLE guesses: https://ogle.astrouw.edu.pl/ogle3/ews/2003/blg-176.html\n",
      "C:\\Users\\Saeed\\AppData\\Local\\Temp\\ipykernel_14856\\3667917964.py:85: FutureWarning: Passing literal html to 'read_html' is deprecated and will be removed in a future version. To read from a literal string, wrap it in a 'StringIO' object.\n",
      "  dfs = pd.read_html(r.text)\n",
      "WARNING: Event 176: failed with error: [Errno 28] No space left on device\n",
      "INFO: Downloading photometry: https://www.astrouw.edu.pl/ogle/ogle3/ews/2003/blg-177/phot.dat\n"
     ]
    },
    {
     "name": "stdout",
     "output_type": "stream",
     "text": [
      "OGLE 2003 BLG 177 started\n"
     ]
    },
    {
     "name": "stderr",
     "output_type": "stream",
     "text": [
      "INFO: Fetching OGLE guesses: https://ogle.astrouw.edu.pl/ogle3/ews/2003/blg-177.html\n",
      "C:\\Users\\Saeed\\AppData\\Local\\Temp\\ipykernel_14856\\3667917964.py:85: FutureWarning: Passing literal html to 'read_html' is deprecated and will be removed in a future version. To read from a literal string, wrap it in a 'StringIO' object.\n",
      "  dfs = pd.read_html(r.text)\n",
      "WARNING: Event 177: failed with error: [Errno 28] No space left on device\n",
      "INFO: Downloading photometry: https://www.astrouw.edu.pl/ogle/ogle3/ews/2003/blg-178/phot.dat\n"
     ]
    },
    {
     "name": "stdout",
     "output_type": "stream",
     "text": [
      "OGLE 2003 BLG 178 started\n"
     ]
    },
    {
     "name": "stderr",
     "output_type": "stream",
     "text": [
      "INFO: Fetching OGLE guesses: https://ogle.astrouw.edu.pl/ogle3/ews/2003/blg-178.html\n",
      "C:\\Users\\Saeed\\AppData\\Local\\Temp\\ipykernel_14856\\3667917964.py:85: FutureWarning: Passing literal html to 'read_html' is deprecated and will be removed in a future version. To read from a literal string, wrap it in a 'StringIO' object.\n",
      "  dfs = pd.read_html(r.text)\n",
      "WARNING: Event 178: failed with error: [Errno 28] No space left on device\n",
      "INFO: Downloading photometry: https://www.astrouw.edu.pl/ogle/ogle3/ews/2003/blg-179/phot.dat\n"
     ]
    },
    {
     "name": "stdout",
     "output_type": "stream",
     "text": [
      "OGLE 2003 BLG 179 started\n"
     ]
    },
    {
     "name": "stderr",
     "output_type": "stream",
     "text": [
      "INFO: Fetching OGLE guesses: https://ogle.astrouw.edu.pl/ogle3/ews/2003/blg-179.html\n",
      "C:\\Users\\Saeed\\AppData\\Local\\Temp\\ipykernel_14856\\3667917964.py:85: FutureWarning: Passing literal html to 'read_html' is deprecated and will be removed in a future version. To read from a literal string, wrap it in a 'StringIO' object.\n",
      "  dfs = pd.read_html(r.text)\n",
      "WARNING: Event 179: failed with error: [Errno 28] No space left on device\n",
      "INFO: Downloading photometry: https://www.astrouw.edu.pl/ogle/ogle3/ews/2003/blg-180/phot.dat\n"
     ]
    },
    {
     "name": "stdout",
     "output_type": "stream",
     "text": [
      "OGLE 2003 BLG 180 started\n"
     ]
    },
    {
     "name": "stderr",
     "output_type": "stream",
     "text": [
      "INFO: Fetching OGLE guesses: https://ogle.astrouw.edu.pl/ogle3/ews/2003/blg-180.html\n",
      "C:\\Users\\Saeed\\AppData\\Local\\Temp\\ipykernel_14856\\3667917964.py:85: FutureWarning: Passing literal html to 'read_html' is deprecated and will be removed in a future version. To read from a literal string, wrap it in a 'StringIO' object.\n",
      "  dfs = pd.read_html(r.text)\n",
      "WARNING: Event 180: failed with error: [Errno 28] No space left on device\n",
      "INFO: Downloading photometry: https://www.astrouw.edu.pl/ogle/ogle3/ews/2003/blg-181/phot.dat\n"
     ]
    },
    {
     "name": "stdout",
     "output_type": "stream",
     "text": [
      "OGLE 2003 BLG 181 started\n"
     ]
    },
    {
     "name": "stderr",
     "output_type": "stream",
     "text": [
      "INFO: Fetching OGLE guesses: https://ogle.astrouw.edu.pl/ogle3/ews/2003/blg-181.html\n",
      "C:\\Users\\Saeed\\AppData\\Local\\Temp\\ipykernel_14856\\3667917964.py:85: FutureWarning: Passing literal html to 'read_html' is deprecated and will be removed in a future version. To read from a literal string, wrap it in a 'StringIO' object.\n",
      "  dfs = pd.read_html(r.text)\n",
      "WARNING: Event 181: failed with error: [Errno 28] No space left on device\n",
      "INFO: Downloading photometry: https://www.astrouw.edu.pl/ogle/ogle3/ews/2003/blg-182/phot.dat\n"
     ]
    },
    {
     "name": "stdout",
     "output_type": "stream",
     "text": [
      "OGLE 2003 BLG 182 started\n"
     ]
    },
    {
     "name": "stderr",
     "output_type": "stream",
     "text": [
      "INFO: Fetching OGLE guesses: https://ogle.astrouw.edu.pl/ogle3/ews/2003/blg-182.html\n",
      "C:\\Users\\Saeed\\AppData\\Local\\Temp\\ipykernel_14856\\3667917964.py:85: FutureWarning: Passing literal html to 'read_html' is deprecated and will be removed in a future version. To read from a literal string, wrap it in a 'StringIO' object.\n",
      "  dfs = pd.read_html(r.text)\n",
      "WARNING: Event 182: failed with error: [Errno 28] No space left on device\n",
      "INFO: Downloading photometry: https://www.astrouw.edu.pl/ogle/ogle3/ews/2003/blg-183/phot.dat\n"
     ]
    },
    {
     "name": "stdout",
     "output_type": "stream",
     "text": [
      "OGLE 2003 BLG 183 started\n"
     ]
    },
    {
     "name": "stderr",
     "output_type": "stream",
     "text": [
      "INFO: Fetching OGLE guesses: https://ogle.astrouw.edu.pl/ogle3/ews/2003/blg-183.html\n",
      "C:\\Users\\Saeed\\AppData\\Local\\Temp\\ipykernel_14856\\3667917964.py:85: FutureWarning: Passing literal html to 'read_html' is deprecated and will be removed in a future version. To read from a literal string, wrap it in a 'StringIO' object.\n",
      "  dfs = pd.read_html(r.text)\n",
      "WARNING: Event 183: failed with error: [Errno 28] No space left on device\n",
      "INFO: Downloading photometry: https://www.astrouw.edu.pl/ogle/ogle3/ews/2003/blg-184/phot.dat\n"
     ]
    },
    {
     "name": "stdout",
     "output_type": "stream",
     "text": [
      "OGLE 2003 BLG 184 started\n"
     ]
    },
    {
     "name": "stderr",
     "output_type": "stream",
     "text": [
      "INFO: Fetching OGLE guesses: https://ogle.astrouw.edu.pl/ogle3/ews/2003/blg-184.html\n",
      "C:\\Users\\Saeed\\AppData\\Local\\Temp\\ipykernel_14856\\3667917964.py:85: FutureWarning: Passing literal html to 'read_html' is deprecated and will be removed in a future version. To read from a literal string, wrap it in a 'StringIO' object.\n",
      "  dfs = pd.read_html(r.text)\n",
      "WARNING: Event 184: failed with error: [Errno 28] No space left on device\n",
      "INFO: Downloading photometry: https://www.astrouw.edu.pl/ogle/ogle3/ews/2003/blg-185/phot.dat\n"
     ]
    },
    {
     "name": "stdout",
     "output_type": "stream",
     "text": [
      "OGLE 2003 BLG 185 started\n"
     ]
    },
    {
     "name": "stderr",
     "output_type": "stream",
     "text": [
      "INFO: Fetching OGLE guesses: https://ogle.astrouw.edu.pl/ogle3/ews/2003/blg-185.html\n",
      "C:\\Users\\Saeed\\AppData\\Local\\Temp\\ipykernel_14856\\3667917964.py:85: FutureWarning: Passing literal html to 'read_html' is deprecated and will be removed in a future version. To read from a literal string, wrap it in a 'StringIO' object.\n",
      "  dfs = pd.read_html(r.text)\n",
      "WARNING: Event 185: failed with error: [Errno 28] No space left on device\n",
      "INFO: Downloading photometry: https://www.astrouw.edu.pl/ogle/ogle3/ews/2003/blg-186/phot.dat\n"
     ]
    },
    {
     "name": "stdout",
     "output_type": "stream",
     "text": [
      "OGLE 2003 BLG 186 started\n"
     ]
    },
    {
     "name": "stderr",
     "output_type": "stream",
     "text": [
      "INFO: Fetching OGLE guesses: https://ogle.astrouw.edu.pl/ogle3/ews/2003/blg-186.html\n",
      "C:\\Users\\Saeed\\AppData\\Local\\Temp\\ipykernel_14856\\3667917964.py:85: FutureWarning: Passing literal html to 'read_html' is deprecated and will be removed in a future version. To read from a literal string, wrap it in a 'StringIO' object.\n",
      "  dfs = pd.read_html(r.text)\n",
      "WARNING: Event 186: failed with error: [Errno 28] No space left on device\n",
      "INFO: Downloading photometry: https://www.astrouw.edu.pl/ogle/ogle3/ews/2003/blg-187/phot.dat\n"
     ]
    },
    {
     "name": "stdout",
     "output_type": "stream",
     "text": [
      "OGLE 2003 BLG 187 started\n"
     ]
    },
    {
     "name": "stderr",
     "output_type": "stream",
     "text": [
      "INFO: Fetching OGLE guesses: https://ogle.astrouw.edu.pl/ogle3/ews/2003/blg-187.html\n",
      "C:\\Users\\Saeed\\AppData\\Local\\Temp\\ipykernel_14856\\3667917964.py:85: FutureWarning: Passing literal html to 'read_html' is deprecated and will be removed in a future version. To read from a literal string, wrap it in a 'StringIO' object.\n",
      "  dfs = pd.read_html(r.text)\n",
      "WARNING: Parsed HTML but couldn't extract expected cells: could not convert string to float: '-'\n",
      "WARNING: Event 187: failed with error: [Errno 28] No space left on device\n",
      "INFO: Downloading photometry: https://www.astrouw.edu.pl/ogle/ogle3/ews/2003/blg-188/phot.dat\n"
     ]
    },
    {
     "name": "stdout",
     "output_type": "stream",
     "text": [
      "OGLE 2003 BLG 188 started\n"
     ]
    },
    {
     "name": "stderr",
     "output_type": "stream",
     "text": [
      "INFO: Fetching OGLE guesses: https://ogle.astrouw.edu.pl/ogle3/ews/2003/blg-188.html\n",
      "C:\\Users\\Saeed\\AppData\\Local\\Temp\\ipykernel_14856\\3667917964.py:85: FutureWarning: Passing literal html to 'read_html' is deprecated and will be removed in a future version. To read from a literal string, wrap it in a 'StringIO' object.\n",
      "  dfs = pd.read_html(r.text)\n",
      "WARNING: Event 188: failed with error: [Errno 28] No space left on device\n",
      "INFO: Downloading photometry: https://www.astrouw.edu.pl/ogle/ogle3/ews/2003/blg-189/phot.dat\n"
     ]
    },
    {
     "name": "stdout",
     "output_type": "stream",
     "text": [
      "OGLE 2003 BLG 189 started\n"
     ]
    },
    {
     "name": "stderr",
     "output_type": "stream",
     "text": [
      "INFO: Fetching OGLE guesses: https://ogle.astrouw.edu.pl/ogle3/ews/2003/blg-189.html\n",
      "C:\\Users\\Saeed\\AppData\\Local\\Temp\\ipykernel_14856\\3667917964.py:85: FutureWarning: Passing literal html to 'read_html' is deprecated and will be removed in a future version. To read from a literal string, wrap it in a 'StringIO' object.\n",
      "  dfs = pd.read_html(r.text)\n",
      "WARNING: Event 189: failed with error: [Errno 28] No space left on device\n",
      "INFO: Downloading photometry: https://www.astrouw.edu.pl/ogle/ogle3/ews/2003/blg-190/phot.dat\n"
     ]
    },
    {
     "name": "stdout",
     "output_type": "stream",
     "text": [
      "OGLE 2003 BLG 190 started\n"
     ]
    },
    {
     "name": "stderr",
     "output_type": "stream",
     "text": [
      "INFO: Fetching OGLE guesses: https://ogle.astrouw.edu.pl/ogle3/ews/2003/blg-190.html\n",
      "C:\\Users\\Saeed\\AppData\\Local\\Temp\\ipykernel_14856\\3667917964.py:85: FutureWarning: Passing literal html to 'read_html' is deprecated and will be removed in a future version. To read from a literal string, wrap it in a 'StringIO' object.\n",
      "  dfs = pd.read_html(r.text)\n",
      "WARNING: Event 190: failed with error: [Errno 28] No space left on device\n",
      "INFO: Downloading photometry: https://www.astrouw.edu.pl/ogle/ogle3/ews/2003/blg-191/phot.dat\n"
     ]
    },
    {
     "name": "stdout",
     "output_type": "stream",
     "text": [
      "OGLE 2003 BLG 191 started\n"
     ]
    },
    {
     "name": "stderr",
     "output_type": "stream",
     "text": [
      "INFO: Fetching OGLE guesses: https://ogle.astrouw.edu.pl/ogle3/ews/2003/blg-191.html\n",
      "C:\\Users\\Saeed\\AppData\\Local\\Temp\\ipykernel_14856\\3667917964.py:85: FutureWarning: Passing literal html to 'read_html' is deprecated and will be removed in a future version. To read from a literal string, wrap it in a 'StringIO' object.\n",
      "  dfs = pd.read_html(r.text)\n",
      "WARNING: Event 191: failed with error: [Errno 28] No space left on device\n",
      "INFO: Downloading photometry: https://www.astrouw.edu.pl/ogle/ogle3/ews/2003/blg-192/phot.dat\n"
     ]
    },
    {
     "name": "stdout",
     "output_type": "stream",
     "text": [
      "OGLE 2003 BLG 192 started\n"
     ]
    },
    {
     "name": "stderr",
     "output_type": "stream",
     "text": [
      "INFO: Fetching OGLE guesses: https://ogle.astrouw.edu.pl/ogle3/ews/2003/blg-192.html\n",
      "C:\\Users\\Saeed\\AppData\\Local\\Temp\\ipykernel_14856\\3667917964.py:85: FutureWarning: Passing literal html to 'read_html' is deprecated and will be removed in a future version. To read from a literal string, wrap it in a 'StringIO' object.\n",
      "  dfs = pd.read_html(r.text)\n",
      "WARNING: Event 192: failed with error: [Errno 28] No space left on device\n",
      "INFO: Downloading photometry: https://www.astrouw.edu.pl/ogle/ogle3/ews/2003/blg-193/phot.dat\n"
     ]
    },
    {
     "name": "stdout",
     "output_type": "stream",
     "text": [
      "OGLE 2003 BLG 193 started\n"
     ]
    },
    {
     "name": "stderr",
     "output_type": "stream",
     "text": [
      "INFO: Fetching OGLE guesses: https://ogle.astrouw.edu.pl/ogle3/ews/2003/blg-193.html\n",
      "C:\\Users\\Saeed\\AppData\\Local\\Temp\\ipykernel_14856\\3667917964.py:85: FutureWarning: Passing literal html to 'read_html' is deprecated and will be removed in a future version. To read from a literal string, wrap it in a 'StringIO' object.\n",
      "  dfs = pd.read_html(r.text)\n",
      "WARNING: Event 193: failed with error: [Errno 28] No space left on device\n",
      "INFO: Downloading photometry: https://www.astrouw.edu.pl/ogle/ogle3/ews/2003/blg-194/phot.dat\n"
     ]
    },
    {
     "name": "stdout",
     "output_type": "stream",
     "text": [
      "OGLE 2003 BLG 194 started\n"
     ]
    },
    {
     "name": "stderr",
     "output_type": "stream",
     "text": [
      "INFO: Fetching OGLE guesses: https://ogle.astrouw.edu.pl/ogle3/ews/2003/blg-194.html\n",
      "C:\\Users\\Saeed\\AppData\\Local\\Temp\\ipykernel_14856\\3667917964.py:85: FutureWarning: Passing literal html to 'read_html' is deprecated and will be removed in a future version. To read from a literal string, wrap it in a 'StringIO' object.\n",
      "  dfs = pd.read_html(r.text)\n",
      "WARNING: Parsed HTML but couldn't extract expected cells: could not convert string to float: '-'\n",
      "WARNING: Event 194: failed with error: [Errno 28] No space left on device\n",
      "INFO: Downloading photometry: https://www.astrouw.edu.pl/ogle/ogle3/ews/2003/blg-195/phot.dat\n"
     ]
    },
    {
     "name": "stdout",
     "output_type": "stream",
     "text": [
      "OGLE 2003 BLG 195 started\n"
     ]
    },
    {
     "name": "stderr",
     "output_type": "stream",
     "text": [
      "INFO: Fetching OGLE guesses: https://ogle.astrouw.edu.pl/ogle3/ews/2003/blg-195.html\n",
      "C:\\Users\\Saeed\\AppData\\Local\\Temp\\ipykernel_14856\\3667917964.py:85: FutureWarning: Passing literal html to 'read_html' is deprecated and will be removed in a future version. To read from a literal string, wrap it in a 'StringIO' object.\n",
      "  dfs = pd.read_html(r.text)\n",
      "WARNING: Event 195: failed with error: [Errno 28] No space left on device\n",
      "INFO: Downloading photometry: https://www.astrouw.edu.pl/ogle/ogle3/ews/2003/blg-196/phot.dat\n"
     ]
    },
    {
     "name": "stdout",
     "output_type": "stream",
     "text": [
      "OGLE 2003 BLG 196 started\n"
     ]
    },
    {
     "name": "stderr",
     "output_type": "stream",
     "text": [
      "INFO: Fetching OGLE guesses: https://ogle.astrouw.edu.pl/ogle3/ews/2003/blg-196.html\n",
      "C:\\Users\\Saeed\\AppData\\Local\\Temp\\ipykernel_14856\\3667917964.py:85: FutureWarning: Passing literal html to 'read_html' is deprecated and will be removed in a future version. To read from a literal string, wrap it in a 'StringIO' object.\n",
      "  dfs = pd.read_html(r.text)\n",
      "WARNING: Event 196: failed with error: [Errno 28] No space left on device\n",
      "INFO: Downloading photometry: https://www.astrouw.edu.pl/ogle/ogle3/ews/2003/blg-197/phot.dat\n"
     ]
    },
    {
     "name": "stdout",
     "output_type": "stream",
     "text": [
      "OGLE 2003 BLG 197 started\n"
     ]
    },
    {
     "name": "stderr",
     "output_type": "stream",
     "text": [
      "INFO: Fetching OGLE guesses: https://ogle.astrouw.edu.pl/ogle3/ews/2003/blg-197.html\n",
      "C:\\Users\\Saeed\\AppData\\Local\\Temp\\ipykernel_14856\\3667917964.py:85: FutureWarning: Passing literal html to 'read_html' is deprecated and will be removed in a future version. To read from a literal string, wrap it in a 'StringIO' object.\n",
      "  dfs = pd.read_html(r.text)\n",
      "WARNING: Event 197: failed with error: [Errno 28] No space left on device\n",
      "INFO: Downloading photometry: https://www.astrouw.edu.pl/ogle/ogle3/ews/2003/blg-198/phot.dat\n"
     ]
    },
    {
     "name": "stdout",
     "output_type": "stream",
     "text": [
      "OGLE 2003 BLG 198 started\n"
     ]
    },
    {
     "name": "stderr",
     "output_type": "stream",
     "text": [
      "INFO: Fetching OGLE guesses: https://ogle.astrouw.edu.pl/ogle3/ews/2003/blg-198.html\n",
      "C:\\Users\\Saeed\\AppData\\Local\\Temp\\ipykernel_14856\\3667917964.py:85: FutureWarning: Passing literal html to 'read_html' is deprecated and will be removed in a future version. To read from a literal string, wrap it in a 'StringIO' object.\n",
      "  dfs = pd.read_html(r.text)\n",
      "WARNING: Event 198: failed with error: [Errno 28] No space left on device\n",
      "INFO: Downloading photometry: https://www.astrouw.edu.pl/ogle/ogle3/ews/2003/blg-199/phot.dat\n"
     ]
    },
    {
     "name": "stdout",
     "output_type": "stream",
     "text": [
      "OGLE 2003 BLG 199 started\n"
     ]
    },
    {
     "name": "stderr",
     "output_type": "stream",
     "text": [
      "INFO: Fetching OGLE guesses: https://ogle.astrouw.edu.pl/ogle3/ews/2003/blg-199.html\n",
      "C:\\Users\\Saeed\\AppData\\Local\\Temp\\ipykernel_14856\\3667917964.py:85: FutureWarning: Passing literal html to 'read_html' is deprecated and will be removed in a future version. To read from a literal string, wrap it in a 'StringIO' object.\n",
      "  dfs = pd.read_html(r.text)\n",
      "WARNING: Event 199: failed with error: [Errno 28] No space left on device\n",
      "INFO: Downloading photometry: https://www.astrouw.edu.pl/ogle/ogle3/ews/2003/blg-200/phot.dat\n"
     ]
    },
    {
     "name": "stdout",
     "output_type": "stream",
     "text": [
      "OGLE 2003 BLG 200 started\n"
     ]
    },
    {
     "name": "stderr",
     "output_type": "stream",
     "text": [
      "INFO: Fetching OGLE guesses: https://ogle.astrouw.edu.pl/ogle3/ews/2003/blg-200.html\n",
      "C:\\Users\\Saeed\\AppData\\Local\\Temp\\ipykernel_14856\\3667917964.py:85: FutureWarning: Passing literal html to 'read_html' is deprecated and will be removed in a future version. To read from a literal string, wrap it in a 'StringIO' object.\n",
      "  dfs = pd.read_html(r.text)\n",
      "WARNING: Event 200: failed with error: [Errno 28] No space left on device\n",
      "INFO: Downloading photometry: https://www.astrouw.edu.pl/ogle/ogle3/ews/2003/blg-201/phot.dat\n"
     ]
    },
    {
     "name": "stdout",
     "output_type": "stream",
     "text": [
      "OGLE 2003 BLG 201 started\n"
     ]
    },
    {
     "name": "stderr",
     "output_type": "stream",
     "text": [
      "INFO: Fetching OGLE guesses: https://ogle.astrouw.edu.pl/ogle3/ews/2003/blg-201.html\n",
      "C:\\Users\\Saeed\\AppData\\Local\\Temp\\ipykernel_14856\\3667917964.py:85: FutureWarning: Passing literal html to 'read_html' is deprecated and will be removed in a future version. To read from a literal string, wrap it in a 'StringIO' object.\n",
      "  dfs = pd.read_html(r.text)\n",
      "WARNING: Event 201: failed with error: [Errno 28] No space left on device\n",
      "INFO: Downloading photometry: https://www.astrouw.edu.pl/ogle/ogle3/ews/2003/blg-202/phot.dat\n"
     ]
    },
    {
     "name": "stdout",
     "output_type": "stream",
     "text": [
      "OGLE 2003 BLG 202 started\n"
     ]
    },
    {
     "name": "stderr",
     "output_type": "stream",
     "text": [
      "INFO: Fetching OGLE guesses: https://ogle.astrouw.edu.pl/ogle3/ews/2003/blg-202.html\n",
      "C:\\Users\\Saeed\\AppData\\Local\\Temp\\ipykernel_14856\\3667917964.py:85: FutureWarning: Passing literal html to 'read_html' is deprecated and will be removed in a future version. To read from a literal string, wrap it in a 'StringIO' object.\n",
      "  dfs = pd.read_html(r.text)\n",
      "WARNING: Event 202: failed with error: [Errno 28] No space left on device\n",
      "INFO: Downloading photometry: https://www.astrouw.edu.pl/ogle/ogle3/ews/2003/blg-203/phot.dat\n"
     ]
    },
    {
     "name": "stdout",
     "output_type": "stream",
     "text": [
      "OGLE 2003 BLG 203 started\n"
     ]
    },
    {
     "name": "stderr",
     "output_type": "stream",
     "text": [
      "INFO: Fetching OGLE guesses: https://ogle.astrouw.edu.pl/ogle3/ews/2003/blg-203.html\n",
      "C:\\Users\\Saeed\\AppData\\Local\\Temp\\ipykernel_14856\\3667917964.py:85: FutureWarning: Passing literal html to 'read_html' is deprecated and will be removed in a future version. To read from a literal string, wrap it in a 'StringIO' object.\n",
      "  dfs = pd.read_html(r.text)\n",
      "WARNING: Event 203: failed with error: [Errno 28] No space left on device\n",
      "INFO: Downloading photometry: https://www.astrouw.edu.pl/ogle/ogle3/ews/2003/blg-204/phot.dat\n"
     ]
    },
    {
     "name": "stdout",
     "output_type": "stream",
     "text": [
      "OGLE 2003 BLG 204 started\n"
     ]
    },
    {
     "name": "stderr",
     "output_type": "stream",
     "text": [
      "INFO: Fetching OGLE guesses: https://ogle.astrouw.edu.pl/ogle3/ews/2003/blg-204.html\n",
      "C:\\Users\\Saeed\\AppData\\Local\\Temp\\ipykernel_14856\\3667917964.py:85: FutureWarning: Passing literal html to 'read_html' is deprecated and will be removed in a future version. To read from a literal string, wrap it in a 'StringIO' object.\n",
      "  dfs = pd.read_html(r.text)\n",
      "WARNING: Event 204: failed with error: [Errno 28] No space left on device\n",
      "INFO: Downloading photometry: https://www.astrouw.edu.pl/ogle/ogle3/ews/2003/blg-205/phot.dat\n"
     ]
    },
    {
     "name": "stdout",
     "output_type": "stream",
     "text": [
      "OGLE 2003 BLG 205 started\n"
     ]
    },
    {
     "name": "stderr",
     "output_type": "stream",
     "text": [
      "INFO: Fetching OGLE guesses: https://ogle.astrouw.edu.pl/ogle3/ews/2003/blg-205.html\n",
      "C:\\Users\\Saeed\\AppData\\Local\\Temp\\ipykernel_14856\\3667917964.py:85: FutureWarning: Passing literal html to 'read_html' is deprecated and will be removed in a future version. To read from a literal string, wrap it in a 'StringIO' object.\n",
      "  dfs = pd.read_html(r.text)\n",
      "WARNING: Event 205: failed with error: [Errno 28] No space left on device\n",
      "INFO: Downloading photometry: https://www.astrouw.edu.pl/ogle/ogle3/ews/2003/blg-206/phot.dat\n"
     ]
    },
    {
     "name": "stdout",
     "output_type": "stream",
     "text": [
      "OGLE 2003 BLG 206 started\n"
     ]
    },
    {
     "name": "stderr",
     "output_type": "stream",
     "text": [
      "INFO: Fetching OGLE guesses: https://ogle.astrouw.edu.pl/ogle3/ews/2003/blg-206.html\n",
      "C:\\Users\\Saeed\\AppData\\Local\\Temp\\ipykernel_14856\\3667917964.py:85: FutureWarning: Passing literal html to 'read_html' is deprecated and will be removed in a future version. To read from a literal string, wrap it in a 'StringIO' object.\n",
      "  dfs = pd.read_html(r.text)\n",
      "WARNING: Event 206: failed with error: [Errno 28] No space left on device\n",
      "INFO: Downloading photometry: https://www.astrouw.edu.pl/ogle/ogle3/ews/2003/blg-207/phot.dat\n"
     ]
    },
    {
     "name": "stdout",
     "output_type": "stream",
     "text": [
      "OGLE 2003 BLG 207 started\n"
     ]
    },
    {
     "name": "stderr",
     "output_type": "stream",
     "text": [
      "INFO: Fetching OGLE guesses: https://ogle.astrouw.edu.pl/ogle3/ews/2003/blg-207.html\n",
      "C:\\Users\\Saeed\\AppData\\Local\\Temp\\ipykernel_14856\\3667917964.py:85: FutureWarning: Passing literal html to 'read_html' is deprecated and will be removed in a future version. To read from a literal string, wrap it in a 'StringIO' object.\n",
      "  dfs = pd.read_html(r.text)\n",
      "WARNING: Event 207: failed with error: [Errno 28] No space left on device\n",
      "INFO: Downloading photometry: https://www.astrouw.edu.pl/ogle/ogle3/ews/2003/blg-208/phot.dat\n"
     ]
    },
    {
     "name": "stdout",
     "output_type": "stream",
     "text": [
      "OGLE 2003 BLG 208 started\n"
     ]
    },
    {
     "name": "stderr",
     "output_type": "stream",
     "text": [
      "INFO: Fetching OGLE guesses: https://ogle.astrouw.edu.pl/ogle3/ews/2003/blg-208.html\n",
      "C:\\Users\\Saeed\\AppData\\Local\\Temp\\ipykernel_14856\\3667917964.py:85: FutureWarning: Passing literal html to 'read_html' is deprecated and will be removed in a future version. To read from a literal string, wrap it in a 'StringIO' object.\n",
      "  dfs = pd.read_html(r.text)\n",
      "WARNING: Event 208: failed with error: [Errno 28] No space left on device\n",
      "INFO: Downloading photometry: https://www.astrouw.edu.pl/ogle/ogle3/ews/2003/blg-209/phot.dat\n"
     ]
    },
    {
     "name": "stdout",
     "output_type": "stream",
     "text": [
      "OGLE 2003 BLG 209 started\n"
     ]
    },
    {
     "name": "stderr",
     "output_type": "stream",
     "text": [
      "INFO: Fetching OGLE guesses: https://ogle.astrouw.edu.pl/ogle3/ews/2003/blg-209.html\n",
      "C:\\Users\\Saeed\\AppData\\Local\\Temp\\ipykernel_14856\\3667917964.py:85: FutureWarning: Passing literal html to 'read_html' is deprecated and will be removed in a future version. To read from a literal string, wrap it in a 'StringIO' object.\n",
      "  dfs = pd.read_html(r.text)\n",
      "WARNING: Event 209: failed with error: [Errno 28] No space left on device\n",
      "INFO: Downloading photometry: https://www.astrouw.edu.pl/ogle/ogle3/ews/2003/blg-210/phot.dat\n"
     ]
    },
    {
     "name": "stdout",
     "output_type": "stream",
     "text": [
      "OGLE 2003 BLG 210 started\n"
     ]
    },
    {
     "name": "stderr",
     "output_type": "stream",
     "text": [
      "INFO: Fetching OGLE guesses: https://ogle.astrouw.edu.pl/ogle3/ews/2003/blg-210.html\n",
      "C:\\Users\\Saeed\\AppData\\Local\\Temp\\ipykernel_14856\\3667917964.py:85: FutureWarning: Passing literal html to 'read_html' is deprecated and will be removed in a future version. To read from a literal string, wrap it in a 'StringIO' object.\n",
      "  dfs = pd.read_html(r.text)\n",
      "WARNING: Event 210: failed with error: [Errno 28] No space left on device\n",
      "INFO: Downloading photometry: https://www.astrouw.edu.pl/ogle/ogle3/ews/2003/blg-211/phot.dat\n"
     ]
    },
    {
     "name": "stdout",
     "output_type": "stream",
     "text": [
      "OGLE 2003 BLG 211 started\n"
     ]
    },
    {
     "name": "stderr",
     "output_type": "stream",
     "text": [
      "INFO: Fetching OGLE guesses: https://ogle.astrouw.edu.pl/ogle3/ews/2003/blg-211.html\n",
      "C:\\Users\\Saeed\\AppData\\Local\\Temp\\ipykernel_14856\\3667917964.py:85: FutureWarning: Passing literal html to 'read_html' is deprecated and will be removed in a future version. To read from a literal string, wrap it in a 'StringIO' object.\n",
      "  dfs = pd.read_html(r.text)\n",
      "WARNING: Event 211: failed with error: [Errno 28] No space left on device\n",
      "INFO: Downloading photometry: https://www.astrouw.edu.pl/ogle/ogle3/ews/2003/blg-212/phot.dat\n"
     ]
    },
    {
     "name": "stdout",
     "output_type": "stream",
     "text": [
      "OGLE 2003 BLG 212 started\n"
     ]
    },
    {
     "name": "stderr",
     "output_type": "stream",
     "text": [
      "INFO: Fetching OGLE guesses: https://ogle.astrouw.edu.pl/ogle3/ews/2003/blg-212.html\n",
      "C:\\Users\\Saeed\\AppData\\Local\\Temp\\ipykernel_14856\\3667917964.py:85: FutureWarning: Passing literal html to 'read_html' is deprecated and will be removed in a future version. To read from a literal string, wrap it in a 'StringIO' object.\n",
      "  dfs = pd.read_html(r.text)\n",
      "WARNING: Event 212: failed with error: [Errno 28] No space left on device\n",
      "INFO: Downloading photometry: https://www.astrouw.edu.pl/ogle/ogle3/ews/2003/blg-213/phot.dat\n"
     ]
    },
    {
     "name": "stdout",
     "output_type": "stream",
     "text": [
      "OGLE 2003 BLG 213 started\n"
     ]
    },
    {
     "name": "stderr",
     "output_type": "stream",
     "text": [
      "INFO: Fetching OGLE guesses: https://ogle.astrouw.edu.pl/ogle3/ews/2003/blg-213.html\n",
      "C:\\Users\\Saeed\\AppData\\Local\\Temp\\ipykernel_14856\\3667917964.py:85: FutureWarning: Passing literal html to 'read_html' is deprecated and will be removed in a future version. To read from a literal string, wrap it in a 'StringIO' object.\n",
      "  dfs = pd.read_html(r.text)\n",
      "WARNING: Event 213: failed with error: [Errno 28] No space left on device\n",
      "INFO: Downloading photometry: https://www.astrouw.edu.pl/ogle/ogle3/ews/2003/blg-214/phot.dat\n"
     ]
    },
    {
     "name": "stdout",
     "output_type": "stream",
     "text": [
      "OGLE 2003 BLG 214 started\n"
     ]
    },
    {
     "name": "stderr",
     "output_type": "stream",
     "text": [
      "INFO: Fetching OGLE guesses: https://ogle.astrouw.edu.pl/ogle3/ews/2003/blg-214.html\n",
      "C:\\Users\\Saeed\\AppData\\Local\\Temp\\ipykernel_14856\\3667917964.py:85: FutureWarning: Passing literal html to 'read_html' is deprecated and will be removed in a future version. To read from a literal string, wrap it in a 'StringIO' object.\n",
      "  dfs = pd.read_html(r.text)\n",
      "WARNING: Event 214: failed with error: [Errno 28] No space left on device\n",
      "INFO: Downloading photometry: https://www.astrouw.edu.pl/ogle/ogle3/ews/2003/blg-215/phot.dat\n"
     ]
    },
    {
     "name": "stdout",
     "output_type": "stream",
     "text": [
      "OGLE 2003 BLG 215 started\n"
     ]
    },
    {
     "name": "stderr",
     "output_type": "stream",
     "text": [
      "INFO: Fetching OGLE guesses: https://ogle.astrouw.edu.pl/ogle3/ews/2003/blg-215.html\n",
      "C:\\Users\\Saeed\\AppData\\Local\\Temp\\ipykernel_14856\\3667917964.py:85: FutureWarning: Passing literal html to 'read_html' is deprecated and will be removed in a future version. To read from a literal string, wrap it in a 'StringIO' object.\n",
      "  dfs = pd.read_html(r.text)\n",
      "WARNING: Event 215: failed with error: [Errno 28] No space left on device\n",
      "INFO: Downloading photometry: https://www.astrouw.edu.pl/ogle/ogle3/ews/2003/blg-216/phot.dat\n"
     ]
    },
    {
     "name": "stdout",
     "output_type": "stream",
     "text": [
      "OGLE 2003 BLG 216 started\n"
     ]
    },
    {
     "name": "stderr",
     "output_type": "stream",
     "text": [
      "INFO: Fetching OGLE guesses: https://ogle.astrouw.edu.pl/ogle3/ews/2003/blg-216.html\n",
      "C:\\Users\\Saeed\\AppData\\Local\\Temp\\ipykernel_14856\\3667917964.py:85: FutureWarning: Passing literal html to 'read_html' is deprecated and will be removed in a future version. To read from a literal string, wrap it in a 'StringIO' object.\n",
      "  dfs = pd.read_html(r.text)\n",
      "WARNING: Event 216: failed with error: [Errno 28] No space left on device\n",
      "INFO: Downloading photometry: https://www.astrouw.edu.pl/ogle/ogle3/ews/2003/blg-217/phot.dat\n"
     ]
    },
    {
     "name": "stdout",
     "output_type": "stream",
     "text": [
      "OGLE 2003 BLG 217 started\n"
     ]
    },
    {
     "name": "stderr",
     "output_type": "stream",
     "text": [
      "INFO: Fetching OGLE guesses: https://ogle.astrouw.edu.pl/ogle3/ews/2003/blg-217.html\n",
      "C:\\Users\\Saeed\\AppData\\Local\\Temp\\ipykernel_14856\\3667917964.py:85: FutureWarning: Passing literal html to 'read_html' is deprecated and will be removed in a future version. To read from a literal string, wrap it in a 'StringIO' object.\n",
      "  dfs = pd.read_html(r.text)\n",
      "WARNING: Event 217: failed with error: [Errno 28] No space left on device\n",
      "INFO: Downloading photometry: https://www.astrouw.edu.pl/ogle/ogle3/ews/2003/blg-218/phot.dat\n"
     ]
    },
    {
     "name": "stdout",
     "output_type": "stream",
     "text": [
      "OGLE 2003 BLG 218 started\n"
     ]
    },
    {
     "name": "stderr",
     "output_type": "stream",
     "text": [
      "INFO: Fetching OGLE guesses: https://ogle.astrouw.edu.pl/ogle3/ews/2003/blg-218.html\n",
      "C:\\Users\\Saeed\\AppData\\Local\\Temp\\ipykernel_14856\\3667917964.py:85: FutureWarning: Passing literal html to 'read_html' is deprecated and will be removed in a future version. To read from a literal string, wrap it in a 'StringIO' object.\n",
      "  dfs = pd.read_html(r.text)\n",
      "WARNING: Event 218: failed with error: [Errno 28] No space left on device\n",
      "INFO: Downloading photometry: https://www.astrouw.edu.pl/ogle/ogle3/ews/2003/blg-219/phot.dat\n"
     ]
    },
    {
     "name": "stdout",
     "output_type": "stream",
     "text": [
      "OGLE 2003 BLG 219 started\n"
     ]
    },
    {
     "name": "stderr",
     "output_type": "stream",
     "text": [
      "INFO: Fetching OGLE guesses: https://ogle.astrouw.edu.pl/ogle3/ews/2003/blg-219.html\n",
      "C:\\Users\\Saeed\\AppData\\Local\\Temp\\ipykernel_14856\\3667917964.py:85: FutureWarning: Passing literal html to 'read_html' is deprecated and will be removed in a future version. To read from a literal string, wrap it in a 'StringIO' object.\n",
      "  dfs = pd.read_html(r.text)\n",
      "WARNING: Event 219: failed with error: [Errno 28] No space left on device\n",
      "INFO: Downloading photometry: https://www.astrouw.edu.pl/ogle/ogle3/ews/2003/blg-220/phot.dat\n"
     ]
    },
    {
     "name": "stdout",
     "output_type": "stream",
     "text": [
      "OGLE 2003 BLG 220 started\n"
     ]
    },
    {
     "name": "stderr",
     "output_type": "stream",
     "text": [
      "INFO: Fetching OGLE guesses: https://ogle.astrouw.edu.pl/ogle3/ews/2003/blg-220.html\n",
      "C:\\Users\\Saeed\\AppData\\Local\\Temp\\ipykernel_14856\\3667917964.py:85: FutureWarning: Passing literal html to 'read_html' is deprecated and will be removed in a future version. To read from a literal string, wrap it in a 'StringIO' object.\n",
      "  dfs = pd.read_html(r.text)\n",
      "WARNING: Event 220: failed with error: [Errno 28] No space left on device\n",
      "INFO: Downloading photometry: https://www.astrouw.edu.pl/ogle/ogle3/ews/2003/blg-221/phot.dat\n"
     ]
    },
    {
     "name": "stdout",
     "output_type": "stream",
     "text": [
      "OGLE 2003 BLG 221 started\n"
     ]
    },
    {
     "name": "stderr",
     "output_type": "stream",
     "text": [
      "INFO: Fetching OGLE guesses: https://ogle.astrouw.edu.pl/ogle3/ews/2003/blg-221.html\n",
      "C:\\Users\\Saeed\\AppData\\Local\\Temp\\ipykernel_14856\\3667917964.py:85: FutureWarning: Passing literal html to 'read_html' is deprecated and will be removed in a future version. To read from a literal string, wrap it in a 'StringIO' object.\n",
      "  dfs = pd.read_html(r.text)\n",
      "WARNING: Event 221: failed with error: [Errno 28] No space left on device\n",
      "INFO: Downloading photometry: https://www.astrouw.edu.pl/ogle/ogle3/ews/2003/blg-222/phot.dat\n"
     ]
    },
    {
     "name": "stdout",
     "output_type": "stream",
     "text": [
      "OGLE 2003 BLG 222 started\n"
     ]
    },
    {
     "name": "stderr",
     "output_type": "stream",
     "text": [
      "INFO: Fetching OGLE guesses: https://ogle.astrouw.edu.pl/ogle3/ews/2003/blg-222.html\n",
      "C:\\Users\\Saeed\\AppData\\Local\\Temp\\ipykernel_14856\\3667917964.py:85: FutureWarning: Passing literal html to 'read_html' is deprecated and will be removed in a future version. To read from a literal string, wrap it in a 'StringIO' object.\n",
      "  dfs = pd.read_html(r.text)\n",
      "WARNING: Event 222: failed with error: [Errno 28] No space left on device\n",
      "INFO: Downloading photometry: https://www.astrouw.edu.pl/ogle/ogle3/ews/2003/blg-223/phot.dat\n"
     ]
    },
    {
     "name": "stdout",
     "output_type": "stream",
     "text": [
      "OGLE 2003 BLG 223 started\n"
     ]
    },
    {
     "name": "stderr",
     "output_type": "stream",
     "text": [
      "INFO: Fetching OGLE guesses: https://ogle.astrouw.edu.pl/ogle3/ews/2003/blg-223.html\n",
      "C:\\Users\\Saeed\\AppData\\Local\\Temp\\ipykernel_14856\\3667917964.py:85: FutureWarning: Passing literal html to 'read_html' is deprecated and will be removed in a future version. To read from a literal string, wrap it in a 'StringIO' object.\n",
      "  dfs = pd.read_html(r.text)\n",
      "WARNING: Event 223: failed with error: [Errno 28] No space left on device\n",
      "INFO: Downloading photometry: https://www.astrouw.edu.pl/ogle/ogle3/ews/2003/blg-224/phot.dat\n"
     ]
    },
    {
     "name": "stdout",
     "output_type": "stream",
     "text": [
      "OGLE 2003 BLG 224 started\n"
     ]
    },
    {
     "name": "stderr",
     "output_type": "stream",
     "text": [
      "INFO: Fetching OGLE guesses: https://ogle.astrouw.edu.pl/ogle3/ews/2003/blg-224.html\n",
      "C:\\Users\\Saeed\\AppData\\Local\\Temp\\ipykernel_14856\\3667917964.py:85: FutureWarning: Passing literal html to 'read_html' is deprecated and will be removed in a future version. To read from a literal string, wrap it in a 'StringIO' object.\n",
      "  dfs = pd.read_html(r.text)\n",
      "WARNING: Event 224: failed with error: [Errno 28] No space left on device\n",
      "INFO: Downloading photometry: https://www.astrouw.edu.pl/ogle/ogle3/ews/2003/blg-225/phot.dat\n"
     ]
    },
    {
     "name": "stdout",
     "output_type": "stream",
     "text": [
      "OGLE 2003 BLG 225 started\n"
     ]
    },
    {
     "name": "stderr",
     "output_type": "stream",
     "text": [
      "INFO: Fetching OGLE guesses: https://ogle.astrouw.edu.pl/ogle3/ews/2003/blg-225.html\n",
      "C:\\Users\\Saeed\\AppData\\Local\\Temp\\ipykernel_14856\\3667917964.py:85: FutureWarning: Passing literal html to 'read_html' is deprecated and will be removed in a future version. To read from a literal string, wrap it in a 'StringIO' object.\n",
      "  dfs = pd.read_html(r.text)\n",
      "WARNING: Event 225: failed with error: [Errno 28] No space left on device\n",
      "INFO: Downloading photometry: https://www.astrouw.edu.pl/ogle/ogle3/ews/2003/blg-226/phot.dat\n"
     ]
    },
    {
     "name": "stdout",
     "output_type": "stream",
     "text": [
      "OGLE 2003 BLG 226 started\n"
     ]
    },
    {
     "name": "stderr",
     "output_type": "stream",
     "text": [
      "INFO: Fetching OGLE guesses: https://ogle.astrouw.edu.pl/ogle3/ews/2003/blg-226.html\n",
      "C:\\Users\\Saeed\\AppData\\Local\\Temp\\ipykernel_14856\\3667917964.py:85: FutureWarning: Passing literal html to 'read_html' is deprecated and will be removed in a future version. To read from a literal string, wrap it in a 'StringIO' object.\n",
      "  dfs = pd.read_html(r.text)\n",
      "WARNING: Event 226: failed with error: [Errno 28] No space left on device\n",
      "INFO: Downloading photometry: https://www.astrouw.edu.pl/ogle/ogle3/ews/2003/blg-227/phot.dat\n"
     ]
    },
    {
     "name": "stdout",
     "output_type": "stream",
     "text": [
      "OGLE 2003 BLG 227 started\n"
     ]
    },
    {
     "name": "stderr",
     "output_type": "stream",
     "text": [
      "INFO: Fetching OGLE guesses: https://ogle.astrouw.edu.pl/ogle3/ews/2003/blg-227.html\n",
      "C:\\Users\\Saeed\\AppData\\Local\\Temp\\ipykernel_14856\\3667917964.py:85: FutureWarning: Passing literal html to 'read_html' is deprecated and will be removed in a future version. To read from a literal string, wrap it in a 'StringIO' object.\n",
      "  dfs = pd.read_html(r.text)\n",
      "WARNING: Event 227: failed with error: [Errno 28] No space left on device\n",
      "INFO: Downloading photometry: https://www.astrouw.edu.pl/ogle/ogle3/ews/2003/blg-228/phot.dat\n"
     ]
    },
    {
     "name": "stdout",
     "output_type": "stream",
     "text": [
      "OGLE 2003 BLG 228 started\n"
     ]
    },
    {
     "name": "stderr",
     "output_type": "stream",
     "text": [
      "INFO: Fetching OGLE guesses: https://ogle.astrouw.edu.pl/ogle3/ews/2003/blg-228.html\n",
      "C:\\Users\\Saeed\\AppData\\Local\\Temp\\ipykernel_14856\\3667917964.py:85: FutureWarning: Passing literal html to 'read_html' is deprecated and will be removed in a future version. To read from a literal string, wrap it in a 'StringIO' object.\n",
      "  dfs = pd.read_html(r.text)\n",
      "WARNING: Event 228: failed with error: [Errno 28] No space left on device\n",
      "INFO: Downloading photometry: https://www.astrouw.edu.pl/ogle/ogle3/ews/2003/blg-229/phot.dat\n"
     ]
    },
    {
     "name": "stdout",
     "output_type": "stream",
     "text": [
      "OGLE 2003 BLG 229 started\n"
     ]
    },
    {
     "name": "stderr",
     "output_type": "stream",
     "text": [
      "INFO: Fetching OGLE guesses: https://ogle.astrouw.edu.pl/ogle3/ews/2003/blg-229.html\n",
      "C:\\Users\\Saeed\\AppData\\Local\\Temp\\ipykernel_14856\\3667917964.py:85: FutureWarning: Passing literal html to 'read_html' is deprecated and will be removed in a future version. To read from a literal string, wrap it in a 'StringIO' object.\n",
      "  dfs = pd.read_html(r.text)\n",
      "WARNING: Event 229: failed with error: [Errno 28] No space left on device\n",
      "INFO: Downloading photometry: https://www.astrouw.edu.pl/ogle/ogle3/ews/2003/blg-230/phot.dat\n"
     ]
    },
    {
     "name": "stdout",
     "output_type": "stream",
     "text": [
      "OGLE 2003 BLG 230 started\n"
     ]
    },
    {
     "name": "stderr",
     "output_type": "stream",
     "text": [
      "INFO: Fetching OGLE guesses: https://ogle.astrouw.edu.pl/ogle3/ews/2003/blg-230.html\n",
      "C:\\Users\\Saeed\\AppData\\Local\\Temp\\ipykernel_14856\\3667917964.py:85: FutureWarning: Passing literal html to 'read_html' is deprecated and will be removed in a future version. To read from a literal string, wrap it in a 'StringIO' object.\n",
      "  dfs = pd.read_html(r.text)\n",
      "WARNING: Event 230: failed with error: [Errno 28] No space left on device\n",
      "INFO: Downloading photometry: https://www.astrouw.edu.pl/ogle/ogle3/ews/2003/blg-231/phot.dat\n"
     ]
    },
    {
     "name": "stdout",
     "output_type": "stream",
     "text": [
      "OGLE 2003 BLG 231 started\n"
     ]
    },
    {
     "name": "stderr",
     "output_type": "stream",
     "text": [
      "INFO: Fetching OGLE guesses: https://ogle.astrouw.edu.pl/ogle3/ews/2003/blg-231.html\n",
      "C:\\Users\\Saeed\\AppData\\Local\\Temp\\ipykernel_14856\\3667917964.py:85: FutureWarning: Passing literal html to 'read_html' is deprecated and will be removed in a future version. To read from a literal string, wrap it in a 'StringIO' object.\n",
      "  dfs = pd.read_html(r.text)\n",
      "WARNING: Event 231: failed with error: [Errno 28] No space left on device\n",
      "INFO: Downloading photometry: https://www.astrouw.edu.pl/ogle/ogle3/ews/2003/blg-232/phot.dat\n"
     ]
    },
    {
     "name": "stdout",
     "output_type": "stream",
     "text": [
      "OGLE 2003 BLG 232 started\n"
     ]
    },
    {
     "name": "stderr",
     "output_type": "stream",
     "text": [
      "INFO: Fetching OGLE guesses: https://ogle.astrouw.edu.pl/ogle3/ews/2003/blg-232.html\n",
      "C:\\Users\\Saeed\\AppData\\Local\\Temp\\ipykernel_14856\\3667917964.py:85: FutureWarning: Passing literal html to 'read_html' is deprecated and will be removed in a future version. To read from a literal string, wrap it in a 'StringIO' object.\n",
      "  dfs = pd.read_html(r.text)\n",
      "WARNING: Event 232: failed with error: [Errno 28] No space left on device\n",
      "INFO: Downloading photometry: https://www.astrouw.edu.pl/ogle/ogle3/ews/2003/blg-233/phot.dat\n"
     ]
    },
    {
     "name": "stdout",
     "output_type": "stream",
     "text": [
      "OGLE 2003 BLG 233 started\n"
     ]
    },
    {
     "name": "stderr",
     "output_type": "stream",
     "text": [
      "INFO: Fetching OGLE guesses: https://ogle.astrouw.edu.pl/ogle3/ews/2003/blg-233.html\n",
      "C:\\Users\\Saeed\\AppData\\Local\\Temp\\ipykernel_14856\\3667917964.py:85: FutureWarning: Passing literal html to 'read_html' is deprecated and will be removed in a future version. To read from a literal string, wrap it in a 'StringIO' object.\n",
      "  dfs = pd.read_html(r.text)\n",
      "WARNING: Event 233: failed with error: [Errno 28] No space left on device\n",
      "INFO: Downloading photometry: https://www.astrouw.edu.pl/ogle/ogle3/ews/2003/blg-234/phot.dat\n"
     ]
    },
    {
     "name": "stdout",
     "output_type": "stream",
     "text": [
      "OGLE 2003 BLG 234 started\n"
     ]
    },
    {
     "name": "stderr",
     "output_type": "stream",
     "text": [
      "INFO: Fetching OGLE guesses: https://ogle.astrouw.edu.pl/ogle3/ews/2003/blg-234.html\n",
      "C:\\Users\\Saeed\\AppData\\Local\\Temp\\ipykernel_14856\\3667917964.py:85: FutureWarning: Passing literal html to 'read_html' is deprecated and will be removed in a future version. To read from a literal string, wrap it in a 'StringIO' object.\n",
      "  dfs = pd.read_html(r.text)\n",
      "WARNING: Event 234: failed with error: [Errno 28] No space left on device\n",
      "INFO: Downloading photometry: https://www.astrouw.edu.pl/ogle/ogle3/ews/2003/blg-235/phot.dat\n"
     ]
    },
    {
     "name": "stdout",
     "output_type": "stream",
     "text": [
      "OGLE 2003 BLG 235 started\n"
     ]
    },
    {
     "name": "stderr",
     "output_type": "stream",
     "text": [
      "INFO: Fetching OGLE guesses: https://ogle.astrouw.edu.pl/ogle3/ews/2003/blg-235.html\n",
      "C:\\Users\\Saeed\\AppData\\Local\\Temp\\ipykernel_14856\\3667917964.py:85: FutureWarning: Passing literal html to 'read_html' is deprecated and will be removed in a future version. To read from a literal string, wrap it in a 'StringIO' object.\n",
      "  dfs = pd.read_html(r.text)\n",
      "WARNING: Event 235: failed with error: [Errno 28] No space left on device\n",
      "INFO: Downloading photometry: https://www.astrouw.edu.pl/ogle/ogle3/ews/2003/blg-236/phot.dat\n"
     ]
    },
    {
     "name": "stdout",
     "output_type": "stream",
     "text": [
      "OGLE 2003 BLG 236 started\n"
     ]
    },
    {
     "name": "stderr",
     "output_type": "stream",
     "text": [
      "INFO: Fetching OGLE guesses: https://ogle.astrouw.edu.pl/ogle3/ews/2003/blg-236.html\n",
      "C:\\Users\\Saeed\\AppData\\Local\\Temp\\ipykernel_14856\\3667917964.py:85: FutureWarning: Passing literal html to 'read_html' is deprecated and will be removed in a future version. To read from a literal string, wrap it in a 'StringIO' object.\n",
      "  dfs = pd.read_html(r.text)\n",
      "WARNING: Parsed HTML but couldn't extract expected cells: could not convert string to float: '-'\n",
      "WARNING: Event 236: failed with error: [Errno 28] No space left on device\n",
      "INFO: Downloading photometry: https://www.astrouw.edu.pl/ogle/ogle3/ews/2003/blg-237/phot.dat\n"
     ]
    },
    {
     "name": "stdout",
     "output_type": "stream",
     "text": [
      "OGLE 2003 BLG 237 started\n"
     ]
    },
    {
     "name": "stderr",
     "output_type": "stream",
     "text": [
      "INFO: Fetching OGLE guesses: https://ogle.astrouw.edu.pl/ogle3/ews/2003/blg-237.html\n",
      "C:\\Users\\Saeed\\AppData\\Local\\Temp\\ipykernel_14856\\3667917964.py:85: FutureWarning: Passing literal html to 'read_html' is deprecated and will be removed in a future version. To read from a literal string, wrap it in a 'StringIO' object.\n",
      "  dfs = pd.read_html(r.text)\n",
      "WARNING: Event 237: failed with error: [Errno 28] No space left on device\n",
      "INFO: Downloading photometry: https://www.astrouw.edu.pl/ogle/ogle3/ews/2003/blg-238/phot.dat\n"
     ]
    },
    {
     "name": "stdout",
     "output_type": "stream",
     "text": [
      "OGLE 2003 BLG 238 started\n"
     ]
    },
    {
     "name": "stderr",
     "output_type": "stream",
     "text": [
      "INFO: Fetching OGLE guesses: https://ogle.astrouw.edu.pl/ogle3/ews/2003/blg-238.html\n",
      "C:\\Users\\Saeed\\AppData\\Local\\Temp\\ipykernel_14856\\3667917964.py:85: FutureWarning: Passing literal html to 'read_html' is deprecated and will be removed in a future version. To read from a literal string, wrap it in a 'StringIO' object.\n",
      "  dfs = pd.read_html(r.text)\n",
      "WARNING: Event 238: failed with error: [Errno 28] No space left on device\n",
      "INFO: Downloading photometry: https://www.astrouw.edu.pl/ogle/ogle3/ews/2003/blg-239/phot.dat\n"
     ]
    },
    {
     "name": "stdout",
     "output_type": "stream",
     "text": [
      "OGLE 2003 BLG 239 started\n"
     ]
    },
    {
     "name": "stderr",
     "output_type": "stream",
     "text": [
      "INFO: Fetching OGLE guesses: https://ogle.astrouw.edu.pl/ogle3/ews/2003/blg-239.html\n",
      "C:\\Users\\Saeed\\AppData\\Local\\Temp\\ipykernel_14856\\3667917964.py:85: FutureWarning: Passing literal html to 'read_html' is deprecated and will be removed in a future version. To read from a literal string, wrap it in a 'StringIO' object.\n",
      "  dfs = pd.read_html(r.text)\n",
      "WARNING: Event 239: failed with error: [Errno 28] No space left on device\n",
      "INFO: Downloading photometry: https://www.astrouw.edu.pl/ogle/ogle3/ews/2003/blg-240/phot.dat\n"
     ]
    },
    {
     "name": "stdout",
     "output_type": "stream",
     "text": [
      "OGLE 2003 BLG 240 started\n"
     ]
    },
    {
     "name": "stderr",
     "output_type": "stream",
     "text": [
      "INFO: Fetching OGLE guesses: https://ogle.astrouw.edu.pl/ogle3/ews/2003/blg-240.html\n",
      "C:\\Users\\Saeed\\AppData\\Local\\Temp\\ipykernel_14856\\3667917964.py:85: FutureWarning: Passing literal html to 'read_html' is deprecated and will be removed in a future version. To read from a literal string, wrap it in a 'StringIO' object.\n",
      "  dfs = pd.read_html(r.text)\n",
      "WARNING: Event 240: failed with error: [Errno 28] No space left on device\n",
      "INFO: Downloading photometry: https://www.astrouw.edu.pl/ogle/ogle3/ews/2003/blg-241/phot.dat\n"
     ]
    },
    {
     "name": "stdout",
     "output_type": "stream",
     "text": [
      "OGLE 2003 BLG 241 started\n"
     ]
    },
    {
     "name": "stderr",
     "output_type": "stream",
     "text": [
      "INFO: Fetching OGLE guesses: https://ogle.astrouw.edu.pl/ogle3/ews/2003/blg-241.html\n",
      "C:\\Users\\Saeed\\AppData\\Local\\Temp\\ipykernel_14856\\3667917964.py:85: FutureWarning: Passing literal html to 'read_html' is deprecated and will be removed in a future version. To read from a literal string, wrap it in a 'StringIO' object.\n",
      "  dfs = pd.read_html(r.text)\n",
      "WARNING: Event 241: failed with error: [Errno 28] No space left on device\n",
      "INFO: Downloading photometry: https://www.astrouw.edu.pl/ogle/ogle3/ews/2003/blg-242/phot.dat\n"
     ]
    },
    {
     "name": "stdout",
     "output_type": "stream",
     "text": [
      "OGLE 2003 BLG 242 started\n"
     ]
    },
    {
     "name": "stderr",
     "output_type": "stream",
     "text": [
      "INFO: Fetching OGLE guesses: https://ogle.astrouw.edu.pl/ogle3/ews/2003/blg-242.html\n",
      "C:\\Users\\Saeed\\AppData\\Local\\Temp\\ipykernel_14856\\3667917964.py:85: FutureWarning: Passing literal html to 'read_html' is deprecated and will be removed in a future version. To read from a literal string, wrap it in a 'StringIO' object.\n",
      "  dfs = pd.read_html(r.text)\n",
      "WARNING: Event 242: failed with error: [Errno 28] No space left on device\n",
      "INFO: Downloading photometry: https://www.astrouw.edu.pl/ogle/ogle3/ews/2003/blg-243/phot.dat\n"
     ]
    },
    {
     "name": "stdout",
     "output_type": "stream",
     "text": [
      "OGLE 2003 BLG 243 started\n"
     ]
    },
    {
     "name": "stderr",
     "output_type": "stream",
     "text": [
      "INFO: Fetching OGLE guesses: https://ogle.astrouw.edu.pl/ogle3/ews/2003/blg-243.html\n",
      "C:\\Users\\Saeed\\AppData\\Local\\Temp\\ipykernel_14856\\3667917964.py:85: FutureWarning: Passing literal html to 'read_html' is deprecated and will be removed in a future version. To read from a literal string, wrap it in a 'StringIO' object.\n",
      "  dfs = pd.read_html(r.text)\n",
      "WARNING: Event 243: failed with error: [Errno 28] No space left on device\n",
      "INFO: Downloading photometry: https://www.astrouw.edu.pl/ogle/ogle3/ews/2003/blg-244/phot.dat\n"
     ]
    },
    {
     "name": "stdout",
     "output_type": "stream",
     "text": [
      "OGLE 2003 BLG 244 started\n"
     ]
    },
    {
     "name": "stderr",
     "output_type": "stream",
     "text": [
      "INFO: Fetching OGLE guesses: https://ogle.astrouw.edu.pl/ogle3/ews/2003/blg-244.html\n",
      "C:\\Users\\Saeed\\AppData\\Local\\Temp\\ipykernel_14856\\3667917964.py:85: FutureWarning: Passing literal html to 'read_html' is deprecated and will be removed in a future version. To read from a literal string, wrap it in a 'StringIO' object.\n",
      "  dfs = pd.read_html(r.text)\n",
      "WARNING: Event 244: failed with error: [Errno 28] No space left on device\n",
      "INFO: Downloading photometry: https://www.astrouw.edu.pl/ogle/ogle3/ews/2003/blg-245/phot.dat\n"
     ]
    },
    {
     "name": "stdout",
     "output_type": "stream",
     "text": [
      "OGLE 2003 BLG 245 started\n"
     ]
    },
    {
     "name": "stderr",
     "output_type": "stream",
     "text": [
      "INFO: Fetching OGLE guesses: https://ogle.astrouw.edu.pl/ogle3/ews/2003/blg-245.html\n",
      "C:\\Users\\Saeed\\AppData\\Local\\Temp\\ipykernel_14856\\3667917964.py:85: FutureWarning: Passing literal html to 'read_html' is deprecated and will be removed in a future version. To read from a literal string, wrap it in a 'StringIO' object.\n",
      "  dfs = pd.read_html(r.text)\n",
      "WARNING: Event 245: failed with error: [Errno 28] No space left on device\n",
      "INFO: Downloading photometry: https://www.astrouw.edu.pl/ogle/ogle3/ews/2003/blg-246/phot.dat\n"
     ]
    },
    {
     "name": "stdout",
     "output_type": "stream",
     "text": [
      "OGLE 2003 BLG 246 started\n"
     ]
    },
    {
     "name": "stderr",
     "output_type": "stream",
     "text": [
      "INFO: Fetching OGLE guesses: https://ogle.astrouw.edu.pl/ogle3/ews/2003/blg-246.html\n",
      "C:\\Users\\Saeed\\AppData\\Local\\Temp\\ipykernel_14856\\3667917964.py:85: FutureWarning: Passing literal html to 'read_html' is deprecated and will be removed in a future version. To read from a literal string, wrap it in a 'StringIO' object.\n",
      "  dfs = pd.read_html(r.text)\n",
      "WARNING: Event 246: failed with error: [Errno 28] No space left on device\n",
      "INFO: Downloading photometry: https://www.astrouw.edu.pl/ogle/ogle3/ews/2003/blg-247/phot.dat\n"
     ]
    },
    {
     "name": "stdout",
     "output_type": "stream",
     "text": [
      "OGLE 2003 BLG 247 started\n"
     ]
    },
    {
     "name": "stderr",
     "output_type": "stream",
     "text": [
      "INFO: Fetching OGLE guesses: https://ogle.astrouw.edu.pl/ogle3/ews/2003/blg-247.html\n",
      "C:\\Users\\Saeed\\AppData\\Local\\Temp\\ipykernel_14856\\3667917964.py:85: FutureWarning: Passing literal html to 'read_html' is deprecated and will be removed in a future version. To read from a literal string, wrap it in a 'StringIO' object.\n",
      "  dfs = pd.read_html(r.text)\n",
      "WARNING: Event 247: failed with error: [Errno 28] No space left on device\n",
      "INFO: Downloading photometry: https://www.astrouw.edu.pl/ogle/ogle3/ews/2003/blg-248/phot.dat\n"
     ]
    },
    {
     "name": "stdout",
     "output_type": "stream",
     "text": [
      "OGLE 2003 BLG 248 started\n"
     ]
    },
    {
     "name": "stderr",
     "output_type": "stream",
     "text": [
      "INFO: Fetching OGLE guesses: https://ogle.astrouw.edu.pl/ogle3/ews/2003/blg-248.html\n",
      "C:\\Users\\Saeed\\AppData\\Local\\Temp\\ipykernel_14856\\3667917964.py:85: FutureWarning: Passing literal html to 'read_html' is deprecated and will be removed in a future version. To read from a literal string, wrap it in a 'StringIO' object.\n",
      "  dfs = pd.read_html(r.text)\n",
      "WARNING: Event 248: failed with error: [Errno 28] No space left on device\n",
      "INFO: Downloading photometry: https://www.astrouw.edu.pl/ogle/ogle3/ews/2003/blg-249/phot.dat\n"
     ]
    },
    {
     "name": "stdout",
     "output_type": "stream",
     "text": [
      "OGLE 2003 BLG 249 started\n"
     ]
    },
    {
     "name": "stderr",
     "output_type": "stream",
     "text": [
      "INFO: Fetching OGLE guesses: https://ogle.astrouw.edu.pl/ogle3/ews/2003/blg-249.html\n",
      "C:\\Users\\Saeed\\AppData\\Local\\Temp\\ipykernel_14856\\3667917964.py:85: FutureWarning: Passing literal html to 'read_html' is deprecated and will be removed in a future version. To read from a literal string, wrap it in a 'StringIO' object.\n",
      "  dfs = pd.read_html(r.text)\n",
      "WARNING: Event 249: failed with error: [Errno 28] No space left on device\n",
      "INFO: Downloading photometry: https://www.astrouw.edu.pl/ogle/ogle3/ews/2003/blg-250/phot.dat\n"
     ]
    },
    {
     "name": "stdout",
     "output_type": "stream",
     "text": [
      "OGLE 2003 BLG 250 started\n"
     ]
    },
    {
     "name": "stderr",
     "output_type": "stream",
     "text": [
      "INFO: Fetching OGLE guesses: https://ogle.astrouw.edu.pl/ogle3/ews/2003/blg-250.html\n",
      "C:\\Users\\Saeed\\AppData\\Local\\Temp\\ipykernel_14856\\3667917964.py:85: FutureWarning: Passing literal html to 'read_html' is deprecated and will be removed in a future version. To read from a literal string, wrap it in a 'StringIO' object.\n",
      "  dfs = pd.read_html(r.text)\n",
      "WARNING: Event 250: failed with error: [Errno 28] No space left on device\n",
      "INFO: Downloading photometry: https://www.astrouw.edu.pl/ogle/ogle3/ews/2003/blg-251/phot.dat\n"
     ]
    },
    {
     "name": "stdout",
     "output_type": "stream",
     "text": [
      "OGLE 2003 BLG 251 started\n"
     ]
    },
    {
     "name": "stderr",
     "output_type": "stream",
     "text": [
      "INFO: Fetching OGLE guesses: https://ogle.astrouw.edu.pl/ogle3/ews/2003/blg-251.html\n",
      "C:\\Users\\Saeed\\AppData\\Local\\Temp\\ipykernel_14856\\3667917964.py:85: FutureWarning: Passing literal html to 'read_html' is deprecated and will be removed in a future version. To read from a literal string, wrap it in a 'StringIO' object.\n",
      "  dfs = pd.read_html(r.text)\n",
      "WARNING: Event 251: failed with error: [Errno 28] No space left on device\n",
      "INFO: Downloading photometry: https://www.astrouw.edu.pl/ogle/ogle3/ews/2003/blg-252/phot.dat\n"
     ]
    },
    {
     "name": "stdout",
     "output_type": "stream",
     "text": [
      "OGLE 2003 BLG 252 started\n"
     ]
    },
    {
     "name": "stderr",
     "output_type": "stream",
     "text": [
      "INFO: Fetching OGLE guesses: https://ogle.astrouw.edu.pl/ogle3/ews/2003/blg-252.html\n",
      "C:\\Users\\Saeed\\AppData\\Local\\Temp\\ipykernel_14856\\3667917964.py:85: FutureWarning: Passing literal html to 'read_html' is deprecated and will be removed in a future version. To read from a literal string, wrap it in a 'StringIO' object.\n",
      "  dfs = pd.read_html(r.text)\n",
      "WARNING: Event 252: failed with error: [Errno 28] No space left on device\n",
      "INFO: Downloading photometry: https://www.astrouw.edu.pl/ogle/ogle3/ews/2003/blg-253/phot.dat\n"
     ]
    },
    {
     "name": "stdout",
     "output_type": "stream",
     "text": [
      "OGLE 2003 BLG 253 started\n"
     ]
    },
    {
     "name": "stderr",
     "output_type": "stream",
     "text": [
      "INFO: Fetching OGLE guesses: https://ogle.astrouw.edu.pl/ogle3/ews/2003/blg-253.html\n",
      "C:\\Users\\Saeed\\AppData\\Local\\Temp\\ipykernel_14856\\3667917964.py:85: FutureWarning: Passing literal html to 'read_html' is deprecated and will be removed in a future version. To read from a literal string, wrap it in a 'StringIO' object.\n",
      "  dfs = pd.read_html(r.text)\n",
      "WARNING: Event 253: failed with error: [Errno 28] No space left on device\n",
      "INFO: Downloading photometry: https://www.astrouw.edu.pl/ogle/ogle3/ews/2003/blg-254/phot.dat\n"
     ]
    },
    {
     "name": "stdout",
     "output_type": "stream",
     "text": [
      "OGLE 2003 BLG 254 started\n"
     ]
    },
    {
     "name": "stderr",
     "output_type": "stream",
     "text": [
      "INFO: Fetching OGLE guesses: https://ogle.astrouw.edu.pl/ogle3/ews/2003/blg-254.html\n",
      "C:\\Users\\Saeed\\AppData\\Local\\Temp\\ipykernel_14856\\3667917964.py:85: FutureWarning: Passing literal html to 'read_html' is deprecated and will be removed in a future version. To read from a literal string, wrap it in a 'StringIO' object.\n",
      "  dfs = pd.read_html(r.text)\n",
      "WARNING: Event 254: failed with error: [Errno 28] No space left on device\n",
      "INFO: Downloading photometry: https://www.astrouw.edu.pl/ogle/ogle3/ews/2003/blg-255/phot.dat\n"
     ]
    },
    {
     "name": "stdout",
     "output_type": "stream",
     "text": [
      "OGLE 2003 BLG 255 started\n"
     ]
    },
    {
     "name": "stderr",
     "output_type": "stream",
     "text": [
      "INFO: Fetching OGLE guesses: https://ogle.astrouw.edu.pl/ogle3/ews/2003/blg-255.html\n",
      "C:\\Users\\Saeed\\AppData\\Local\\Temp\\ipykernel_14856\\3667917964.py:85: FutureWarning: Passing literal html to 'read_html' is deprecated and will be removed in a future version. To read from a literal string, wrap it in a 'StringIO' object.\n",
      "  dfs = pd.read_html(r.text)\n",
      "WARNING: Event 255: failed with error: [Errno 28] No space left on device\n",
      "INFO: Downloading photometry: https://www.astrouw.edu.pl/ogle/ogle3/ews/2003/blg-256/phot.dat\n"
     ]
    },
    {
     "name": "stdout",
     "output_type": "stream",
     "text": [
      "OGLE 2003 BLG 256 started\n"
     ]
    },
    {
     "name": "stderr",
     "output_type": "stream",
     "text": [
      "INFO: Fetching OGLE guesses: https://ogle.astrouw.edu.pl/ogle3/ews/2003/blg-256.html\n",
      "C:\\Users\\Saeed\\AppData\\Local\\Temp\\ipykernel_14856\\3667917964.py:85: FutureWarning: Passing literal html to 'read_html' is deprecated and will be removed in a future version. To read from a literal string, wrap it in a 'StringIO' object.\n",
      "  dfs = pd.read_html(r.text)\n",
      "WARNING: Event 256: failed with error: [Errno 28] No space left on device\n",
      "INFO: Downloading photometry: https://www.astrouw.edu.pl/ogle/ogle3/ews/2003/blg-257/phot.dat\n"
     ]
    },
    {
     "name": "stdout",
     "output_type": "stream",
     "text": [
      "OGLE 2003 BLG 257 started\n"
     ]
    },
    {
     "name": "stderr",
     "output_type": "stream",
     "text": [
      "INFO: Fetching OGLE guesses: https://ogle.astrouw.edu.pl/ogle3/ews/2003/blg-257.html\n",
      "C:\\Users\\Saeed\\AppData\\Local\\Temp\\ipykernel_14856\\3667917964.py:85: FutureWarning: Passing literal html to 'read_html' is deprecated and will be removed in a future version. To read from a literal string, wrap it in a 'StringIO' object.\n",
      "  dfs = pd.read_html(r.text)\n",
      "WARNING: Event 257: failed with error: [Errno 28] No space left on device\n",
      "INFO: Downloading photometry: https://www.astrouw.edu.pl/ogle/ogle3/ews/2003/blg-258/phot.dat\n"
     ]
    },
    {
     "name": "stdout",
     "output_type": "stream",
     "text": [
      "OGLE 2003 BLG 258 started\n"
     ]
    },
    {
     "name": "stderr",
     "output_type": "stream",
     "text": [
      "INFO: Fetching OGLE guesses: https://ogle.astrouw.edu.pl/ogle3/ews/2003/blg-258.html\n",
      "C:\\Users\\Saeed\\AppData\\Local\\Temp\\ipykernel_14856\\3667917964.py:85: FutureWarning: Passing literal html to 'read_html' is deprecated and will be removed in a future version. To read from a literal string, wrap it in a 'StringIO' object.\n",
      "  dfs = pd.read_html(r.text)\n",
      "WARNING: Event 258: failed with error: [Errno 28] No space left on device\n",
      "INFO: Downloading photometry: https://www.astrouw.edu.pl/ogle/ogle3/ews/2003/blg-259/phot.dat\n"
     ]
    },
    {
     "name": "stdout",
     "output_type": "stream",
     "text": [
      "OGLE 2003 BLG 259 started\n"
     ]
    },
    {
     "name": "stderr",
     "output_type": "stream",
     "text": [
      "INFO: Fetching OGLE guesses: https://ogle.astrouw.edu.pl/ogle3/ews/2003/blg-259.html\n",
      "C:\\Users\\Saeed\\AppData\\Local\\Temp\\ipykernel_14856\\3667917964.py:85: FutureWarning: Passing literal html to 'read_html' is deprecated and will be removed in a future version. To read from a literal string, wrap it in a 'StringIO' object.\n",
      "  dfs = pd.read_html(r.text)\n",
      "WARNING: Event 259: failed with error: [Errno 28] No space left on device\n",
      "INFO: Downloading photometry: https://www.astrouw.edu.pl/ogle/ogle3/ews/2003/blg-260/phot.dat\n"
     ]
    },
    {
     "name": "stdout",
     "output_type": "stream",
     "text": [
      "OGLE 2003 BLG 260 started\n"
     ]
    },
    {
     "name": "stderr",
     "output_type": "stream",
     "text": [
      "INFO: Fetching OGLE guesses: https://ogle.astrouw.edu.pl/ogle3/ews/2003/blg-260.html\n",
      "C:\\Users\\Saeed\\AppData\\Local\\Temp\\ipykernel_14856\\3667917964.py:85: FutureWarning: Passing literal html to 'read_html' is deprecated and will be removed in a future version. To read from a literal string, wrap it in a 'StringIO' object.\n",
      "  dfs = pd.read_html(r.text)\n",
      "WARNING: Parsed HTML but couldn't extract expected cells: could not convert string to float: '-'\n",
      "WARNING: Event 260: failed with error: [Errno 28] No space left on device\n",
      "INFO: Downloading photometry: https://www.astrouw.edu.pl/ogle/ogle3/ews/2003/blg-261/phot.dat\n"
     ]
    },
    {
     "name": "stdout",
     "output_type": "stream",
     "text": [
      "OGLE 2003 BLG 261 started\n"
     ]
    },
    {
     "name": "stderr",
     "output_type": "stream",
     "text": [
      "INFO: Fetching OGLE guesses: https://ogle.astrouw.edu.pl/ogle3/ews/2003/blg-261.html\n",
      "C:\\Users\\Saeed\\AppData\\Local\\Temp\\ipykernel_14856\\3667917964.py:85: FutureWarning: Passing literal html to 'read_html' is deprecated and will be removed in a future version. To read from a literal string, wrap it in a 'StringIO' object.\n",
      "  dfs = pd.read_html(r.text)\n",
      "WARNING: Event 261: failed with error: [Errno 28] No space left on device\n",
      "INFO: Downloading photometry: https://www.astrouw.edu.pl/ogle/ogle3/ews/2003/blg-262/phot.dat\n"
     ]
    },
    {
     "name": "stdout",
     "output_type": "stream",
     "text": [
      "OGLE 2003 BLG 262 started\n"
     ]
    },
    {
     "name": "stderr",
     "output_type": "stream",
     "text": [
      "INFO: Fetching OGLE guesses: https://ogle.astrouw.edu.pl/ogle3/ews/2003/blg-262.html\n",
      "C:\\Users\\Saeed\\AppData\\Local\\Temp\\ipykernel_14856\\3667917964.py:85: FutureWarning: Passing literal html to 'read_html' is deprecated and will be removed in a future version. To read from a literal string, wrap it in a 'StringIO' object.\n",
      "  dfs = pd.read_html(r.text)\n",
      "WARNING: Event 262: failed with error: [Errno 28] No space left on device\n",
      "INFO: Downloading photometry: https://www.astrouw.edu.pl/ogle/ogle3/ews/2003/blg-263/phot.dat\n"
     ]
    },
    {
     "name": "stdout",
     "output_type": "stream",
     "text": [
      "OGLE 2003 BLG 263 started\n"
     ]
    },
    {
     "name": "stderr",
     "output_type": "stream",
     "text": [
      "INFO: Fetching OGLE guesses: https://ogle.astrouw.edu.pl/ogle3/ews/2003/blg-263.html\n",
      "C:\\Users\\Saeed\\AppData\\Local\\Temp\\ipykernel_14856\\3667917964.py:85: FutureWarning: Passing literal html to 'read_html' is deprecated and will be removed in a future version. To read from a literal string, wrap it in a 'StringIO' object.\n",
      "  dfs = pd.read_html(r.text)\n",
      "WARNING: Event 263: failed with error: [Errno 28] No space left on device\n",
      "INFO: Downloading photometry: https://www.astrouw.edu.pl/ogle/ogle3/ews/2003/blg-264/phot.dat\n"
     ]
    },
    {
     "name": "stdout",
     "output_type": "stream",
     "text": [
      "OGLE 2003 BLG 264 started\n"
     ]
    },
    {
     "name": "stderr",
     "output_type": "stream",
     "text": [
      "INFO: Fetching OGLE guesses: https://ogle.astrouw.edu.pl/ogle3/ews/2003/blg-264.html\n",
      "C:\\Users\\Saeed\\AppData\\Local\\Temp\\ipykernel_14856\\3667917964.py:85: FutureWarning: Passing literal html to 'read_html' is deprecated and will be removed in a future version. To read from a literal string, wrap it in a 'StringIO' object.\n",
      "  dfs = pd.read_html(r.text)\n",
      "WARNING: Event 264: failed with error: [Errno 28] No space left on device\n",
      "INFO: Downloading photometry: https://www.astrouw.edu.pl/ogle/ogle3/ews/2003/blg-265/phot.dat\n"
     ]
    },
    {
     "name": "stdout",
     "output_type": "stream",
     "text": [
      "OGLE 2003 BLG 265 started\n"
     ]
    },
    {
     "name": "stderr",
     "output_type": "stream",
     "text": [
      "INFO: Fetching OGLE guesses: https://ogle.astrouw.edu.pl/ogle3/ews/2003/blg-265.html\n",
      "C:\\Users\\Saeed\\AppData\\Local\\Temp\\ipykernel_14856\\3667917964.py:85: FutureWarning: Passing literal html to 'read_html' is deprecated and will be removed in a future version. To read from a literal string, wrap it in a 'StringIO' object.\n",
      "  dfs = pd.read_html(r.text)\n",
      "WARNING: Event 265: failed with error: [Errno 28] No space left on device\n",
      "INFO: Downloading photometry: https://www.astrouw.edu.pl/ogle/ogle3/ews/2003/blg-266/phot.dat\n"
     ]
    },
    {
     "name": "stdout",
     "output_type": "stream",
     "text": [
      "OGLE 2003 BLG 266 started\n"
     ]
    },
    {
     "name": "stderr",
     "output_type": "stream",
     "text": [
      "INFO: Fetching OGLE guesses: https://ogle.astrouw.edu.pl/ogle3/ews/2003/blg-266.html\n",
      "C:\\Users\\Saeed\\AppData\\Local\\Temp\\ipykernel_14856\\3667917964.py:85: FutureWarning: Passing literal html to 'read_html' is deprecated and will be removed in a future version. To read from a literal string, wrap it in a 'StringIO' object.\n",
      "  dfs = pd.read_html(r.text)\n",
      "WARNING: Event 266: failed with error: [Errno 28] No space left on device\n",
      "INFO: Downloading photometry: https://www.astrouw.edu.pl/ogle/ogle3/ews/2003/blg-267/phot.dat\n"
     ]
    },
    {
     "name": "stdout",
     "output_type": "stream",
     "text": [
      "OGLE 2003 BLG 267 started\n"
     ]
    },
    {
     "name": "stderr",
     "output_type": "stream",
     "text": [
      "INFO: Fetching OGLE guesses: https://ogle.astrouw.edu.pl/ogle3/ews/2003/blg-267.html\n",
      "C:\\Users\\Saeed\\AppData\\Local\\Temp\\ipykernel_14856\\3667917964.py:85: FutureWarning: Passing literal html to 'read_html' is deprecated and will be removed in a future version. To read from a literal string, wrap it in a 'StringIO' object.\n",
      "  dfs = pd.read_html(r.text)\n",
      "WARNING: Parsed HTML but couldn't extract expected cells: could not convert string to float: '-'\n",
      "WARNING: Event 267: failed with error: [Errno 28] No space left on device\n",
      "INFO: Downloading photometry: https://www.astrouw.edu.pl/ogle/ogle3/ews/2003/blg-268/phot.dat\n"
     ]
    },
    {
     "name": "stdout",
     "output_type": "stream",
     "text": [
      "OGLE 2003 BLG 268 started\n"
     ]
    },
    {
     "name": "stderr",
     "output_type": "stream",
     "text": [
      "INFO: Fetching OGLE guesses: https://ogle.astrouw.edu.pl/ogle3/ews/2003/blg-268.html\n",
      "C:\\Users\\Saeed\\AppData\\Local\\Temp\\ipykernel_14856\\3667917964.py:85: FutureWarning: Passing literal html to 'read_html' is deprecated and will be removed in a future version. To read from a literal string, wrap it in a 'StringIO' object.\n",
      "  dfs = pd.read_html(r.text)\n",
      "WARNING: Event 268: failed with error: [Errno 28] No space left on device\n",
      "INFO: Downloading photometry: https://www.astrouw.edu.pl/ogle/ogle3/ews/2003/blg-269/phot.dat\n"
     ]
    },
    {
     "name": "stdout",
     "output_type": "stream",
     "text": [
      "OGLE 2003 BLG 269 started\n"
     ]
    },
    {
     "name": "stderr",
     "output_type": "stream",
     "text": [
      "INFO: Fetching OGLE guesses: https://ogle.astrouw.edu.pl/ogle3/ews/2003/blg-269.html\n",
      "C:\\Users\\Saeed\\AppData\\Local\\Temp\\ipykernel_14856\\3667917964.py:85: FutureWarning: Passing literal html to 'read_html' is deprecated and will be removed in a future version. To read from a literal string, wrap it in a 'StringIO' object.\n",
      "  dfs = pd.read_html(r.text)\n",
      "WARNING: Event 269: failed with error: [Errno 28] No space left on device\n",
      "INFO: Downloading photometry: https://www.astrouw.edu.pl/ogle/ogle3/ews/2003/blg-270/phot.dat\n"
     ]
    },
    {
     "name": "stdout",
     "output_type": "stream",
     "text": [
      "OGLE 2003 BLG 270 started\n"
     ]
    },
    {
     "name": "stderr",
     "output_type": "stream",
     "text": [
      "INFO: Fetching OGLE guesses: https://ogle.astrouw.edu.pl/ogle3/ews/2003/blg-270.html\n",
      "C:\\Users\\Saeed\\AppData\\Local\\Temp\\ipykernel_14856\\3667917964.py:85: FutureWarning: Passing literal html to 'read_html' is deprecated and will be removed in a future version. To read from a literal string, wrap it in a 'StringIO' object.\n",
      "  dfs = pd.read_html(r.text)\n",
      "WARNING: Event 270: failed with error: [Errno 28] No space left on device\n",
      "INFO: Downloading photometry: https://www.astrouw.edu.pl/ogle/ogle3/ews/2003/blg-271/phot.dat\n"
     ]
    },
    {
     "name": "stdout",
     "output_type": "stream",
     "text": [
      "OGLE 2003 BLG 271 started\n"
     ]
    },
    {
     "name": "stderr",
     "output_type": "stream",
     "text": [
      "INFO: Fetching OGLE guesses: https://ogle.astrouw.edu.pl/ogle3/ews/2003/blg-271.html\n",
      "C:\\Users\\Saeed\\AppData\\Local\\Temp\\ipykernel_14856\\3667917964.py:85: FutureWarning: Passing literal html to 'read_html' is deprecated and will be removed in a future version. To read from a literal string, wrap it in a 'StringIO' object.\n",
      "  dfs = pd.read_html(r.text)\n",
      "WARNING: Parsed HTML but couldn't extract expected cells: could not convert string to float: '-'\n",
      "WARNING: Event 271: failed with error: [Errno 28] No space left on device\n",
      "INFO: Downloading photometry: https://www.astrouw.edu.pl/ogle/ogle3/ews/2003/blg-272/phot.dat\n"
     ]
    },
    {
     "name": "stdout",
     "output_type": "stream",
     "text": [
      "OGLE 2003 BLG 272 started\n"
     ]
    },
    {
     "name": "stderr",
     "output_type": "stream",
     "text": [
      "INFO: Fetching OGLE guesses: https://ogle.astrouw.edu.pl/ogle3/ews/2003/blg-272.html\n",
      "C:\\Users\\Saeed\\AppData\\Local\\Temp\\ipykernel_14856\\3667917964.py:85: FutureWarning: Passing literal html to 'read_html' is deprecated and will be removed in a future version. To read from a literal string, wrap it in a 'StringIO' object.\n",
      "  dfs = pd.read_html(r.text)\n",
      "WARNING: Event 272: failed with error: [Errno 28] No space left on device\n",
      "INFO: Downloading photometry: https://www.astrouw.edu.pl/ogle/ogle3/ews/2003/blg-273/phot.dat\n"
     ]
    },
    {
     "name": "stdout",
     "output_type": "stream",
     "text": [
      "OGLE 2003 BLG 273 started\n"
     ]
    },
    {
     "name": "stderr",
     "output_type": "stream",
     "text": [
      "INFO: Fetching OGLE guesses: https://ogle.astrouw.edu.pl/ogle3/ews/2003/blg-273.html\n",
      "C:\\Users\\Saeed\\AppData\\Local\\Temp\\ipykernel_14856\\3667917964.py:85: FutureWarning: Passing literal html to 'read_html' is deprecated and will be removed in a future version. To read from a literal string, wrap it in a 'StringIO' object.\n",
      "  dfs = pd.read_html(r.text)\n",
      "WARNING: Event 273: failed with error: [Errno 28] No space left on device\n",
      "INFO: Downloading photometry: https://www.astrouw.edu.pl/ogle/ogle3/ews/2003/blg-274/phot.dat\n"
     ]
    },
    {
     "name": "stdout",
     "output_type": "stream",
     "text": [
      "OGLE 2003 BLG 274 started\n"
     ]
    },
    {
     "name": "stderr",
     "output_type": "stream",
     "text": [
      "INFO: Fetching OGLE guesses: https://ogle.astrouw.edu.pl/ogle3/ews/2003/blg-274.html\n",
      "C:\\Users\\Saeed\\AppData\\Local\\Temp\\ipykernel_14856\\3667917964.py:85: FutureWarning: Passing literal html to 'read_html' is deprecated and will be removed in a future version. To read from a literal string, wrap it in a 'StringIO' object.\n",
      "  dfs = pd.read_html(r.text)\n",
      "WARNING: Event 274: failed with error: [Errno 28] No space left on device\n",
      "INFO: Downloading photometry: https://www.astrouw.edu.pl/ogle/ogle3/ews/2003/blg-275/phot.dat\n"
     ]
    },
    {
     "name": "stdout",
     "output_type": "stream",
     "text": [
      "OGLE 2003 BLG 275 started\n"
     ]
    },
    {
     "name": "stderr",
     "output_type": "stream",
     "text": [
      "INFO: Fetching OGLE guesses: https://ogle.astrouw.edu.pl/ogle3/ews/2003/blg-275.html\n",
      "C:\\Users\\Saeed\\AppData\\Local\\Temp\\ipykernel_14856\\3667917964.py:85: FutureWarning: Passing literal html to 'read_html' is deprecated and will be removed in a future version. To read from a literal string, wrap it in a 'StringIO' object.\n",
      "  dfs = pd.read_html(r.text)\n",
      "WARNING: Event 275: failed with error: [Errno 28] No space left on device\n",
      "INFO: Downloading photometry: https://www.astrouw.edu.pl/ogle/ogle3/ews/2003/blg-276/phot.dat\n"
     ]
    },
    {
     "name": "stdout",
     "output_type": "stream",
     "text": [
      "OGLE 2003 BLG 276 started\n"
     ]
    },
    {
     "name": "stderr",
     "output_type": "stream",
     "text": [
      "INFO: Fetching OGLE guesses: https://ogle.astrouw.edu.pl/ogle3/ews/2003/blg-276.html\n",
      "C:\\Users\\Saeed\\AppData\\Local\\Temp\\ipykernel_14856\\3667917964.py:85: FutureWarning: Passing literal html to 'read_html' is deprecated and will be removed in a future version. To read from a literal string, wrap it in a 'StringIO' object.\n",
      "  dfs = pd.read_html(r.text)\n",
      "WARNING: Event 276: failed with error: [Errno 28] No space left on device\n",
      "INFO: Downloading photometry: https://www.astrouw.edu.pl/ogle/ogle3/ews/2003/blg-277/phot.dat\n"
     ]
    },
    {
     "name": "stdout",
     "output_type": "stream",
     "text": [
      "OGLE 2003 BLG 277 started\n"
     ]
    },
    {
     "name": "stderr",
     "output_type": "stream",
     "text": [
      "INFO: Fetching OGLE guesses: https://ogle.astrouw.edu.pl/ogle3/ews/2003/blg-277.html\n",
      "C:\\Users\\Saeed\\AppData\\Local\\Temp\\ipykernel_14856\\3667917964.py:85: FutureWarning: Passing literal html to 'read_html' is deprecated and will be removed in a future version. To read from a literal string, wrap it in a 'StringIO' object.\n",
      "  dfs = pd.read_html(r.text)\n",
      "WARNING: Event 277: failed with error: [Errno 28] No space left on device\n",
      "INFO: Downloading photometry: https://www.astrouw.edu.pl/ogle/ogle3/ews/2003/blg-278/phot.dat\n"
     ]
    },
    {
     "name": "stdout",
     "output_type": "stream",
     "text": [
      "OGLE 2003 BLG 278 started\n"
     ]
    },
    {
     "name": "stderr",
     "output_type": "stream",
     "text": [
      "INFO: Fetching OGLE guesses: https://ogle.astrouw.edu.pl/ogle3/ews/2003/blg-278.html\n",
      "C:\\Users\\Saeed\\AppData\\Local\\Temp\\ipykernel_14856\\3667917964.py:85: FutureWarning: Passing literal html to 'read_html' is deprecated and will be removed in a future version. To read from a literal string, wrap it in a 'StringIO' object.\n",
      "  dfs = pd.read_html(r.text)\n",
      "WARNING: Event 278: failed with error: [Errno 28] No space left on device\n",
      "INFO: Downloading photometry: https://www.astrouw.edu.pl/ogle/ogle3/ews/2003/blg-279/phot.dat\n"
     ]
    },
    {
     "name": "stdout",
     "output_type": "stream",
     "text": [
      "OGLE 2003 BLG 279 started\n"
     ]
    },
    {
     "name": "stderr",
     "output_type": "stream",
     "text": [
      "INFO: Fetching OGLE guesses: https://ogle.astrouw.edu.pl/ogle3/ews/2003/blg-279.html\n",
      "C:\\Users\\Saeed\\AppData\\Local\\Temp\\ipykernel_14856\\3667917964.py:85: FutureWarning: Passing literal html to 'read_html' is deprecated and will be removed in a future version. To read from a literal string, wrap it in a 'StringIO' object.\n",
      "  dfs = pd.read_html(r.text)\n",
      "WARNING: Event 279: failed with error: [Errno 28] No space left on device\n",
      "INFO: Downloading photometry: https://www.astrouw.edu.pl/ogle/ogle3/ews/2003/blg-280/phot.dat\n"
     ]
    },
    {
     "name": "stdout",
     "output_type": "stream",
     "text": [
      "OGLE 2003 BLG 280 started\n"
     ]
    },
    {
     "name": "stderr",
     "output_type": "stream",
     "text": [
      "INFO: Fetching OGLE guesses: https://ogle.astrouw.edu.pl/ogle3/ews/2003/blg-280.html\n",
      "C:\\Users\\Saeed\\AppData\\Local\\Temp\\ipykernel_14856\\3667917964.py:85: FutureWarning: Passing literal html to 'read_html' is deprecated and will be removed in a future version. To read from a literal string, wrap it in a 'StringIO' object.\n",
      "  dfs = pd.read_html(r.text)\n",
      "WARNING: Event 280: failed with error: [Errno 28] No space left on device\n",
      "INFO: Downloading photometry: https://www.astrouw.edu.pl/ogle/ogle3/ews/2003/blg-281/phot.dat\n"
     ]
    },
    {
     "name": "stdout",
     "output_type": "stream",
     "text": [
      "OGLE 2003 BLG 281 started\n"
     ]
    },
    {
     "name": "stderr",
     "output_type": "stream",
     "text": [
      "INFO: Fetching OGLE guesses: https://ogle.astrouw.edu.pl/ogle3/ews/2003/blg-281.html\n",
      "C:\\Users\\Saeed\\AppData\\Local\\Temp\\ipykernel_14856\\3667917964.py:85: FutureWarning: Passing literal html to 'read_html' is deprecated and will be removed in a future version. To read from a literal string, wrap it in a 'StringIO' object.\n",
      "  dfs = pd.read_html(r.text)\n",
      "WARNING: Event 281: failed with error: [Errno 28] No space left on device\n",
      "INFO: Downloading photometry: https://www.astrouw.edu.pl/ogle/ogle3/ews/2003/blg-282/phot.dat\n"
     ]
    },
    {
     "name": "stdout",
     "output_type": "stream",
     "text": [
      "OGLE 2003 BLG 282 started\n"
     ]
    },
    {
     "name": "stderr",
     "output_type": "stream",
     "text": [
      "INFO: Fetching OGLE guesses: https://ogle.astrouw.edu.pl/ogle3/ews/2003/blg-282.html\n",
      "C:\\Users\\Saeed\\AppData\\Local\\Temp\\ipykernel_14856\\3667917964.py:85: FutureWarning: Passing literal html to 'read_html' is deprecated and will be removed in a future version. To read from a literal string, wrap it in a 'StringIO' object.\n",
      "  dfs = pd.read_html(r.text)\n",
      "WARNING: Event 282: failed with error: [Errno 28] No space left on device\n",
      "INFO: Downloading photometry: https://www.astrouw.edu.pl/ogle/ogle3/ews/2003/blg-283/phot.dat\n"
     ]
    },
    {
     "name": "stdout",
     "output_type": "stream",
     "text": [
      "OGLE 2003 BLG 283 started\n"
     ]
    },
    {
     "name": "stderr",
     "output_type": "stream",
     "text": [
      "INFO: Fetching OGLE guesses: https://ogle.astrouw.edu.pl/ogle3/ews/2003/blg-283.html\n",
      "C:\\Users\\Saeed\\AppData\\Local\\Temp\\ipykernel_14856\\3667917964.py:85: FutureWarning: Passing literal html to 'read_html' is deprecated and will be removed in a future version. To read from a literal string, wrap it in a 'StringIO' object.\n",
      "  dfs = pd.read_html(r.text)\n",
      "WARNING: Event 283: failed with error: [Errno 28] No space left on device\n",
      "INFO: Downloading photometry: https://www.astrouw.edu.pl/ogle/ogle3/ews/2003/blg-284/phot.dat\n"
     ]
    },
    {
     "name": "stdout",
     "output_type": "stream",
     "text": [
      "OGLE 2003 BLG 284 started\n"
     ]
    },
    {
     "name": "stderr",
     "output_type": "stream",
     "text": [
      "INFO: Fetching OGLE guesses: https://ogle.astrouw.edu.pl/ogle3/ews/2003/blg-284.html\n",
      "C:\\Users\\Saeed\\AppData\\Local\\Temp\\ipykernel_14856\\3667917964.py:85: FutureWarning: Passing literal html to 'read_html' is deprecated and will be removed in a future version. To read from a literal string, wrap it in a 'StringIO' object.\n",
      "  dfs = pd.read_html(r.text)\n",
      "WARNING: Event 284: failed with error: [Errno 28] No space left on device\n",
      "INFO: Downloading photometry: https://www.astrouw.edu.pl/ogle/ogle3/ews/2003/blg-285/phot.dat\n"
     ]
    },
    {
     "name": "stdout",
     "output_type": "stream",
     "text": [
      "OGLE 2003 BLG 285 started\n"
     ]
    },
    {
     "name": "stderr",
     "output_type": "stream",
     "text": [
      "INFO: Fetching OGLE guesses: https://ogle.astrouw.edu.pl/ogle3/ews/2003/blg-285.html\n",
      "C:\\Users\\Saeed\\AppData\\Local\\Temp\\ipykernel_14856\\3667917964.py:85: FutureWarning: Passing literal html to 'read_html' is deprecated and will be removed in a future version. To read from a literal string, wrap it in a 'StringIO' object.\n",
      "  dfs = pd.read_html(r.text)\n",
      "WARNING: Event 285: failed with error: [Errno 28] No space left on device\n",
      "INFO: Downloading photometry: https://www.astrouw.edu.pl/ogle/ogle3/ews/2003/blg-286/phot.dat\n"
     ]
    },
    {
     "name": "stdout",
     "output_type": "stream",
     "text": [
      "OGLE 2003 BLG 286 started\n"
     ]
    },
    {
     "name": "stderr",
     "output_type": "stream",
     "text": [
      "INFO: Fetching OGLE guesses: https://ogle.astrouw.edu.pl/ogle3/ews/2003/blg-286.html\n",
      "C:\\Users\\Saeed\\AppData\\Local\\Temp\\ipykernel_14856\\3667917964.py:85: FutureWarning: Passing literal html to 'read_html' is deprecated and will be removed in a future version. To read from a literal string, wrap it in a 'StringIO' object.\n",
      "  dfs = pd.read_html(r.text)\n",
      "WARNING: Event 286: failed with error: [Errno 28] No space left on device\n",
      "INFO: Downloading photometry: https://www.astrouw.edu.pl/ogle/ogle3/ews/2003/blg-287/phot.dat\n"
     ]
    },
    {
     "name": "stdout",
     "output_type": "stream",
     "text": [
      "OGLE 2003 BLG 287 started\n"
     ]
    },
    {
     "name": "stderr",
     "output_type": "stream",
     "text": [
      "INFO: Fetching OGLE guesses: https://ogle.astrouw.edu.pl/ogle3/ews/2003/blg-287.html\n",
      "C:\\Users\\Saeed\\AppData\\Local\\Temp\\ipykernel_14856\\3667917964.py:85: FutureWarning: Passing literal html to 'read_html' is deprecated and will be removed in a future version. To read from a literal string, wrap it in a 'StringIO' object.\n",
      "  dfs = pd.read_html(r.text)\n",
      "WARNING: Event 287: failed with error: [Errno 28] No space left on device\n",
      "INFO: Downloading photometry: https://www.astrouw.edu.pl/ogle/ogle3/ews/2003/blg-288/phot.dat\n"
     ]
    },
    {
     "name": "stdout",
     "output_type": "stream",
     "text": [
      "OGLE 2003 BLG 288 started\n"
     ]
    },
    {
     "name": "stderr",
     "output_type": "stream",
     "text": [
      "INFO: Fetching OGLE guesses: https://ogle.astrouw.edu.pl/ogle3/ews/2003/blg-288.html\n",
      "C:\\Users\\Saeed\\AppData\\Local\\Temp\\ipykernel_14856\\3667917964.py:85: FutureWarning: Passing literal html to 'read_html' is deprecated and will be removed in a future version. To read from a literal string, wrap it in a 'StringIO' object.\n",
      "  dfs = pd.read_html(r.text)\n",
      "WARNING: Event 288: failed with error: [Errno 28] No space left on device\n",
      "INFO: Downloading photometry: https://www.astrouw.edu.pl/ogle/ogle3/ews/2003/blg-289/phot.dat\n"
     ]
    },
    {
     "name": "stdout",
     "output_type": "stream",
     "text": [
      "OGLE 2003 BLG 289 started\n"
     ]
    },
    {
     "name": "stderr",
     "output_type": "stream",
     "text": [
      "INFO: Fetching OGLE guesses: https://ogle.astrouw.edu.pl/ogle3/ews/2003/blg-289.html\n",
      "C:\\Users\\Saeed\\AppData\\Local\\Temp\\ipykernel_14856\\3667917964.py:85: FutureWarning: Passing literal html to 'read_html' is deprecated and will be removed in a future version. To read from a literal string, wrap it in a 'StringIO' object.\n",
      "  dfs = pd.read_html(r.text)\n",
      "WARNING: Event 289: failed with error: [Errno 28] No space left on device\n",
      "INFO: Downloading photometry: https://www.astrouw.edu.pl/ogle/ogle3/ews/2003/blg-290/phot.dat\n"
     ]
    },
    {
     "name": "stdout",
     "output_type": "stream",
     "text": [
      "OGLE 2003 BLG 290 started\n"
     ]
    },
    {
     "name": "stderr",
     "output_type": "stream",
     "text": [
      "INFO: Fetching OGLE guesses: https://ogle.astrouw.edu.pl/ogle3/ews/2003/blg-290.html\n",
      "C:\\Users\\Saeed\\AppData\\Local\\Temp\\ipykernel_14856\\3667917964.py:85: FutureWarning: Passing literal html to 'read_html' is deprecated and will be removed in a future version. To read from a literal string, wrap it in a 'StringIO' object.\n",
      "  dfs = pd.read_html(r.text)\n",
      "WARNING: Event 290: failed with error: [Errno 28] No space left on device\n",
      "INFO: Downloading photometry: https://www.astrouw.edu.pl/ogle/ogle3/ews/2003/blg-291/phot.dat\n"
     ]
    },
    {
     "name": "stdout",
     "output_type": "stream",
     "text": [
      "OGLE 2003 BLG 291 started\n"
     ]
    },
    {
     "name": "stderr",
     "output_type": "stream",
     "text": [
      "INFO: Fetching OGLE guesses: https://ogle.astrouw.edu.pl/ogle3/ews/2003/blg-291.html\n",
      "C:\\Users\\Saeed\\AppData\\Local\\Temp\\ipykernel_14856\\3667917964.py:85: FutureWarning: Passing literal html to 'read_html' is deprecated and will be removed in a future version. To read from a literal string, wrap it in a 'StringIO' object.\n",
      "  dfs = pd.read_html(r.text)\n",
      "WARNING: Parsed HTML but couldn't extract expected cells: could not convert string to float: '-'\n",
      "WARNING: Event 291: failed with error: [Errno 28] No space left on device\n",
      "INFO: Downloading photometry: https://www.astrouw.edu.pl/ogle/ogle3/ews/2003/blg-292/phot.dat\n"
     ]
    },
    {
     "name": "stdout",
     "output_type": "stream",
     "text": [
      "OGLE 2003 BLG 292 started\n"
     ]
    },
    {
     "name": "stderr",
     "output_type": "stream",
     "text": [
      "INFO: Fetching OGLE guesses: https://ogle.astrouw.edu.pl/ogle3/ews/2003/blg-292.html\n",
      "C:\\Users\\Saeed\\AppData\\Local\\Temp\\ipykernel_14856\\3667917964.py:85: FutureWarning: Passing literal html to 'read_html' is deprecated and will be removed in a future version. To read from a literal string, wrap it in a 'StringIO' object.\n",
      "  dfs = pd.read_html(r.text)\n",
      "WARNING: Event 292: failed with error: [Errno 28] No space left on device\n",
      "INFO: Downloading photometry: https://www.astrouw.edu.pl/ogle/ogle3/ews/2003/blg-293/phot.dat\n"
     ]
    },
    {
     "name": "stdout",
     "output_type": "stream",
     "text": [
      "OGLE 2003 BLG 293 started\n"
     ]
    },
    {
     "name": "stderr",
     "output_type": "stream",
     "text": [
      "INFO: Fetching OGLE guesses: https://ogle.astrouw.edu.pl/ogle3/ews/2003/blg-293.html\n",
      "C:\\Users\\Saeed\\AppData\\Local\\Temp\\ipykernel_14856\\3667917964.py:85: FutureWarning: Passing literal html to 'read_html' is deprecated and will be removed in a future version. To read from a literal string, wrap it in a 'StringIO' object.\n",
      "  dfs = pd.read_html(r.text)\n",
      "WARNING: Event 293: failed with error: [Errno 28] No space left on device\n",
      "INFO: Downloading photometry: https://www.astrouw.edu.pl/ogle/ogle3/ews/2003/blg-294/phot.dat\n"
     ]
    },
    {
     "name": "stdout",
     "output_type": "stream",
     "text": [
      "OGLE 2003 BLG 294 started\n"
     ]
    },
    {
     "name": "stderr",
     "output_type": "stream",
     "text": [
      "INFO: Fetching OGLE guesses: https://ogle.astrouw.edu.pl/ogle3/ews/2003/blg-294.html\n",
      "C:\\Users\\Saeed\\AppData\\Local\\Temp\\ipykernel_14856\\3667917964.py:85: FutureWarning: Passing literal html to 'read_html' is deprecated and will be removed in a future version. To read from a literal string, wrap it in a 'StringIO' object.\n",
      "  dfs = pd.read_html(r.text)\n",
      "WARNING: Event 294: failed with error: [Errno 28] No space left on device\n",
      "INFO: Downloading photometry: https://www.astrouw.edu.pl/ogle/ogle3/ews/2003/blg-295/phot.dat\n"
     ]
    },
    {
     "name": "stdout",
     "output_type": "stream",
     "text": [
      "OGLE 2003 BLG 295 started\n"
     ]
    },
    {
     "name": "stderr",
     "output_type": "stream",
     "text": [
      "INFO: Fetching OGLE guesses: https://ogle.astrouw.edu.pl/ogle3/ews/2003/blg-295.html\n",
      "C:\\Users\\Saeed\\AppData\\Local\\Temp\\ipykernel_14856\\3667917964.py:85: FutureWarning: Passing literal html to 'read_html' is deprecated and will be removed in a future version. To read from a literal string, wrap it in a 'StringIO' object.\n",
      "  dfs = pd.read_html(r.text)\n",
      "WARNING: Event 295: failed with error: [Errno 28] No space left on device\n",
      "INFO: Downloading photometry: https://www.astrouw.edu.pl/ogle/ogle3/ews/2003/blg-296/phot.dat\n"
     ]
    },
    {
     "name": "stdout",
     "output_type": "stream",
     "text": [
      "OGLE 2003 BLG 296 started\n"
     ]
    },
    {
     "name": "stderr",
     "output_type": "stream",
     "text": [
      "INFO: Fetching OGLE guesses: https://ogle.astrouw.edu.pl/ogle3/ews/2003/blg-296.html\n",
      "C:\\Users\\Saeed\\AppData\\Local\\Temp\\ipykernel_14856\\3667917964.py:85: FutureWarning: Passing literal html to 'read_html' is deprecated and will be removed in a future version. To read from a literal string, wrap it in a 'StringIO' object.\n",
      "  dfs = pd.read_html(r.text)\n",
      "WARNING: Event 296: failed with error: [Errno 28] No space left on device\n",
      "INFO: Downloading photometry: https://www.astrouw.edu.pl/ogle/ogle3/ews/2003/blg-297/phot.dat\n"
     ]
    },
    {
     "name": "stdout",
     "output_type": "stream",
     "text": [
      "OGLE 2003 BLG 297 started\n"
     ]
    },
    {
     "name": "stderr",
     "output_type": "stream",
     "text": [
      "INFO: Fetching OGLE guesses: https://ogle.astrouw.edu.pl/ogle3/ews/2003/blg-297.html\n",
      "C:\\Users\\Saeed\\AppData\\Local\\Temp\\ipykernel_14856\\3667917964.py:85: FutureWarning: Passing literal html to 'read_html' is deprecated and will be removed in a future version. To read from a literal string, wrap it in a 'StringIO' object.\n",
      "  dfs = pd.read_html(r.text)\n",
      "WARNING: Event 297: failed with error: [Errno 28] No space left on device\n",
      "INFO: Downloading photometry: https://www.astrouw.edu.pl/ogle/ogle3/ews/2003/blg-298/phot.dat\n"
     ]
    },
    {
     "name": "stdout",
     "output_type": "stream",
     "text": [
      "OGLE 2003 BLG 298 started\n"
     ]
    },
    {
     "name": "stderr",
     "output_type": "stream",
     "text": [
      "INFO: Fetching OGLE guesses: https://ogle.astrouw.edu.pl/ogle3/ews/2003/blg-298.html\n",
      "C:\\Users\\Saeed\\AppData\\Local\\Temp\\ipykernel_14856\\3667917964.py:85: FutureWarning: Passing literal html to 'read_html' is deprecated and will be removed in a future version. To read from a literal string, wrap it in a 'StringIO' object.\n",
      "  dfs = pd.read_html(r.text)\n",
      "WARNING: Event 298: failed with error: [Errno 28] No space left on device\n",
      "INFO: Downloading photometry: https://www.astrouw.edu.pl/ogle/ogle3/ews/2003/blg-299/phot.dat\n"
     ]
    },
    {
     "name": "stdout",
     "output_type": "stream",
     "text": [
      "OGLE 2003 BLG 299 started\n"
     ]
    },
    {
     "name": "stderr",
     "output_type": "stream",
     "text": [
      "INFO: Fetching OGLE guesses: https://ogle.astrouw.edu.pl/ogle3/ews/2003/blg-299.html\n",
      "C:\\Users\\Saeed\\AppData\\Local\\Temp\\ipykernel_14856\\3667917964.py:85: FutureWarning: Passing literal html to 'read_html' is deprecated and will be removed in a future version. To read from a literal string, wrap it in a 'StringIO' object.\n",
      "  dfs = pd.read_html(r.text)\n",
      "WARNING: Event 299: failed with error: [Errno 28] No space left on device\n",
      "INFO: Downloading photometry: https://www.astrouw.edu.pl/ogle/ogle3/ews/2003/blg-300/phot.dat\n"
     ]
    },
    {
     "name": "stdout",
     "output_type": "stream",
     "text": [
      "OGLE 2003 BLG 300 started\n"
     ]
    },
    {
     "name": "stderr",
     "output_type": "stream",
     "text": [
      "INFO: Fetching OGLE guesses: https://ogle.astrouw.edu.pl/ogle3/ews/2003/blg-300.html\n",
      "C:\\Users\\Saeed\\AppData\\Local\\Temp\\ipykernel_14856\\3667917964.py:85: FutureWarning: Passing literal html to 'read_html' is deprecated and will be removed in a future version. To read from a literal string, wrap it in a 'StringIO' object.\n",
      "  dfs = pd.read_html(r.text)\n",
      "WARNING: Event 300: failed with error: [Errno 28] No space left on device\n",
      "INFO: Downloading photometry: https://www.astrouw.edu.pl/ogle/ogle3/ews/2003/blg-301/phot.dat\n"
     ]
    },
    {
     "name": "stdout",
     "output_type": "stream",
     "text": [
      "OGLE 2003 BLG 301 started\n"
     ]
    },
    {
     "name": "stderr",
     "output_type": "stream",
     "text": [
      "INFO: Fetching OGLE guesses: https://ogle.astrouw.edu.pl/ogle3/ews/2003/blg-301.html\n",
      "C:\\Users\\Saeed\\AppData\\Local\\Temp\\ipykernel_14856\\3667917964.py:85: FutureWarning: Passing literal html to 'read_html' is deprecated and will be removed in a future version. To read from a literal string, wrap it in a 'StringIO' object.\n",
      "  dfs = pd.read_html(r.text)\n",
      "WARNING: Event 301: failed with error: [Errno 28] No space left on device\n",
      "INFO: Downloading photometry: https://www.astrouw.edu.pl/ogle/ogle3/ews/2003/blg-302/phot.dat\n"
     ]
    },
    {
     "name": "stdout",
     "output_type": "stream",
     "text": [
      "OGLE 2003 BLG 302 started\n"
     ]
    },
    {
     "name": "stderr",
     "output_type": "stream",
     "text": [
      "INFO: Fetching OGLE guesses: https://ogle.astrouw.edu.pl/ogle3/ews/2003/blg-302.html\n",
      "C:\\Users\\Saeed\\AppData\\Local\\Temp\\ipykernel_14856\\3667917964.py:85: FutureWarning: Passing literal html to 'read_html' is deprecated and will be removed in a future version. To read from a literal string, wrap it in a 'StringIO' object.\n",
      "  dfs = pd.read_html(r.text)\n",
      "WARNING: Event 302: failed with error: [Errno 28] No space left on device\n",
      "INFO: Downloading photometry: https://www.astrouw.edu.pl/ogle/ogle3/ews/2003/blg-303/phot.dat\n"
     ]
    },
    {
     "name": "stdout",
     "output_type": "stream",
     "text": [
      "OGLE 2003 BLG 303 started\n"
     ]
    },
    {
     "name": "stderr",
     "output_type": "stream",
     "text": [
      "INFO: Fetching OGLE guesses: https://ogle.astrouw.edu.pl/ogle3/ews/2003/blg-303.html\n",
      "C:\\Users\\Saeed\\AppData\\Local\\Temp\\ipykernel_14856\\3667917964.py:85: FutureWarning: Passing literal html to 'read_html' is deprecated and will be removed in a future version. To read from a literal string, wrap it in a 'StringIO' object.\n",
      "  dfs = pd.read_html(r.text)\n",
      "WARNING: Parsed HTML but couldn't extract expected cells: could not convert string to float: '-'\n",
      "WARNING: Event 303: failed with error: [Errno 28] No space left on device\n",
      "INFO: Downloading photometry: https://www.astrouw.edu.pl/ogle/ogle3/ews/2003/blg-304/phot.dat\n"
     ]
    },
    {
     "name": "stdout",
     "output_type": "stream",
     "text": [
      "OGLE 2003 BLG 304 started\n"
     ]
    },
    {
     "name": "stderr",
     "output_type": "stream",
     "text": [
      "INFO: Fetching OGLE guesses: https://ogle.astrouw.edu.pl/ogle3/ews/2003/blg-304.html\n",
      "C:\\Users\\Saeed\\AppData\\Local\\Temp\\ipykernel_14856\\3667917964.py:85: FutureWarning: Passing literal html to 'read_html' is deprecated and will be removed in a future version. To read from a literal string, wrap it in a 'StringIO' object.\n",
      "  dfs = pd.read_html(r.text)\n",
      "WARNING: Event 304: failed with error: [Errno 28] No space left on device\n",
      "INFO: Downloading photometry: https://www.astrouw.edu.pl/ogle/ogle3/ews/2003/blg-305/phot.dat\n"
     ]
    },
    {
     "name": "stdout",
     "output_type": "stream",
     "text": [
      "OGLE 2003 BLG 305 started\n"
     ]
    },
    {
     "name": "stderr",
     "output_type": "stream",
     "text": [
      "INFO: Fetching OGLE guesses: https://ogle.astrouw.edu.pl/ogle3/ews/2003/blg-305.html\n",
      "C:\\Users\\Saeed\\AppData\\Local\\Temp\\ipykernel_14856\\3667917964.py:85: FutureWarning: Passing literal html to 'read_html' is deprecated and will be removed in a future version. To read from a literal string, wrap it in a 'StringIO' object.\n",
      "  dfs = pd.read_html(r.text)\n",
      "WARNING: Event 305: failed with error: [Errno 28] No space left on device\n",
      "INFO: Downloading photometry: https://www.astrouw.edu.pl/ogle/ogle3/ews/2003/blg-306/phot.dat\n"
     ]
    },
    {
     "name": "stdout",
     "output_type": "stream",
     "text": [
      "OGLE 2003 BLG 306 started\n"
     ]
    },
    {
     "name": "stderr",
     "output_type": "stream",
     "text": [
      "INFO: Fetching OGLE guesses: https://ogle.astrouw.edu.pl/ogle3/ews/2003/blg-306.html\n",
      "C:\\Users\\Saeed\\AppData\\Local\\Temp\\ipykernel_14856\\3667917964.py:85: FutureWarning: Passing literal html to 'read_html' is deprecated and will be removed in a future version. To read from a literal string, wrap it in a 'StringIO' object.\n",
      "  dfs = pd.read_html(r.text)\n",
      "WARNING: Event 306: failed with error: [Errno 28] No space left on device\n",
      "INFO: Downloading photometry: https://www.astrouw.edu.pl/ogle/ogle3/ews/2003/blg-307/phot.dat\n"
     ]
    },
    {
     "name": "stdout",
     "output_type": "stream",
     "text": [
      "OGLE 2003 BLG 307 started\n"
     ]
    },
    {
     "name": "stderr",
     "output_type": "stream",
     "text": [
      "INFO: Fetching OGLE guesses: https://ogle.astrouw.edu.pl/ogle3/ews/2003/blg-307.html\n",
      "C:\\Users\\Saeed\\AppData\\Local\\Temp\\ipykernel_14856\\3667917964.py:85: FutureWarning: Passing literal html to 'read_html' is deprecated and will be removed in a future version. To read from a literal string, wrap it in a 'StringIO' object.\n",
      "  dfs = pd.read_html(r.text)\n",
      "WARNING: Event 307: failed with error: [Errno 28] No space left on device\n",
      "INFO: Downloading photometry: https://www.astrouw.edu.pl/ogle/ogle3/ews/2003/blg-308/phot.dat\n"
     ]
    },
    {
     "name": "stdout",
     "output_type": "stream",
     "text": [
      "OGLE 2003 BLG 308 started\n"
     ]
    },
    {
     "name": "stderr",
     "output_type": "stream",
     "text": [
      "INFO: Fetching OGLE guesses: https://ogle.astrouw.edu.pl/ogle3/ews/2003/blg-308.html\n",
      "C:\\Users\\Saeed\\AppData\\Local\\Temp\\ipykernel_14856\\3667917964.py:85: FutureWarning: Passing literal html to 'read_html' is deprecated and will be removed in a future version. To read from a literal string, wrap it in a 'StringIO' object.\n",
      "  dfs = pd.read_html(r.text)\n",
      "WARNING: Event 308: failed with error: [Errno 28] No space left on device\n",
      "INFO: Downloading photometry: https://www.astrouw.edu.pl/ogle/ogle3/ews/2003/blg-309/phot.dat\n"
     ]
    },
    {
     "name": "stdout",
     "output_type": "stream",
     "text": [
      "OGLE 2003 BLG 309 started\n"
     ]
    },
    {
     "name": "stderr",
     "output_type": "stream",
     "text": [
      "INFO: Fetching OGLE guesses: https://ogle.astrouw.edu.pl/ogle3/ews/2003/blg-309.html\n",
      "C:\\Users\\Saeed\\AppData\\Local\\Temp\\ipykernel_14856\\3667917964.py:85: FutureWarning: Passing literal html to 'read_html' is deprecated and will be removed in a future version. To read from a literal string, wrap it in a 'StringIO' object.\n",
      "  dfs = pd.read_html(r.text)\n",
      "WARNING: Event 309: failed with error: [Errno 28] No space left on device\n",
      "INFO: Downloading photometry: https://www.astrouw.edu.pl/ogle/ogle3/ews/2003/blg-310/phot.dat\n"
     ]
    },
    {
     "name": "stdout",
     "output_type": "stream",
     "text": [
      "OGLE 2003 BLG 310 started\n"
     ]
    },
    {
     "name": "stderr",
     "output_type": "stream",
     "text": [
      "INFO: Fetching OGLE guesses: https://ogle.astrouw.edu.pl/ogle3/ews/2003/blg-310.html\n",
      "C:\\Users\\Saeed\\AppData\\Local\\Temp\\ipykernel_14856\\3667917964.py:85: FutureWarning: Passing literal html to 'read_html' is deprecated and will be removed in a future version. To read from a literal string, wrap it in a 'StringIO' object.\n",
      "  dfs = pd.read_html(r.text)\n",
      "WARNING: Event 310: failed with error: [Errno 28] No space left on device\n",
      "INFO: Downloading photometry: https://www.astrouw.edu.pl/ogle/ogle3/ews/2003/blg-311/phot.dat\n"
     ]
    },
    {
     "name": "stdout",
     "output_type": "stream",
     "text": [
      "OGLE 2003 BLG 311 started\n"
     ]
    },
    {
     "name": "stderr",
     "output_type": "stream",
     "text": [
      "INFO: Fetching OGLE guesses: https://ogle.astrouw.edu.pl/ogle3/ews/2003/blg-311.html\n",
      "C:\\Users\\Saeed\\AppData\\Local\\Temp\\ipykernel_14856\\3667917964.py:85: FutureWarning: Passing literal html to 'read_html' is deprecated and will be removed in a future version. To read from a literal string, wrap it in a 'StringIO' object.\n",
      "  dfs = pd.read_html(r.text)\n",
      "WARNING: Event 311: failed with error: [Errno 28] No space left on device\n",
      "INFO: Downloading photometry: https://www.astrouw.edu.pl/ogle/ogle3/ews/2003/blg-312/phot.dat\n"
     ]
    },
    {
     "name": "stdout",
     "output_type": "stream",
     "text": [
      "OGLE 2003 BLG 312 started\n"
     ]
    },
    {
     "name": "stderr",
     "output_type": "stream",
     "text": [
      "INFO: Fetching OGLE guesses: https://ogle.astrouw.edu.pl/ogle3/ews/2003/blg-312.html\n",
      "C:\\Users\\Saeed\\AppData\\Local\\Temp\\ipykernel_14856\\3667917964.py:85: FutureWarning: Passing literal html to 'read_html' is deprecated and will be removed in a future version. To read from a literal string, wrap it in a 'StringIO' object.\n",
      "  dfs = pd.read_html(r.text)\n",
      "WARNING: Event 312: failed with error: [Errno 28] No space left on device\n",
      "INFO: Downloading photometry: https://www.astrouw.edu.pl/ogle/ogle3/ews/2003/blg-313/phot.dat\n"
     ]
    },
    {
     "name": "stdout",
     "output_type": "stream",
     "text": [
      "OGLE 2003 BLG 313 started\n"
     ]
    },
    {
     "name": "stderr",
     "output_type": "stream",
     "text": [
      "INFO: Fetching OGLE guesses: https://ogle.astrouw.edu.pl/ogle3/ews/2003/blg-313.html\n",
      "C:\\Users\\Saeed\\AppData\\Local\\Temp\\ipykernel_14856\\3667917964.py:85: FutureWarning: Passing literal html to 'read_html' is deprecated and will be removed in a future version. To read from a literal string, wrap it in a 'StringIO' object.\n",
      "  dfs = pd.read_html(r.text)\n",
      "WARNING: Event 313: failed with error: [Errno 28] No space left on device\n",
      "INFO: Downloading photometry: https://www.astrouw.edu.pl/ogle/ogle3/ews/2003/blg-314/phot.dat\n"
     ]
    },
    {
     "name": "stdout",
     "output_type": "stream",
     "text": [
      "OGLE 2003 BLG 314 started\n"
     ]
    },
    {
     "name": "stderr",
     "output_type": "stream",
     "text": [
      "INFO: Fetching OGLE guesses: https://ogle.astrouw.edu.pl/ogle3/ews/2003/blg-314.html\n",
      "C:\\Users\\Saeed\\AppData\\Local\\Temp\\ipykernel_14856\\3667917964.py:85: FutureWarning: Passing literal html to 'read_html' is deprecated and will be removed in a future version. To read from a literal string, wrap it in a 'StringIO' object.\n",
      "  dfs = pd.read_html(r.text)\n",
      "WARNING: Event 314: failed with error: [Errno 28] No space left on device\n",
      "INFO: Downloading photometry: https://www.astrouw.edu.pl/ogle/ogle3/ews/2003/blg-315/phot.dat\n"
     ]
    },
    {
     "name": "stdout",
     "output_type": "stream",
     "text": [
      "OGLE 2003 BLG 315 started\n"
     ]
    },
    {
     "name": "stderr",
     "output_type": "stream",
     "text": [
      "INFO: Fetching OGLE guesses: https://ogle.astrouw.edu.pl/ogle3/ews/2003/blg-315.html\n",
      "C:\\Users\\Saeed\\AppData\\Local\\Temp\\ipykernel_14856\\3667917964.py:85: FutureWarning: Passing literal html to 'read_html' is deprecated and will be removed in a future version. To read from a literal string, wrap it in a 'StringIO' object.\n",
      "  dfs = pd.read_html(r.text)\n",
      "WARNING: Event 315: failed with error: [Errno 28] No space left on device\n",
      "INFO: Downloading photometry: https://www.astrouw.edu.pl/ogle/ogle3/ews/2003/blg-316/phot.dat\n"
     ]
    },
    {
     "name": "stdout",
     "output_type": "stream",
     "text": [
      "OGLE 2003 BLG 316 started\n"
     ]
    },
    {
     "name": "stderr",
     "output_type": "stream",
     "text": [
      "INFO: Fetching OGLE guesses: https://ogle.astrouw.edu.pl/ogle3/ews/2003/blg-316.html\n",
      "C:\\Users\\Saeed\\AppData\\Local\\Temp\\ipykernel_14856\\3667917964.py:85: FutureWarning: Passing literal html to 'read_html' is deprecated and will be removed in a future version. To read from a literal string, wrap it in a 'StringIO' object.\n",
      "  dfs = pd.read_html(r.text)\n",
      "WARNING: Event 316: failed with error: [Errno 28] No space left on device\n",
      "INFO: Downloading photometry: https://www.astrouw.edu.pl/ogle/ogle3/ews/2003/blg-317/phot.dat\n"
     ]
    },
    {
     "name": "stdout",
     "output_type": "stream",
     "text": [
      "OGLE 2003 BLG 317 started\n"
     ]
    },
    {
     "name": "stderr",
     "output_type": "stream",
     "text": [
      "INFO: Fetching OGLE guesses: https://ogle.astrouw.edu.pl/ogle3/ews/2003/blg-317.html\n",
      "C:\\Users\\Saeed\\AppData\\Local\\Temp\\ipykernel_14856\\3667917964.py:85: FutureWarning: Passing literal html to 'read_html' is deprecated and will be removed in a future version. To read from a literal string, wrap it in a 'StringIO' object.\n",
      "  dfs = pd.read_html(r.text)\n",
      "WARNING: Event 317: failed with error: [Errno 28] No space left on device\n",
      "INFO: Downloading photometry: https://www.astrouw.edu.pl/ogle/ogle3/ews/2003/blg-318/phot.dat\n"
     ]
    },
    {
     "name": "stdout",
     "output_type": "stream",
     "text": [
      "OGLE 2003 BLG 318 started\n"
     ]
    },
    {
     "name": "stderr",
     "output_type": "stream",
     "text": [
      "INFO: Fetching OGLE guesses: https://ogle.astrouw.edu.pl/ogle3/ews/2003/blg-318.html\n",
      "C:\\Users\\Saeed\\AppData\\Local\\Temp\\ipykernel_14856\\3667917964.py:85: FutureWarning: Passing literal html to 'read_html' is deprecated and will be removed in a future version. To read from a literal string, wrap it in a 'StringIO' object.\n",
      "  dfs = pd.read_html(r.text)\n",
      "WARNING: Event 318: failed with error: [Errno 28] No space left on device\n",
      "INFO: Downloading photometry: https://www.astrouw.edu.pl/ogle/ogle3/ews/2003/blg-319/phot.dat\n"
     ]
    },
    {
     "name": "stdout",
     "output_type": "stream",
     "text": [
      "OGLE 2003 BLG 319 started\n"
     ]
    },
    {
     "name": "stderr",
     "output_type": "stream",
     "text": [
      "INFO: Fetching OGLE guesses: https://ogle.astrouw.edu.pl/ogle3/ews/2003/blg-319.html\n",
      "C:\\Users\\Saeed\\AppData\\Local\\Temp\\ipykernel_14856\\3667917964.py:85: FutureWarning: Passing literal html to 'read_html' is deprecated and will be removed in a future version. To read from a literal string, wrap it in a 'StringIO' object.\n",
      "  dfs = pd.read_html(r.text)\n",
      "WARNING: Event 319: failed with error: [Errno 28] No space left on device\n",
      "INFO: Downloading photometry: https://www.astrouw.edu.pl/ogle/ogle3/ews/2003/blg-320/phot.dat\n"
     ]
    },
    {
     "name": "stdout",
     "output_type": "stream",
     "text": [
      "OGLE 2003 BLG 320 started\n"
     ]
    },
    {
     "name": "stderr",
     "output_type": "stream",
     "text": [
      "INFO: Fetching OGLE guesses: https://ogle.astrouw.edu.pl/ogle3/ews/2003/blg-320.html\n",
      "C:\\Users\\Saeed\\AppData\\Local\\Temp\\ipykernel_14856\\3667917964.py:85: FutureWarning: Passing literal html to 'read_html' is deprecated and will be removed in a future version. To read from a literal string, wrap it in a 'StringIO' object.\n",
      "  dfs = pd.read_html(r.text)\n",
      "WARNING: Event 320: failed with error: [Errno 28] No space left on device\n",
      "INFO: Downloading photometry: https://www.astrouw.edu.pl/ogle/ogle3/ews/2003/blg-321/phot.dat\n"
     ]
    },
    {
     "name": "stdout",
     "output_type": "stream",
     "text": [
      "OGLE 2003 BLG 321 started\n"
     ]
    },
    {
     "name": "stderr",
     "output_type": "stream",
     "text": [
      "INFO: Fetching OGLE guesses: https://ogle.astrouw.edu.pl/ogle3/ews/2003/blg-321.html\n",
      "C:\\Users\\Saeed\\AppData\\Local\\Temp\\ipykernel_14856\\3667917964.py:85: FutureWarning: Passing literal html to 'read_html' is deprecated and will be removed in a future version. To read from a literal string, wrap it in a 'StringIO' object.\n",
      "  dfs = pd.read_html(r.text)\n",
      "WARNING: Event 321: failed with error: [Errno 28] No space left on device\n",
      "INFO: Downloading photometry: https://www.astrouw.edu.pl/ogle/ogle3/ews/2003/blg-322/phot.dat\n"
     ]
    },
    {
     "name": "stdout",
     "output_type": "stream",
     "text": [
      "OGLE 2003 BLG 322 started\n"
     ]
    },
    {
     "name": "stderr",
     "output_type": "stream",
     "text": [
      "INFO: Fetching OGLE guesses: https://ogle.astrouw.edu.pl/ogle3/ews/2003/blg-322.html\n",
      "C:\\Users\\Saeed\\AppData\\Local\\Temp\\ipykernel_14856\\3667917964.py:85: FutureWarning: Passing literal html to 'read_html' is deprecated and will be removed in a future version. To read from a literal string, wrap it in a 'StringIO' object.\n",
      "  dfs = pd.read_html(r.text)\n",
      "WARNING: Event 322: failed with error: [Errno 28] No space left on device\n",
      "INFO: Downloading photometry: https://www.astrouw.edu.pl/ogle/ogle3/ews/2003/blg-323/phot.dat\n"
     ]
    },
    {
     "name": "stdout",
     "output_type": "stream",
     "text": [
      "OGLE 2003 BLG 323 started\n"
     ]
    },
    {
     "name": "stderr",
     "output_type": "stream",
     "text": [
      "INFO: Fetching OGLE guesses: https://ogle.astrouw.edu.pl/ogle3/ews/2003/blg-323.html\n",
      "C:\\Users\\Saeed\\AppData\\Local\\Temp\\ipykernel_14856\\3667917964.py:85: FutureWarning: Passing literal html to 'read_html' is deprecated and will be removed in a future version. To read from a literal string, wrap it in a 'StringIO' object.\n",
      "  dfs = pd.read_html(r.text)\n",
      "WARNING: Event 323: failed with error: [Errno 28] No space left on device\n",
      "INFO: Downloading photometry: https://www.astrouw.edu.pl/ogle/ogle3/ews/2003/blg-324/phot.dat\n"
     ]
    },
    {
     "name": "stdout",
     "output_type": "stream",
     "text": [
      "OGLE 2003 BLG 324 started\n"
     ]
    },
    {
     "name": "stderr",
     "output_type": "stream",
     "text": [
      "INFO: Fetching OGLE guesses: https://ogle.astrouw.edu.pl/ogle3/ews/2003/blg-324.html\n",
      "C:\\Users\\Saeed\\AppData\\Local\\Temp\\ipykernel_14856\\3667917964.py:85: FutureWarning: Passing literal html to 'read_html' is deprecated and will be removed in a future version. To read from a literal string, wrap it in a 'StringIO' object.\n",
      "  dfs = pd.read_html(r.text)\n",
      "WARNING: Event 324: failed with error: [Errno 28] No space left on device\n",
      "INFO: Downloading photometry: https://www.astrouw.edu.pl/ogle/ogle3/ews/2003/blg-325/phot.dat\n"
     ]
    },
    {
     "name": "stdout",
     "output_type": "stream",
     "text": [
      "OGLE 2003 BLG 325 started\n"
     ]
    },
    {
     "name": "stderr",
     "output_type": "stream",
     "text": [
      "INFO: Fetching OGLE guesses: https://ogle.astrouw.edu.pl/ogle3/ews/2003/blg-325.html\n",
      "C:\\Users\\Saeed\\AppData\\Local\\Temp\\ipykernel_14856\\3667917964.py:85: FutureWarning: Passing literal html to 'read_html' is deprecated and will be removed in a future version. To read from a literal string, wrap it in a 'StringIO' object.\n",
      "  dfs = pd.read_html(r.text)\n",
      "WARNING: Event 325: failed with error: [Errno 28] No space left on device\n",
      "INFO: Downloading photometry: https://www.astrouw.edu.pl/ogle/ogle3/ews/2003/blg-326/phot.dat\n"
     ]
    },
    {
     "name": "stdout",
     "output_type": "stream",
     "text": [
      "OGLE 2003 BLG 326 started\n"
     ]
    },
    {
     "name": "stderr",
     "output_type": "stream",
     "text": [
      "INFO: Fetching OGLE guesses: https://ogle.astrouw.edu.pl/ogle3/ews/2003/blg-326.html\n",
      "C:\\Users\\Saeed\\AppData\\Local\\Temp\\ipykernel_14856\\3667917964.py:85: FutureWarning: Passing literal html to 'read_html' is deprecated and will be removed in a future version. To read from a literal string, wrap it in a 'StringIO' object.\n",
      "  dfs = pd.read_html(r.text)\n",
      "WARNING: Event 326: failed with error: [Errno 28] No space left on device\n",
      "INFO: Downloading photometry: https://www.astrouw.edu.pl/ogle/ogle3/ews/2003/blg-327/phot.dat\n"
     ]
    },
    {
     "name": "stdout",
     "output_type": "stream",
     "text": [
      "OGLE 2003 BLG 327 started\n"
     ]
    },
    {
     "name": "stderr",
     "output_type": "stream",
     "text": [
      "INFO: Fetching OGLE guesses: https://ogle.astrouw.edu.pl/ogle3/ews/2003/blg-327.html\n",
      "C:\\Users\\Saeed\\AppData\\Local\\Temp\\ipykernel_14856\\3667917964.py:85: FutureWarning: Passing literal html to 'read_html' is deprecated and will be removed in a future version. To read from a literal string, wrap it in a 'StringIO' object.\n",
      "  dfs = pd.read_html(r.text)\n",
      "WARNING: Event 327: failed with error: [Errno 28] No space left on device\n",
      "INFO: Downloading photometry: https://www.astrouw.edu.pl/ogle/ogle3/ews/2003/blg-328/phot.dat\n"
     ]
    },
    {
     "name": "stdout",
     "output_type": "stream",
     "text": [
      "OGLE 2003 BLG 328 started\n"
     ]
    },
    {
     "name": "stderr",
     "output_type": "stream",
     "text": [
      "INFO: Fetching OGLE guesses: https://ogle.astrouw.edu.pl/ogle3/ews/2003/blg-328.html\n",
      "C:\\Users\\Saeed\\AppData\\Local\\Temp\\ipykernel_14856\\3667917964.py:85: FutureWarning: Passing literal html to 'read_html' is deprecated and will be removed in a future version. To read from a literal string, wrap it in a 'StringIO' object.\n",
      "  dfs = pd.read_html(r.text)\n",
      "WARNING: Event 328: failed with error: [Errno 28] No space left on device\n",
      "INFO: Downloading photometry: https://www.astrouw.edu.pl/ogle/ogle3/ews/2003/blg-329/phot.dat\n"
     ]
    },
    {
     "name": "stdout",
     "output_type": "stream",
     "text": [
      "OGLE 2003 BLG 329 started\n"
     ]
    },
    {
     "name": "stderr",
     "output_type": "stream",
     "text": [
      "INFO: Fetching OGLE guesses: https://ogle.astrouw.edu.pl/ogle3/ews/2003/blg-329.html\n",
      "C:\\Users\\Saeed\\AppData\\Local\\Temp\\ipykernel_14856\\3667917964.py:85: FutureWarning: Passing literal html to 'read_html' is deprecated and will be removed in a future version. To read from a literal string, wrap it in a 'StringIO' object.\n",
      "  dfs = pd.read_html(r.text)\n",
      "WARNING: Event 329: failed with error: [Errno 28] No space left on device\n",
      "INFO: Downloading photometry: https://www.astrouw.edu.pl/ogle/ogle3/ews/2003/blg-330/phot.dat\n"
     ]
    },
    {
     "name": "stdout",
     "output_type": "stream",
     "text": [
      "OGLE 2003 BLG 330 started\n"
     ]
    },
    {
     "name": "stderr",
     "output_type": "stream",
     "text": [
      "INFO: Fetching OGLE guesses: https://ogle.astrouw.edu.pl/ogle3/ews/2003/blg-330.html\n",
      "C:\\Users\\Saeed\\AppData\\Local\\Temp\\ipykernel_14856\\3667917964.py:85: FutureWarning: Passing literal html to 'read_html' is deprecated and will be removed in a future version. To read from a literal string, wrap it in a 'StringIO' object.\n",
      "  dfs = pd.read_html(r.text)\n",
      "WARNING: Event 330: failed with error: [Errno 28] No space left on device\n",
      "INFO: Downloading photometry: https://www.astrouw.edu.pl/ogle/ogle3/ews/2003/blg-331/phot.dat\n"
     ]
    },
    {
     "name": "stdout",
     "output_type": "stream",
     "text": [
      "OGLE 2003 BLG 331 started\n"
     ]
    },
    {
     "name": "stderr",
     "output_type": "stream",
     "text": [
      "INFO: Fetching OGLE guesses: https://ogle.astrouw.edu.pl/ogle3/ews/2003/blg-331.html\n",
      "C:\\Users\\Saeed\\AppData\\Local\\Temp\\ipykernel_14856\\3667917964.py:85: FutureWarning: Passing literal html to 'read_html' is deprecated and will be removed in a future version. To read from a literal string, wrap it in a 'StringIO' object.\n",
      "  dfs = pd.read_html(r.text)\n",
      "WARNING: Event 331: failed with error: [Errno 28] No space left on device\n",
      "INFO: Downloading photometry: https://www.astrouw.edu.pl/ogle/ogle3/ews/2003/blg-332/phot.dat\n"
     ]
    },
    {
     "name": "stdout",
     "output_type": "stream",
     "text": [
      "OGLE 2003 BLG 332 started\n"
     ]
    },
    {
     "name": "stderr",
     "output_type": "stream",
     "text": [
      "INFO: Fetching OGLE guesses: https://ogle.astrouw.edu.pl/ogle3/ews/2003/blg-332.html\n",
      "C:\\Users\\Saeed\\AppData\\Local\\Temp\\ipykernel_14856\\3667917964.py:85: FutureWarning: Passing literal html to 'read_html' is deprecated and will be removed in a future version. To read from a literal string, wrap it in a 'StringIO' object.\n",
      "  dfs = pd.read_html(r.text)\n",
      "WARNING: Event 332: failed with error: [Errno 28] No space left on device\n",
      "INFO: Downloading photometry: https://www.astrouw.edu.pl/ogle/ogle3/ews/2003/blg-333/phot.dat\n"
     ]
    },
    {
     "name": "stdout",
     "output_type": "stream",
     "text": [
      "OGLE 2003 BLG 333 started\n"
     ]
    },
    {
     "name": "stderr",
     "output_type": "stream",
     "text": [
      "INFO: Fetching OGLE guesses: https://ogle.astrouw.edu.pl/ogle3/ews/2003/blg-333.html\n",
      "C:\\Users\\Saeed\\AppData\\Local\\Temp\\ipykernel_14856\\3667917964.py:85: FutureWarning: Passing literal html to 'read_html' is deprecated and will be removed in a future version. To read from a literal string, wrap it in a 'StringIO' object.\n",
      "  dfs = pd.read_html(r.text)\n",
      "WARNING: Event 333: failed with error: [Errno 28] No space left on device\n",
      "INFO: Downloading photometry: https://www.astrouw.edu.pl/ogle/ogle3/ews/2003/blg-334/phot.dat\n"
     ]
    },
    {
     "name": "stdout",
     "output_type": "stream",
     "text": [
      "OGLE 2003 BLG 334 started\n"
     ]
    },
    {
     "name": "stderr",
     "output_type": "stream",
     "text": [
      "INFO: Fetching OGLE guesses: https://ogle.astrouw.edu.pl/ogle3/ews/2003/blg-334.html\n",
      "C:\\Users\\Saeed\\AppData\\Local\\Temp\\ipykernel_14856\\3667917964.py:85: FutureWarning: Passing literal html to 'read_html' is deprecated and will be removed in a future version. To read from a literal string, wrap it in a 'StringIO' object.\n",
      "  dfs = pd.read_html(r.text)\n",
      "WARNING: Event 334: failed with error: [Errno 28] No space left on device\n",
      "INFO: Downloading photometry: https://www.astrouw.edu.pl/ogle/ogle3/ews/2003/blg-335/phot.dat\n"
     ]
    },
    {
     "name": "stdout",
     "output_type": "stream",
     "text": [
      "OGLE 2003 BLG 335 started\n"
     ]
    },
    {
     "name": "stderr",
     "output_type": "stream",
     "text": [
      "INFO: Fetching OGLE guesses: https://ogle.astrouw.edu.pl/ogle3/ews/2003/blg-335.html\n",
      "C:\\Users\\Saeed\\AppData\\Local\\Temp\\ipykernel_14856\\3667917964.py:85: FutureWarning: Passing literal html to 'read_html' is deprecated and will be removed in a future version. To read from a literal string, wrap it in a 'StringIO' object.\n",
      "  dfs = pd.read_html(r.text)\n",
      "WARNING: Event 335: failed with error: [Errno 28] No space left on device\n",
      "INFO: Downloading photometry: https://www.astrouw.edu.pl/ogle/ogle3/ews/2003/blg-336/phot.dat\n"
     ]
    },
    {
     "name": "stdout",
     "output_type": "stream",
     "text": [
      "OGLE 2003 BLG 336 started\n"
     ]
    },
    {
     "name": "stderr",
     "output_type": "stream",
     "text": [
      "INFO: Fetching OGLE guesses: https://ogle.astrouw.edu.pl/ogle3/ews/2003/blg-336.html\n",
      "C:\\Users\\Saeed\\AppData\\Local\\Temp\\ipykernel_14856\\3667917964.py:85: FutureWarning: Passing literal html to 'read_html' is deprecated and will be removed in a future version. To read from a literal string, wrap it in a 'StringIO' object.\n",
      "  dfs = pd.read_html(r.text)\n",
      "WARNING: Event 336: failed with error: [Errno 28] No space left on device\n",
      "INFO: Downloading photometry: https://www.astrouw.edu.pl/ogle/ogle3/ews/2003/blg-337/phot.dat\n"
     ]
    },
    {
     "name": "stdout",
     "output_type": "stream",
     "text": [
      "OGLE 2003 BLG 337 started\n"
     ]
    },
    {
     "name": "stderr",
     "output_type": "stream",
     "text": [
      "INFO: Fetching OGLE guesses: https://ogle.astrouw.edu.pl/ogle3/ews/2003/blg-337.html\n",
      "C:\\Users\\Saeed\\AppData\\Local\\Temp\\ipykernel_14856\\3667917964.py:85: FutureWarning: Passing literal html to 'read_html' is deprecated and will be removed in a future version. To read from a literal string, wrap it in a 'StringIO' object.\n",
      "  dfs = pd.read_html(r.text)\n",
      "WARNING: Event 337: failed with error: [Errno 28] No space left on device\n",
      "INFO: Downloading photometry: https://www.astrouw.edu.pl/ogle/ogle3/ews/2003/blg-338/phot.dat\n"
     ]
    },
    {
     "name": "stdout",
     "output_type": "stream",
     "text": [
      "OGLE 2003 BLG 338 started\n"
     ]
    },
    {
     "name": "stderr",
     "output_type": "stream",
     "text": [
      "INFO: Fetching OGLE guesses: https://ogle.astrouw.edu.pl/ogle3/ews/2003/blg-338.html\n",
      "C:\\Users\\Saeed\\AppData\\Local\\Temp\\ipykernel_14856\\3667917964.py:85: FutureWarning: Passing literal html to 'read_html' is deprecated and will be removed in a future version. To read from a literal string, wrap it in a 'StringIO' object.\n",
      "  dfs = pd.read_html(r.text)\n",
      "WARNING: Event 338: failed with error: [Errno 28] No space left on device\n",
      "INFO: Downloading photometry: https://www.astrouw.edu.pl/ogle/ogle3/ews/2003/blg-339/phot.dat\n"
     ]
    },
    {
     "name": "stdout",
     "output_type": "stream",
     "text": [
      "OGLE 2003 BLG 339 started\n"
     ]
    },
    {
     "name": "stderr",
     "output_type": "stream",
     "text": [
      "INFO: Fetching OGLE guesses: https://ogle.astrouw.edu.pl/ogle3/ews/2003/blg-339.html\n",
      "C:\\Users\\Saeed\\AppData\\Local\\Temp\\ipykernel_14856\\3667917964.py:85: FutureWarning: Passing literal html to 'read_html' is deprecated and will be removed in a future version. To read from a literal string, wrap it in a 'StringIO' object.\n",
      "  dfs = pd.read_html(r.text)\n",
      "WARNING: Event 339: failed with error: [Errno 28] No space left on device\n",
      "INFO: Downloading photometry: https://www.astrouw.edu.pl/ogle/ogle3/ews/2003/blg-340/phot.dat\n"
     ]
    },
    {
     "name": "stdout",
     "output_type": "stream",
     "text": [
      "OGLE 2003 BLG 340 started\n"
     ]
    },
    {
     "name": "stderr",
     "output_type": "stream",
     "text": [
      "INFO: Fetching OGLE guesses: https://ogle.astrouw.edu.pl/ogle3/ews/2003/blg-340.html\n",
      "C:\\Users\\Saeed\\AppData\\Local\\Temp\\ipykernel_14856\\3667917964.py:85: FutureWarning: Passing literal html to 'read_html' is deprecated and will be removed in a future version. To read from a literal string, wrap it in a 'StringIO' object.\n",
      "  dfs = pd.read_html(r.text)\n",
      "WARNING: Event 340: failed with error: [Errno 28] No space left on device\n",
      "INFO: Downloading photometry: https://www.astrouw.edu.pl/ogle/ogle3/ews/2003/blg-341/phot.dat\n"
     ]
    },
    {
     "name": "stdout",
     "output_type": "stream",
     "text": [
      "OGLE 2003 BLG 341 started\n"
     ]
    },
    {
     "name": "stderr",
     "output_type": "stream",
     "text": [
      "INFO: Fetching OGLE guesses: https://ogle.astrouw.edu.pl/ogle3/ews/2003/blg-341.html\n",
      "C:\\Users\\Saeed\\AppData\\Local\\Temp\\ipykernel_14856\\3667917964.py:85: FutureWarning: Passing literal html to 'read_html' is deprecated and will be removed in a future version. To read from a literal string, wrap it in a 'StringIO' object.\n",
      "  dfs = pd.read_html(r.text)\n",
      "WARNING: Event 341: failed with error: [Errno 28] No space left on device\n",
      "INFO: Downloading photometry: https://www.astrouw.edu.pl/ogle/ogle3/ews/2003/blg-342/phot.dat\n"
     ]
    },
    {
     "name": "stdout",
     "output_type": "stream",
     "text": [
      "OGLE 2003 BLG 342 started\n"
     ]
    },
    {
     "name": "stderr",
     "output_type": "stream",
     "text": [
      "INFO: Fetching OGLE guesses: https://ogle.astrouw.edu.pl/ogle3/ews/2003/blg-342.html\n",
      "C:\\Users\\Saeed\\AppData\\Local\\Temp\\ipykernel_14856\\3667917964.py:85: FutureWarning: Passing literal html to 'read_html' is deprecated and will be removed in a future version. To read from a literal string, wrap it in a 'StringIO' object.\n",
      "  dfs = pd.read_html(r.text)\n",
      "WARNING: Event 342: failed with error: [Errno 28] No space left on device\n",
      "INFO: Downloading photometry: https://www.astrouw.edu.pl/ogle/ogle3/ews/2003/blg-343/phot.dat\n"
     ]
    },
    {
     "name": "stdout",
     "output_type": "stream",
     "text": [
      "OGLE 2003 BLG 343 started\n"
     ]
    },
    {
     "name": "stderr",
     "output_type": "stream",
     "text": [
      "INFO: Fetching OGLE guesses: https://ogle.astrouw.edu.pl/ogle3/ews/2003/blg-343.html\n",
      "C:\\Users\\Saeed\\AppData\\Local\\Temp\\ipykernel_14856\\3667917964.py:85: FutureWarning: Passing literal html to 'read_html' is deprecated and will be removed in a future version. To read from a literal string, wrap it in a 'StringIO' object.\n",
      "  dfs = pd.read_html(r.text)\n",
      "WARNING: Event 343: failed with error: [Errno 28] No space left on device\n",
      "INFO: Downloading photometry: https://www.astrouw.edu.pl/ogle/ogle3/ews/2003/blg-344/phot.dat\n"
     ]
    },
    {
     "name": "stdout",
     "output_type": "stream",
     "text": [
      "OGLE 2003 BLG 344 started\n"
     ]
    },
    {
     "name": "stderr",
     "output_type": "stream",
     "text": [
      "INFO: Fetching OGLE guesses: https://ogle.astrouw.edu.pl/ogle3/ews/2003/blg-344.html\n",
      "C:\\Users\\Saeed\\AppData\\Local\\Temp\\ipykernel_14856\\3667917964.py:85: FutureWarning: Passing literal html to 'read_html' is deprecated and will be removed in a future version. To read from a literal string, wrap it in a 'StringIO' object.\n",
      "  dfs = pd.read_html(r.text)\n",
      "WARNING: Event 344: failed with error: [Errno 28] No space left on device\n",
      "INFO: Downloading photometry: https://www.astrouw.edu.pl/ogle/ogle3/ews/2003/blg-345/phot.dat\n"
     ]
    },
    {
     "name": "stdout",
     "output_type": "stream",
     "text": [
      "OGLE 2003 BLG 345 started\n"
     ]
    },
    {
     "name": "stderr",
     "output_type": "stream",
     "text": [
      "INFO: Fetching OGLE guesses: https://ogle.astrouw.edu.pl/ogle3/ews/2003/blg-345.html\n",
      "C:\\Users\\Saeed\\AppData\\Local\\Temp\\ipykernel_14856\\3667917964.py:85: FutureWarning: Passing literal html to 'read_html' is deprecated and will be removed in a future version. To read from a literal string, wrap it in a 'StringIO' object.\n",
      "  dfs = pd.read_html(r.text)\n",
      "WARNING: Event 345: failed with error: [Errno 28] No space left on device\n",
      "INFO: Downloading photometry: https://www.astrouw.edu.pl/ogle/ogle3/ews/2003/blg-346/phot.dat\n"
     ]
    },
    {
     "name": "stdout",
     "output_type": "stream",
     "text": [
      "OGLE 2003 BLG 346 started\n"
     ]
    },
    {
     "name": "stderr",
     "output_type": "stream",
     "text": [
      "INFO: Fetching OGLE guesses: https://ogle.astrouw.edu.pl/ogle3/ews/2003/blg-346.html\n",
      "C:\\Users\\Saeed\\AppData\\Local\\Temp\\ipykernel_14856\\3667917964.py:85: FutureWarning: Passing literal html to 'read_html' is deprecated and will be removed in a future version. To read from a literal string, wrap it in a 'StringIO' object.\n",
      "  dfs = pd.read_html(r.text)\n",
      "WARNING: Event 346: failed with error: [Errno 28] No space left on device\n",
      "INFO: Downloading photometry: https://www.astrouw.edu.pl/ogle/ogle3/ews/2003/blg-347/phot.dat\n"
     ]
    },
    {
     "name": "stdout",
     "output_type": "stream",
     "text": [
      "OGLE 2003 BLG 347 started\n"
     ]
    },
    {
     "name": "stderr",
     "output_type": "stream",
     "text": [
      "INFO: Fetching OGLE guesses: https://ogle.astrouw.edu.pl/ogle3/ews/2003/blg-347.html\n",
      "C:\\Users\\Saeed\\AppData\\Local\\Temp\\ipykernel_14856\\3667917964.py:85: FutureWarning: Passing literal html to 'read_html' is deprecated and will be removed in a future version. To read from a literal string, wrap it in a 'StringIO' object.\n",
      "  dfs = pd.read_html(r.text)\n",
      "WARNING: Event 347: failed with error: [Errno 28] No space left on device\n",
      "INFO: Downloading photometry: https://www.astrouw.edu.pl/ogle/ogle3/ews/2003/blg-348/phot.dat\n"
     ]
    },
    {
     "name": "stdout",
     "output_type": "stream",
     "text": [
      "OGLE 2003 BLG 348 started\n"
     ]
    },
    {
     "name": "stderr",
     "output_type": "stream",
     "text": [
      "INFO: Fetching OGLE guesses: https://ogle.astrouw.edu.pl/ogle3/ews/2003/blg-348.html\n",
      "C:\\Users\\Saeed\\AppData\\Local\\Temp\\ipykernel_14856\\3667917964.py:85: FutureWarning: Passing literal html to 'read_html' is deprecated and will be removed in a future version. To read from a literal string, wrap it in a 'StringIO' object.\n",
      "  dfs = pd.read_html(r.text)\n",
      "WARNING: Event 348: failed with error: [Errno 28] No space left on device\n",
      "INFO: Downloading photometry: https://www.astrouw.edu.pl/ogle/ogle3/ews/2003/blg-349/phot.dat\n"
     ]
    },
    {
     "name": "stdout",
     "output_type": "stream",
     "text": [
      "OGLE 2003 BLG 349 started\n"
     ]
    },
    {
     "name": "stderr",
     "output_type": "stream",
     "text": [
      "INFO: Fetching OGLE guesses: https://ogle.astrouw.edu.pl/ogle3/ews/2003/blg-349.html\n",
      "C:\\Users\\Saeed\\AppData\\Local\\Temp\\ipykernel_14856\\3667917964.py:85: FutureWarning: Passing literal html to 'read_html' is deprecated and will be removed in a future version. To read from a literal string, wrap it in a 'StringIO' object.\n",
      "  dfs = pd.read_html(r.text)\n",
      "WARNING: Event 349: failed with error: [Errno 28] No space left on device\n",
      "INFO: Downloading photometry: https://www.astrouw.edu.pl/ogle/ogle3/ews/2003/blg-350/phot.dat\n"
     ]
    },
    {
     "name": "stdout",
     "output_type": "stream",
     "text": [
      "OGLE 2003 BLG 350 started\n"
     ]
    },
    {
     "name": "stderr",
     "output_type": "stream",
     "text": [
      "INFO: Fetching OGLE guesses: https://ogle.astrouw.edu.pl/ogle3/ews/2003/blg-350.html\n",
      "C:\\Users\\Saeed\\AppData\\Local\\Temp\\ipykernel_14856\\3667917964.py:85: FutureWarning: Passing literal html to 'read_html' is deprecated and will be removed in a future version. To read from a literal string, wrap it in a 'StringIO' object.\n",
      "  dfs = pd.read_html(r.text)\n",
      "WARNING: Event 350: failed with error: [Errno 28] No space left on device\n",
      "INFO: Downloading photometry: https://www.astrouw.edu.pl/ogle/ogle3/ews/2003/blg-351/phot.dat\n"
     ]
    },
    {
     "name": "stdout",
     "output_type": "stream",
     "text": [
      "OGLE 2003 BLG 351 started\n"
     ]
    },
    {
     "name": "stderr",
     "output_type": "stream",
     "text": [
      "INFO: Fetching OGLE guesses: https://ogle.astrouw.edu.pl/ogle3/ews/2003/blg-351.html\n",
      "C:\\Users\\Saeed\\AppData\\Local\\Temp\\ipykernel_14856\\3667917964.py:85: FutureWarning: Passing literal html to 'read_html' is deprecated and will be removed in a future version. To read from a literal string, wrap it in a 'StringIO' object.\n",
      "  dfs = pd.read_html(r.text)\n",
      "WARNING: Event 351: failed with error: [Errno 28] No space left on device\n",
      "INFO: Downloading photometry: https://www.astrouw.edu.pl/ogle/ogle3/ews/2003/blg-352/phot.dat\n"
     ]
    },
    {
     "name": "stdout",
     "output_type": "stream",
     "text": [
      "OGLE 2003 BLG 352 started\n"
     ]
    },
    {
     "name": "stderr",
     "output_type": "stream",
     "text": [
      "INFO: Fetching OGLE guesses: https://ogle.astrouw.edu.pl/ogle3/ews/2003/blg-352.html\n",
      "C:\\Users\\Saeed\\AppData\\Local\\Temp\\ipykernel_14856\\3667917964.py:85: FutureWarning: Passing literal html to 'read_html' is deprecated and will be removed in a future version. To read from a literal string, wrap it in a 'StringIO' object.\n",
      "  dfs = pd.read_html(r.text)\n",
      "WARNING: Event 352: failed with error: [Errno 28] No space left on device\n",
      "INFO: Downloading photometry: https://www.astrouw.edu.pl/ogle/ogle3/ews/2003/blg-353/phot.dat\n"
     ]
    },
    {
     "name": "stdout",
     "output_type": "stream",
     "text": [
      "OGLE 2003 BLG 353 started\n"
     ]
    },
    {
     "name": "stderr",
     "output_type": "stream",
     "text": [
      "INFO: Fetching OGLE guesses: https://ogle.astrouw.edu.pl/ogle3/ews/2003/blg-353.html\n",
      "C:\\Users\\Saeed\\AppData\\Local\\Temp\\ipykernel_14856\\3667917964.py:85: FutureWarning: Passing literal html to 'read_html' is deprecated and will be removed in a future version. To read from a literal string, wrap it in a 'StringIO' object.\n",
      "  dfs = pd.read_html(r.text)\n",
      "WARNING: Event 353: failed with error: [Errno 28] No space left on device\n",
      "INFO: Downloading photometry: https://www.astrouw.edu.pl/ogle/ogle3/ews/2003/blg-354/phot.dat\n"
     ]
    },
    {
     "name": "stdout",
     "output_type": "stream",
     "text": [
      "OGLE 2003 BLG 354 started\n"
     ]
    },
    {
     "name": "stderr",
     "output_type": "stream",
     "text": [
      "INFO: Fetching OGLE guesses: https://ogle.astrouw.edu.pl/ogle3/ews/2003/blg-354.html\n",
      "C:\\Users\\Saeed\\AppData\\Local\\Temp\\ipykernel_14856\\3667917964.py:85: FutureWarning: Passing literal html to 'read_html' is deprecated and will be removed in a future version. To read from a literal string, wrap it in a 'StringIO' object.\n",
      "  dfs = pd.read_html(r.text)\n"
     ]
    },
    {
     "ename": "KeyboardInterrupt",
     "evalue": "",
     "output_type": "error",
     "traceback": [
      "\u001b[1;31m---------------------------------------------------------------------------\u001b[0m",
      "\u001b[1;31mKeyboardInterrupt\u001b[0m                         Traceback (most recent call last)",
      "Cell \u001b[1;32mIn[1], line 461\u001b[0m\n\u001b[0;32m    458\u001b[0m         data_rep\u001b[38;5;241m.\u001b[39mto_csv(os\u001b[38;5;241m.\u001b[39mpath\u001b[38;5;241m.\u001b[39mjoin(OUT_DIR, \u001b[38;5;124mf\u001b[39m\u001b[38;5;124m'\u001b[39m\u001b[38;5;124mOGLE-\u001b[39m\u001b[38;5;132;01m{\u001b[39;00mYEAR\u001b[38;5;132;01m}\u001b[39;00m\u001b[38;5;124m-\u001b[39m\u001b[38;5;132;01m{\u001b[39;00mi\u001b[38;5;132;01m}\u001b[39;00m\u001b[38;5;124m.csv\u001b[39m\u001b[38;5;124m'\u001b[39m), index\u001b[38;5;241m=\u001b[39m\u001b[38;5;28;01mFalse\u001b[39;00m)\n\u001b[0;32m    460\u001b[0m \u001b[38;5;28;01mif\u001b[39;00m \u001b[38;5;18m__name__\u001b[39m \u001b[38;5;241m==\u001b[39m \u001b[38;5;124m\"\u001b[39m\u001b[38;5;124m__main__\u001b[39m\u001b[38;5;124m\"\u001b[39m:\n\u001b[1;32m--> 461\u001b[0m     \u001b[43mmain\u001b[49m\u001b[43m(\u001b[49m\u001b[43m)\u001b[49m\n",
      "Cell \u001b[1;32mIn[1], line 450\u001b[0m, in \u001b[0;36mmain\u001b[1;34m()\u001b[0m\n\u001b[0;32m    448\u001b[0m \u001b[38;5;28mprint\u001b[39m(\u001b[38;5;124m'\u001b[39m\u001b[38;5;124mOGLE\u001b[39m\u001b[38;5;124m'\u001b[39m,YEAR,\u001b[38;5;124m'\u001b[39m\u001b[38;5;124mBLG\u001b[39m\u001b[38;5;124m'\u001b[39m,i,\u001b[38;5;124m\"\u001b[39m\u001b[38;5;124mstarted\u001b[39m\u001b[38;5;124m\"\u001b[39m)\n\u001b[0;32m    449\u001b[0m \u001b[38;5;28;01mtry\u001b[39;00m:\n\u001b[1;32m--> 450\u001b[0m     row \u001b[38;5;241m=\u001b[39m \u001b[43mfit_event\u001b[49m\u001b[43m(\u001b[49m\u001b[43mYEAR\u001b[49m\u001b[43m,\u001b[49m\u001b[43m \u001b[49m\u001b[43mi\u001b[49m\u001b[43m,\u001b[49m\u001b[43m \u001b[49m\u001b[43mOGLE\u001b[49m\u001b[43m,\u001b[49m\u001b[43m \u001b[49m\u001b[43mZERO_COUNT\u001b[49m\u001b[43m,\u001b[49m\u001b[43m \u001b[49m\u001b[43mOUT_DIR\u001b[49m\u001b[43m)\u001b[49m\n\u001b[0;32m    451\u001b[0m     data_rep \u001b[38;5;241m=\u001b[39m pd\u001b[38;5;241m.\u001b[39mconcat([data_rep, pd\u001b[38;5;241m.\u001b[39mDataFrame([row])], ignore_index\u001b[38;5;241m=\u001b[39m\u001b[38;5;28;01mTrue\u001b[39;00m)\n\u001b[0;32m    452\u001b[0m     \u001b[38;5;28mprint\u001b[39m(YEAR, \u001b[38;5;124m\"\u001b[39m\u001b[38;5;124m-\u001b[39m\u001b[38;5;124m\"\u001b[39m, i, \u001b[38;5;124m\"\u001b[39m\u001b[38;5;124mdone\u001b[39m\u001b[38;5;124m\"\u001b[39m)\n",
      "Cell \u001b[1;32mIn[1], line 247\u001b[0m, in \u001b[0;36mfit_event\u001b[1;34m(year, event, ogle, zero_count, out_dir)\u001b[0m\n\u001b[0;32m    244\u001b[0m p_start[:, \u001b[38;5;241m4\u001b[39m] \u001b[38;5;241m=\u001b[39m np\u001b[38;5;241m.\u001b[39mmaximum(p_start[:, \u001b[38;5;241m4\u001b[39m], \u001b[38;5;241m1e-3\u001b[39m)\n\u001b[0;32m    246\u001b[0m sampler \u001b[38;5;241m=\u001b[39m emcee\u001b[38;5;241m.\u001b[39mEnsembleSampler(N_WALKERS, p0_mcmc\u001b[38;5;241m.\u001b[39msize, log_prob)\n\u001b[1;32m--> 247\u001b[0m \u001b[43msampler\u001b[49m\u001b[38;5;241;43m.\u001b[39;49m\u001b[43mrun_mcmc\u001b[49m\u001b[43m(\u001b[49m\u001b[43mp_start\u001b[49m\u001b[43m,\u001b[49m\u001b[43m \u001b[49m\u001b[43mN_STEPS\u001b[49m\u001b[43m,\u001b[49m\u001b[43m \u001b[49m\u001b[43mprogress\u001b[49m\u001b[38;5;241;43m=\u001b[39;49m\u001b[38;5;28;43;01mFalse\u001b[39;49;00m\u001b[43m)\u001b[49m\n\u001b[0;32m    248\u001b[0m samples \u001b[38;5;241m=\u001b[39m sampler\u001b[38;5;241m.\u001b[39mget_chain(discard\u001b[38;5;241m=\u001b[39mN_BURN, thin\u001b[38;5;241m=\u001b[39mTHIN, flat\u001b[38;5;241m=\u001b[39m\u001b[38;5;28;01mTrue\u001b[39;00m)\n\u001b[0;32m    250\u001b[0m names \u001b[38;5;241m=\u001b[39m [\u001b[38;5;124m'\u001b[39m\u001b[38;5;124mFs\u001b[39m\u001b[38;5;124m'\u001b[39m, \u001b[38;5;124m'\u001b[39m\u001b[38;5;124mFb\u001b[39m\u001b[38;5;124m'\u001b[39m, \u001b[38;5;124m'\u001b[39m\u001b[38;5;124mu0\u001b[39m\u001b[38;5;124m'\u001b[39m, \u001b[38;5;124m'\u001b[39m\u001b[38;5;124mt0\u001b[39m\u001b[38;5;124m'\u001b[39m, \u001b[38;5;124m'\u001b[39m\u001b[38;5;124mtE\u001b[39m\u001b[38;5;124m'\u001b[39m]\n",
      "File \u001b[1;32mc:\\Users\\Saeed\\AppData\\Local\\Programs\\Python\\Python312\\Lib\\site-packages\\emcee\\ensemble.py:450\u001b[0m, in \u001b[0;36mEnsembleSampler.run_mcmc\u001b[1;34m(self, initial_state, nsteps, **kwargs)\u001b[0m\n\u001b[0;32m    447\u001b[0m     initial_state \u001b[38;5;241m=\u001b[39m \u001b[38;5;28mself\u001b[39m\u001b[38;5;241m.\u001b[39m_previous_state\n\u001b[0;32m    449\u001b[0m results \u001b[38;5;241m=\u001b[39m \u001b[38;5;28;01mNone\u001b[39;00m\n\u001b[1;32m--> 450\u001b[0m \u001b[43m\u001b[49m\u001b[38;5;28;43;01mfor\u001b[39;49;00m\u001b[43m \u001b[49m\u001b[43mresults\u001b[49m\u001b[43m \u001b[49m\u001b[38;5;129;43;01min\u001b[39;49;00m\u001b[43m \u001b[49m\u001b[38;5;28;43mself\u001b[39;49m\u001b[38;5;241;43m.\u001b[39;49m\u001b[43msample\u001b[49m\u001b[43m(\u001b[49m\u001b[43minitial_state\u001b[49m\u001b[43m,\u001b[49m\u001b[43m \u001b[49m\u001b[43miterations\u001b[49m\u001b[38;5;241;43m=\u001b[39;49m\u001b[43mnsteps\u001b[49m\u001b[43m,\u001b[49m\u001b[43m \u001b[49m\u001b[38;5;241;43m*\u001b[39;49m\u001b[38;5;241;43m*\u001b[39;49m\u001b[43mkwargs\u001b[49m\u001b[43m)\u001b[49m\u001b[43m:\u001b[49m\n\u001b[0;32m    451\u001b[0m \u001b[43m    \u001b[49m\u001b[38;5;28;43;01mpass\u001b[39;49;00m\n\u001b[0;32m    453\u001b[0m \u001b[38;5;66;03m# Store so that the ``initial_state=None`` case will work\u001b[39;00m\n",
      "File \u001b[1;32mc:\\Users\\Saeed\\AppData\\Local\\Programs\\Python\\Python312\\Lib\\site-packages\\emcee\\ensemble.py:409\u001b[0m, in \u001b[0;36mEnsembleSampler.sample\u001b[1;34m(self, initial_state, log_prob0, rstate0, blobs0, iterations, tune, skip_initial_state_check, thin_by, thin, store, progress, progress_kwargs)\u001b[0m\n\u001b[0;32m    406\u001b[0m move \u001b[38;5;241m=\u001b[39m \u001b[38;5;28mself\u001b[39m\u001b[38;5;241m.\u001b[39m_random\u001b[38;5;241m.\u001b[39mchoice(\u001b[38;5;28mself\u001b[39m\u001b[38;5;241m.\u001b[39m_moves, p\u001b[38;5;241m=\u001b[39m\u001b[38;5;28mself\u001b[39m\u001b[38;5;241m.\u001b[39m_weights)\n\u001b[0;32m    408\u001b[0m \u001b[38;5;66;03m# Propose\u001b[39;00m\n\u001b[1;32m--> 409\u001b[0m state, accepted \u001b[38;5;241m=\u001b[39m \u001b[43mmove\u001b[49m\u001b[38;5;241;43m.\u001b[39;49m\u001b[43mpropose\u001b[49m\u001b[43m(\u001b[49m\u001b[43mmodel\u001b[49m\u001b[43m,\u001b[49m\u001b[43m \u001b[49m\u001b[43mstate\u001b[49m\u001b[43m)\u001b[49m\n\u001b[0;32m    410\u001b[0m state\u001b[38;5;241m.\u001b[39mrandom_state \u001b[38;5;241m=\u001b[39m \u001b[38;5;28mself\u001b[39m\u001b[38;5;241m.\u001b[39mrandom_state\n\u001b[0;32m    412\u001b[0m \u001b[38;5;28;01mif\u001b[39;00m tune:\n",
      "File \u001b[1;32mc:\\Users\\Saeed\\AppData\\Local\\Programs\\Python\\Python312\\Lib\\site-packages\\emcee\\moves\\red_blue.py:104\u001b[0m, in \u001b[0;36mRedBlueMove.propose\u001b[1;34m(self, model, state)\u001b[0m\n\u001b[0;32m    101\u001b[0m             accepted[j] \u001b[38;5;241m=\u001b[39m \u001b[38;5;28;01mTrue\u001b[39;00m\n\u001b[0;32m    103\u001b[0m     new_state \u001b[38;5;241m=\u001b[39m State(q, log_prob\u001b[38;5;241m=\u001b[39mnew_log_probs, blobs\u001b[38;5;241m=\u001b[39mnew_blobs)\n\u001b[1;32m--> 104\u001b[0m     state \u001b[38;5;241m=\u001b[39m \u001b[38;5;28mself\u001b[39m\u001b[38;5;241m.\u001b[39mupdate(state, new_state, accepted, S1)\n\u001b[0;32m    106\u001b[0m \u001b[38;5;28;01mreturn\u001b[39;00m state, accepted\n",
      "\u001b[1;31mKeyboardInterrupt\u001b[0m: "
     ]
    }
   ],
   "source": [
    "#!/usr/bin/env python3\n",
    "import os\n",
    "import logging\n",
    "from io import StringIO\n",
    "\n",
    "import numpy as np\n",
    "import pandas as pd\n",
    "import matplotlib.pyplot as plt\n",
    "import requests\n",
    "from scipy.optimize import curve_fit\n",
    "import emcee\n",
    "\n",
    "# ------------------ USER SETTINGS ------------------\n",
    "#YEAR = 2015\n",
    "#OGLE = 'ogle4' if YEAR > 2009 else 'ogle3'\n",
    "#ZERO_COUNT = 4 if YEAR > 2009 else 3\n",
    "\n",
    "# Event loop (inclusive)\n",
    "#N_i = 3\n",
    "#N_f = 3\n",
    "\n",
    "# MCMC settings\n",
    "RNG_SEED = 123\n",
    "N_WALKERS = 64\n",
    "N_STEPS = 10000\n",
    "N_BURN = 500\n",
    "THIN = 2\n",
    "\n",
    "# Output\n",
    "OUT_DIR = \"data\"\n",
    "#OUT_CSV = f\"{N_i}-{N_f}-{YEAR}.csv\"\n",
    "\n",
    "logging.basicConfig(level=logging.INFO, format='%(levelname)s: %(message)s')\n",
    "\n",
    "\n",
    "# ------------------ MODEL ------------------\n",
    "def pspl_blend(t, Fs, Fb, u0, t0, tE):\n",
    "    \"\"\"Blended PSPL model: total flux = Fs*A(u) + Fb.\"\"\"\n",
    "    u = np.sqrt(u0**2 + ((t - t0) / tE)**2)\n",
    "    A = (u**2 + 2.0) / (u * np.sqrt(u**2 + 4.0))\n",
    "    return Fs * A + Fb\n",
    "\n",
    "\n",
    "# ------------------ I/O HELPERS ------------------\n",
    "def load_ogle_df(year, event, ogle, zero_count=4, timeout=30):\n",
    "    idx = str(event).zfill(zero_count)\n",
    "    url = f\"https://www.astrouw.edu.pl/ogle/{ogle}/ews/{year}/blg-{idx}/phot.dat\"\n",
    "    logging.info(f\"Downloading photometry: {url}\")\n",
    "    r = requests.get(url, timeout=timeout)\n",
    "    r.raise_for_status()\n",
    "    df = pd.read_csv(\n",
    "    StringIO(r.text),\n",
    "    sep=r\"\\s+\",\n",
    "    comment=\"#\",\n",
    "    header=None,\n",
    "    on_bad_lines=\"skip\"   # <-- skip malformed rows\n",
    "    )\n",
    "    df = df.iloc[:, :3]\n",
    "    df.columns = [\"Time\", \"I_mag\", \"Mag_err\"]\n",
    "    return df\n",
    "\n",
    "\n",
    "def fetch_ogle_guesses(year, event, ogle, zero_count=4, timeout=30):\n",
    "    \"\"\"\n",
    "    Fetch initial guesses from the OGLE HTML page.\n",
    "    Expected mapping (row index 1 of the 'guesses' table):\n",
    "      t0 = dfs[2].iloc[1, 0]\n",
    "      tE = dfs[2].iloc[1, 1]\n",
    "      u0 = dfs[2].iloc[1, 2]\n",
    "      fs = dfs[2].iloc[1, 5]\n",
    "      I0 = dfs[2].iloc[1, 6]\n",
    "    Falls back to dfs[0] if structure differs.\n",
    "    \"\"\"\n",
    "    idx = str(event).zfill(zero_count)\n",
    "    url_ogle = f\"https://ogle.astrouw.edu.pl/{ogle}/ews/{year}/blg-{idx}.html\"\n",
    "    logging.info(f\"Fetching OGLE guesses: {url_ogle}\")\n",
    "    try:\n",
    "        r = requests.get(url_ogle, timeout=timeout)\n",
    "        r.raise_for_status()\n",
    "    except Exception as e:\n",
    "        logging.warning(f\"Failed OGLE page {url_ogle}: {e}\")\n",
    "        return None\n",
    "\n",
    "    try:\n",
    "        dfs = pd.read_html(r.text)\n",
    "        guess_table = dfs[2] if len(dfs) >= 3 else dfs[0]\n",
    "    except Exception as e:\n",
    "        logging.warning(f\"Unable to parse OGLE HTML tables: {e}\")\n",
    "        return None\n",
    "\n",
    "    try:\n",
    "        T_max_OGLE          = float(dfs[2][1][0])\n",
    "        T_max_erorr_OGLE    = float(dfs[2][3][0])\n",
    "        T_E_OGLE            = float(dfs[2][1][1])\n",
    "        T_E_error_OGLE      = float(dfs[2][3][1])\n",
    "        u_0_OGLE            = float(dfs[2][1][2])\n",
    "        u_0_error_OGLE      = float(dfs[2][3][2])\n",
    "        f_s_OGLE            = float(dfs[2][1][5])\n",
    "        f_s_error_OGLE      = float(dfs[2][3][5])\n",
    "        I_0_OGLE            = float(dfs[2][1][7])\n",
    "        I_s_error_OGLE      = float(dfs[2][3][7])\n",
    "\n",
    "        t0 = T_max_OGLE\n",
    "        tE = T_E_OGLE\n",
    "        u0 = u_0_OGLE\n",
    "        fs = f_s_OGLE\n",
    "        I0 = I_0_OGLE\n",
    "        return {\"t0\": t0, \"tE\": tE, \"u0\": u0, \"fs\": fs, \"I0\": I0}\n",
    "    except Exception as e:\n",
    "        logging.warning(f\"Parsed HTML but couldn't extract expected cells: {e}\")\n",
    "        return None\n",
    "\n",
    "\n",
    "# ------------------ FITTING PIPELINE FOR ONE EVENT ------------------\n",
    "def fit_event(year, event, ogle, zero_count, out_dir):\n",
    "    rng = np.random.default_rng(RNG_SEED + int(event))  # small variation per event\n",
    "\n",
    "    # Load full photometry (we'll keep full arrays for plotting)\n",
    "    df = load_ogle_df(year, event, ogle, zero_count)\n",
    "    t_full = df['Time'].to_numpy(float)\n",
    "    F_raw = 10 ** (-0.4 * df['I_mag'].to_numpy(float))\n",
    "    F_err_raw = F_raw * (np.log(10) * 0.4) * df['Mag_err'].to_numpy(float)\n",
    "\n",
    "    # Normalize by median baseline\n",
    "    norm = np.median(F_raw)\n",
    "    flux_full = F_raw / norm\n",
    "    flux_err_full = np.maximum(F_err_raw / norm, 1e-6)\n",
    "\n",
    "    # OGLE HTML guesses\n",
    "    og = fetch_ogle_guesses(year, event, ogle, zero_count)\n",
    "    if og is None:\n",
    "        # Data-based fallback\n",
    "        baseline = float(np.median(flux_full))\n",
    "        peak = float(np.max(flux_full))\n",
    "        t0_guess = float(t_full[np.argmax(flux_full)])\n",
    "        Fs_guess = max(peak - baseline, 1e-6)\n",
    "        Fb_guess = max(baseline - Fs_guess, 1e-6)\n",
    "\n",
    "        def u_from_A(A):\n",
    "            A = max(A, 1.0001)\n",
    "            return np.sqrt(max(2.0 * (A / np.sqrt(A*A - 1.0)) - 2.0, 1e-8))\n",
    "        Amax = peak / max(baseline, 1e-12)\n",
    "        u0_guess = float(np.clip(u_from_A(Amax), 1e-4, 0.9))\n",
    "        tE_guess = float(max((t_full.max() - t_full.min()) / 6.0, 0.5))\n",
    "\n",
    "        ogle_init_for_table = {\"Fs\": np.nan, \"Fb\": np.nan, \"u0\": np.nan, \"t0\": np.nan, \"tE\": np.nan}\n",
    "    else:\n",
    "        # Convert OGLE (fs, I0) to our scale Fs/Fb\n",
    "        t0_guess = float(og[\"t0\"])\n",
    "        tE_guess = float(max(og[\"tE\"], 1e-4))\n",
    "        u0_guess = float(np.clip(og[\"u0\"], 1e-6, 0.9999))\n",
    "        fs_ogle = float(np.clip(og[\"fs\"], 1e-8, 1-1e-8))\n",
    "        I0_guess = float(og[\"I0\"])\n",
    "        F0_abs = 10 ** (-0.4 * I0_guess)\n",
    "        F0_norm = F0_abs / norm\n",
    "        Fs_guess = fs_ogle * F0_norm\n",
    "        Fb_guess = (1.0 - fs_ogle) * F0_norm\n",
    "\n",
    "        ogle_init_for_table = {\n",
    "            \"Fs\": float(Fs_guess), \"Fb\": float(Fb_guess),\n",
    "            \"u0\": float(u0_guess), \"t0\": float(t0_guess), \"tE\": float(tE_guess)\n",
    "        }\n",
    "\n",
    "    # Limit fitting data to [t0 - 3 tE, t0 + 3 tE]\n",
    "    tmin_fit = t0_guess - 3.0 * tE_guess\n",
    "    tmax_fit = t0_guess + 3.0 * tE_guess\n",
    "    mask_fit = (t_full >= tmin_fit) & (t_full <= tmax_fit)\n",
    "    if not np.any(mask_fit):\n",
    "        raise RuntimeError(\"No data within the requested fit window.\")\n",
    "\n",
    "    t = t_full[mask_fit]\n",
    "    flux = flux[mask_fit] if 'flux' in locals() else flux_full[mask_fit]  # keep structure\n",
    "    flux = flux_full[mask_fit]\n",
    "    flux_err = flux_err_full[mask_fit]\n",
    "    span_fit = float(t.max() - t.min())\n",
    "\n",
    "    # -------- curve_fit (with safe bounds + clamped p0) --------\n",
    "    p0_cf = np.array([Fs_guess, Fb_guess, u0_guess, t0_guess, tE_guess], dtype=float)\n",
    "    lower = np.array([1e-12, 0.0,   1e-6,   t.min(), 1e-4], dtype=float)\n",
    "    upper = np.array([1e6,   1e6,  0.9999,  t.max(), max(span_fit*10.0, 10.0)], dtype=float)\n",
    "    eps = 1e-9\n",
    "    p0_cf = np.minimum(np.maximum(p0_cf, lower + eps), upper - eps)\n",
    "\n",
    "    popt, pcov = curve_fit(\n",
    "        pspl_blend, t, flux, sigma=flux_err,\n",
    "        p0=p0_cf, bounds=(lower, upper),\n",
    "        absolute_sigma=True, maxfev=20000\n",
    "    )\n",
    "    Fs_cf, Fb_cf, u0_cf, t0_cf, tE_cf = popt\n",
    "    perr = np.sqrt(np.diag(pcov))\n",
    "    err_Fs, err_Fb, err_u0, err_t0, err_tE = perr\n",
    "\n",
    "    # ---- NEW: curve_fit f_s and its 1-sigma uncertainty (linear propagation) ----\n",
    "    f_s_cf = Fs_cf / (Fs_cf + Fb_cf)\n",
    "    # derivatives of f = Fs/(Fs+Fb)\n",
    "    denom2 = (Fs_cf + Fb_cf)**2\n",
    "    df_dFs = Fb_cf / denom2\n",
    "    df_dFb = -Fs_cf / denom2\n",
    "    var_fs = (df_dFs**2) * pcov[0, 0] + (df_dFb**2) * pcov[1, 1] + 2.0 * df_dFs * df_dFb * pcov[0, 1]\n",
    "    f_s_cf_err = float(np.sqrt(max(var_fs, 0.0)))\n",
    "\n",
    "    # -------- MCMC (on the same limited window) --------\n",
    "    # Seeds from the limited window (data-driven)\n",
    "    baseline = float(np.median(flux))\n",
    "    peak = float(np.max(flux))\n",
    "    t0_data = float(t[np.argmax(flux)])\n",
    "    Fs_data = max(peak - baseline, 1e-6)\n",
    "    Fb_data = max(baseline - Fs_data, 1e-6)\n",
    "    def u_from_A(A):\n",
    "        A = max(A, 1.0001)\n",
    "        return np.sqrt(max(2.0 * (A / np.sqrt(A*A - 1.0)) - 2.0, 1e-8))\n",
    "    Amax = peak / max(baseline, 1e-12)\n",
    "    u0_data = float(np.clip(u_from_A(Amax), 1e-4, 0.9))\n",
    "    tE_data = float(max(span_fit / 6.0, 0.5))\n",
    "\n",
    "    def log_prior(theta):\n",
    "        Fs, Fb, u0, t0p, tEp = theta\n",
    "        if Fs <= 0 or Fb < 0: return -np.inf\n",
    "        if not (1e-6 < u0 < 1.0): return -np.inf\n",
    "        if not (t.min() <= t0p <= t.max()): return -np.inf\n",
    "        if tEp <= 1e-4: return -np.inf\n",
    "        # gentle log-normal around seeds\n",
    "        lp = 0.0\n",
    "        for val, ref in [(Fs, Fs_data), (Fb + 1e-12, Fb_data + 1e-12), (tEp, tE_data)]:\n",
    "            lp -= 0.5 * ((np.log(val) - np.log(ref)) / 2.0)**2\n",
    "        return lp\n",
    "\n",
    "    def log_likelihood(theta):\n",
    "        model = pspl_blend(t, *theta)\n",
    "        var = flux_err**2\n",
    "        return -0.5 * np.sum(np.log(2*np.pi*var) + (flux - model)**2 / var)\n",
    "\n",
    "    def log_prob(theta):\n",
    "        lp = log_prior(theta)\n",
    "        if not np.isfinite(lp): return -np.inf\n",
    "        return lp + log_likelihood(theta)\n",
    "\n",
    "    p0_mcmc = np.array([Fs_data, Fb_data, u0_data, t0_data, tE_data], dtype=float)\n",
    "    p_start = p0_mcmc * (1.0 + 3e-2 * rng.normal(size=(N_WALKERS, p0_mcmc.size)))\n",
    "    p_start[:, 0] = np.maximum(p_start[:, 0], 1e-6)\n",
    "    p_start[:, 1] = np.maximum(p_start[:, 1], 0.0)\n",
    "    p_start[:, 2] = np.clip(p_start[:, 2], 1e-5, 0.9)\n",
    "    p_start[:, 3] = np.clip(p_start[:, 3], t.min(), t.max())\n",
    "    p_start[:, 4] = np.maximum(p_start[:, 4], 1e-3)\n",
    "\n",
    "    sampler = emcee.EnsembleSampler(N_WALKERS, p0_mcmc.size, log_prob)\n",
    "    sampler.run_mcmc(p_start, N_STEPS, progress=False)\n",
    "    samples = sampler.get_chain(discard=N_BURN, thin=THIN, flat=True)\n",
    "\n",
    "    names = ['Fs', 'Fb', 'u0', 't0', 'tE']\n",
    "    med = np.median(samples, axis=0)\n",
    "    p16 = np.percentile(samples, 16, axis=0)\n",
    "    p84 = np.percentile(samples, 84, axis=0)\n",
    "    Fs_m, Fb_m, u0_m, t0_m, tE_m = med\n",
    "\n",
    "    # ---- NEW: MCMC f_s and its 16/50/84 percentiles ----\n",
    "    f_s_samp = samples[:, 0] / (samples[:, 0] + samples[:, 1])\n",
    "    f_s_med = float(np.median(f_s_samp))\n",
    "    f_s_lo = float(np.percentile(f_s_samp, 16))\n",
    "    f_s_hi = float(np.percentile(f_s_samp, 84))\n",
    "\n",
    "    # ------------------ PLOTS & SAVES ------------------\n",
    "    os.makedirs(out_dir, exist_ok=True)\n",
    "    idx_str = str(event).zfill(zero_count)\n",
    "\n",
    "    # Build model curves across full x-range\n",
    "    tt_full = np.linspace(t_full.min(), t_full.max(), 3000)\n",
    "    curve_cf_full = pspl_blend(tt_full, Fs_cf, Fb_cf, u0_cf, t0_cf, tE_cf)\n",
    "\n",
    "    # MCMC model credible band (68%) around the curve\n",
    "    nsamp_plot = min(400, samples.shape[0])\n",
    "    sel = rng.choice(samples.shape[0], size=nsamp_plot, replace=False)\n",
    "    preds = np.array([pspl_blend(tt_full, *samples[i]) for i in sel])\n",
    "    pred_low = np.percentile(preds, 16, axis=0)\n",
    "    pred_med = np.percentile(preds, 50, axis=0)\n",
    "    pred_high = np.percentile(preds, 84, axis=0)\n",
    "\n",
    "    curve_mc_full = pred_med  # median curve\n",
    "    res_cf_full = flux_full - pspl_blend(t_full, Fs_cf, Fb_cf, u0_cf, t0_cf, tE_cf)\n",
    "    res_mc_full = flux_full - pspl_blend(t_full, Fs_m,  Fb_m,  u0_m,  t0_m,  tE_m)\n",
    "\n",
    "    # 3-panel figure\n",
    "    fig = plt.figure(figsize=(10, 10))\n",
    "    ax0 = plt.subplot2grid((7,1), (0,0), rowspan=3)  # 3/7 of height\n",
    "    ax1 = plt.subplot2grid((7,1), (3,0), rowspan=3)  # 3/7 of height\n",
    "    ax2 = plt.subplot2grid((7,1), (6,0), rowspan=2)  # 1/7 of height\n",
    "    ax = [ax0, ax1, ax2]\n",
    "    \n",
    "    plt.subplots_adjust(hspace=0.12)\n",
    "    errkw = dict(elinewidth=1, capsize=2)\n",
    "\n",
    "    ax[0].errorbar(t_full, flux_full, yerr=flux_err_full,\n",
    "                            fmt='.', ms=3, **errkw, label='data',color = 'black' ,  alpha = 0.4)\n",
    "    ax[0].plot(tt_full, curve_cf_full, lw=2, label='curve_fit ', color = 'red')\n",
    "    ax[0].plot(tt_full, curve_mc_full, lw=2, label='MCMC median', color='green', alpha = 0.8)\n",
    "    ax[0].axvline(t0_m, ls='--', lw=1, label='MCMC peak (t0)',color= 'blue')\n",
    "    ax[0].axvspan(tmin_fit, tmax_fit, color='grey', alpha=0.15, label='fit window')\n",
    "    ax[0].set_ylabel('Normalized flux')\n",
    "    ax[0].set_title(f'OGLE-BLG-{year}-{event} PSPL fit')\n",
    "    ax[0].legend(loc='best')\n",
    "\n",
    "    # --- MCMC model prediction band (68% CI) ---\n",
    "    rng = np.random.default_rng(RNG_SEED)\n",
    "    idxs = rng.choice(samples.shape[0], size=300, replace=False)\n",
    "\n",
    "    preds = np.array([\n",
    "        pspl_blend(tt_full, *samples[i])\n",
    "        for i in idxs\n",
    "    ])\n",
    "    pred_low = np.percentile(preds, 16, axis=0)\n",
    "    pred_med = np.percentile(preds, 50, axis=0)\n",
    "    pred_high = np.percentile(preds, 84, axis=0)\n",
    "\n",
    "    # --- your plot ---\n",
    "    ax[1].errorbar(t_full, flux_full, yerr=flux_err_full,\n",
    "                    fmt='.', ms=3, **errkw, color = 'black' ,  alpha = 0.4)\n",
    "    ax[1].plot(tt_full, curve_cf_full, lw=2, label='curve_fit', color = 'red')\n",
    "    ax[1].plot(tt_full, pred_med, lw=2, label='MCMC median', color='green', alpha = 0.8)\n",
    "    ax[1].fill_between(\n",
    "        tt_full, pred_low, pred_high,\n",
    "        color='green', alpha=0.3, label='MCMC 68% CI'\n",
    "    )\n",
    "    ax[1].axvline(t0_m, ls='--', lw=1, color='blue')\n",
    "    ax[1].set_xlim(t0_m - 3*tE_m, t0_m + 3*tE_m)\n",
    "    ax[1].set_ylabel('Normalized flux')\n",
    "\n",
    "    # Left-top box: MCMC medians ± (16/84%)  ---- ADDED f_s ----\n",
    "    mcmc_lines = [f\"{n} = {m:.6g} (+{(h-m):.3g}/-{(m-l):.3g})\"\n",
    "                for n, m, l, h in zip(names, med, p16, p84)]\n",
    "    mcmc_lines.append(f\"f_s = {f_s_med:.6g} (+{(f_s_hi - f_s_med):.3g}/-{(f_s_med - f_s_lo):.3g})\")\n",
    "    ax[1].text(\n",
    "        0.02, 0.98, \"\\n\".join(mcmc_lines),\n",
    "        transform=ax[1].transAxes, va='top', ha='left',\n",
    "        fontsize=9, bbox=dict(boxstyle='round', facecolor='white', alpha=0.9)\n",
    "    )\n",
    "    ax[1].legend(loc='upper right')\n",
    "\n",
    "    # ax[2] Residuals (FULL series, but zoom x-range to same as ax[1])\n",
    "    errkw_res = dict(elinewidth=1, capsize=2, alpha=0.4)\n",
    "    ax[2]\n",
    "    ax[2].axhline(0.0, ls='--', lw=1, color='gray')\n",
    "    ax[2].errorbar(t_full, res_cf_full, yerr=flux_err_full, fmt='.', ms=3,\n",
    "                    **errkw_res, label='data - curve_fit', color = 'red')\n",
    "    ax[2].errorbar(t_full, res_mc_full, yerr=flux_err_full, fmt='.', ms=3,\n",
    "                    **errkw_res, label='data - MCMC' , color = 'green')\n",
    "    ax[2].set_xlabel('HJD')\n",
    "    ax[2].set_ylabel('Residual')\n",
    "    ax[2].set_xlim(t0_m - 3*tE_m, t0_m + 3*tE_m)\n",
    "    ax[2].axvline(t0_m, ls='--', lw=1, color='blue')\n",
    "    ax[2].legend(loc='upper left')\n",
    "\n",
    "    plt.tight_layout()\n",
    "    #plt.show()\n",
    "    fit_png = os.path.join(out_dir, f\"OGLE{year}-{idx_str}_fit.png\")\n",
    "    fig.savefig(fit_png, dpi=200, bbox_inches=\"tight\")\n",
    "    plt.close(fig)\n",
    "\n",
    "    # Corner plot (colored)\n",
    "    try:\n",
    "        import corner\n",
    "        fig_corner = corner.corner(\n",
    "            samples,\n",
    "            labels=[r\"$F_s$\", r\"$F_b$\", r\"$u_0$\", r\"$t_0$\", r\"$t_E$\"],\n",
    "            quantiles=[0.16, 0.5, 0.84],\n",
    "            show_titles=True,\n",
    "            title_fmt=\".3g\",\n",
    "            truths=med,\n",
    "            plot_datapoints=True,\n",
    "            plot_density=True,\n",
    "            fill_contours=True,\n",
    "            color=\"C0\"\n",
    "        )\n",
    "        fig_corner.suptitle(f\"OGLE{year}-{idx_str} — MCMC Posterior\", y=1.02)\n",
    "        corner_png = os.path.join(out_dir, f\"OGLE{year}-{idx_str}_corner.png\")\n",
    "        fig_corner.savefig(corner_png, dpi=200, bbox_inches=\"tight\")\n",
    "        plt.close(fig_corner)\n",
    "    except Exception as e:\n",
    "        logging.warning(f\"corner plot failed: {e}\")\n",
    "\n",
    "    # ------------------ SUMMARY ROW ------------------\n",
    "    # init f_s if available\n",
    "    if not np.isnan(ogle_init_for_table[\"Fs\"]) and not np.isnan(ogle_init_for_table[\"Fb\"]):\n",
    "        init_fs = ogle_init_for_table[\"Fs\"] / (ogle_init_for_table[\"Fs\"] + ogle_init_for_table[\"Fb\"])\n",
    "    else:\n",
    "        init_fs = np.nan\n",
    "\n",
    "    row = {\n",
    "        \"year\": year, \"event\": event, \"idx\": idx_str,\n",
    "        # OGLE-seeded init (normalized scale)\n",
    "        \"init_Fs\": ogle_init_for_table[\"Fs\"],\n",
    "        \"init_Fb\": ogle_init_for_table[\"Fb\"],\n",
    "        \"init_u0\": ogle_init_for_table[\"u0\"],\n",
    "        \"init_t0\": ogle_init_for_table[\"t0\"],\n",
    "        \"init_tE\": ogle_init_for_table[\"tE\"],\n",
    "        \"init_f_s\": init_fs,                                # <-- ADDED\n",
    "\n",
    "        # curve_fit (limited window) + 1σ errors\n",
    "        \"cf_Fs\": Fs_cf, \"cf_Fs_err\": err_Fs,\n",
    "        \"cf_Fb\": Fb_cf, \"cf_Fb_err\": err_Fb,\n",
    "        \"cf_u0\": u0_cf, \"cf_u0_err\": err_u0,\n",
    "        \"cf_t0\": t0_cf, \"cf_t0_err\": err_t0,\n",
    "        \"cf_tE\": tE_cf, \"cf_tE_err\": err_tE,\n",
    "        \"cf_f_s\": f_s_cf, \"cf_f_s_err\": f_s_cf_err,        # <-- ADDED\n",
    "\n",
    "        # MCMC medians and 16/84 widths\n",
    "        \"mc_Fs\": med[0], \"mc_Fs_m\": med[0]-p16[0], \"mc_Fs_p\": p84[0]-med[0],\n",
    "        \"mc_Fb\": med[1], \"mc_Fb_m\": med[1]-p16[1], \"mc_Fb_p\": p84[1]-med[1],\n",
    "        \"mc_u0\": med[2], \"mc_u0_m\": med[2]-p16[2], \"mc_u0_p\": p84[2]-med[2],\n",
    "        \"mc_t0\": med[3], \"mc_t0_m\": med[3]-p16[3], \"mc_t0_p\": p84[3]-med[3],\n",
    "        \"mc_tE\": med[4], \"mc_tE_m\": med[4]-p16[4], \"mc_tE_p\": p84[4]-med[4],\n",
    "        \"mc_f_s\": f_s_med,                                  # <-- ADDED\n",
    "        \"mc_f_s_m\": f_s_med - f_s_lo,                       # lower error\n",
    "        \"mc_f_s_p\": f_s_hi - f_s_med,                       # upper error\n",
    "\n",
    "        # bookkeeping\n",
    "        \"n_full\": int(t_full.size),\n",
    "        \"n_fit\": int(t.size),\n",
    "        \"fit_window_min\": tmin_fit,\n",
    "        \"fit_window_max\": tmax_fit,\n",
    "        \"fit_png\": fit_png\n",
    "    }\n",
    "    return row\n",
    "\n",
    "\n",
    "# ------------------ DRIVER ------------------\n",
    "def main():\n",
    "    os.makedirs(OUT_DIR, exist_ok=True)\n",
    "    data_rep = pd.DataFrame()\n",
    "\n",
    "    season = [ (2002 , 5) , (2002 , 389)   , (2003 , 462 ) , (2004 , 608 ) , (2005 , 597)  ,\n",
    "               (2006 , 581)   , (2007 , 610 ) , (2008 , 654 ) , (2009 , 159)  ,\n",
    "               (2011 , 1562)  , (2012 , 1744) , (2013 , 1987) , (2014 , 2049) ,\n",
    "               (2015 , 2145 ) , (2016 , 1927) , (2017 , 1834) , (2018 , 1803) ,\n",
    "               (2019 , 1526) ]\n",
    "\n",
    "    for can in season:\n",
    "        \n",
    "        YEAR = can[0]\n",
    "        N_f = can[1]\n",
    "        print(YEAR, \"started\")\n",
    "        \n",
    "        OGLE = 'ogle4' if YEAR > 2009 else 'ogle3'\n",
    "        ZERO_COUNT = 4 if YEAR > 2009 else 3\n",
    "\n",
    "        data_rep = pd.DataFrame()\n",
    "\n",
    "        for i in range (1 , N_f+1):\n",
    "            print('OGLE',YEAR,'BLG',i,\"started\")\n",
    "            try:\n",
    "                row = fit_event(YEAR, i, OGLE, ZERO_COUNT, OUT_DIR)\n",
    "                data_rep = pd.concat([data_rep, pd.DataFrame([row])], ignore_index=True)\n",
    "                print(YEAR, \"-\", i, \"done\")\n",
    "            except Exception as e:\n",
    "                logging.warning(f\"Event {i}: failed with error: {e}\")\n",
    "                continue\n",
    "            print('OGLE',YEAR,'BLG',i,\"Done\")\n",
    "\n",
    "        data_rep.to_csv(os.path.join(OUT_DIR, f'OGLE-{YEAR}-{i}.csv'), index=False)\n",
    "\n",
    "if __name__ == \"__main__\":\n",
    "    main()\n"
   ]
  },
  {
   "cell_type": "code",
   "execution_count": null,
   "id": "3cee9b9f",
   "metadata": {},
   "outputs": [],
   "source": []
  }
 ],
 "metadata": {
  "kernelspec": {
   "display_name": "Python 3",
   "language": "python",
   "name": "python3"
  },
  "language_info": {
   "codemirror_mode": {
    "name": "ipython",
    "version": 3
   },
   "file_extension": ".py",
   "mimetype": "text/x-python",
   "name": "python",
   "nbconvert_exporter": "python",
   "pygments_lexer": "ipython3",
   "version": "3.12.0"
  }
 },
 "nbformat": 4,
 "nbformat_minor": 5
}
